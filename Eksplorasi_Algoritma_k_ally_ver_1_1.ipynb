{
  "nbformat": 4,
  "nbformat_minor": 0,
  "metadata": {
    "colab": {
      "name": "Eksplorasi Algoritma k-ally ver 1.0.ipynb",
      "provenance": [],
      "collapsed_sections": [],
      "authorship_tag": "ABX9TyPErETymOuYPL3kGPt8/FLz",
      "include_colab_link": true
    },
    "kernelspec": {
      "name": "python3",
      "display_name": "Python 3"
    },
    "language_info": {
      "name": "python"
    }
  },
  "cells": [
    {
      "cell_type": "markdown",
      "metadata": {
        "id": "view-in-github",
        "colab_type": "text"
      },
      "source": [
        "<a href=\"https://colab.research.google.com/github/elangbijak4/k-ally-new-algorithm-for-clusterization/blob/main/Eksplorasi_Algoritma_k_ally_ver_1_1.ipynb\" target=\"_parent\"><img src=\"https://colab.research.google.com/assets/colab-badge.svg\" alt=\"Open In Colab\"/></a>"
      ]
    },
    {
      "cell_type": "code",
      "execution_count": null,
      "metadata": {
        "colab": {
          "base_uri": "https://localhost:8080/"
        },
        "id": "xedI7BkEyjDm",
        "outputId": "c180a692-7808-48a5-c129-8c60085c2573"
      },
      "outputs": [
        {
          "output_type": "stream",
          "name": "stdout",
          "text": [
            "Hello World from fle extrnal\n"
          ]
        }
      ],
      "source": [
        "!python /content/contoh.py"
      ]
    },
    {
      "cell_type": "code",
      "source": [
        "x = 5\n",
        "y = \"John\"\n",
        "print(x)\n",
        "print(y)"
      ],
      "metadata": {
        "id": "gAjMppAvkGmb"
      },
      "execution_count": null,
      "outputs": []
    },
    {
      "cell_type": "code",
      "source": [
        "myvar = \"John\"\n",
        "my_var = \"John\"\n",
        "_my_var = \"John\"\n",
        "myVar = \"John\"\n",
        "MYVAR = \"John\"\n",
        "myvar2 = \"John\"\n",
        "\n",
        "\n",
        "print(myvar)\n",
        "print(my_var)\n",
        "print(_my_var)\n",
        "print(myVar)\n",
        "print(MYVAR)\n",
        "print(myvar2)\n"
      ],
      "metadata": {
        "id": "fyrteI68kK3v"
      },
      "execution_count": null,
      "outputs": []
    },
    {
      "cell_type": "code",
      "source": [
        "x, y, z = \"Orange\", \"Banana\", \"Cherry\"\n",
        "print(x)\n",
        "print(y)\n",
        "print(z)"
      ],
      "metadata": {
        "id": "3XtJh_RpkY5N"
      },
      "execution_count": null,
      "outputs": []
    },
    {
      "cell_type": "code",
      "source": [
        "x = \"Python is awesome\"\n",
        "print(x)"
      ],
      "metadata": {
        "id": "w8n7yYqIkkY3"
      },
      "execution_count": null,
      "outputs": []
    },
    {
      "cell_type": "code",
      "source": [
        "x = \"awesome\"\n",
        "\n",
        "def myfunc():\n",
        "  print(\"Python is \" + x)\n",
        "\n",
        "myfunc()"
      ],
      "metadata": {
        "id": "Y_3ve_yHkwdS"
      },
      "execution_count": null,
      "outputs": []
    },
    {
      "cell_type": "code",
      "source": [
        "x = 5\n",
        "print(type(x))"
      ],
      "metadata": {
        "colab": {
          "base_uri": "https://localhost:8080/"
        },
        "id": "N2zJAzEykz6c",
        "outputId": "55b80eef-1f0c-4f1c-8c3e-ed9cda3f4f49"
      },
      "execution_count": null,
      "outputs": [
        {
          "output_type": "stream",
          "name": "stdout",
          "text": [
            "<class 'int'>\n"
          ]
        }
      ]
    },
    {
      "cell_type": "code",
      "source": [
        "x = \"Hello World\"\n",
        "print(type(x))"
      ],
      "metadata": {
        "colab": {
          "base_uri": "https://localhost:8080/"
        },
        "id": "MxwRHxZykz3B",
        "outputId": "5364b8f9-9d93-4319-de19-5f9bf9773609"
      },
      "execution_count": null,
      "outputs": [
        {
          "output_type": "stream",
          "name": "stdout",
          "text": [
            "<class 'str'>\n"
          ]
        }
      ]
    },
    {
      "cell_type": "code",
      "source": [
        "x = 20.5\n",
        "print(type(x))"
      ],
      "metadata": {
        "colab": {
          "base_uri": "https://localhost:8080/"
        },
        "id": "382zG3CPlia-",
        "outputId": "75476163-400f-40ca-c651-4ff0105de8bd"
      },
      "execution_count": null,
      "outputs": [
        {
          "output_type": "stream",
          "name": "stdout",
          "text": [
            "<class 'float'>\n"
          ]
        }
      ]
    },
    {
      "cell_type": "code",
      "source": [
        "x = 3+3j\n",
        "print(type(x))"
      ],
      "metadata": {
        "colab": {
          "base_uri": "https://localhost:8080/"
        },
        "id": "W8EAamqclj0m",
        "outputId": "2a208b69-14c6-47cb-b5d6-ccc7285189f2"
      },
      "execution_count": null,
      "outputs": [
        {
          "output_type": "stream",
          "name": "stdout",
          "text": [
            "<class 'complex'>\n"
          ]
        }
      ]
    },
    {
      "cell_type": "code",
      "source": [
        "x = [\"apple\", \"banana\", \"cherry\"]\n",
        "print(type(x))"
      ],
      "metadata": {
        "colab": {
          "base_uri": "https://localhost:8080/"
        },
        "id": "mFLwvuwLlj_Q",
        "outputId": "508e2ff0-2ba1-430e-87f0-5fc5886a9699"
      },
      "execution_count": null,
      "outputs": [
        {
          "output_type": "stream",
          "name": "stdout",
          "text": [
            "<class 'list'>\n"
          ]
        }
      ]
    },
    {
      "cell_type": "code",
      "source": [
        "x = (\"apple\", \"banana\", \"cherry\")\n",
        "print(type(x))"
      ],
      "metadata": {
        "colab": {
          "base_uri": "https://localhost:8080/"
        },
        "id": "uws6zOfhlkCG",
        "outputId": "e13bde5c-7a69-4ca5-f5fd-bf1ae6fcca73"
      },
      "execution_count": null,
      "outputs": [
        {
          "output_type": "stream",
          "name": "stdout",
          "text": [
            "<class 'tuple'>\n"
          ]
        }
      ]
    },
    {
      "cell_type": "markdown",
      "source": [
        "how to converse type:"
      ],
      "metadata": {
        "id": "sXbI4b4Ev8G-"
      }
    },
    {
      "cell_type": "code",
      "source": [
        "x=list(x)\n",
        "print(type(x))"
      ],
      "metadata": {
        "colab": {
          "base_uri": "https://localhost:8080/"
        },
        "id": "s4RYf1K5vvt0",
        "outputId": "738d8b47-68d9-4c58-bfca-aeb9c5033da0"
      },
      "execution_count": null,
      "outputs": [
        {
          "output_type": "stream",
          "name": "stdout",
          "text": [
            "<class 'list'>\n"
          ]
        }
      ]
    },
    {
      "cell_type": "markdown",
      "source": [
        "Range:"
      ],
      "metadata": {
        "id": "uW2mZ1C5w0ii"
      }
    },
    {
      "cell_type": "code",
      "source": [
        "x = range(6)\n",
        "print(type(x))\n",
        "print(x)"
      ],
      "metadata": {
        "colab": {
          "base_uri": "https://localhost:8080/"
        },
        "id": "ZpB6Rb1blkEj",
        "outputId": "3e7e55a7-4a3f-4917-a905-7aa7172e3a99"
      },
      "execution_count": null,
      "outputs": [
        {
          "output_type": "stream",
          "name": "stdout",
          "text": [
            "<class 'range'>\n",
            "range(0, 6)\n"
          ]
        }
      ]
    },
    {
      "cell_type": "code",
      "source": [
        "for x in range(6):\n",
        "    print(x)"
      ],
      "metadata": {
        "colab": {
          "base_uri": "https://localhost:8080/"
        },
        "id": "6nz9WGr5wsN2",
        "outputId": "8ace4588-ac52-41fc-bd1d-3002a6f8cd27"
      },
      "execution_count": null,
      "outputs": [
        {
          "output_type": "stream",
          "name": "stdout",
          "text": [
            "0\n",
            "1\n",
            "2\n",
            "3\n",
            "4\n",
            "5\n"
          ]
        }
      ]
    },
    {
      "cell_type": "code",
      "source": [
        "x = {\"name\" : \"John\", \"age\" : 36}\n",
        "print(type(x))\n",
        "print(x)\n",
        "print(x['name'])\n",
        "x['name']='tes'\n",
        "x['height']=45\n",
        "print(x)\n",
        "print(x.keys())\n",
        "print(x.values())\n",
        "print(x.items())"
      ],
      "metadata": {
        "colab": {
          "base_uri": "https://localhost:8080/"
        },
        "id": "iVqtbtKwlkHG",
        "outputId": "e38c6ef3-576e-480d-ffd6-9082c7e6ec28"
      },
      "execution_count": null,
      "outputs": [
        {
          "output_type": "stream",
          "name": "stdout",
          "text": [
            "<class 'dict'>\n",
            "{'name': 'John', 'age': 36}\n",
            "John\n",
            "{'name': 'tes', 'age': 36, 'height': 45}\n",
            "dict_keys(['name', 'age', 'height'])\n",
            "dict_values(['tes', 36, 45])\n",
            "dict_items([('name', 'tes'), ('age', 36), ('height', 45)])\n"
          ]
        }
      ]
    },
    {
      "cell_type": "code",
      "source": [
        "for xi in x:\n",
        "    print(xi)"
      ],
      "metadata": {
        "colab": {
          "base_uri": "https://localhost:8080/"
        },
        "id": "YpOXz4YvxALx",
        "outputId": "704f7ad8-9ece-4035-fd9a-b444270ab130"
      },
      "execution_count": null,
      "outputs": [
        {
          "output_type": "stream",
          "name": "stdout",
          "text": [
            "name\n",
            "age\n"
          ]
        }
      ]
    },
    {
      "cell_type": "code",
      "source": [
        "x = {\"apple\", \"banana\", \"cherry\"}\n",
        "print(type(x))"
      ],
      "metadata": {
        "colab": {
          "base_uri": "https://localhost:8080/"
        },
        "id": "hGR_Va8dlkJr",
        "outputId": "64b07c43-0477-4389-b93d-67935a4b604e"
      },
      "execution_count": null,
      "outputs": [
        {
          "output_type": "stream",
          "name": "stdout",
          "text": [
            "<class 'set'>\n"
          ]
        }
      ]
    },
    {
      "cell_type": "code",
      "source": [
        "x = frozenset({\"apple\", \"banana\", \"cherry\"})\n",
        "print(type(x))"
      ],
      "metadata": {
        "colab": {
          "base_uri": "https://localhost:8080/"
        },
        "id": "ifV6PT0DlkNr",
        "outputId": "cd650ee1-45f6-4109-bcef-5031f04fa52f"
      },
      "execution_count": null,
      "outputs": [
        {
          "output_type": "stream",
          "name": "stdout",
          "text": [
            "<class 'frozenset'>\n"
          ]
        }
      ]
    },
    {
      "cell_type": "code",
      "source": [
        "x = True\n",
        "print(type(x))\n",
        "print(x)"
      ],
      "metadata": {
        "colab": {
          "base_uri": "https://localhost:8080/"
        },
        "id": "tP7i6D35lkPf",
        "outputId": "d1e9300a-6553-48b8-d1d1-d39e1fbfe8d0"
      },
      "execution_count": null,
      "outputs": [
        {
          "output_type": "stream",
          "name": "stdout",
          "text": [
            "<class 'bool'>\n",
            "True\n"
          ]
        }
      ]
    },
    {
      "cell_type": "code",
      "source": [
        "x = True\n",
        "print(type(x))\n",
        "print(x)"
      ],
      "metadata": {
        "id": "y5bNrWzslkRY"
      },
      "execution_count": null,
      "outputs": []
    },
    {
      "cell_type": "code",
      "source": [
        "x = b\"Hello\"\n",
        "print(type(x))\n",
        "print(x)"
      ],
      "metadata": {
        "colab": {
          "base_uri": "https://localhost:8080/"
        },
        "id": "-oOHRVxllkUz",
        "outputId": "f6311629-c79d-420a-b9d4-eb43292fd61d"
      },
      "execution_count": null,
      "outputs": [
        {
          "output_type": "stream",
          "name": "stdout",
          "text": [
            "<class 'bytes'>\n",
            "b'Hello'\n"
          ]
        }
      ]
    },
    {
      "cell_type": "code",
      "source": [
        "x = bytearray(5)\n",
        "print(type(x))\n",
        "print(x)"
      ],
      "metadata": {
        "colab": {
          "base_uri": "https://localhost:8080/"
        },
        "id": "PHRS2Mphlkb6",
        "outputId": "813418d9-87bb-455e-cbbc-30c31df2091a"
      },
      "execution_count": null,
      "outputs": [
        {
          "output_type": "stream",
          "name": "stdout",
          "text": [
            "<class 'bytearray'>\n",
            "bytearray(b'\\x00\\x00\\x00\\x00\\x00')\n"
          ]
        }
      ]
    },
    {
      "cell_type": "code",
      "source": [
        "x = memoryview(bytes(5))\n",
        "print(type(x))\n",
        "print(x)"
      ],
      "metadata": {
        "colab": {
          "base_uri": "https://localhost:8080/"
        },
        "id": "Ua3WrFJoEUge",
        "outputId": "67d1cda0-84ab-4d13-caf7-7dec80311097"
      },
      "execution_count": null,
      "outputs": [
        {
          "output_type": "stream",
          "name": "stdout",
          "text": [
            "<class 'memoryview'>\n",
            "<memory at 0x7fc931301a10>\n"
          ]
        }
      ]
    },
    {
      "cell_type": "code",
      "source": [
        "x = None\n",
        "print(type(x))\n",
        "print(x)"
      ],
      "metadata": {
        "colab": {
          "base_uri": "https://localhost:8080/"
        },
        "id": "gmHjbO_7Ettu",
        "outputId": "a13c1831-4909-475c-fe24-15483b817415"
      },
      "execution_count": null,
      "outputs": [
        {
          "output_type": "stream",
          "name": "stdout",
          "text": [
            "<class 'NoneType'>\n",
            "None\n"
          ]
        }
      ]
    },
    {
      "cell_type": "markdown",
      "source": [
        "#Tentang bagaimana konversi dataset kedalam python"
      ],
      "metadata": {
        "id": "8zEBdy5dFRId"
      }
    },
    {
      "cell_type": "code",
      "source": [
        "from sklearn.datasets import load_iris\n",
        "import pandas as pd\n",
        "data = load_iris()\n",
        "print(type(data))"
      ],
      "metadata": {
        "colab": {
          "base_uri": "https://localhost:8080/"
        },
        "id": "TBeopazwFiFA",
        "outputId": "c5282133-9e7d-480f-9abf-5d413eec78e4"
      },
      "execution_count": null,
      "outputs": [
        {
          "output_type": "stream",
          "name": "stdout",
          "text": [
            "<class 'sklearn.utils.Bunch'>\n"
          ]
        }
      ]
    },
    {
      "cell_type": "code",
      "source": [
        "print(data)"
      ],
      "metadata": {
        "id": "WOk_UAkwIoIJ"
      },
      "execution_count": null,
      "outputs": []
    },
    {
      "cell_type": "markdown",
      "source": [
        "Catatan1:\n",
        "1. Pada dasarnya data (hasil konversi atau import) adalah berbentuk objek, bukan berbentuk sebagai data itu sendiri secara raw seperti di excel.\n",
        "2. Karena dia objek maka dia memiliki sejumlah atribut dan method. Isinya adalah berbagai atribut, dan method untuk mengkases atau melakukan tindakan. \n",
        "3. Untuk mengakses isi sebenarnya (raw) gunakan atribut yang memuat data raw nya, atau gunakan methodnya.\n",
        "4. Karena dia objek maka behaviournya adalah tergantung library mana dia berasal, kalau dia dari library panda maka gunakan class untuk objek itu di panda. Contoh untuk akses raw data dengan objek sklearn adalah data.data\n"
      ],
      "metadata": {
        "id": "tbp1_jJdM9ZW"
      }
    },
    {
      "cell_type": "code",
      "source": [
        "print(data.data_module)"
      ],
      "metadata": {
        "colab": {
          "base_uri": "https://localhost:8080/"
        },
        "id": "6DvOoa2wKC86",
        "outputId": "1903c910-09af-41f4-a107-02285a21b036"
      },
      "execution_count": null,
      "outputs": [
        {
          "output_type": "stream",
          "name": "stdout",
          "text": [
            "sklearn.datasets.data\n"
          ]
        }
      ]
    },
    {
      "cell_type": "code",
      "source": [
        "print(data.DESCR)"
      ],
      "metadata": {
        "id": "Pz5kQqKRKIkO"
      },
      "execution_count": null,
      "outputs": []
    },
    {
      "cell_type": "code",
      "source": [
        "print(data.feature_names)"
      ],
      "metadata": {
        "id": "MW1yw6mYKXXF"
      },
      "execution_count": null,
      "outputs": []
    },
    {
      "cell_type": "code",
      "source": [
        "print(data.filename)"
      ],
      "metadata": {
        "colab": {
          "base_uri": "https://localhost:8080/"
        },
        "id": "M73-DiZbKevg",
        "outputId": "97417469-73ff-4463-fbd0-b214c0733c10"
      },
      "execution_count": null,
      "outputs": [
        {
          "output_type": "stream",
          "name": "stdout",
          "text": [
            "iris.csv\n"
          ]
        }
      ]
    },
    {
      "cell_type": "code",
      "source": [
        "print(data.frame)"
      ],
      "metadata": {
        "id": "CY_Ek_w6Kiv5"
      },
      "execution_count": null,
      "outputs": []
    },
    {
      "cell_type": "code",
      "source": [
        "print(data.target)"
      ],
      "metadata": {
        "id": "MZtbnvKRK1MC"
      },
      "execution_count": null,
      "outputs": []
    },
    {
      "cell_type": "code",
      "source": [
        "print(data.target_names)"
      ],
      "metadata": {
        "id": "Zi-_fC_EK8J0"
      },
      "execution_count": null,
      "outputs": []
    },
    {
      "cell_type": "code",
      "source": [
        "print(data['target_names'])"
      ],
      "metadata": {
        "id": "wDXiB6S1MWQl"
      },
      "execution_count": null,
      "outputs": []
    },
    {
      "cell_type": "code",
      "source": [
        "data1=pd.DataFrame(data.data)"
      ],
      "metadata": {
        "id": "_qAr0xzMI9Xh"
      },
      "execution_count": null,
      "outputs": []
    },
    {
      "cell_type": "code",
      "source": [
        "data1"
      ],
      "metadata": {
        "id": "zfBN3R5oJ8Eh"
      },
      "execution_count": null,
      "outputs": []
    },
    {
      "cell_type": "markdown",
      "source": [
        "Cara menambahkan kolom baru di data, dan tentang method tail() dan head()"
      ],
      "metadata": {
        "id": "OxpuNu0jO2MC"
      }
    },
    {
      "cell_type": "code",
      "source": [
        "data2=pd.DataFrame(data.data, columns=data.feature_names)\n",
        "\n",
        "#tambahkan kolom target pada data2, ambil dari isi atribut target data\n",
        "data2['target']=data.target\n",
        "\n",
        "#cetak 5 rekord di kepala/awal data2\n",
        "data2.head()"
      ],
      "metadata": {
        "id": "YJBH-RJMLMaZ"
      },
      "execution_count": null,
      "outputs": []
    },
    {
      "cell_type": "code",
      "source": [
        "data2"
      ],
      "metadata": {
        "id": "8TSa16q0LYQi"
      },
      "execution_count": null,
      "outputs": []
    },
    {
      "cell_type": "code",
      "source": [
        "data = load_iris()\n",
        "df = pd.DataFrame(data['data'], columns=data['feature_names'])\n",
        "\n",
        "#tambahkan kolom target pada df, ambil dari kolom target data\n",
        "df['target'] = data['target']\n",
        "\n",
        "#cetak 5 rekord di ekor df atau paling terakhir\n",
        "df.tail()"
      ],
      "metadata": {
        "id": "2W7TlRE-L8I4"
      },
      "execution_count": null,
      "outputs": []
    },
    {
      "cell_type": "code",
      "source": [
        "from sklearn import datasets\n",
        "\n",
        "#buat list fnames, yaitu berisi i untuk semua i yang ada di dalam dir(datasets) dan mengandung string 'load_'\n",
        "fnames = [ i for i in dir(datasets) if 'load_' in i]\n",
        "print(fnames)"
      ],
      "metadata": {
        "colab": {
          "base_uri": "https://localhost:8080/"
        },
        "id": "fC8IQdY6N_jL",
        "outputId": "31dec807-381c-430c-bec5-31da4730c2e6"
      },
      "execution_count": null,
      "outputs": [
        {
          "output_type": "stream",
          "name": "stdout",
          "text": [
            "['load_boston', 'load_breast_cancer', 'load_diabetes', 'load_digits', 'load_files', 'load_iris', 'load_linnerud', 'load_sample_image', 'load_sample_images', 'load_svmlight_file', 'load_svmlight_files', 'load_wine']\n"
          ]
        }
      ]
    },
    {
      "cell_type": "code",
      "source": [
        "from sklearn import datasets\n",
        "\n",
        "#buat list fnames, yaitu berisi i untuk semua i yang ada di dalam dir(datasets) dan mengandung string 'load_'\n",
        "fnames = [ i for i in dir(datasets) if 'load_' in i]\n",
        "print(fnames)"
      ],
      "metadata": {
        "colab": {
          "base_uri": "https://localhost:8080/"
        },
        "id": "lc190eupC-HC",
        "outputId": "00a087aa-7c92-4edb-8a42-ccba98c289c0"
      },
      "execution_count": null,
      "outputs": [
        {
          "output_type": "stream",
          "name": "stdout",
          "text": [
            "['load_boston', 'load_breast_cancer', 'load_diabetes', 'load_digits', 'load_files', 'load_iris', 'load_linnerud', 'load_sample_image', 'load_sample_images', 'load_svmlight_file', 'load_svmlight_files', 'load_wine']\n"
          ]
        }
      ]
    },
    {
      "cell_type": "markdown",
      "source": [
        "Catatan2:\n",
        "iterasi pada looping, misal pada loopnig for, dapat kita perumum sebagai berikut:\n",
        "iterasi menggunakan list\n",
        "iterasi menggunakan range\n",
        "iterasi menggunakan tuple\n",
        "....\n",
        "Iterasi menggunakan objek\n",
        ".\n",
        "Dengan prinsip \"iterasi menggunakan objek\" kita bisa langsung bisa mengakses data yang merupakan sebagai objek. Akan tetapi ingat! hanya objek yang bisa dicacah isinya."
      ],
      "metadata": {
        "id": "qY4WYPfRP8kN"
      }
    },
    {
      "cell_type": "code",
      "source": [
        "#kode ringkas di atas pada dasarnya sama saja di bawah ini\n",
        "fnames2=[]\n",
        "for i in dir(datasets):\n",
        "  if 'load_' in i: \n",
        "    fnames2 = fnames2 + [i]\n",
        "print(fnames2)\n"
      ],
      "metadata": {
        "id": "Ms_IxcawOPw9"
      },
      "execution_count": null,
      "outputs": []
    },
    {
      "cell_type": "code",
      "source": [
        "type(dir(datasets))"
      ],
      "metadata": {
        "id": "FIs84A_LOd41"
      },
      "execution_count": null,
      "outputs": []
    },
    {
      "cell_type": "code",
      "source": [
        "from sklearn.datasets import load_iris\n",
        "import pandas as pd\n",
        "data = load_iris()"
      ],
      "metadata": {
        "id": "VzgskmnOOvxr"
      },
      "execution_count": null,
      "outputs": []
    },
    {
      "cell_type": "markdown",
      "source": [
        "Catatan3:\n",
        "Percobaan akses data langsung menggunakan iterasi langsung ke objek data"
      ],
      "metadata": {
        "id": "V0gwn1SYPw5Q"
      }
    },
    {
      "cell_type": "code",
      "source": [
        "for i in data.data:\n",
        "  print(i)"
      ],
      "metadata": {
        "id": "vIqwTBQPPrWD"
      },
      "execution_count": null,
      "outputs": []
    },
    {
      "cell_type": "code",
      "source": [
        "for i in data.data:\n",
        "  print(i[0])"
      ],
      "metadata": {
        "id": "Wwo-YqXbS8VH"
      },
      "execution_count": null,
      "outputs": []
    },
    {
      "cell_type": "code",
      "source": [
        "#Jangan gunakan ini, kesalahannya yaitu bahwa data masih merupakan objek sklearn asli, \n",
        "#belum merupakan objek dataframe panda\n",
        "print(data[0])"
      ],
      "metadata": {
        "id": "V-EF9t0cQkpm"
      },
      "execution_count": null,
      "outputs": []
    },
    {
      "cell_type": "code",
      "source": [
        "print(data.feature_names)"
      ],
      "metadata": {
        "id": "EcS6IGQ_RsSC"
      },
      "execution_count": null,
      "outputs": []
    },
    {
      "cell_type": "markdown",
      "source": [
        "Catatan 5:\n",
        "Di bawah ini adalah cara memanipulasi isi dataset membentuk list dalam list yang baru. Akan tetapi disini dataset beum dikonversi menjadi dataframe, tetapi langsung digunakan sebagai objek aslinya."
      ],
      "metadata": {
        "id": "fZ3LgJIFVD8W"
      }
    },
    {
      "cell_type": "code",
      "source": [
        "#Cara yang keliru untuk membuat list dalam list\n",
        "a=[]\n",
        "for i in data.data:\n",
        "  a=a+[i[0],i[1]]\n",
        "\n",
        "print(a)"
      ],
      "metadata": {
        "colab": {
          "base_uri": "https://localhost:8080/"
        },
        "id": "wp-brUN-SnnN",
        "outputId": "76d5a838-093d-4bb5-c3d6-5cd14cf486a1"
      },
      "execution_count": null,
      "outputs": [
        {
          "output_type": "stream",
          "name": "stdout",
          "text": [
            "[5.1, 3.5, 4.9, 3.0, 4.7, 3.2, 4.6, 3.1, 5.0, 3.6, 5.4, 3.9, 4.6, 3.4, 5.0, 3.4, 4.4, 2.9, 4.9, 3.1, 5.4, 3.7, 4.8, 3.4, 4.8, 3.0, 4.3, 3.0, 5.8, 4.0, 5.7, 4.4, 5.4, 3.9, 5.1, 3.5, 5.7, 3.8, 5.1, 3.8, 5.4, 3.4, 5.1, 3.7, 4.6, 3.6, 5.1, 3.3, 4.8, 3.4, 5.0, 3.0, 5.0, 3.4, 5.2, 3.5, 5.2, 3.4, 4.7, 3.2, 4.8, 3.1, 5.4, 3.4, 5.2, 4.1, 5.5, 4.2, 4.9, 3.1, 5.0, 3.2, 5.5, 3.5, 4.9, 3.6, 4.4, 3.0, 5.1, 3.4, 5.0, 3.5, 4.5, 2.3, 4.4, 3.2, 5.0, 3.5, 5.1, 3.8, 4.8, 3.0, 5.1, 3.8, 4.6, 3.2, 5.3, 3.7, 5.0, 3.3, 7.0, 3.2, 6.4, 3.2, 6.9, 3.1, 5.5, 2.3, 6.5, 2.8, 5.7, 2.8, 6.3, 3.3, 4.9, 2.4, 6.6, 2.9, 5.2, 2.7, 5.0, 2.0, 5.9, 3.0, 6.0, 2.2, 6.1, 2.9, 5.6, 2.9, 6.7, 3.1, 5.6, 3.0, 5.8, 2.7, 6.2, 2.2, 5.6, 2.5, 5.9, 3.2, 6.1, 2.8, 6.3, 2.5, 6.1, 2.8, 6.4, 2.9, 6.6, 3.0, 6.8, 2.8, 6.7, 3.0, 6.0, 2.9, 5.7, 2.6, 5.5, 2.4, 5.5, 2.4, 5.8, 2.7, 6.0, 2.7, 5.4, 3.0, 6.0, 3.4, 6.7, 3.1, 6.3, 2.3, 5.6, 3.0, 5.5, 2.5, 5.5, 2.6, 6.1, 3.0, 5.8, 2.6, 5.0, 2.3, 5.6, 2.7, 5.7, 3.0, 5.7, 2.9, 6.2, 2.9, 5.1, 2.5, 5.7, 2.8, 6.3, 3.3, 5.8, 2.7, 7.1, 3.0, 6.3, 2.9, 6.5, 3.0, 7.6, 3.0, 4.9, 2.5, 7.3, 2.9, 6.7, 2.5, 7.2, 3.6, 6.5, 3.2, 6.4, 2.7, 6.8, 3.0, 5.7, 2.5, 5.8, 2.8, 6.4, 3.2, 6.5, 3.0, 7.7, 3.8, 7.7, 2.6, 6.0, 2.2, 6.9, 3.2, 5.6, 2.8, 7.7, 2.8, 6.3, 2.7, 6.7, 3.3, 7.2, 3.2, 6.2, 2.8, 6.1, 3.0, 6.4, 2.8, 7.2, 3.0, 7.4, 2.8, 7.9, 3.8, 6.4, 2.8, 6.3, 2.8, 6.1, 2.6, 7.7, 3.0, 6.3, 3.4, 6.4, 3.1, 6.0, 3.0, 6.9, 3.1, 6.7, 3.1, 6.9, 3.1, 5.8, 2.7, 6.8, 3.2, 6.7, 3.3, 6.7, 3.0, 6.3, 2.5, 6.5, 3.0, 6.2, 3.4, 5.9, 3.0]\n"
          ]
        }
      ]
    },
    {
      "cell_type": "code",
      "source": [
        "#Cara yang benar untuk membuat list dalam list\n",
        "a=[]\n",
        "for i in data.data:\n",
        "  a=a+[[i[0],i[1]]]\n",
        "\n",
        "print(a)"
      ],
      "metadata": {
        "colab": {
          "base_uri": "https://localhost:8080/"
        },
        "id": "mi0nBmo1Uoy2",
        "outputId": "3fc38c85-c346-461d-8198-75776eb46bc4"
      },
      "execution_count": null,
      "outputs": [
        {
          "output_type": "stream",
          "name": "stdout",
          "text": [
            "[[5.1, 3.5], [4.9, 3.0], [4.7, 3.2], [4.6, 3.1], [5.0, 3.6], [5.4, 3.9], [4.6, 3.4], [5.0, 3.4], [4.4, 2.9], [4.9, 3.1], [5.4, 3.7], [4.8, 3.4], [4.8, 3.0], [4.3, 3.0], [5.8, 4.0], [5.7, 4.4], [5.4, 3.9], [5.1, 3.5], [5.7, 3.8], [5.1, 3.8], [5.4, 3.4], [5.1, 3.7], [4.6, 3.6], [5.1, 3.3], [4.8, 3.4], [5.0, 3.0], [5.0, 3.4], [5.2, 3.5], [5.2, 3.4], [4.7, 3.2], [4.8, 3.1], [5.4, 3.4], [5.2, 4.1], [5.5, 4.2], [4.9, 3.1], [5.0, 3.2], [5.5, 3.5], [4.9, 3.6], [4.4, 3.0], [5.1, 3.4], [5.0, 3.5], [4.5, 2.3], [4.4, 3.2], [5.0, 3.5], [5.1, 3.8], [4.8, 3.0], [5.1, 3.8], [4.6, 3.2], [5.3, 3.7], [5.0, 3.3], [7.0, 3.2], [6.4, 3.2], [6.9, 3.1], [5.5, 2.3], [6.5, 2.8], [5.7, 2.8], [6.3, 3.3], [4.9, 2.4], [6.6, 2.9], [5.2, 2.7], [5.0, 2.0], [5.9, 3.0], [6.0, 2.2], [6.1, 2.9], [5.6, 2.9], [6.7, 3.1], [5.6, 3.0], [5.8, 2.7], [6.2, 2.2], [5.6, 2.5], [5.9, 3.2], [6.1, 2.8], [6.3, 2.5], [6.1, 2.8], [6.4, 2.9], [6.6, 3.0], [6.8, 2.8], [6.7, 3.0], [6.0, 2.9], [5.7, 2.6], [5.5, 2.4], [5.5, 2.4], [5.8, 2.7], [6.0, 2.7], [5.4, 3.0], [6.0, 3.4], [6.7, 3.1], [6.3, 2.3], [5.6, 3.0], [5.5, 2.5], [5.5, 2.6], [6.1, 3.0], [5.8, 2.6], [5.0, 2.3], [5.6, 2.7], [5.7, 3.0], [5.7, 2.9], [6.2, 2.9], [5.1, 2.5], [5.7, 2.8], [6.3, 3.3], [5.8, 2.7], [7.1, 3.0], [6.3, 2.9], [6.5, 3.0], [7.6, 3.0], [4.9, 2.5], [7.3, 2.9], [6.7, 2.5], [7.2, 3.6], [6.5, 3.2], [6.4, 2.7], [6.8, 3.0], [5.7, 2.5], [5.8, 2.8], [6.4, 3.2], [6.5, 3.0], [7.7, 3.8], [7.7, 2.6], [6.0, 2.2], [6.9, 3.2], [5.6, 2.8], [7.7, 2.8], [6.3, 2.7], [6.7, 3.3], [7.2, 3.2], [6.2, 2.8], [6.1, 3.0], [6.4, 2.8], [7.2, 3.0], [7.4, 2.8], [7.9, 3.8], [6.4, 2.8], [6.3, 2.8], [6.1, 2.6], [7.7, 3.0], [6.3, 3.4], [6.4, 3.1], [6.0, 3.0], [6.9, 3.1], [6.7, 3.1], [6.9, 3.1], [5.8, 2.7], [6.8, 3.2], [6.7, 3.3], [6.7, 3.0], [6.3, 2.5], [6.5, 3.0], [6.2, 3.4], [5.9, 3.0]]\n"
          ]
        }
      ]
    },
    {
      "cell_type": "markdown",
      "source": [
        "InShaa Allah rencana besok:\n",
        "- Import data lalu manipulasi\n",
        "- Mulai kerjakan Algoritma dinda\n",
        "- Jangan lupa review paper binus\n",
        "- Jangan lupa siapkan proposal RIIM  "
      ],
      "metadata": {
        "id": "zC7ktZadVdQc"
      }
    },
    {
      "cell_type": "markdown",
      "source": [
        "Algoritma kally:\n",
        "0. Start\n",
        "1. Tambahkan kolom kelas pada dataset.\n",
        "2. Pilih k buah acak rekord.\n",
        "3. Masing kolom kelas dari k buah titik terpilih ditandai dengan k buah label. k adalah sebuah list.\n",
        "4. Start Loop 1 :Untuk setiap titik x selain k terpilih dan selain x terlabel, ukur jaraknya ke titik k[i].\n",
        "5. Jika x terdekat ke k[i], maka tandai x dengan label k[i]. Yaitu x[label]=k[i][label]\n",
        "6. kemudian k[i]=x.\n",
        "7. kembali ke start loop 1\n",
        "8. klaseterisasi berdasarkan ally selesai.\n",
        "9. Hitung centroid semua kelas.\n",
        "10. Revisi k acak menjadi: k[i]=mean{k[i]|...}.\n",
        "11. Hitung Jarak rata-rata (JR) semua k[i] baru ke k[i] lama. \n",
        "12. Periksa apakah JR =< treshold?\n",
        "13. Jika Ya maka algoritma SELESAI.\n",
        "14. Jika belum maka ulang langkah 4.\n",
        "15. SELESAI."
      ],
      "metadata": {
        "id": "sB3bp_E36E9t"
      }
    },
    {
      "cell_type": "markdown",
      "source": [
        "###Mulai Konstruksi Algoritma"
      ],
      "metadata": {
        "id": "6ROyOjyaANhe"
      }
    },
    {
      "cell_type": "markdown",
      "source": [
        "**A. Pemilihan dataset, konversi ke dataframe dan penambahan kolom baru yaitu kolom label**"
      ],
      "metadata": {
        "id": "uGTXyOyVYgvS"
      }
    },
    {
      "cell_type": "code",
      "source": [
        "#Pemilihan dataset, diambil dari sklearn.datasets, dan import pandas\n",
        "from sklearn.datasets import load_iris\n",
        "import pandas as pd\n",
        "data = load_iris()\n",
        "data_frame = pd.DataFrame(data['data'], columns=data['feature_names'])"
      ],
      "metadata": {
        "id": "9GkKIE6mAV1L"
      },
      "execution_count": null,
      "outputs": []
    },
    {
      "cell_type": "code",
      "source": [
        "#Kondisi di bawah ini error karena indeks kolom data['data'] hanya berukuran 4, tetapi kita menambahkan kolom 5\n",
        "#Konversi ke dataframe\n",
        "#kolom=data['feature_names']\n",
        "data_frame = pd.DataFrame(data['data'], columns=data['feature_names'])\n",
        "\n",
        "#tambahkan kolom label pada data_frame"
      ],
      "metadata": {
        "id": "K2O77-YYBAoH"
      },
      "execution_count": null,
      "outputs": []
    },
    {
      "cell_type": "code",
      "source": [
        "for i in data_frame:\n",
        "  data_frame['label']=None"
      ],
      "metadata": {
        "id": "YBexq2W6MbAn"
      },
      "execution_count": null,
      "outputs": []
    },
    {
      "cell_type": "code",
      "source": [
        "print(data_frame)"
      ],
      "metadata": {
        "id": "8J1eAM1BMsf1"
      },
      "execution_count": null,
      "outputs": []
    },
    {
      "cell_type": "code",
      "source": [
        "data_frame.index"
      ],
      "metadata": {
        "colab": {
          "base_uri": "https://localhost:8080/"
        },
        "id": "OhH_2BWbV2kW",
        "outputId": "4e4c0dd4-c983-463c-d67a-90f7bf0296cc"
      },
      "execution_count": null,
      "outputs": [
        {
          "output_type": "execute_result",
          "data": {
            "text/plain": [
              "RangeIndex(start=0, stop=150, step=1)"
            ]
          },
          "metadata": {},
          "execution_count": 10
        }
      ]
    },
    {
      "cell_type": "markdown",
      "source": [
        "**B. Memilih secara random k buah titik**"
      ],
      "metadata": {
        "id": "nEH2wtZCYzrQ"
      }
    },
    {
      "cell_type": "code",
      "source": [
        "for i in data_frame.index:\n",
        "  print(i)"
      ],
      "metadata": {
        "id": "CCbgMffUaIhA"
      },
      "execution_count": null,
      "outputs": []
    },
    {
      "cell_type": "code",
      "source": [
        "print(min(data_frame.index))\n",
        "max(data_frame.index)"
      ],
      "metadata": {
        "id": "Xp-hBolpbCAl"
      },
      "execution_count": null,
      "outputs": []
    },
    {
      "cell_type": "code",
      "source": [
        "import random\n",
        "a=random.randint(min(data_frame.index),max(data_frame.index))\n",
        "print(a)\n",
        "print(type(data_frame.loc[a]))\n",
        "print(data_frame.loc[a]['label'])\n",
        "data_frame.loc[a]"
      ],
      "metadata": {
        "colab": {
          "base_uri": "https://localhost:8080/"
        },
        "id": "Z5cWPD1DYaHH",
        "outputId": "58aed0d1-9859-4006-cc9e-4cf6f6c137ba"
      },
      "execution_count": null,
      "outputs": [
        {
          "output_type": "stream",
          "name": "stdout",
          "text": [
            "20\n",
            "<class 'pandas.core.series.Series'>\n",
            "None\n"
          ]
        },
        {
          "output_type": "execute_result",
          "data": {
            "text/plain": [
              "sepal length (cm)     5.4\n",
              "sepal width (cm)      3.4\n",
              "petal length (cm)     1.7\n",
              "petal width (cm)      0.2\n",
              "label                None\n",
              "Name: 20, dtype: object"
            ]
          },
          "metadata": {},
          "execution_count": 5
        }
      ]
    },
    {
      "cell_type": "code",
      "source": [
        "a=random.randint(min(data_frame.index),max(data_frame.index))\n",
        "b=random.randint(min(data_frame.index),max(data_frame.index))\n",
        "print(a)\n",
        "print(data_frame.loc[a])\n",
        "print(b)\n",
        "print(data_frame.loc[b])"
      ],
      "metadata": {
        "id": "pX8yDYZDbjH9"
      },
      "execution_count": null,
      "outputs": []
    },
    {
      "cell_type": "markdown",
      "source": [
        "Rancangan algoritma untuk memilih k rekord acak, yang dihasilkan indeks dari rekord yang terpilih.\n",
        "0. Start\n",
        "1. Tentukan k\n",
        "1. pusat_sekutu=[]\n",
        "2. for i in [0:k]:\n",
        "      a=random.randint(min(data_frame.index),max(data_frame.index))\n",
        "      if a not in pusat_sekutu:\n",
        "        pusat_sekutu=pusat_sekutu + [a]"
      ],
      "metadata": {
        "id": "B3gcAZ1nRNQ4"
      }
    },
    {
      "cell_type": "code",
      "source": [
        "#Tes buat fungsi\n",
        "def my_function(fname):\n",
        "  print(fname + \" Refsnes\")"
      ],
      "metadata": {
        "id": "x67uqjTDUF_b"
      },
      "execution_count": null,
      "outputs": []
    },
    {
      "cell_type": "code",
      "source": [
        "my_function('oklah')"
      ],
      "metadata": {
        "id": "hT8u62UQUIyG"
      },
      "execution_count": null,
      "outputs": []
    },
    {
      "cell_type": "markdown",
      "source": [
        "*Algoritma pembentukan pusat sekutu secara acak*"
      ],
      "metadata": {
        "id": "P-v2d1vTZRo7"
      }
    },
    {
      "cell_type": "code",
      "source": [
        "#Tes Algoritma pemilihan pusat sekutu secara acak\n",
        "def build_centroid_random(k,min,max):\n",
        "  import random\n",
        "  centroid=[]\n",
        "  for i in range(k):\n",
        "    a=random.randint(min,max) \n",
        "    if a not in centroid:\n",
        "      centroid=centroid+[a]\n",
        "  return centroid\n"
      ],
      "metadata": {
        "id": "ZU-5fphfgzme"
      },
      "execution_count": null,
      "outputs": []
    },
    {
      "cell_type": "code",
      "source": [
        "pusat_sekutu=build_centroid_random(2,0,max(data_frame.index))"
      ],
      "metadata": {
        "id": "8X4JkRnuXa8K"
      },
      "execution_count": null,
      "outputs": []
    },
    {
      "cell_type": "code",
      "source": [
        "pusat_sekutu"
      ],
      "metadata": {
        "colab": {
          "base_uri": "https://localhost:8080/"
        },
        "id": "kkP1L-0oY2FY",
        "outputId": "b217491c-ab21-400f-a26e-f50038848b83"
      },
      "execution_count": null,
      "outputs": [
        {
          "output_type": "execute_result",
          "data": {
            "text/plain": [
              "[122, 111]"
            ]
          },
          "metadata": {},
          "execution_count": 25
        }
      ]
    },
    {
      "cell_type": "markdown",
      "source": [
        "Rancangan algoritma untuk mengukur jarak setiap titik ke centroid\n",
        "0. Start Loop 1 :\n",
        "1. Untuk setiap titik x selain k terpilih dan selain x terlabel, ukur jaraknya 2. ke titik k[i].\n",
        "3. Jika x terdekat ke k[i], maka tandai x dengan label k[i]. Yaitu x[label]=k[i][label]\n",
        "4. kemudian k[i]=x.\n",
        "5. kembali ke start loop 1\n",
        "6. klaseterisasi berdasarkan ally selesai."
      ],
      "metadata": {
        "id": "GvcNBQ9WZ0PC"
      }
    },
    {
      "cell_type": "code",
      "source": [
        "#Bagaimana menset nilai pada dataframe?\n",
        "print(data_frame.loc[0]['label'])\n",
        "\n",
        "for i in data_frame:\n",
        "  data_frame['label']=None\n",
        "data_frame.at[0,'label']=0\n",
        "data_frame"
      ],
      "metadata": {
        "id": "aaeVJtiA9wkN"
      },
      "execution_count": null,
      "outputs": []
    },
    {
      "cell_type": "code",
      "source": [
        "#Bagaimana membaca nilai field pada rekord\n",
        "for x in data_frame.index:\n",
        "  print(data_frame.loc[x]['label'])"
      ],
      "metadata": {
        "id": "H6vgPZLLCb8b"
      },
      "execution_count": null,
      "outputs": []
    },
    {
      "cell_type": "code",
      "source": [
        "#Arsip, Ini keliru karena nilai terkakhir tidak diisi mengingat sifat range.\n",
        "for x in range(min(data_frame.index),max(data_frame.index)): #disini kelirunya harusnya ga usah pake range, pake data_frame.index saja.\n",
        "  if data_frame.loc[x]['label'] not in pusat_sekutu:\n",
        "    data_frame.at[x,'label']='bukan pusat'\n",
        "\n",
        "for x in data_frame.index:\n",
        "  if data_frame.loc[x]['label'] not in pusat_sekutu:\n",
        "    data_frame.at[x,'label']='bukan pusat'"
      ],
      "metadata": {
        "id": "sgzimGbvQGwX"
      },
      "execution_count": null,
      "outputs": []
    },
    {
      "cell_type": "code",
      "source": [
        "data_frame"
      ],
      "metadata": {
        "colab": {
          "base_uri": "https://localhost:8080/",
          "height": 424
        },
        "id": "sapAmR_8Vt87",
        "outputId": "c8ab24ec-c406-4809-b8b2-28ecbbdfe2c6"
      },
      "execution_count": null,
      "outputs": [
        {
          "output_type": "execute_result",
          "data": {
            "text/plain": [
              "     sepal length (cm)  sepal width (cm)  petal length (cm)  petal width (cm)  \\\n",
              "0                  5.1               3.5                1.4               0.2   \n",
              "1                  4.9               3.0                1.4               0.2   \n",
              "2                  4.7               3.2                1.3               0.2   \n",
              "3                  4.6               3.1                1.5               0.2   \n",
              "4                  5.0               3.6                1.4               0.2   \n",
              "..                 ...               ...                ...               ...   \n",
              "145                6.7               3.0                5.2               2.3   \n",
              "146                6.3               2.5                5.0               1.9   \n",
              "147                6.5               3.0                5.2               2.0   \n",
              "148                6.2               3.4                5.4               2.3   \n",
              "149                5.9               3.0                5.1               1.8   \n",
              "\n",
              "           label  \n",
              "0    bukan pusat  \n",
              "1    bukan pusat  \n",
              "2    bukan pusat  \n",
              "3    bukan pusat  \n",
              "4    bukan pusat  \n",
              "..           ...  \n",
              "145  bukan pusat  \n",
              "146  bukan pusat  \n",
              "147  bukan pusat  \n",
              "148  bukan pusat  \n",
              "149  bukan pusat  \n",
              "\n",
              "[150 rows x 5 columns]"
            ],
            "text/html": [
              "\n",
              "  <div id=\"df-7055736a-dd5a-44dc-b4e6-4747f3ccb183\">\n",
              "    <div class=\"colab-df-container\">\n",
              "      <div>\n",
              "<style scoped>\n",
              "    .dataframe tbody tr th:only-of-type {\n",
              "        vertical-align: middle;\n",
              "    }\n",
              "\n",
              "    .dataframe tbody tr th {\n",
              "        vertical-align: top;\n",
              "    }\n",
              "\n",
              "    .dataframe thead th {\n",
              "        text-align: right;\n",
              "    }\n",
              "</style>\n",
              "<table border=\"1\" class=\"dataframe\">\n",
              "  <thead>\n",
              "    <tr style=\"text-align: right;\">\n",
              "      <th></th>\n",
              "      <th>sepal length (cm)</th>\n",
              "      <th>sepal width (cm)</th>\n",
              "      <th>petal length (cm)</th>\n",
              "      <th>petal width (cm)</th>\n",
              "      <th>label</th>\n",
              "    </tr>\n",
              "  </thead>\n",
              "  <tbody>\n",
              "    <tr>\n",
              "      <th>0</th>\n",
              "      <td>5.1</td>\n",
              "      <td>3.5</td>\n",
              "      <td>1.4</td>\n",
              "      <td>0.2</td>\n",
              "      <td>bukan pusat</td>\n",
              "    </tr>\n",
              "    <tr>\n",
              "      <th>1</th>\n",
              "      <td>4.9</td>\n",
              "      <td>3.0</td>\n",
              "      <td>1.4</td>\n",
              "      <td>0.2</td>\n",
              "      <td>bukan pusat</td>\n",
              "    </tr>\n",
              "    <tr>\n",
              "      <th>2</th>\n",
              "      <td>4.7</td>\n",
              "      <td>3.2</td>\n",
              "      <td>1.3</td>\n",
              "      <td>0.2</td>\n",
              "      <td>bukan pusat</td>\n",
              "    </tr>\n",
              "    <tr>\n",
              "      <th>3</th>\n",
              "      <td>4.6</td>\n",
              "      <td>3.1</td>\n",
              "      <td>1.5</td>\n",
              "      <td>0.2</td>\n",
              "      <td>bukan pusat</td>\n",
              "    </tr>\n",
              "    <tr>\n",
              "      <th>4</th>\n",
              "      <td>5.0</td>\n",
              "      <td>3.6</td>\n",
              "      <td>1.4</td>\n",
              "      <td>0.2</td>\n",
              "      <td>bukan pusat</td>\n",
              "    </tr>\n",
              "    <tr>\n",
              "      <th>...</th>\n",
              "      <td>...</td>\n",
              "      <td>...</td>\n",
              "      <td>...</td>\n",
              "      <td>...</td>\n",
              "      <td>...</td>\n",
              "    </tr>\n",
              "    <tr>\n",
              "      <th>145</th>\n",
              "      <td>6.7</td>\n",
              "      <td>3.0</td>\n",
              "      <td>5.2</td>\n",
              "      <td>2.3</td>\n",
              "      <td>bukan pusat</td>\n",
              "    </tr>\n",
              "    <tr>\n",
              "      <th>146</th>\n",
              "      <td>6.3</td>\n",
              "      <td>2.5</td>\n",
              "      <td>5.0</td>\n",
              "      <td>1.9</td>\n",
              "      <td>bukan pusat</td>\n",
              "    </tr>\n",
              "    <tr>\n",
              "      <th>147</th>\n",
              "      <td>6.5</td>\n",
              "      <td>3.0</td>\n",
              "      <td>5.2</td>\n",
              "      <td>2.0</td>\n",
              "      <td>bukan pusat</td>\n",
              "    </tr>\n",
              "    <tr>\n",
              "      <th>148</th>\n",
              "      <td>6.2</td>\n",
              "      <td>3.4</td>\n",
              "      <td>5.4</td>\n",
              "      <td>2.3</td>\n",
              "      <td>bukan pusat</td>\n",
              "    </tr>\n",
              "    <tr>\n",
              "      <th>149</th>\n",
              "      <td>5.9</td>\n",
              "      <td>3.0</td>\n",
              "      <td>5.1</td>\n",
              "      <td>1.8</td>\n",
              "      <td>bukan pusat</td>\n",
              "    </tr>\n",
              "  </tbody>\n",
              "</table>\n",
              "<p>150 rows × 5 columns</p>\n",
              "</div>\n",
              "      <button class=\"colab-df-convert\" onclick=\"convertToInteractive('df-7055736a-dd5a-44dc-b4e6-4747f3ccb183')\"\n",
              "              title=\"Convert this dataframe to an interactive table.\"\n",
              "              style=\"display:none;\">\n",
              "        \n",
              "  <svg xmlns=\"http://www.w3.org/2000/svg\" height=\"24px\"viewBox=\"0 0 24 24\"\n",
              "       width=\"24px\">\n",
              "    <path d=\"M0 0h24v24H0V0z\" fill=\"none\"/>\n",
              "    <path d=\"M18.56 5.44l.94 2.06.94-2.06 2.06-.94-2.06-.94-.94-2.06-.94 2.06-2.06.94zm-11 1L8.5 8.5l.94-2.06 2.06-.94-2.06-.94L8.5 2.5l-.94 2.06-2.06.94zm10 10l.94 2.06.94-2.06 2.06-.94-2.06-.94-.94-2.06-.94 2.06-2.06.94z\"/><path d=\"M17.41 7.96l-1.37-1.37c-.4-.4-.92-.59-1.43-.59-.52 0-1.04.2-1.43.59L10.3 9.45l-7.72 7.72c-.78.78-.78 2.05 0 2.83L4 21.41c.39.39.9.59 1.41.59.51 0 1.02-.2 1.41-.59l7.78-7.78 2.81-2.81c.8-.78.8-2.07 0-2.86zM5.41 20L4 18.59l7.72-7.72 1.47 1.35L5.41 20z\"/>\n",
              "  </svg>\n",
              "      </button>\n",
              "      \n",
              "  <style>\n",
              "    .colab-df-container {\n",
              "      display:flex;\n",
              "      flex-wrap:wrap;\n",
              "      gap: 12px;\n",
              "    }\n",
              "\n",
              "    .colab-df-convert {\n",
              "      background-color: #E8F0FE;\n",
              "      border: none;\n",
              "      border-radius: 50%;\n",
              "      cursor: pointer;\n",
              "      display: none;\n",
              "      fill: #1967D2;\n",
              "      height: 32px;\n",
              "      padding: 0 0 0 0;\n",
              "      width: 32px;\n",
              "    }\n",
              "\n",
              "    .colab-df-convert:hover {\n",
              "      background-color: #E2EBFA;\n",
              "      box-shadow: 0px 1px 2px rgba(60, 64, 67, 0.3), 0px 1px 3px 1px rgba(60, 64, 67, 0.15);\n",
              "      fill: #174EA6;\n",
              "    }\n",
              "\n",
              "    [theme=dark] .colab-df-convert {\n",
              "      background-color: #3B4455;\n",
              "      fill: #D2E3FC;\n",
              "    }\n",
              "\n",
              "    [theme=dark] .colab-df-convert:hover {\n",
              "      background-color: #434B5C;\n",
              "      box-shadow: 0px 1px 3px 1px rgba(0, 0, 0, 0.15);\n",
              "      filter: drop-shadow(0px 1px 2px rgba(0, 0, 0, 0.3));\n",
              "      fill: #FFFFFF;\n",
              "    }\n",
              "  </style>\n",
              "\n",
              "      <script>\n",
              "        const buttonEl =\n",
              "          document.querySelector('#df-7055736a-dd5a-44dc-b4e6-4747f3ccb183 button.colab-df-convert');\n",
              "        buttonEl.style.display =\n",
              "          google.colab.kernel.accessAllowed ? 'block' : 'none';\n",
              "\n",
              "        async function convertToInteractive(key) {\n",
              "          const element = document.querySelector('#df-7055736a-dd5a-44dc-b4e6-4747f3ccb183');\n",
              "          const dataTable =\n",
              "            await google.colab.kernel.invokeFunction('convertToInteractive',\n",
              "                                                     [key], {});\n",
              "          if (!dataTable) return;\n",
              "\n",
              "          const docLinkHtml = 'Like what you see? Visit the ' +\n",
              "            '<a target=\"_blank\" href=https://colab.research.google.com/notebooks/data_table.ipynb>data table notebook</a>'\n",
              "            + ' to learn more about interactive tables.';\n",
              "          element.innerHTML = '';\n",
              "          dataTable['output_type'] = 'display_data';\n",
              "          await google.colab.output.renderOutput(dataTable, element);\n",
              "          const docLink = document.createElement('div');\n",
              "          docLink.innerHTML = docLinkHtml;\n",
              "          element.appendChild(docLink);\n",
              "        }\n",
              "      </script>\n",
              "    </div>\n",
              "  </div>\n",
              "  "
            ]
          },
          "metadata": {},
          "execution_count": 60
        }
      ]
    },
    {
      "cell_type": "code",
      "source": [
        "#Tes, data_frame bisa diakses hanya berdasarkan indeks kolom\n",
        "data_frame.loc[0][4]"
      ],
      "metadata": {
        "id": "zJ_pUp3tVjIx"
      },
      "execution_count": null,
      "outputs": []
    },
    {
      "cell_type": "code",
      "source": [
        "#Buat fungsi jarak sehinga tidak harus import library numpy atau tidak bergantung versi python\n",
        "import math\n",
        "def distance_ally(p,q):\n",
        "  kuadrat_komponen=[]\n",
        "  for i in range(len(p)):\n",
        "    kuadrat_komponen=kuadrat_komponen+[(p[i]-q[i])*(p[i]-q[i])]\n",
        "  jumlah=0\n",
        "  for i in kuadrat_komponen:\n",
        "    jumlah=jumlah+i\n",
        "  return math.sqrt(jumlah)\n",
        "\n",
        "print(distance_ally([2,2],[3,3]))"
      ],
      "metadata": {
        "colab": {
          "base_uri": "https://localhost:8080/"
        },
        "id": "g9XPc5D9a3lR",
        "outputId": "db49f7ed-4326-4640-b1cc-7cc6e39e4e3c"
      },
      "execution_count": null,
      "outputs": [
        {
          "output_type": "stream",
          "name": "stdout",
          "text": [
            "1.4142135623730951\n"
          ]
        }
      ]
    },
    {
      "cell_type": "code",
      "source": [
        "p=[2,3,4]\n",
        "print(len(p))\n",
        "p[0]"
      ],
      "metadata": {
        "colab": {
          "base_uri": "https://localhost:8080/"
        },
        "id": "Us3Fe0uaePc3",
        "outputId": "14aae585-f828-4ee1-b38a-f49ccc39ff23"
      },
      "execution_count": null,
      "outputs": [
        {
          "output_type": "stream",
          "name": "stdout",
          "text": [
            "3\n"
          ]
        },
        {
          "output_type": "execute_result",
          "data": {
            "text/plain": [
              "2"
            ]
          },
          "metadata": {},
          "execution_count": 80
        }
      ]
    },
    {
      "cell_type": "code",
      "source": [
        "data['feature_names'][0]"
      ],
      "metadata": {
        "colab": {
          "base_uri": "https://localhost:8080/",
          "height": 35
        },
        "id": "u4iiyu8NEoXJ",
        "outputId": "153dcc40-0244-4e47-a0a1-2af6354b5be8"
      },
      "execution_count": 6,
      "outputs": [
        {
          "output_type": "execute_result",
          "data": {
            "text/plain": [
              "'sepal length (cm)'"
            ],
            "application/vnd.google.colaboratory.intrinsic+json": {
              "type": "string"
            }
          },
          "metadata": {},
          "execution_count": 6
        }
      ]
    },
    {
      "cell_type": "code",
      "source": [
        "print(range(0,len(data_frame.columns)-1))"
      ],
      "metadata": {
        "colab": {
          "base_uri": "https://localhost:8080/"
        },
        "id": "F_MFTv_UFJhK",
        "outputId": "a5d39766-50a3-44b4-94a1-70eafea35b5b"
      },
      "execution_count": 11,
      "outputs": [
        {
          "output_type": "stream",
          "name": "stdout",
          "text": [
            "range(0, 4)\n"
          ]
        }
      ]
    },
    {
      "cell_type": "code",
      "source": [
        "komponen=[i for i in range(0,len(data_frame.columns)-1)] \n",
        "print(komponen)"
      ],
      "metadata": {
        "colab": {
          "base_uri": "https://localhost:8080/"
        },
        "id": "rrReULhIF76O",
        "outputId": "69828c2d-e3ea-4376-a49d-b11fa8f14c65"
      },
      "execution_count": 12,
      "outputs": [
        {
          "output_type": "stream",
          "name": "stdout",
          "text": [
            "[0, 1, 2, 3]\n"
          ]
        }
      ]
    },
    {
      "cell_type": "code",
      "source": [
        "#Sketsa algoritma\n",
        "#Pemilihan dataset, diambil dari sklearn.datasets, dan import pandas\n",
        "from sklearn.datasets import load_iris\n",
        "import pandas as pd\n",
        "data = load_iris()\n",
        "data_frame = pd.DataFrame(data['data'], columns=data['feature_names'])\n",
        "\n",
        "#Fungsi Jarak\n",
        "def distance_ally(p,q):\n",
        "  import math\n",
        "  kuadrat_komponen=[]\n",
        "  for i in range(len(p)):\n",
        "    kuadrat_komponen=kuadrat_komponen+[(p[i]-q[i])*(p[i]-q[i])]\n",
        "  jumlah=0\n",
        "  for i in kuadrat_komponen:\n",
        "    jumlah=jumlah+i\n",
        "  return math.sqrt(jumlah)\n",
        "\n",
        "#Fungsi random\n",
        "def build_centroid_random(k,min,max):\n",
        "  import random\n",
        "  centroid=[]\n",
        "  for i in range(k):\n",
        "    a=random.randint(min,max) \n",
        "    if a not in centroid:\n",
        "      centroid=centroid+[a]\n",
        "  return centroid\n",
        "\n",
        "#Alhamdulillah kode ini sudah diuji untuk menghitung mean perklaster\n",
        "def calculate_mean(data_frame,pusat_sekutu,komponen):\n",
        "  total_perklaster=[0 for i in pusat_sekutu]\n",
        "  counter_klaster=[0 for i in pusat_sekutu]\n",
        "  #print(total_perklaster)\n",
        "  for y in range(len(pusat_sekutu)):\n",
        "    total_perklaster[y]=[0 for j in komponen]\n",
        "  #print(total_perklaster[0])\n",
        "  for y in range(len(pusat_sekutu)):\n",
        "    sum=[0 for i in komponen]\n",
        "    counter_detil=0\n",
        "    for w in komponen:\n",
        "      for x in data_frame.index:\n",
        "        if data_frame.loc[x]['label']==pusat_sekutu[y]:\n",
        "          sum[w]=sum[w]+data_frame.at[x,data_frame.columns[w]]\n",
        "          if w==0 : counter_detil=counter_detil+1\n",
        "    counter_klaster[y]=counter_detil\n",
        "    total_perklaster[y]=sum\n",
        "\n",
        "  #Hitung mean:\n",
        "  mean_perklaster=[0 for y in pusat_sekutu]\n",
        "  for y in range(len(pusat_sekutu)):\n",
        "    mean_perklaster[y]=[total_perklaster[y][q]/counter_klaster[y] for q in komponen]\n",
        "\n",
        "  return mean_perklaster\n",
        "\n",
        "#Inisiasi label setiap rekord dataset dengan None\n",
        "for i in data_frame:\n",
        "  data_frame['label']=None\n",
        "\n",
        "#Buat pusat_sekutu\n",
        "pusat_sekutu=build_centroid_random(3,0,max(data_frame.index))\n",
        "\n",
        "#Labeli pusat_sekutu dengan nilainya sendiri\n",
        "for i in pusat_sekutu:\n",
        "  data_frame.at[i,'label']=i\n",
        "\n",
        "#Pilih kolom yang mau dijadikan komponen jarak, cukup indeks kolomnya saja\n",
        "komponen=[0,1,2,3] \n",
        "\n",
        "#Pindah ke alamat memori baru\n",
        "centroid=[]\n",
        "for i in pusat_sekutu:\n",
        "  centroid=centroid+[i]\n",
        "\n",
        "#Alternatif: centroid=[i for i in pusat_sekutu]\n",
        "#-------------------------------------------------------------------------------\n",
        "for x in data_frame.index:\n",
        "  if data_frame.loc[x]['label'] not in pusat_sekutu:\n",
        "    jarak_list=[]\n",
        "    for y in centroid:\n",
        "      #isi p dan q\n",
        "      p=[] \n",
        "      for i in komponen: p=p+[data_frame.loc[y][i]]\n",
        "      q=[]\n",
        "      for i in komponen: q=q+[data_frame.loc[x][i]]\n",
        "      jarak_list=jarak_list+[distance_ally(p, q)]\n",
        "    for w in range(len(jarak_list)):\n",
        "      if jarak_list[w]==min(jarak_list):\n",
        "        data_frame.at[x,'label']=data_frame.at[pusat_sekutu[w],'label']\n",
        "        centroid[w]=x\n"
      ],
      "metadata": {
        "id": "R1HgHVHo9MR3"
      },
      "execution_count": 2,
      "outputs": []
    },
    {
      "cell_type": "markdown",
      "source": [
        "**Rekonstruksi Algoritma menjadi bentuk Class**"
      ],
      "metadata": {
        "id": "VFF_bhwRYFYj"
      }
    },
    {
      "cell_type": "code",
      "source": [
        "from numpy import square\n",
        "import pandas as pd\n",
        "import random\n",
        "import math\n",
        "\n",
        "class Kally:\n",
        "  def __init__(self,data,columns,k=3,min_index_data=0,iteration=10,treshold=0.05) -> None:\n",
        "      #import pandas as pd\n",
        "      self.data = data\n",
        "      self.columns=columns\n",
        "      self.data_frame = pd.DataFrame(data=data, columns=columns)\n",
        "      self.iteration=iteration\n",
        "      self.treshold=treshold\n",
        "      self.mean=None\n",
        "\n",
        "      #Inisiasi label setiap rekord dataset dengan None\n",
        "      for i in self.data_frame:\n",
        "        self.data_frame['label']=None\n",
        "      \n",
        "      #Buat pusat_sekutu\n",
        "      self.pusat_sekutu=self.build_centroid_random(k,min_index_data,max(self.data_frame.index))\n",
        "      \n",
        "      #Labeli pusat_sekutu dengan nilainya sendiri\n",
        "      r=0\n",
        "      C=[]\n",
        "      for i in self.pusat_sekutu:\n",
        "        r=r+1\n",
        "        self.data_frame.at[i,'label']=\"C\"+str(r)\n",
        "        C=C+[\"C\"+str(r)]\n",
        "      print(C)\n",
        "      #Pilih kolom yang mau dijadikan komponen jarak, cukup indeks kolomnya saja\n",
        "      self.komponen=[i for i in range(0,len(self.data_frame.columns)-1)]\n",
        "      \n",
        "      #Pindah ke alamat memori baru\n",
        "      p=[None for y in self.pusat_sekutu]\n",
        "      self.centroid=[i for i in self.pusat_sekutu]\n",
        "      for y in range(len(self.centroid)):\n",
        "        p[y]=[]\n",
        "        for i in self.komponen: p[y]=p[y]+[self.data_frame.loc[self.centroid[y]][i]]\n",
        "      \n",
        "      for t in range(1):#self.iteration):\n",
        "        '''\n",
        "        Tahap pelabelan atau klasterisasi berdasarkan kemiripan untuk bersekutu.\n",
        "        Tahap pelabelan untuk satu iterasi.\n",
        "        '''\n",
        "        for x in self.data_frame.index:\n",
        "          if self.data_frame.loc[x]['label'] not in C:\n",
        "            jarak_list=[]\n",
        "            #Ukur jarak antara setiap titik centroid dengan setiap titik x di data_frame\n",
        "            q=[]\n",
        "            for i in self.komponen: q=q+[self.data_frame.loc[x][i]]\n",
        "            for y in p:\n",
        "              jarak_list=jarak_list+[self.distance_ally(y, q)]\n",
        "            for w in range(len(jarak_list)):\n",
        "              if jarak_list[w]==min(jarak_list):\n",
        "                print('jarak_list=',jarak_list)\n",
        "                print('jarak_list[',w,']',jarak_list[w])\n",
        "                print('min(jarak_list)=',min(jarak_list))\n",
        "                print('rekord sebelum pelabelan: ',self.data_frame.loc[x])\n",
        "                self.data_frame.at[x,'label']=C[w]  #self.data_frame.at[self.pusat_sekutu[w],'label']\n",
        "                print('rekord SETELAH pelabelan: ',self.data_frame.loc[x])\n",
        "                self.centroid[w]=x #apakah ini perlu?\n",
        "                print('sebelum:',p)\n",
        "                p[w]=[self.data_frame.at[x,self.data_frame.columns[w]] for i in self.komponen] #JANGAN LUPA TES DULU INI\n",
        "                print('p[',w,']',p[w])\n",
        "                print('sesudah:',p)\n",
        "\n",
        "        '''\n",
        "        Perhitungan ulang centroid klaster setelah pelabelan selesai.\n",
        "        Kemudian p diganti dengan centroid baru hasil perhitungan self.mean.\n",
        "        Titik p kemudian digunakan untuk iterasi berikut.\n",
        "        '''\n",
        "        self.mean=self.calculate_mean(self.data_frame,self.pusat_sekutu,self.komponen)\n",
        "        rerata_mse=0\n",
        "        for i in range(len(p)):\n",
        "          rerata_mse=rerata_mse+self.mse(p[i],self.mean[i])\n",
        "        \n",
        "        #print('p sebelum =', p)\n",
        "        #print('self.mean sesudah hitung mean =', self.mean)\n",
        "        p=self.mean\n",
        "        #print('p sesudah persamaan dengan self.mean =', p)\n",
        "        #print('self.mean sesudah persamaan dengan p =', self.mean)\n",
        "\n",
        "        #print(self.mean)\n",
        "        #self.centroid=[i for i in self.centroid]\n",
        "      \n",
        "  #Fungsi MSE (Mean Squarred Error)\n",
        "  def mse(self, vektor1, vektor2):\n",
        "    try:\n",
        "      jarak=0\n",
        "      square_sum=0\n",
        "      for i in range(len(vektor1)):\n",
        "        jarak=vektor1[i]-vektor2[i]\n",
        "        square=jarak*jarak\n",
        "        square_sum=square_sum+square\n",
        "      _mse=square_sum/len(vektor1)\n",
        "    except:\n",
        "      print('terjadi kesalahan: mungkin panjang vektor yang dikuru tidak sama, atau indeks vektor bukan 0,1,2,..')\n",
        "    finally:\n",
        "      return _mse\n",
        "  \n",
        "  #Fungsi Jarak\n",
        "  def distance_ally(self,p,q):\n",
        "    #import math\n",
        "    kuadrat_komponen=[]\n",
        "    for i in range(len(p)):\n",
        "      kuadrat_komponen=kuadrat_komponen+[(p[i]-q[i])*(p[i]-q[i])]\n",
        "    jumlah=0\n",
        "    for i in kuadrat_komponen:\n",
        "      jumlah=jumlah+i\n",
        "    return math.sqrt(jumlah)\n",
        "  \n",
        "  #Fungsi random\n",
        "  def build_centroid_random(self,k,min,max):\n",
        "    #import random\n",
        "    centroid=[]\n",
        "    for i in range(k):\n",
        "      a=random.randint(min,max) \n",
        "      if a not in centroid:\n",
        "        centroid=centroid+[a]\n",
        "    return centroid\n",
        "\n",
        "  #Alhamdulillah kode ini sudah diuji untuk menghitung mean perklaster\n",
        "  def calculate_mean(self,data_frame,pusat_sekutu,komponen):\n",
        "    #print(data_frame)\n",
        "    #print(pusat_sekutu)\n",
        "    #print(komponen)\n",
        "    total_perklaster=[0 for i in pusat_sekutu]\n",
        "    counter_klaster=[0 for i in pusat_sekutu]\n",
        "    for y in range(len(pusat_sekutu)):\n",
        "      total_perklaster[y]=[0 for j in komponen]\n",
        "    for y in range(len(pusat_sekutu)):\n",
        "      sum=[0 for i in komponen]\n",
        "      counter_detil=0\n",
        "      for w in komponen:\n",
        "        for x in data_frame.index:\n",
        "          if data_frame.loc[x]['label']==data_frame.loc[pusat_sekutu[y]]['label']:\n",
        "            sum[w]=sum[w]+data_frame.at[x,data_frame.columns[w]]\n",
        "            if w==0 : counter_detil=counter_detil+1\n",
        "      counter_klaster[y]=counter_detil\n",
        "      total_perklaster[y]=sum\n",
        "\n",
        "    #Hitung mean:\n",
        "    mean_perklaster=[0 for y in pusat_sekutu]\n",
        "    for y in range(len(pusat_sekutu)):\n",
        "      if counter_klaster[y]!=0:\n",
        "        mean_perklaster[y]=[total_perklaster[y][q]/counter_klaster[y] for q in komponen]\n",
        "\n",
        "    return mean_perklaster\n"
      ],
      "metadata": {
        "id": "q5qsmCAqYEh4"
      },
      "execution_count": 9,
      "outputs": []
    },
    {
      "cell_type": "code",
      "source": [
        "from sklearn.datasets import load_iris\n",
        "import pandas as pd\n",
        "data = load_iris()\n",
        "tes=Kally(data['data'], columns=data['feature_names'])"
      ],
      "metadata": {
        "colab": {
          "base_uri": "https://localhost:8080/"
        },
        "id": "xahsh8kOLSeB",
        "outputId": "1952a7df-699b-4f1e-86e3-eb53605c2e6c"
      },
      "execution_count": 10,
      "outputs": [
        {
          "output_type": "stream",
          "name": "stdout",
          "text": [
            "['C1', 'C2', 'C3']\n",
            "jarak_list= [0.22360679774997896, 4.141255848169732, 0.45825756949558394]\n",
            "jarak_list[ 0 ] 0.22360679774997896\n",
            "min(jarak_list)= 0.22360679774997896\n",
            "rekord sebelum pelabelan:  sepal length (cm)     5.1\n",
            "sepal width (cm)      3.5\n",
            "petal length (cm)     1.4\n",
            "petal width (cm)      0.2\n",
            "label                None\n",
            "Name: 0, dtype: object\n",
            "rekord SETELAH pelabelan:  sepal length (cm)    5.1\n",
            "sepal width (cm)     3.5\n",
            "petal length (cm)    1.4\n",
            "petal width (cm)     0.2\n",
            "label                 C1\n",
            "Name: 0, dtype: object\n",
            "sebelum: [[5.0, 3.3, 1.4, 0.2], [6.0, 2.2, 5.0, 1.5], [5.0, 3.5, 1.6, 0.6]]\n",
            "p[ 0 ] [5.1, 5.1, 5.1, 5.1]\n",
            "sesudah: [[5.1, 5.1, 5.1, 5.1], [6.0, 2.2, 5.0, 1.5], [5.0, 3.5, 1.6, 0.6]]\n",
            "jarak_list= [6.492303135251772, 4.06201920231798, 0.6782329983125268]\n",
            "jarak_list[ 2 ] 0.6782329983125268\n",
            "min(jarak_list)= 0.6782329983125268\n",
            "rekord sebelum pelabelan:  sepal length (cm)     4.9\n",
            "sepal width (cm)      3.0\n",
            "petal length (cm)     1.4\n",
            "petal width (cm)      0.2\n",
            "label                None\n",
            "Name: 1, dtype: object\n",
            "rekord SETELAH pelabelan:  sepal length (cm)    4.9\n",
            "sepal width (cm)     3.0\n",
            "petal length (cm)    1.4\n",
            "petal width (cm)     0.2\n",
            "label                 C3\n",
            "Name: 1, dtype: object\n",
            "sebelum: [[5.1, 5.1, 5.1, 5.1], [6.0, 2.2, 5.0, 1.5], [5.0, 3.5, 1.6, 0.6]]\n",
            "p[ 2 ] [1.4, 1.4, 1.4, 1.4]\n",
            "sesudah: [[5.1, 5.1, 5.1, 5.1], [6.0, 2.2, 5.0, 1.5], [1.4, 1.4, 1.4, 1.4]]\n",
            "jarak_list= [6.497691897897282, 4.250882261366457, 3.9471508711981103]\n",
            "jarak_list[ 2 ] 3.9471508711981103\n",
            "min(jarak_list)= 3.9471508711981103\n",
            "rekord sebelum pelabelan:  sepal length (cm)     4.7\n",
            "sepal width (cm)      3.2\n",
            "petal length (cm)     1.3\n",
            "petal width (cm)      0.2\n",
            "label                None\n",
            "Name: 2, dtype: object\n",
            "rekord SETELAH pelabelan:  sepal length (cm)    4.7\n",
            "sepal width (cm)     3.2\n",
            "petal length (cm)    1.3\n",
            "petal width (cm)     0.2\n",
            "label                 C3\n",
            "Name: 2, dtype: object\n",
            "sebelum: [[5.1, 5.1, 5.1, 5.1], [6.0, 2.2, 5.0, 1.5], [1.4, 1.4, 1.4, 1.4]]\n",
            "p[ 2 ] [1.3, 1.3, 1.3, 1.3]\n",
            "sesudah: [[5.1, 5.1, 5.1, 5.1], [6.0, 2.2, 5.0, 1.5], [1.3, 1.3, 1.3, 1.3]]\n",
            "jarak_list= [6.4202803677098075, 4.0877866871939394, 3.9217343102255153]\n",
            "jarak_list[ 2 ] 3.9217343102255153\n",
            "min(jarak_list)= 3.9217343102255153\n",
            "rekord sebelum pelabelan:  sepal length (cm)     4.6\n",
            "sepal width (cm)      3.1\n",
            "petal length (cm)     1.5\n",
            "petal width (cm)      0.2\n",
            "label                None\n",
            "Name: 3, dtype: object\n",
            "rekord SETELAH pelabelan:  sepal length (cm)    4.6\n",
            "sepal width (cm)     3.1\n",
            "petal length (cm)    1.5\n",
            "petal width (cm)     0.2\n",
            "label                 C3\n",
            "Name: 3, dtype: object\n",
            "sebelum: [[5.1, 5.1, 5.1, 5.1], [6.0, 2.2, 5.0, 1.5], [1.3, 1.3, 1.3, 1.3]]\n",
            "p[ 2 ] [1.5, 1.5, 1.5, 1.5]\n",
            "sesudah: [[5.1, 5.1, 5.1, 5.1], [6.0, 2.2, 5.0, 1.5], [1.5, 1.5, 1.5, 1.5]]\n",
            "jarak_list= [6.321392251711643, 4.196427051671457, 4.28485705712571]\n",
            "jarak_list[ 1 ] 4.196427051671457\n",
            "min(jarak_list)= 4.196427051671457\n",
            "rekord sebelum pelabelan:  sepal length (cm)     5.0\n",
            "sepal width (cm)      3.6\n",
            "petal length (cm)     1.4\n",
            "petal width (cm)      0.2\n",
            "label                None\n",
            "Name: 4, dtype: object\n",
            "rekord SETELAH pelabelan:  sepal length (cm)    5.0\n",
            "sepal width (cm)     3.6\n",
            "petal length (cm)    1.4\n",
            "petal width (cm)     0.2\n",
            "label                 C2\n",
            "Name: 4, dtype: object\n",
            "sebelum: [[5.1, 5.1, 5.1, 5.1], [6.0, 2.2, 5.0, 1.5], [1.5, 1.5, 1.5, 1.5]]\n",
            "p[ 1 ] [3.6, 3.6, 3.6, 3.6]\n",
            "sesudah: [[5.1, 5.1, 5.1, 5.1], [3.6, 3.6, 3.6, 3.6], [1.5, 1.5, 1.5, 1.5]]\n",
            "jarak_list= [5.931273050534767, 4.144876355212541, 4.713809499757071]\n",
            "jarak_list[ 1 ] 4.144876355212541\n",
            "min(jarak_list)= 4.144876355212541\n",
            "rekord sebelum pelabelan:  sepal length (cm)     5.4\n",
            "sepal width (cm)      3.9\n",
            "petal length (cm)     1.7\n",
            "petal width (cm)      0.4\n",
            "label                None\n",
            "Name: 5, dtype: object\n",
            "rekord SETELAH pelabelan:  sepal length (cm)    5.4\n",
            "sepal width (cm)     3.9\n",
            "petal length (cm)    1.7\n",
            "petal width (cm)     0.4\n",
            "label                 C2\n",
            "Name: 5, dtype: object\n",
            "sebelum: [[5.1, 5.1, 5.1, 5.1], [3.6, 3.6, 3.6, 3.6], [1.5, 1.5, 1.5, 1.5]]\n",
            "p[ 1 ] [3.9, 3.9, 3.9, 3.9]\n",
            "sesudah: [[5.1, 5.1, 5.1, 5.1], [3.9, 3.9, 3.9, 3.9], [1.5, 1.5, 1.5, 1.5]]\n",
            "jarak_list= [6.314269553954756, 4.466542286825459, 3.830143600441111]\n",
            "jarak_list[ 2 ] 3.830143600441111\n",
            "min(jarak_list)= 3.830143600441111\n",
            "rekord sebelum pelabelan:  sepal length (cm)     4.6\n",
            "sepal width (cm)      3.4\n",
            "petal length (cm)     1.4\n",
            "petal width (cm)      0.3\n",
            "label                None\n",
            "Name: 6, dtype: object\n",
            "rekord SETELAH pelabelan:  sepal length (cm)    4.6\n",
            "sepal width (cm)     3.4\n",
            "petal length (cm)    1.4\n",
            "petal width (cm)     0.3\n",
            "label                 C3\n",
            "Name: 6, dtype: object\n",
            "sebelum: [[5.1, 5.1, 5.1, 5.1], [3.9, 3.9, 3.9, 3.9], [1.5, 1.5, 1.5, 1.5]]\n",
            "p[ 2 ] [1.4, 1.4, 1.4, 1.4]\n",
            "sesudah: [[5.1, 5.1, 5.1, 5.1], [3.9, 3.9, 3.9, 3.9], [1.4, 1.4, 1.4, 1.4]]\n",
            "jarak_list= [6.314269553954756, 4.57274534606947, 4.290687590584987]\n",
            "jarak_list[ 2 ] 4.290687590584987\n",
            "min(jarak_list)= 4.290687590584987\n",
            "rekord sebelum pelabelan:  sepal length (cm)     5.0\n",
            "sepal width (cm)      3.4\n",
            "petal length (cm)     1.5\n",
            "petal width (cm)      0.2\n",
            "label                None\n",
            "Name: 7, dtype: object\n",
            "rekord SETELAH pelabelan:  sepal length (cm)    5.0\n",
            "sepal width (cm)     3.4\n",
            "petal length (cm)    1.5\n",
            "petal width (cm)     0.2\n",
            "label                 C3\n",
            "Name: 7, dtype: object\n",
            "sebelum: [[5.1, 5.1, 5.1, 5.1], [3.9, 3.9, 3.9, 3.9], [1.4, 1.4, 1.4, 1.4]]\n",
            "p[ 2 ] [1.5, 1.5, 1.5, 1.5]\n",
            "sesudah: [[5.1, 5.1, 5.1, 5.1], [3.9, 3.9, 3.9, 3.9], [1.5, 1.5, 1.5, 1.5]]\n",
            "jarak_list= [6.559725604017289, 4.603259714593562, 3.4741905532080417]\n",
            "jarak_list[ 2 ] 3.4741905532080417\n",
            "min(jarak_list)= 3.4741905532080417\n",
            "rekord sebelum pelabelan:  sepal length (cm)     4.4\n",
            "sepal width (cm)      2.9\n",
            "petal length (cm)     1.4\n",
            "petal width (cm)      0.2\n",
            "label                None\n",
            "Name: 8, dtype: object\n",
            "rekord SETELAH pelabelan:  sepal length (cm)    4.4\n",
            "sepal width (cm)     2.9\n",
            "petal length (cm)    1.4\n",
            "petal width (cm)     0.2\n",
            "label                 C3\n",
            "Name: 8, dtype: object\n",
            "sebelum: [[5.1, 5.1, 5.1, 5.1], [3.9, 3.9, 3.9, 3.9], [1.5, 1.5, 1.5, 1.5]]\n",
            "p[ 2 ] [1.4, 1.4, 1.4, 1.4]\n",
            "sesudah: [[5.1, 5.1, 5.1, 5.1], [3.9, 3.9, 3.9, 3.9], [1.4, 1.4, 1.4, 1.4]]\n",
            "jarak_list= [6.48074069840786, 4.673328578219169, 4.1036569057366385]\n",
            "jarak_list[ 2 ] 4.1036569057366385\n",
            "min(jarak_list)= 4.1036569057366385\n",
            "rekord sebelum pelabelan:  sepal length (cm)     4.9\n",
            "sepal width (cm)      3.1\n",
            "petal length (cm)     1.5\n",
            "petal width (cm)      0.1\n",
            "label                None\n",
            "Name: 9, dtype: object\n",
            "rekord SETELAH pelabelan:  sepal length (cm)    4.9\n",
            "sepal width (cm)     3.1\n",
            "petal length (cm)    1.5\n",
            "petal width (cm)     0.1\n",
            "label                 C3\n",
            "Name: 9, dtype: object\n",
            "sebelum: [[5.1, 5.1, 5.1, 5.1], [3.9, 3.9, 3.9, 3.9], [1.4, 1.4, 1.4, 1.4]]\n",
            "p[ 2 ] [1.5, 1.5, 1.5, 1.5]\n",
            "sesudah: [[5.1, 5.1, 5.1, 5.1], [3.9, 3.9, 3.9, 3.9], [1.5, 1.5, 1.5, 1.5]]\n",
            "jarak_list= [6.246599074696565, 4.662617290749907, 4.662617290749908]\n",
            "jarak_list[ 1 ] 4.662617290749907\n",
            "min(jarak_list)= 4.662617290749907\n",
            "rekord sebelum pelabelan:  sepal length (cm)     5.4\n",
            "sepal width (cm)      3.7\n",
            "petal length (cm)     1.5\n",
            "petal width (cm)      0.2\n",
            "label                None\n",
            "Name: 10, dtype: object\n",
            "rekord SETELAH pelabelan:  sepal length (cm)    5.4\n",
            "sepal width (cm)     3.7\n",
            "petal length (cm)    1.5\n",
            "petal width (cm)     0.2\n",
            "label                 C2\n",
            "Name: 10, dtype: object\n",
            "sebelum: [[5.1, 5.1, 5.1, 5.1], [3.9, 3.9, 3.9, 3.9], [1.5, 1.5, 1.5, 1.5]]\n",
            "p[ 1 ] [3.7, 3.7, 3.7, 3.7]\n",
            "sesudah: [[5.1, 5.1, 5.1, 5.1], [3.7, 3.7, 3.7, 3.7], [1.5, 1.5, 1.5, 1.5]]\n",
            "jarak_list= [6.2641839053463295, 4.237924020083418, 4.024922359499621]\n",
            "jarak_list[ 2 ] 4.024922359499621\n",
            "min(jarak_list)= 4.024922359499621\n",
            "rekord sebelum pelabelan:  sepal length (cm)     4.8\n",
            "sepal width (cm)      3.4\n",
            "petal length (cm)     1.6\n",
            "petal width (cm)      0.2\n",
            "label                None\n",
            "Name: 11, dtype: object\n",
            "rekord SETELAH pelabelan:  sepal length (cm)    4.8\n",
            "sepal width (cm)     3.4\n",
            "petal length (cm)    1.6\n",
            "petal width (cm)     0.2\n",
            "label                 C3\n",
            "Name: 11, dtype: object\n",
            "sebelum: [[5.1, 5.1, 5.1, 5.1], [3.7, 3.7, 3.7, 3.7], [1.5, 1.5, 1.5, 1.5]]\n",
            "p[ 2 ] [1.6, 1.6, 1.6, 1.6]\n",
            "sesudah: [[5.1, 5.1, 5.1, 5.1], [3.7, 3.7, 3.7, 3.7], [1.6, 1.6, 1.6, 1.6]]\n",
            "jarak_list= [6.5719099202591025, 4.466542286825459, 3.806573262134856]\n",
            "jarak_list[ 2 ] 3.806573262134856\n",
            "min(jarak_list)= 3.806573262134856\n",
            "rekord sebelum pelabelan:  sepal length (cm)     4.8\n",
            "sepal width (cm)      3.0\n",
            "petal length (cm)     1.4\n",
            "petal width (cm)      0.1\n",
            "label                None\n",
            "Name: 12, dtype: object\n",
            "rekord SETELAH pelabelan:  sepal length (cm)    4.8\n",
            "sepal width (cm)     3.0\n",
            "petal length (cm)    1.4\n",
            "petal width (cm)     0.1\n",
            "label                 C3\n",
            "Name: 12, dtype: object\n",
            "sebelum: [[5.1, 5.1, 5.1, 5.1], [3.7, 3.7, 3.7, 3.7], [1.6, 1.6, 1.6, 1.6]]\n",
            "p[ 2 ] [1.4, 1.4, 1.4, 1.4]\n",
            "sesudah: [[5.1, 5.1, 5.1, 5.1], [3.7, 3.7, 3.7, 3.7], [1.4, 1.4, 1.4, 1.4]]\n",
            "jarak_list= [6.786015030929419, 4.535416188179426, 3.570714214271425]\n",
            "jarak_list[ 2 ] 3.570714214271425\n",
            "min(jarak_list)= 3.570714214271425\n",
            "rekord sebelum pelabelan:  sepal length (cm)     4.3\n",
            "sepal width (cm)      3.0\n",
            "petal length (cm)     1.1\n",
            "petal width (cm)      0.1\n",
            "label                None\n",
            "Name: 13, dtype: object\n",
            "rekord SETELAH pelabelan:  sepal length (cm)    4.3\n",
            "sepal width (cm)     3.0\n",
            "petal length (cm)    1.1\n",
            "petal width (cm)     0.1\n",
            "label                 C3\n",
            "Name: 13, dtype: object\n",
            "sebelum: [[5.1, 5.1, 5.1, 5.1], [3.7, 3.7, 3.7, 3.7], [1.4, 1.4, 1.4, 1.4]]\n",
            "p[ 2 ] [1.1, 1.1, 1.1, 1.1]\n",
            "sesudah: [[5.1, 5.1, 5.1, 5.1], [3.7, 3.7, 3.7, 3.7], [1.1, 1.1, 1.1, 1.1]]\n",
            "jarak_list= [6.39687423668779, 4.795831523312719, 5.5964274318532885]\n",
            "jarak_list[ 1 ] 4.795831523312719\n",
            "min(jarak_list)= 4.795831523312719\n",
            "rekord sebelum pelabelan:  sepal length (cm)     5.8\n",
            "sepal width (cm)      4.0\n",
            "petal length (cm)     1.2\n",
            "petal width (cm)      0.2\n",
            "label                None\n",
            "Name: 14, dtype: object\n",
            "rekord SETELAH pelabelan:  sepal length (cm)    5.8\n",
            "sepal width (cm)     4.0\n",
            "petal length (cm)    1.2\n",
            "petal width (cm)     0.2\n",
            "label                 C2\n",
            "Name: 14, dtype: object\n",
            "sebelum: [[5.1, 5.1, 5.1, 5.1], [3.7, 3.7, 3.7, 3.7], [1.1, 1.1, 1.1, 1.1]]\n",
            "p[ 1 ] [4.0, 4.0, 4.0, 4.0]\n",
            "sesudah: [[5.1, 5.1, 5.1, 5.1], [4.0, 4.0, 4.0, 4.0], [1.1, 1.1, 1.1, 1.1]]\n",
            "jarak_list= [5.991660871578096, 4.71805044483418, 5.718391382198319]\n",
            "jarak_list[ 1 ] 4.71805044483418\n",
            "min(jarak_list)= 4.71805044483418\n",
            "rekord sebelum pelabelan:  sepal length (cm)     5.7\n",
            "sepal width (cm)      4.4\n",
            "petal length (cm)     1.5\n",
            "petal width (cm)      0.4\n",
            "label                None\n",
            "Name: 15, dtype: object\n",
            "rekord SETELAH pelabelan:  sepal length (cm)    5.7\n",
            "sepal width (cm)     4.4\n",
            "petal length (cm)    1.5\n",
            "petal width (cm)     0.4\n",
            "label                 C2\n",
            "Name: 15, dtype: object\n",
            "sebelum: [[5.1, 5.1, 5.1, 5.1], [4.0, 4.0, 4.0, 4.0], [1.1, 1.1, 1.1, 1.1]]\n",
            "p[ 1 ] [4.4, 4.4, 4.4, 4.4]\n",
            "sesudah: [[5.1, 5.1, 5.1, 5.1], [4.4, 4.4, 4.4, 4.4], [1.1, 1.1, 1.1, 1.1]]\n",
            "jarak_list= [6.169278726074872, 5.182663407939976, 5.182663407939976]\n",
            "jarak_list[ 1 ] 5.182663407939976\n",
            "min(jarak_list)= 5.182663407939976\n",
            "rekord sebelum pelabelan:  sepal length (cm)     5.4\n",
            "sepal width (cm)      3.9\n",
            "petal length (cm)     1.3\n",
            "petal width (cm)      0.4\n",
            "label                None\n",
            "Name: 16, dtype: object\n",
            "rekord SETELAH pelabelan:  sepal length (cm)    5.4\n",
            "sepal width (cm)     3.9\n",
            "petal length (cm)    1.3\n",
            "petal width (cm)     0.4\n",
            "label                 C2\n",
            "Name: 16, dtype: object\n",
            "sebelum: [[5.1, 5.1, 5.1, 5.1], [4.4, 4.4, 4.4, 4.4], [1.1, 1.1, 1.1, 1.1]]\n",
            "p[ 1 ] [3.9, 3.9, 3.9, 3.9]\n",
            "sesudah: [[5.1, 5.1, 5.1, 5.1], [3.9, 3.9, 3.9, 3.9], [1.1, 1.1, 1.1, 1.1]]\n",
            "jarak_list= [6.169278726074872, 5.182663407939976, 5.182663407939976]\n",
            "jarak_list[ 2 ] 5.182663407939976\n",
            "min(jarak_list)= 5.182663407939976\n",
            "rekord sebelum pelabelan:  sepal length (cm)    5.4\n",
            "sepal width (cm)     3.9\n",
            "petal length (cm)    1.3\n",
            "petal width (cm)     0.4\n",
            "label                 C2\n",
            "Name: 16, dtype: object\n",
            "rekord SETELAH pelabelan:  sepal length (cm)    5.4\n",
            "sepal width (cm)     3.9\n",
            "petal length (cm)    1.3\n",
            "petal width (cm)     0.4\n",
            "label                 C3\n",
            "Name: 16, dtype: object\n",
            "sebelum: [[5.1, 5.1, 5.1, 5.1], [3.9, 3.9, 3.9, 3.9], [1.1, 1.1, 1.1, 1.1]]\n",
            "p[ 2 ] [1.3, 1.3, 1.3, 1.3]\n",
            "sesudah: [[5.1, 5.1, 5.1, 5.1], [3.9, 3.9, 3.9, 3.9], [1.3, 1.3, 1.3, 1.3]]\n",
            "jarak_list= [6.268173577685927, 4.561797891182818, 4.504442251822083]\n",
            "jarak_list[ 2 ] 4.504442251822083\n",
            "min(jarak_list)= 4.504442251822083\n",
            "rekord sebelum pelabelan:  sepal length (cm)     5.1\n",
            "sepal width (cm)      3.5\n",
            "petal length (cm)     1.4\n",
            "petal width (cm)      0.3\n",
            "label                None\n",
            "Name: 17, dtype: object\n",
            "rekord SETELAH pelabelan:  sepal length (cm)    5.1\n",
            "sepal width (cm)     3.5\n",
            "petal length (cm)    1.4\n",
            "petal width (cm)     0.3\n",
            "label                 C3\n",
            "Name: 17, dtype: object\n",
            "sebelum: [[5.1, 5.1, 5.1, 5.1], [3.9, 3.9, 3.9, 3.9], [1.3, 1.3, 1.3, 1.3]]\n",
            "p[ 2 ] [1.4, 1.4, 1.4, 1.4]\n",
            "sesudah: [[5.1, 5.1, 5.1, 5.1], [3.9, 3.9, 3.9, 3.9], [1.4, 1.4, 1.4, 1.4]]\n",
            "jarak_list= [6.053924347066125, 4.588027898781785, 5.054700782440046]\n",
            "jarak_list[ 1 ] 4.588027898781785\n",
            "min(jarak_list)= 4.588027898781785\n",
            "rekord sebelum pelabelan:  sepal length (cm)     5.7\n",
            "sepal width (cm)      3.8\n",
            "petal length (cm)     1.7\n",
            "petal width (cm)      0.3\n",
            "label                None\n",
            "Name: 18, dtype: object\n",
            "rekord SETELAH pelabelan:  sepal length (cm)    5.7\n",
            "sepal width (cm)     3.8\n",
            "petal length (cm)    1.7\n",
            "petal width (cm)     0.3\n",
            "label                 C2\n",
            "Name: 18, dtype: object\n",
            "sebelum: [[5.1, 5.1, 5.1, 5.1], [3.9, 3.9, 3.9, 3.9], [1.4, 1.4, 1.4, 1.4]]\n",
            "p[ 1 ] [3.8, 3.8, 3.8, 3.8]\n",
            "sesudah: [[5.1, 5.1, 5.1, 5.1], [3.8, 3.8, 3.8, 3.8], [1.4, 1.4, 1.4, 1.4]]\n",
            "jarak_list= [6.139218191268331, 4.38520238985614, 4.546427168667722]\n",
            "jarak_list[ 1 ] 4.38520238985614\n",
            "min(jarak_list)= 4.38520238985614\n",
            "rekord sebelum pelabelan:  sepal length (cm)     5.1\n",
            "sepal width (cm)      3.8\n",
            "petal length (cm)     1.5\n",
            "petal width (cm)      0.3\n",
            "label                None\n",
            "Name: 19, dtype: object\n",
            "rekord SETELAH pelabelan:  sepal length (cm)    5.1\n",
            "sepal width (cm)     3.8\n",
            "petal length (cm)    1.5\n",
            "petal width (cm)     0.3\n",
            "label                 C2\n",
            "Name: 19, dtype: object\n",
            "sebelum: [[5.1, 5.1, 5.1, 5.1], [3.8, 3.8, 3.8, 3.8], [1.4, 1.4, 1.4, 1.4]]\n",
            "p[ 1 ] [3.8, 3.8, 3.8, 3.8]\n",
            "sesudah: [[5.1, 5.1, 5.1, 5.1], [3.8, 3.8, 3.8, 3.8], [1.4, 1.4, 1.4, 1.4]]\n",
            "jarak_list= [6.208864630510154, 4.482186966202994, 4.640043103248073]\n",
            "jarak_list[ 1 ] 4.482186966202994\n",
            "min(jarak_list)= 4.482186966202994\n",
            "rekord sebelum pelabelan:  sepal length (cm)     5.4\n",
            "sepal width (cm)      3.4\n",
            "petal length (cm)     1.7\n",
            "petal width (cm)      0.2\n",
            "label                None\n",
            "Name: 20, dtype: object\n",
            "rekord SETELAH pelabelan:  sepal length (cm)    5.4\n",
            "sepal width (cm)     3.4\n",
            "petal length (cm)    1.7\n",
            "petal width (cm)     0.2\n",
            "label                 C2\n",
            "Name: 20, dtype: object\n",
            "sebelum: [[5.1, 5.1, 5.1, 5.1], [3.8, 3.8, 3.8, 3.8], [1.4, 1.4, 1.4, 1.4]]\n",
            "p[ 1 ] [3.4, 3.4, 3.4, 3.4]\n",
            "sesudah: [[5.1, 5.1, 5.1, 5.1], [3.4, 3.4, 3.4, 3.4], [1.4, 1.4, 1.4, 1.4]]\n",
            "jarak_list= [6.083584469702052, 3.9484174044799265, 4.471017781221631]\n",
            "jarak_list[ 1 ] 3.9484174044799265\n",
            "min(jarak_list)= 3.9484174044799265\n",
            "rekord sebelum pelabelan:  sepal length (cm)     5.1\n",
            "sepal width (cm)      3.7\n",
            "petal length (cm)     1.5\n",
            "petal width (cm)      0.4\n",
            "label                None\n",
            "Name: 21, dtype: object\n",
            "rekord SETELAH pelabelan:  sepal length (cm)    5.1\n",
            "sepal width (cm)     3.7\n",
            "petal length (cm)    1.5\n",
            "petal width (cm)     0.4\n",
            "label                 C2\n",
            "Name: 21, dtype: object\n",
            "sebelum: [[5.1, 5.1, 5.1, 5.1], [3.4, 3.4, 3.4, 3.4], [1.4, 1.4, 1.4, 1.4]]\n",
            "p[ 1 ] [3.7, 3.7, 3.7, 3.7]\n",
            "sesudah: [[5.1, 5.1, 5.1, 5.1], [3.7, 3.7, 3.7, 3.7], [1.4, 1.4, 1.4, 1.4]]\n",
            "jarak_list= [6.581793068761733, 4.512205669071391, 4.084115571332427]\n",
            "jarak_list[ 2 ] 4.084115571332427\n",
            "min(jarak_list)= 4.084115571332427\n",
            "rekord sebelum pelabelan:  sepal length (cm)     4.6\n",
            "sepal width (cm)      3.6\n",
            "petal length (cm)     1.0\n",
            "petal width (cm)      0.2\n",
            "label                None\n",
            "Name: 22, dtype: object\n",
            "rekord SETELAH pelabelan:  sepal length (cm)    4.6\n",
            "sepal width (cm)     3.6\n",
            "petal length (cm)    1.0\n",
            "petal width (cm)     0.2\n",
            "label                 C3\n",
            "Name: 22, dtype: object\n",
            "sebelum: [[5.1, 5.1, 5.1, 5.1], [3.7, 3.7, 3.7, 3.7], [1.4, 1.4, 1.4, 1.4]]\n",
            "p[ 2 ] [1.0, 1.0, 1.0, 1.0]\n",
            "sesudah: [[5.1, 5.1, 5.1, 5.1], [3.7, 3.7, 3.7, 3.7], [1.0, 1.0, 1.0, 1.0]]\n",
            "jarak_list= [5.996665740225979, 4.044749683231337, 4.779121258139408]\n",
            "jarak_list[ 1 ] 4.044749683231337\n",
            "min(jarak_list)= 4.044749683231337\n",
            "rekord sebelum pelabelan:  sepal length (cm)     5.1\n",
            "sepal width (cm)      3.3\n",
            "petal length (cm)     1.7\n",
            "petal width (cm)      0.5\n",
            "label                None\n",
            "Name: 23, dtype: object\n",
            "rekord SETELAH pelabelan:  sepal length (cm)    5.1\n",
            "sepal width (cm)     3.3\n",
            "petal length (cm)    1.7\n",
            "petal width (cm)     0.5\n",
            "label                 C2\n",
            "Name: 23, dtype: object\n",
            "sebelum: [[5.1, 5.1, 5.1, 5.1], [3.7, 3.7, 3.7, 3.7], [1.0, 1.0, 1.0, 1.0]]\n",
            "p[ 1 ] [3.3, 3.3, 3.3, 3.3]\n",
            "sesudah: [[5.1, 5.1, 5.1, 5.1], [3.3, 3.3, 3.3, 3.3], [1.0, 1.0, 1.0, 1.0]]\n",
            "jarak_list= [6.101639124038719, 3.71887079635741, 4.652956049652737]\n",
            "jarak_list[ 1 ] 3.71887079635741\n",
            "min(jarak_list)= 3.71887079635741\n",
            "rekord sebelum pelabelan:  sepal length (cm)     4.8\n",
            "sepal width (cm)      3.4\n",
            "petal length (cm)     1.9\n",
            "petal width (cm)      0.2\n",
            "label                None\n",
            "Name: 24, dtype: object\n",
            "rekord SETELAH pelabelan:  sepal length (cm)    4.8\n",
            "sepal width (cm)     3.4\n",
            "petal length (cm)    1.9\n",
            "petal width (cm)     0.2\n",
            "label                 C2\n",
            "Name: 24, dtype: object\n",
            "sebelum: [[5.1, 5.1, 5.1, 5.1], [3.3, 3.3, 3.3, 3.3], [1.0, 1.0, 1.0, 1.0]]\n",
            "p[ 1 ] [3.4, 3.4, 3.4, 3.4]\n",
            "sesudah: [[5.1, 5.1, 5.1, 5.1], [3.4, 3.4, 3.4, 3.4], [1.0, 1.0, 1.0, 1.0]]\n",
            "jarak_list= [6.378087487640789, 4.024922359499621, 4.58257569495584]\n",
            "jarak_list[ 1 ] 4.024922359499621\n",
            "min(jarak_list)= 4.024922359499621\n",
            "rekord sebelum pelabelan:  sepal length (cm)     5.0\n",
            "sepal width (cm)      3.0\n",
            "petal length (cm)     1.6\n",
            "petal width (cm)      0.2\n",
            "label                None\n",
            "Name: 25, dtype: object\n",
            "rekord SETELAH pelabelan:  sepal length (cm)    5.0\n",
            "sepal width (cm)     3.0\n",
            "petal length (cm)    1.6\n",
            "petal width (cm)     0.2\n",
            "label                 C2\n",
            "Name: 25, dtype: object\n",
            "sebelum: [[5.1, 5.1, 5.1, 5.1], [3.4, 3.4, 3.4, 3.4], [1.0, 1.0, 1.0, 1.0]]\n",
            "p[ 1 ] [3.0, 3.0, 3.0, 3.0]\n",
            "sesudah: [[5.1, 5.1, 5.1, 5.1], [3.0, 3.0, 3.0, 3.0], [1.0, 1.0, 1.0, 1.0]]\n",
            "jarak_list= [6.102458520956942, 3.588871688985272, 4.741307836451879]\n",
            "jarak_list[ 1 ] 3.588871688985272\n",
            "min(jarak_list)= 3.588871688985272\n",
            "rekord sebelum pelabelan:  sepal length (cm)     5.0\n",
            "sepal width (cm)      3.4\n",
            "petal length (cm)     1.6\n",
            "petal width (cm)      0.4\n",
            "label                None\n",
            "Name: 26, dtype: object\n",
            "rekord SETELAH pelabelan:  sepal length (cm)    5.0\n",
            "sepal width (cm)     3.4\n",
            "petal length (cm)    1.6\n",
            "petal width (cm)     0.4\n",
            "label                 C2\n",
            "Name: 26, dtype: object\n",
            "sebelum: [[5.1, 5.1, 5.1, 5.1], [3.0, 3.0, 3.0, 3.0], [1.0, 1.0, 1.0, 1.0]]\n",
            "p[ 1 ] [3.4, 3.4, 3.4, 3.4]\n",
            "sesudah: [[5.1, 5.1, 5.1, 5.1], [3.4, 3.4, 3.4, 3.4], [1.0, 1.0, 1.0, 1.0]]\n",
            "jarak_list= [6.288083968904995, 4.135214625627067, 4.9779513858614575]\n",
            "jarak_list[ 1 ] 4.135214625627067\n",
            "min(jarak_list)= 4.135214625627067\n",
            "rekord sebelum pelabelan:  sepal length (cm)     5.2\n",
            "sepal width (cm)      3.5\n",
            "petal length (cm)     1.5\n",
            "petal width (cm)      0.2\n",
            "label                None\n",
            "Name: 27, dtype: object\n",
            "rekord SETELAH pelabelan:  sepal length (cm)    5.2\n",
            "sepal width (cm)     3.5\n",
            "petal length (cm)    1.5\n",
            "petal width (cm)     0.2\n",
            "label                 C2\n",
            "Name: 27, dtype: object\n",
            "sebelum: [[5.1, 5.1, 5.1, 5.1], [3.4, 3.4, 3.4, 3.4], [1.0, 1.0, 1.0, 1.0]]\n",
            "p[ 1 ] [3.5, 3.5, 3.5, 3.5]\n",
            "sesudah: [[5.1, 5.1, 5.1, 5.1], [3.5, 3.5, 3.5, 3.5], [1.0, 1.0, 1.0, 1.0]]\n",
            "jarak_list= [6.371812928829596, 4.266145801540309, 4.919349550499537]\n",
            "jarak_list[ 1 ] 4.266145801540309\n",
            "min(jarak_list)= 4.266145801540309\n",
            "rekord sebelum pelabelan:  sepal length (cm)     5.2\n",
            "sepal width (cm)      3.4\n",
            "petal length (cm)     1.4\n",
            "petal width (cm)      0.2\n",
            "label                None\n",
            "Name: 28, dtype: object\n",
            "rekord SETELAH pelabelan:  sepal length (cm)    5.2\n",
            "sepal width (cm)     3.4\n",
            "petal length (cm)    1.4\n",
            "petal width (cm)     0.2\n",
            "label                 C2\n",
            "Name: 28, dtype: object\n",
            "sebelum: [[5.1, 5.1, 5.1, 5.1], [3.5, 3.5, 3.5, 3.5], [1.0, 1.0, 1.0, 1.0]]\n",
            "p[ 1 ] [3.4, 3.4, 3.4, 3.4]\n",
            "sesudah: [[5.1, 5.1, 5.1, 5.1], [3.4, 3.4, 3.4, 3.4], [1.0, 1.0, 1.0, 1.0]]\n",
            "jarak_list= [6.326926584053271, 3.8999999999999995, 4.419275958796871]\n",
            "jarak_list[ 1 ] 3.8999999999999995\n",
            "min(jarak_list)= 3.8999999999999995\n",
            "rekord sebelum pelabelan:  sepal length (cm)     4.7\n",
            "sepal width (cm)      3.2\n",
            "petal length (cm)     1.6\n",
            "petal width (cm)      0.2\n",
            "label                None\n",
            "Name: 29, dtype: object\n",
            "rekord SETELAH pelabelan:  sepal length (cm)    4.7\n",
            "sepal width (cm)     3.2\n",
            "petal length (cm)    1.6\n",
            "petal width (cm)     0.2\n",
            "label                 C2\n",
            "Name: 29, dtype: object\n",
            "sebelum: [[5.1, 5.1, 5.1, 5.1], [3.4, 3.4, 3.4, 3.4], [1.0, 1.0, 1.0, 1.0]]\n",
            "p[ 1 ] [3.2, 3.2, 3.2, 3.2]\n",
            "sesudah: [[5.1, 5.1, 5.1, 5.1], [3.2, 3.2, 3.2, 3.2], [1.0, 1.0, 1.0, 1.0]]\n",
            "jarak_list= [6.352164985262898, 3.7589892258425004, 4.455333881989093]\n",
            "jarak_list[ 1 ] 3.7589892258425004\n",
            "min(jarak_list)= 3.7589892258425004\n",
            "rekord sebelum pelabelan:  sepal length (cm)     4.8\n",
            "sepal width (cm)      3.1\n",
            "petal length (cm)     1.6\n",
            "petal width (cm)      0.2\n",
            "label                None\n",
            "Name: 30, dtype: object\n",
            "rekord SETELAH pelabelan:  sepal length (cm)    4.8\n",
            "sepal width (cm)     3.1\n",
            "petal length (cm)    1.6\n",
            "petal width (cm)     0.2\n",
            "label                 C2\n",
            "Name: 30, dtype: object\n",
            "sebelum: [[5.1, 5.1, 5.1, 5.1], [3.2, 3.2, 3.2, 3.2], [1.0, 1.0, 1.0, 1.0]]\n",
            "p[ 1 ] [3.1, 3.1, 3.1, 3.1]\n",
            "sesudah: [[5.1, 5.1, 5.1, 5.1], [3.1, 3.1, 3.1, 3.1], [1.0, 1.0, 1.0, 1.0]]\n",
            "jarak_list= [6.166846844214634, 3.9025632602175717, 5.07247474118896]\n",
            "jarak_list[ 1 ] 3.9025632602175717\n",
            "min(jarak_list)= 3.9025632602175717\n",
            "rekord sebelum pelabelan:  sepal length (cm)     5.4\n",
            "sepal width (cm)      3.4\n",
            "petal length (cm)     1.5\n",
            "petal width (cm)      0.4\n",
            "label                None\n",
            "Name: 31, dtype: object\n",
            "rekord SETELAH pelabelan:  sepal length (cm)    5.4\n",
            "sepal width (cm)     3.4\n",
            "petal length (cm)    1.5\n",
            "petal width (cm)     0.4\n",
            "label                 C2\n",
            "Name: 31, dtype: object\n",
            "sebelum: [[5.1, 5.1, 5.1, 5.1], [3.1, 3.1, 3.1, 3.1], [1.0, 1.0, 1.0, 1.0]]\n",
            "p[ 1 ] [3.4, 3.4, 3.4, 3.4]\n",
            "sesudah: [[5.1, 5.1, 5.1, 5.1], [3.4, 3.4, 3.4, 3.4], [1.0, 1.0, 1.0, 1.0]]\n",
            "jarak_list= [6.2425956140054435, 4.2696604080418386, 5.320714237769211]\n",
            "jarak_list[ 1 ] 4.2696604080418386\n",
            "min(jarak_list)= 4.2696604080418386\n",
            "rekord sebelum pelabelan:  sepal length (cm)     5.2\n",
            "sepal width (cm)      4.1\n",
            "petal length (cm)     1.5\n",
            "petal width (cm)      0.1\n",
            "label                None\n",
            "Name: 32, dtype: object\n",
            "rekord SETELAH pelabelan:  sepal length (cm)    5.2\n",
            "sepal width (cm)     4.1\n",
            "petal length (cm)    1.5\n",
            "petal width (cm)     0.1\n",
            "label                 C2\n",
            "Name: 32, dtype: object\n",
            "sebelum: [[5.1, 5.1, 5.1, 5.1], [3.4, 3.4, 3.4, 3.4], [1.0, 1.0, 1.0, 1.0]]\n",
            "p[ 1 ] [4.1, 4.1, 4.1, 4.1]\n",
            "sesudah: [[5.1, 5.1, 5.1, 5.1], [4.1, 4.1, 4.1, 4.1], [1.0, 1.0, 1.0, 1.0]]\n",
            "jarak_list= [6.218520724416699, 4.946716082412654, 5.593746508378799]\n",
            "jarak_list[ 1 ] 4.946716082412654\n",
            "min(jarak_list)= 4.946716082412654\n",
            "rekord sebelum pelabelan:  sepal length (cm)     5.5\n",
            "sepal width (cm)      4.2\n",
            "petal length (cm)     1.4\n",
            "petal width (cm)      0.2\n",
            "label                None\n",
            "Name: 33, dtype: object\n",
            "rekord SETELAH pelabelan:  sepal length (cm)    5.5\n",
            "sepal width (cm)     4.2\n",
            "petal length (cm)    1.4\n",
            "petal width (cm)     0.2\n",
            "label                 C2\n",
            "Name: 33, dtype: object\n",
            "sebelum: [[5.1, 5.1, 5.1, 5.1], [4.1, 4.1, 4.1, 4.1], [1.0, 1.0, 1.0, 1.0]]\n",
            "p[ 1 ] [4.2, 4.2, 4.2, 4.2]\n",
            "sesudah: [[5.1, 5.1, 5.1, 5.1], [4.2, 4.2, 4.2, 4.2], [1.0, 1.0, 1.0, 1.0]]\n",
            "jarak_list= [6.403905058634145, 4.998999899979995, 4.528796749689701]\n",
            "jarak_list[ 2 ] 4.528796749689701\n",
            "min(jarak_list)= 4.528796749689701\n",
            "rekord sebelum pelabelan:  sepal length (cm)     4.9\n",
            "sepal width (cm)      3.1\n",
            "petal length (cm)     1.5\n",
            "petal width (cm)      0.2\n",
            "label                None\n",
            "Name: 34, dtype: object\n",
            "rekord SETELAH pelabelan:  sepal length (cm)    4.9\n",
            "sepal width (cm)     3.1\n",
            "petal length (cm)    1.5\n",
            "petal width (cm)     0.2\n",
            "label                 C3\n",
            "Name: 34, dtype: object\n",
            "sebelum: [[5.1, 5.1, 5.1, 5.1], [4.2, 4.2, 4.2, 4.2], [1.0, 1.0, 1.0, 1.0]]\n",
            "p[ 2 ] [1.5, 1.5, 1.5, 1.5]\n",
            "sesudah: [[5.1, 5.1, 5.1, 5.1], [4.2, 4.2, 4.2, 4.2], [1.5, 1.5, 1.5, 1.5]]\n",
            "jarak_list= [6.545227268781428, 5.1613951602255765, 4.113392760240627]\n",
            "jarak_list[ 2 ] 4.113392760240627\n",
            "min(jarak_list)= 4.113392760240627\n",
            "rekord sebelum pelabelan:  sepal length (cm)     5.0\n",
            "sepal width (cm)      3.2\n",
            "petal length (cm)     1.2\n",
            "petal width (cm)      0.2\n",
            "label                None\n",
            "Name: 35, dtype: object\n",
            "rekord SETELAH pelabelan:  sepal length (cm)    5.0\n",
            "sepal width (cm)     3.2\n",
            "petal length (cm)    1.2\n",
            "petal width (cm)     0.2\n",
            "label                 C3\n",
            "Name: 35, dtype: object\n",
            "sebelum: [[5.1, 5.1, 5.1, 5.1], [4.2, 4.2, 4.2, 4.2], [1.5, 1.5, 1.5, 1.5]]\n",
            "p[ 2 ] [1.2, 1.2, 1.2, 1.2]\n",
            "sesudah: [[5.1, 5.1, 5.1, 5.1], [4.2, 4.2, 4.2, 4.2], [1.2, 1.2, 1.2, 1.2]]\n",
            "jarak_list= [6.416385275215321, 5.1565492337414955, 4.978955713801841]\n",
            "jarak_list[ 2 ] 4.978955713801841\n",
            "min(jarak_list)= 4.978955713801841\n",
            "rekord sebelum pelabelan:  sepal length (cm)     5.5\n",
            "sepal width (cm)      3.5\n",
            "petal length (cm)     1.3\n",
            "petal width (cm)      0.2\n",
            "label                None\n",
            "Name: 36, dtype: object\n",
            "rekord SETELAH pelabelan:  sepal length (cm)    5.5\n",
            "sepal width (cm)     3.5\n",
            "petal length (cm)    1.3\n",
            "petal width (cm)     0.2\n",
            "label                 C3\n",
            "Name: 36, dtype: object\n",
            "sebelum: [[5.1, 5.1, 5.1, 5.1], [4.2, 4.2, 4.2, 4.2], [1.2, 1.2, 1.2, 1.2]]\n",
            "p[ 2 ] [1.3, 1.3, 1.3, 1.3]\n",
            "sesudah: [[5.1, 5.1, 5.1, 5.1], [4.2, 4.2, 4.2, 4.2], [1.3, 1.3, 1.3, 1.3]]\n",
            "jarak_list= [6.4015623093116885, 5.04975246918104, 4.43846820423443]\n",
            "jarak_list[ 2 ] 4.43846820423443\n",
            "min(jarak_list)= 4.43846820423443\n",
            "rekord sebelum pelabelan:  sepal length (cm)     4.9\n",
            "sepal width (cm)      3.6\n",
            "petal length (cm)     1.4\n",
            "petal width (cm)      0.1\n",
            "label                None\n",
            "Name: 37, dtype: object\n",
            "rekord SETELAH pelabelan:  sepal length (cm)    4.9\n",
            "sepal width (cm)     3.6\n",
            "petal length (cm)    1.4\n",
            "petal width (cm)     0.1\n",
            "label                 C3\n",
            "Name: 37, dtype: object\n",
            "sebelum: [[5.1, 5.1, 5.1, 5.1], [4.2, 4.2, 4.2, 4.2], [1.3, 1.3, 1.3, 1.3]]\n",
            "p[ 2 ] [1.4, 1.4, 1.4, 1.4]\n",
            "sesudah: [[5.1, 5.1, 5.1, 5.1], [4.2, 4.2, 4.2, 4.2], [1.4, 1.4, 1.4, 1.4]]\n",
            "jarak_list= [6.5840716885526085, 5.088221693283421, 3.6069377593742873]\n",
            "jarak_list[ 2 ] 3.6069377593742873\n",
            "min(jarak_list)= 3.6069377593742873\n",
            "rekord sebelum pelabelan:  sepal length (cm)     4.4\n",
            "sepal width (cm)      3.0\n",
            "petal length (cm)     1.3\n",
            "petal width (cm)      0.2\n",
            "label                None\n",
            "Name: 38, dtype: object\n",
            "rekord SETELAH pelabelan:  sepal length (cm)    4.4\n",
            "sepal width (cm)     3.0\n",
            "petal length (cm)    1.3\n",
            "petal width (cm)     0.2\n",
            "label                 C3\n",
            "Name: 38, dtype: object\n",
            "sebelum: [[5.1, 5.1, 5.1, 5.1], [4.2, 4.2, 4.2, 4.2], [1.4, 1.4, 1.4, 1.4]]\n",
            "p[ 2 ] [1.3, 1.3, 1.3, 1.3]\n",
            "sesudah: [[5.1, 5.1, 5.1, 5.1], [4.2, 4.2, 4.2, 4.2], [1.3, 1.3, 1.3, 1.3]]\n",
            "jarak_list= [6.313477647065838, 4.973932046178356, 4.483302354291979]\n",
            "jarak_list[ 2 ] 4.483302354291979\n",
            "min(jarak_list)= 4.483302354291979\n",
            "rekord sebelum pelabelan:  sepal length (cm)     5.1\n",
            "sepal width (cm)      3.4\n",
            "petal length (cm)     1.5\n",
            "petal width (cm)      0.2\n",
            "label                None\n",
            "Name: 39, dtype: object\n",
            "rekord SETELAH pelabelan:  sepal length (cm)    5.1\n",
            "sepal width (cm)     3.4\n",
            "petal length (cm)    1.5\n",
            "petal width (cm)     0.2\n",
            "label                 C3\n",
            "Name: 39, dtype: object\n",
            "sebelum: [[5.1, 5.1, 5.1, 5.1], [4.2, 4.2, 4.2, 4.2], [1.3, 1.3, 1.3, 1.3]]\n",
            "p[ 2 ] [1.5, 1.5, 1.5, 1.5]\n",
            "sesudah: [[5.1, 5.1, 5.1, 5.1], [4.2, 4.2, 4.2, 4.2], [1.5, 1.5, 1.5, 1.5]]\n",
            "jarak_list= [6.328506932918696, 4.974937185533101, 4.21070065428546]\n",
            "jarak_list[ 2 ] 4.21070065428546\n",
            "min(jarak_list)= 4.21070065428546\n",
            "rekord sebelum pelabelan:  sepal length (cm)     5.0\n",
            "sepal width (cm)      3.5\n",
            "petal length (cm)     1.3\n",
            "petal width (cm)      0.3\n",
            "label                None\n",
            "Name: 40, dtype: object\n",
            "rekord SETELAH pelabelan:  sepal length (cm)    5.0\n",
            "sepal width (cm)     3.5\n",
            "petal length (cm)    1.3\n",
            "petal width (cm)     0.3\n",
            "label                 C3\n",
            "Name: 40, dtype: object\n",
            "sebelum: [[5.1, 5.1, 5.1, 5.1], [4.2, 4.2, 4.2, 4.2], [1.5, 1.5, 1.5, 1.5]]\n",
            "p[ 2 ] [1.3, 1.3, 1.3, 1.3]\n",
            "sesudah: [[5.1, 5.1, 5.1, 5.1], [4.2, 4.2, 4.2, 4.2], [1.3, 1.3, 1.3, 1.3]]\n",
            "jarak_list= [6.75869809948632, 5.226853738148793, 3.4985711369071804]\n",
            "jarak_list[ 2 ] 3.4985711369071804\n",
            "min(jarak_list)= 3.4985711369071804\n",
            "rekord sebelum pelabelan:  sepal length (cm)     4.5\n",
            "sepal width (cm)      2.3\n",
            "petal length (cm)     1.3\n",
            "petal width (cm)      0.3\n",
            "label                None\n",
            "Name: 41, dtype: object\n",
            "rekord SETELAH pelabelan:  sepal length (cm)    4.5\n",
            "sepal width (cm)     2.3\n",
            "petal length (cm)    1.3\n",
            "petal width (cm)     0.3\n",
            "label                 C3\n",
            "Name: 41, dtype: object\n",
            "sebelum: [[5.1, 5.1, 5.1, 5.1], [4.2, 4.2, 4.2, 4.2], [1.3, 1.3, 1.3, 1.3]]\n",
            "p[ 2 ] [1.3, 1.3, 1.3, 1.3]\n",
            "sesudah: [[5.1, 5.1, 5.1, 5.1], [4.2, 4.2, 4.2, 4.2], [1.3, 1.3, 1.3, 1.3]]\n",
            "jarak_list= [6.523036102920172, 5.044799302251776, 3.798683982644516]\n",
            "jarak_list[ 2 ] 3.798683982644516\n",
            "min(jarak_list)= 3.798683982644516\n",
            "rekord sebelum pelabelan:  sepal length (cm)     4.4\n",
            "sepal width (cm)      3.2\n",
            "petal length (cm)     1.3\n",
            "petal width (cm)      0.2\n",
            "label                None\n",
            "Name: 42, dtype: object\n",
            "rekord SETELAH pelabelan:  sepal length (cm)    4.4\n",
            "sepal width (cm)     3.2\n",
            "petal length (cm)    1.3\n",
            "petal width (cm)     0.2\n",
            "label                 C3\n",
            "Name: 42, dtype: object\n",
            "sebelum: [[5.1, 5.1, 5.1, 5.1], [4.2, 4.2, 4.2, 4.2], [1.3, 1.3, 1.3, 1.3]]\n",
            "p[ 2 ] [1.3, 1.3, 1.3, 1.3]\n",
            "sesudah: [[5.1, 5.1, 5.1, 5.1], [4.2, 4.2, 4.2, 4.2], [1.3, 1.3, 1.3, 1.3]]\n",
            "jarak_list= [5.832666628567074, 4.54972526643093, 4.675467891024383]\n",
            "jarak_list[ 1 ] 4.54972526643093\n",
            "min(jarak_list)= 4.54972526643093\n",
            "rekord sebelum pelabelan:  sepal length (cm)     5.1\n",
            "sepal width (cm)      3.8\n",
            "petal length (cm)     1.9\n",
            "petal width (cm)      0.4\n",
            "label                None\n",
            "Name: 44, dtype: object\n",
            "rekord SETELAH pelabelan:  sepal length (cm)    5.1\n",
            "sepal width (cm)     3.8\n",
            "petal length (cm)    1.9\n",
            "petal width (cm)     0.4\n",
            "label                 C2\n",
            "Name: 44, dtype: object\n",
            "sebelum: [[5.1, 5.1, 5.1, 5.1], [4.2, 4.2, 4.2, 4.2], [1.3, 1.3, 1.3, 1.3]]\n",
            "p[ 1 ] [3.8, 3.8, 3.8, 3.8]\n",
            "sesudah: [[5.1, 5.1, 5.1, 5.1], [3.8, 3.8, 3.8, 3.8], [1.3, 1.3, 1.3, 1.3]]\n",
            "jarak_list= [6.4210591026714585, 4.4328320518603, 4.018706259482023]\n",
            "jarak_list[ 2 ] 4.018706259482023\n",
            "min(jarak_list)= 4.018706259482023\n",
            "rekord sebelum pelabelan:  sepal length (cm)     4.8\n",
            "sepal width (cm)      3.0\n",
            "petal length (cm)     1.4\n",
            "petal width (cm)      0.3\n",
            "label                None\n",
            "Name: 45, dtype: object\n",
            "rekord SETELAH pelabelan:  sepal length (cm)    4.8\n",
            "sepal width (cm)     3.0\n",
            "petal length (cm)    1.4\n",
            "petal width (cm)     0.3\n",
            "label                 C3\n",
            "Name: 45, dtype: object\n",
            "sebelum: [[5.1, 5.1, 5.1, 5.1], [3.8, 3.8, 3.8, 3.8], [1.3, 1.3, 1.3, 1.3]]\n",
            "p[ 2 ] [1.4, 1.4, 1.4, 1.4]\n",
            "sesudah: [[5.1, 5.1, 5.1, 5.1], [3.8, 3.8, 3.8, 3.8], [1.4, 1.4, 1.4, 1.4]]\n",
            "jarak_list= [6.160357132504575, 4.414748010928823, 4.574931693479149]\n",
            "jarak_list[ 1 ] 4.414748010928823\n",
            "min(jarak_list)= 4.414748010928823\n",
            "rekord sebelum pelabelan:  sepal length (cm)     5.1\n",
            "sepal width (cm)      3.8\n",
            "petal length (cm)     1.6\n",
            "petal width (cm)      0.2\n",
            "label                None\n",
            "Name: 46, dtype: object\n",
            "rekord SETELAH pelabelan:  sepal length (cm)    5.1\n",
            "sepal width (cm)     3.8\n",
            "petal length (cm)    1.6\n",
            "petal width (cm)     0.2\n",
            "label                 C2\n",
            "Name: 46, dtype: object\n",
            "sebelum: [[5.1, 5.1, 5.1, 5.1], [3.8, 3.8, 3.8, 3.8], [1.4, 1.4, 1.4, 1.4]]\n",
            "p[ 1 ] [3.8, 3.8, 3.8, 3.8]\n",
            "sesudah: [[5.1, 5.1, 5.1, 5.1], [3.8, 3.8, 3.8, 3.8], [1.4, 1.4, 1.4, 1.4]]\n",
            "jarak_list= [6.446704584514478, 4.440720662234903, 3.862641583165593]\n",
            "jarak_list[ 2 ] 3.862641583165593\n",
            "min(jarak_list)= 3.862641583165593\n",
            "rekord sebelum pelabelan:  sepal length (cm)     4.6\n",
            "sepal width (cm)      3.2\n",
            "petal length (cm)     1.4\n",
            "petal width (cm)      0.2\n",
            "label                None\n",
            "Name: 47, dtype: object\n",
            "rekord SETELAH pelabelan:  sepal length (cm)    4.6\n",
            "sepal width (cm)     3.2\n",
            "petal length (cm)    1.4\n",
            "petal width (cm)     0.2\n",
            "label                 C3\n",
            "Name: 47, dtype: object\n",
            "sebelum: [[5.1, 5.1, 5.1, 5.1], [3.8, 3.8, 3.8, 3.8], [1.4, 1.4, 1.4, 1.4]]\n",
            "p[ 2 ] [1.4, 1.4, 1.4, 1.4]\n",
            "sesudah: [[5.1, 5.1, 5.1, 5.1], [3.8, 3.8, 3.8, 3.8], [1.4, 1.4, 1.4, 1.4]]\n",
            "jarak_list= [6.242595614005443, 4.5287967496897, 4.685082710048992]\n",
            "jarak_list[ 1 ] 4.5287967496897\n",
            "min(jarak_list)= 4.5287967496897\n",
            "rekord sebelum pelabelan:  sepal length (cm)     5.3\n",
            "sepal width (cm)      3.7\n",
            "petal length (cm)     1.5\n",
            "petal width (cm)      0.2\n",
            "label                None\n",
            "Name: 48, dtype: object\n",
            "rekord SETELAH pelabelan:  sepal length (cm)    5.3\n",
            "sepal width (cm)     3.7\n",
            "petal length (cm)    1.5\n",
            "petal width (cm)     0.2\n",
            "label                 C2\n",
            "Name: 48, dtype: object\n",
            "sebelum: [[5.1, 5.1, 5.1, 5.1], [3.8, 3.8, 3.8, 3.8], [1.4, 1.4, 1.4, 1.4]]\n",
            "p[ 1 ] [3.7, 3.7, 3.7, 3.7]\n",
            "sesudah: [[5.1, 5.1, 5.1, 5.1], [3.7, 3.7, 3.7, 3.7], [1.4, 1.4, 1.4, 1.4]]\n",
            "jarak_list= [4.5902069670114, 4.174925149029621, 6.744627491566899]\n",
            "jarak_list[ 1 ] 4.174925149029621\n",
            "min(jarak_list)= 4.174925149029621\n",
            "rekord sebelum pelabelan:  sepal length (cm)     7.0\n",
            "sepal width (cm)      3.2\n",
            "petal length (cm)     4.7\n",
            "petal width (cm)      1.4\n",
            "label                None\n",
            "Name: 50, dtype: object\n",
            "rekord SETELAH pelabelan:  sepal length (cm)    7.0\n",
            "sepal width (cm)     3.2\n",
            "petal length (cm)    4.7\n",
            "petal width (cm)     1.4\n",
            "label                 C2\n",
            "Name: 50, dtype: object\n",
            "sebelum: [[5.1, 5.1, 5.1, 5.1], [3.7, 3.7, 3.7, 3.7], [1.4, 1.4, 1.4, 1.4]]\n",
            "p[ 1 ] [3.2, 3.2, 3.2, 3.2]\n",
            "sesudah: [[5.1, 5.1, 5.1, 5.1], [3.2, 3.2, 3.2, 3.2], [1.4, 1.4, 1.4, 1.4]]\n",
            "jarak_list= [4.315089802078283, 3.849675310984032, 6.153048025166064]\n",
            "jarak_list[ 1 ] 3.849675310984032\n",
            "min(jarak_list)= 3.849675310984032\n",
            "rekord sebelum pelabelan:  sepal length (cm)     6.4\n",
            "sepal width (cm)      3.2\n",
            "petal length (cm)     4.5\n",
            "petal width (cm)      1.5\n",
            "label                None\n",
            "Name: 51, dtype: object\n",
            "rekord SETELAH pelabelan:  sepal length (cm)    6.4\n",
            "sepal width (cm)     3.2\n",
            "petal length (cm)    4.5\n",
            "petal width (cm)     1.5\n",
            "label                 C2\n",
            "Name: 51, dtype: object\n",
            "sebelum: [[5.1, 5.1, 5.1, 5.1], [3.2, 3.2, 3.2, 3.2], [1.4, 1.4, 1.4, 1.4]]\n",
            "p[ 1 ] [3.2, 3.2, 3.2, 3.2]\n",
            "sesudah: [[5.1, 5.1, 5.1, 5.1], [3.2, 3.2, 3.2, 3.2], [1.4, 1.4, 1.4, 1.4]]\n",
            "jarak_list= [4.498888751680797, 4.4136152981427825, 6.7379522111692065]\n",
            "jarak_list[ 1 ] 4.4136152981427825\n",
            "min(jarak_list)= 4.4136152981427825\n",
            "rekord sebelum pelabelan:  sepal length (cm)     6.9\n",
            "sepal width (cm)      3.1\n",
            "petal length (cm)     4.9\n",
            "petal width (cm)      1.5\n",
            "label                None\n",
            "Name: 52, dtype: object\n",
            "rekord SETELAH pelabelan:  sepal length (cm)    6.9\n",
            "sepal width (cm)     3.1\n",
            "petal length (cm)    4.9\n",
            "petal width (cm)     1.5\n",
            "label                 C2\n",
            "Name: 52, dtype: object\n",
            "sebelum: [[5.1, 5.1, 5.1, 5.1], [3.2, 3.2, 3.2, 3.2], [1.4, 1.4, 1.4, 1.4]]\n",
            "p[ 1 ] [3.1, 3.1, 3.1, 3.1]\n",
            "sesudah: [[5.1, 5.1, 5.1, 5.1], [3.1, 3.1, 3.1, 3.1], [1.4, 1.4, 1.4, 1.4]]\n",
            "jarak_list= [4.863126566315131, 3.2326459750489227, 4.938623289946299]\n",
            "jarak_list[ 1 ] 3.2326459750489227\n",
            "min(jarak_list)= 3.2326459750489227\n",
            "rekord sebelum pelabelan:  sepal length (cm)     5.5\n",
            "sepal width (cm)      2.3\n",
            "petal length (cm)     4.0\n",
            "petal width (cm)      1.3\n",
            "label                None\n",
            "Name: 53, dtype: object\n",
            "rekord SETELAH pelabelan:  sepal length (cm)    5.5\n",
            "sepal width (cm)     2.3\n",
            "petal length (cm)    4.0\n",
            "petal width (cm)     1.3\n",
            "label                 C2\n",
            "Name: 53, dtype: object\n",
            "sebelum: [[5.1, 5.1, 5.1, 5.1], [3.1, 3.1, 3.1, 3.1], [1.4, 1.4, 1.4, 1.4]]\n",
            "p[ 1 ] [2.3, 2.3, 2.3, 2.3]\n",
            "sesudah: [[5.1, 5.1, 5.1, 5.1], [2.3, 2.3, 2.3, 2.3], [1.4, 1.4, 1.4, 1.4]]\n",
            "jarak_list= [4.523273151159456, 4.880573736764972, 6.182232606429492]\n",
            "jarak_list[ 0 ] 4.523273151159456\n",
            "min(jarak_list)= 4.523273151159456\n",
            "rekord sebelum pelabelan:  sepal length (cm)     6.5\n",
            "sepal width (cm)      2.8\n",
            "petal length (cm)     4.6\n",
            "petal width (cm)      1.5\n",
            "label                None\n",
            "Name: 54, dtype: object\n",
            "rekord SETELAH pelabelan:  sepal length (cm)    6.5\n",
            "sepal width (cm)     2.8\n",
            "petal length (cm)    4.6\n",
            "petal width (cm)     1.5\n",
            "label                 C1\n",
            "Name: 54, dtype: object\n",
            "sebelum: [[5.1, 5.1, 5.1, 5.1], [2.3, 2.3, 2.3, 2.3], [1.4, 1.4, 1.4, 1.4]]\n",
            "p[ 0 ] [6.5, 6.5, 6.5, 6.5]\n",
            "sesudah: [[6.5, 6.5, 6.5, 6.5], [2.3, 2.3, 2.3, 2.3], [1.4, 1.4, 1.4, 1.4]]\n",
            "jarak_list= [6.735725647619565, 4.201190307520001, 5.483611948342079]\n",
            "jarak_list[ 1 ] 4.201190307520001\n",
            "min(jarak_list)= 4.201190307520001\n",
            "rekord sebelum pelabelan:  sepal length (cm)     5.7\n",
            "sepal width (cm)      2.8\n",
            "petal length (cm)     4.5\n",
            "petal width (cm)      1.3\n",
            "label                None\n",
            "Name: 55, dtype: object\n",
            "rekord SETELAH pelabelan:  sepal length (cm)    5.7\n",
            "sepal width (cm)     2.8\n",
            "petal length (cm)    4.5\n",
            "petal width (cm)     1.3\n",
            "label                 C2\n",
            "Name: 55, dtype: object\n",
            "sebelum: [[6.5, 6.5, 6.5, 6.5], [2.3, 2.3, 2.3, 2.3], [1.4, 1.4, 1.4, 1.4]]\n",
            "p[ 1 ] [2.8, 2.8, 2.8, 2.8]\n",
            "sesudah: [[6.5, 6.5, 6.5, 6.5], [2.8, 2.8, 2.8, 2.8], [1.4, 1.4, 1.4, 1.4]]\n",
            "jarak_list= [6.126173356998642, 4.189272013130682, 6.208864630510155]\n",
            "jarak_list[ 1 ] 4.189272013130682\n",
            "min(jarak_list)= 4.189272013130682\n",
            "rekord sebelum pelabelan:  sepal length (cm)     6.3\n",
            "sepal width (cm)      3.3\n",
            "petal length (cm)     4.7\n",
            "petal width (cm)      1.6\n",
            "label                None\n",
            "Name: 56, dtype: object\n",
            "rekord SETELAH pelabelan:  sepal length (cm)    6.3\n",
            "sepal width (cm)     3.3\n",
            "petal length (cm)    4.7\n",
            "petal width (cm)     1.6\n",
            "label                 C2\n",
            "Name: 56, dtype: object\n",
            "sebelum: [[6.5, 6.5, 6.5, 6.5], [2.8, 2.8, 2.8, 2.8], [1.4, 1.4, 1.4, 1.4]]\n",
            "p[ 1 ] [3.3, 3.3, 3.3, 3.3]\n",
            "sesudah: [[6.5, 6.5, 6.5, 6.5], [3.3, 3.3, 3.3, 3.3], [1.4, 1.4, 1.4, 1.4]]\n",
            "jarak_list= [7.73692445355388, 2.9427877939124323, 4.125530268947254]\n",
            "jarak_list[ 1 ] 2.9427877939124323\n",
            "min(jarak_list)= 2.9427877939124323\n",
            "rekord sebelum pelabelan:  sepal length (cm)     4.9\n",
            "sepal width (cm)      2.4\n",
            "petal length (cm)     3.3\n",
            "petal width (cm)      1.0\n",
            "label                None\n",
            "Name: 57, dtype: object\n",
            "rekord SETELAH pelabelan:  sepal length (cm)    4.9\n",
            "sepal width (cm)     2.4\n",
            "petal length (cm)    3.3\n",
            "petal width (cm)     1.0\n",
            "label                 C2\n",
            "Name: 57, dtype: object\n",
            "sebelum: [[6.5, 6.5, 6.5, 6.5], [3.3, 3.3, 3.3, 3.3], [1.4, 1.4, 1.4, 1.4]]\n",
            "p[ 1 ] [2.4, 2.4, 2.4, 2.4]\n",
            "sesudah: [[6.5, 6.5, 6.5, 6.5], [2.4, 2.4, 2.4, 2.4], [1.4, 1.4, 1.4, 1.4]]\n",
            "jarak_list= [6.604543890383348, 4.8928519290900265, 6.288083968904994]\n",
            "jarak_list[ 1 ] 4.8928519290900265\n",
            "min(jarak_list)= 4.8928519290900265\n",
            "rekord sebelum pelabelan:  sepal length (cm)     6.6\n",
            "sepal width (cm)      2.9\n",
            "petal length (cm)     4.6\n",
            "petal width (cm)      1.3\n",
            "label                None\n",
            "Name: 58, dtype: object\n",
            "rekord SETELAH pelabelan:  sepal length (cm)    6.6\n",
            "sepal width (cm)     2.9\n",
            "petal length (cm)    4.6\n",
            "petal width (cm)     1.3\n",
            "label                 C2\n",
            "Name: 58, dtype: object\n",
            "sebelum: [[6.5, 6.5, 6.5, 6.5], [2.4, 2.4, 2.4, 2.4], [1.4, 1.4, 1.4, 1.4]]\n",
            "p[ 1 ] [2.9, 2.9, 2.9, 2.9]\n",
            "sesudah: [[6.5, 6.5, 6.5, 6.5], [2.9, 2.9, 2.9, 2.9], [1.4, 1.4, 1.4, 1.4]]\n",
            "jarak_list= [6.992853494818835, 2.9291637031753623, 4.730750469005948]\n",
            "jarak_list[ 1 ] 2.9291637031753623\n",
            "min(jarak_list)= 2.9291637031753623\n",
            "rekord sebelum pelabelan:  sepal length (cm)     5.2\n",
            "sepal width (cm)      2.7\n",
            "petal length (cm)     3.9\n",
            "petal width (cm)      1.4\n",
            "label                None\n",
            "Name: 59, dtype: object\n",
            "rekord SETELAH pelabelan:  sepal length (cm)    5.2\n",
            "sepal width (cm)     2.7\n",
            "petal length (cm)    3.9\n",
            "petal width (cm)     1.4\n",
            "label                 C2\n",
            "Name: 59, dtype: object\n",
            "sebelum: [[6.5, 6.5, 6.5, 6.5], [2.9, 2.9, 2.9, 2.9], [1.4, 1.4, 1.4, 1.4]]\n",
            "p[ 1 ] [2.7, 2.7, 2.7, 2.7]\n",
            "sesudah: [[6.5, 6.5, 6.5, 6.5], [2.7, 2.7, 2.7, 2.7], [1.4, 1.4, 1.4, 1.4]]\n",
            "jarak_list= [7.858116822750856, 3.0512292604784714, 4.2296571965113205]\n",
            "jarak_list[ 1 ] 3.0512292604784714\n",
            "min(jarak_list)= 3.0512292604784714\n",
            "rekord sebelum pelabelan:  sepal length (cm)     5.0\n",
            "sepal width (cm)      2.0\n",
            "petal length (cm)     3.5\n",
            "petal width (cm)      1.0\n",
            "label                None\n",
            "Name: 60, dtype: object\n",
            "rekord SETELAH pelabelan:  sepal length (cm)    5.0\n",
            "sepal width (cm)     2.0\n",
            "petal length (cm)    3.5\n",
            "petal width (cm)     1.0\n",
            "label                 C2\n",
            "Name: 60, dtype: object\n",
            "sebelum: [[6.5, 6.5, 6.5, 6.5], [2.7, 2.7, 2.7, 2.7], [1.4, 1.4, 1.4, 1.4]]\n",
            "p[ 1 ] [2.0, 2.0, 2.0, 2.0]\n",
            "sesudah: [[6.5, 6.5, 6.5, 6.5], [2.0, 2.0, 2.0, 2.0], [1.4, 1.4, 1.4, 1.4]]\n",
            "jarak_list= [6.549809157525126, 4.61519230368573, 5.537147279962852]\n",
            "jarak_list[ 1 ] 4.61519230368573\n",
            "min(jarak_list)= 4.61519230368573\n",
            "rekord sebelum pelabelan:  sepal length (cm)     5.9\n",
            "sepal width (cm)      3.0\n",
            "petal length (cm)     4.2\n",
            "petal width (cm)      1.5\n",
            "label                None\n",
            "Name: 61, dtype: object\n",
            "rekord SETELAH pelabelan:  sepal length (cm)    5.9\n",
            "sepal width (cm)     3.0\n",
            "petal length (cm)    4.2\n",
            "petal width (cm)     1.5\n",
            "label                 C2\n",
            "Name: 61, dtype: object\n",
            "sebelum: [[6.5, 6.5, 6.5, 6.5], [2.0, 2.0, 2.0, 2.0], [1.4, 1.4, 1.4, 1.4]]\n",
            "p[ 1 ] [3.0, 3.0, 3.0, 3.0]\n",
            "sesudah: [[6.5, 6.5, 6.5, 6.5], [3.0, 3.0, 3.0, 3.0], [1.4, 1.4, 1.4, 1.4]]\n",
            "jarak_list= [7.432361670424818, 3.8262252939417984, 5.359104402789705]\n",
            "jarak_list[ 1 ] 3.8262252939417984\n",
            "min(jarak_list)= 3.8262252939417984\n",
            "rekord sebelum pelabelan:  sepal length (cm)     6.0\n",
            "sepal width (cm)      2.2\n",
            "petal length (cm)     4.0\n",
            "petal width (cm)      1.0\n",
            "label                None\n",
            "Name: 62, dtype: object\n",
            "rekord SETELAH pelabelan:  sepal length (cm)    6.0\n",
            "sepal width (cm)     2.2\n",
            "petal length (cm)    4.0\n",
            "petal width (cm)     1.0\n",
            "label                 C2\n",
            "Name: 62, dtype: object\n",
            "sebelum: [[6.5, 6.5, 6.5, 6.5], [3.0, 3.0, 3.0, 3.0], [1.4, 1.4, 1.4, 1.4]]\n",
            "p[ 1 ] [2.2, 2.2, 2.2, 2.2]\n",
            "sesudah: [[6.5, 6.5, 6.5, 6.5], [2.2, 2.2, 2.2, 2.2], [1.4, 1.4, 1.4, 1.4]]\n",
            "jarak_list= [6.509224224129938, 4.752893855326457, 5.935486500700679]\n",
            "jarak_list[ 1 ] 4.752893855326457\n",
            "min(jarak_list)= 4.752893855326457\n",
            "rekord sebelum pelabelan:  sepal length (cm)     6.1\n",
            "sepal width (cm)      2.9\n",
            "petal length (cm)     4.7\n",
            "petal width (cm)      1.4\n",
            "label                None\n",
            "Name: 63, dtype: object\n",
            "rekord SETELAH pelabelan:  sepal length (cm)    6.1\n",
            "sepal width (cm)     2.9\n",
            "petal length (cm)    4.7\n",
            "petal width (cm)     1.4\n",
            "label                 C2\n",
            "Name: 63, dtype: object\n",
            "sebelum: [[6.5, 6.5, 6.5, 6.5], [2.2, 2.2, 2.2, 2.2], [1.4, 1.4, 1.4, 1.4]]\n",
            "p[ 1 ] [2.9, 2.9, 2.9, 2.9]\n",
            "sesudah: [[6.5, 6.5, 6.5, 6.5], [2.9, 2.9, 2.9, 2.9], [1.4, 1.4, 1.4, 1.4]]\n",
            "jarak_list= [7.0156966867161525, 3.215587038162705, 4.973932046178355]\n",
            "jarak_list[ 1 ] 3.215587038162705\n",
            "min(jarak_list)= 3.215587038162705\n",
            "rekord sebelum pelabelan:  sepal length (cm)     5.6\n",
            "sepal width (cm)      2.9\n",
            "petal length (cm)     3.6\n",
            "petal width (cm)      1.3\n",
            "label                None\n",
            "Name: 64, dtype: object\n",
            "rekord SETELAH pelabelan:  sepal length (cm)    5.6\n",
            "sepal width (cm)     2.9\n",
            "petal length (cm)    3.6\n",
            "petal width (cm)     1.3\n",
            "label                 C2\n",
            "Name: 64, dtype: object\n",
            "sebelum: [[6.5, 6.5, 6.5, 6.5], [2.9, 2.9, 2.9, 2.9], [1.4, 1.4, 1.4, 1.4]]\n",
            "p[ 1 ] [2.9, 2.9, 2.9, 2.9]\n",
            "sesudah: [[6.5, 6.5, 6.5, 6.5], [2.9, 2.9, 2.9, 2.9], [1.4, 1.4, 1.4, 1.4]]\n",
            "jarak_list= [6.48228354825674, 4.356604182158393, 6.3229739838148955]\n",
            "jarak_list[ 1 ] 4.356604182158393\n",
            "min(jarak_list)= 4.356604182158393\n",
            "rekord sebelum pelabelan:  sepal length (cm)     6.7\n",
            "sepal width (cm)      3.1\n",
            "petal length (cm)     4.4\n",
            "petal width (cm)      1.4\n",
            "label                None\n",
            "Name: 65, dtype: object\n",
            "rekord SETELAH pelabelan:  sepal length (cm)    6.7\n",
            "sepal width (cm)     3.1\n",
            "petal length (cm)    4.4\n",
            "petal width (cm)     1.4\n",
            "label                 C2\n",
            "Name: 65, dtype: object\n",
            "sebelum: [[6.5, 6.5, 6.5, 6.5], [2.9, 2.9, 2.9, 2.9], [1.4, 1.4, 1.4, 1.4]]\n",
            "p[ 1 ] [3.1, 3.1, 3.1, 3.1]\n",
            "sesudah: [[6.5, 6.5, 6.5, 6.5], [3.1, 3.1, 3.1, 3.1], [1.4, 1.4, 1.4, 1.4]]\n",
            "jarak_list= [6.485368146836385, 3.2832910318764004, 5.460769176590419]\n",
            "jarak_list[ 1 ] 3.2832910318764004\n",
            "min(jarak_list)= 3.2832910318764004\n",
            "rekord sebelum pelabelan:  sepal length (cm)     5.6\n",
            "sepal width (cm)      3.0\n",
            "petal length (cm)     4.5\n",
            "petal width (cm)      1.5\n",
            "label                None\n",
            "Name: 66, dtype: object\n",
            "rekord SETELAH pelabelan:  sepal length (cm)    5.6\n",
            "sepal width (cm)     3.0\n",
            "petal length (cm)    4.5\n",
            "petal width (cm)     1.5\n",
            "label                 C2\n",
            "Name: 66, dtype: object\n",
            "sebelum: [[6.5, 6.5, 6.5, 6.5], [3.1, 3.1, 3.1, 3.1], [1.4, 1.4, 1.4, 1.4]]\n",
            "p[ 1 ] [3.0, 3.0, 3.0, 3.0]\n",
            "sesudah: [[6.5, 6.5, 6.5, 6.5], [3.0, 3.0, 3.0, 3.0], [1.4, 1.4, 1.4, 1.4]]\n",
            "jarak_list= [7.137226352022191, 3.6249137920783716, 5.338539126015656]\n",
            "jarak_list[ 1 ] 3.6249137920783716\n",
            "min(jarak_list)= 3.6249137920783716\n",
            "rekord sebelum pelabelan:  sepal length (cm)     5.8\n",
            "sepal width (cm)      2.7\n",
            "petal length (cm)     4.1\n",
            "petal width (cm)      1.0\n",
            "label                None\n",
            "Name: 67, dtype: object\n",
            "rekord SETELAH pelabelan:  sepal length (cm)    5.8\n",
            "sepal width (cm)     2.7\n",
            "petal length (cm)    4.1\n",
            "petal width (cm)     1.0\n",
            "label                 C2\n",
            "Name: 67, dtype: object\n",
            "sebelum: [[6.5, 6.5, 6.5, 6.5], [3.0, 3.0, 3.0, 3.0], [1.4, 1.4, 1.4, 1.4]]\n",
            "p[ 1 ] [2.7, 2.7, 2.7, 2.7]\n",
            "sesudah: [[6.5, 6.5, 6.5, 6.5], [2.7, 2.7, 2.7, 2.7], [1.4, 1.4, 1.4, 1.4]]\n",
            "jarak_list= [6.897825744392214, 4.144876355212541, 5.770615218501404]\n",
            "jarak_list[ 1 ] 4.144876355212541\n",
            "min(jarak_list)= 4.144876355212541\n",
            "rekord sebelum pelabelan:  sepal length (cm)     6.2\n",
            "sepal width (cm)      2.2\n",
            "petal length (cm)     4.5\n",
            "petal width (cm)      1.5\n",
            "label                None\n",
            "Name: 68, dtype: object\n",
            "rekord SETELAH pelabelan:  sepal length (cm)    6.2\n",
            "sepal width (cm)     2.2\n",
            "petal length (cm)    4.5\n",
            "petal width (cm)     1.5\n",
            "label                 C2\n",
            "Name: 68, dtype: object\n",
            "sebelum: [[6.5, 6.5, 6.5, 6.5], [2.7, 2.7, 2.7, 2.7], [1.4, 1.4, 1.4, 1.4]]\n",
            "p[ 1 ] [2.2, 2.2, 2.2, 2.2]\n",
            "sesudah: [[6.5, 6.5, 6.5, 6.5], [2.2, 2.2, 2.2, 2.2], [1.4, 1.4, 1.4, 1.4]]\n",
            "jarak_list= [7.261542535852834, 3.9686269665968856, 5.018964036531841]\n",
            "jarak_list[ 1 ] 3.9686269665968856\n",
            "min(jarak_list)= 3.9686269665968856\n",
            "rekord sebelum pelabelan:  sepal length (cm)     5.6\n",
            "sepal width (cm)      2.5\n",
            "petal length (cm)     3.9\n",
            "petal width (cm)      1.1\n",
            "label                None\n",
            "Name: 69, dtype: object\n",
            "rekord SETELAH pelabelan:  sepal length (cm)    5.6\n",
            "sepal width (cm)     2.5\n",
            "petal length (cm)    3.9\n",
            "petal width (cm)     1.1\n",
            "label                 C2\n",
            "Name: 69, dtype: object\n",
            "sebelum: [[6.5, 6.5, 6.5, 6.5], [2.2, 2.2, 2.2, 2.2], [1.4, 1.4, 1.4, 1.4]]\n",
            "p[ 1 ] [2.5, 2.5, 2.5, 2.5]\n",
            "sesudah: [[6.5, 6.5, 6.5, 6.5], [2.5, 2.5, 2.5, 2.5], [1.4, 1.4, 1.4, 1.4]]\n",
            "jarak_list= [6.019136150644875, 4.222558466143483, 5.933801479658718]\n",
            "jarak_list[ 1 ] 4.222558466143483\n",
            "min(jarak_list)= 4.222558466143483\n",
            "rekord sebelum pelabelan:  sepal length (cm)     5.9\n",
            "sepal width (cm)      3.2\n",
            "petal length (cm)     4.8\n",
            "petal width (cm)      1.8\n",
            "label                None\n",
            "Name: 70, dtype: object\n",
            "rekord SETELAH pelabelan:  sepal length (cm)    5.9\n",
            "sepal width (cm)     3.2\n",
            "petal length (cm)    4.8\n",
            "petal width (cm)     1.8\n",
            "label                 C2\n",
            "Name: 70, dtype: object\n",
            "sebelum: [[6.5, 6.5, 6.5, 6.5], [2.5, 2.5, 2.5, 2.5], [1.4, 1.4, 1.4, 1.4]]\n",
            "p[ 1 ] [3.2, 3.2, 3.2, 3.2]\n",
            "sesudah: [[6.5, 6.5, 6.5, 6.5], [3.2, 3.2, 3.2, 3.2], [1.4, 1.4, 1.4, 1.4]]\n",
            "jarak_list= [6.865857557508749, 3.5805027579936306, 5.551576352712804]\n",
            "jarak_list[ 1 ] 3.5805027579936306\n",
            "min(jarak_list)= 3.5805027579936306\n",
            "rekord sebelum pelabelan:  sepal length (cm)     6.1\n",
            "sepal width (cm)      2.8\n",
            "petal length (cm)     4.0\n",
            "petal width (cm)      1.3\n",
            "label                None\n",
            "Name: 71, dtype: object\n",
            "rekord SETELAH pelabelan:  sepal length (cm)    6.1\n",
            "sepal width (cm)     2.8\n",
            "petal length (cm)    4.0\n",
            "petal width (cm)     1.3\n",
            "label                 C2\n",
            "Name: 71, dtype: object\n",
            "sebelum: [[6.5, 6.5, 6.5, 6.5], [3.2, 3.2, 3.2, 3.2], [1.4, 1.4, 1.4, 1.4]]\n",
            "p[ 1 ] [2.8, 2.8, 2.8, 2.8]\n",
            "sesudah: [[6.5, 6.5, 6.5, 6.5], [2.8, 2.8, 2.8, 2.8], [1.4, 1.4, 1.4, 1.4]]\n",
            "jarak_list= [6.603029607687671, 4.294182110716777, 6.122091146005587]\n",
            "jarak_list[ 1 ] 4.294182110716777\n",
            "min(jarak_list)= 4.294182110716777\n",
            "rekord sebelum pelabelan:  sepal length (cm)     6.3\n",
            "sepal width (cm)      2.5\n",
            "petal length (cm)     4.9\n",
            "petal width (cm)      1.5\n",
            "label                None\n",
            "Name: 72, dtype: object\n",
            "rekord SETELAH pelabelan:  sepal length (cm)    6.3\n",
            "sepal width (cm)     2.5\n",
            "petal length (cm)    4.9\n",
            "petal width (cm)     1.5\n",
            "label                 C2\n",
            "Name: 72, dtype: object\n",
            "sebelum: [[6.5, 6.5, 6.5, 6.5], [2.8, 2.8, 2.8, 2.8], [1.4, 1.4, 1.4, 1.4]]\n",
            "p[ 1 ] [2.5, 2.5, 2.5, 2.5]\n",
            "sesudah: [[6.5, 6.5, 6.5, 6.5], [2.5, 2.5, 2.5, 2.5], [1.4, 1.4, 1.4, 1.4]]\n",
            "jarak_list= [6.721606950722424, 4.424929377967517, 5.914389233048498]\n",
            "jarak_list[ 1 ] 4.424929377967517\n",
            "min(jarak_list)= 4.424929377967517\n",
            "rekord sebelum pelabelan:  sepal length (cm)     6.1\n",
            "sepal width (cm)      2.8\n",
            "petal length (cm)     4.7\n",
            "petal width (cm)      1.2\n",
            "label                None\n",
            "Name: 73, dtype: object\n",
            "rekord SETELAH pelabelan:  sepal length (cm)    6.1\n",
            "sepal width (cm)     2.8\n",
            "petal length (cm)    4.7\n",
            "petal width (cm)     1.2\n",
            "label                 C2\n",
            "Name: 73, dtype: object\n",
            "sebelum: [[6.5, 6.5, 6.5, 6.5], [2.5, 2.5, 2.5, 2.5], [1.4, 1.4, 1.4, 1.4]]\n",
            "p[ 1 ] [2.8, 2.8, 2.8, 2.8]\n",
            "sesudah: [[6.5, 6.5, 6.5, 6.5], [2.8, 2.8, 2.8, 2.8], [1.4, 1.4, 1.4, 1.4]]\n",
            "jarak_list= [6.697014260101288, 4.179712908801274, 5.972436688655644]\n",
            "jarak_list[ 1 ] 4.179712908801274\n",
            "min(jarak_list)= 4.179712908801274\n",
            "rekord sebelum pelabelan:  sepal length (cm)     6.4\n",
            "sepal width (cm)      2.9\n",
            "petal length (cm)     4.3\n",
            "petal width (cm)      1.3\n",
            "label                None\n",
            "Name: 74, dtype: object\n",
            "rekord SETELAH pelabelan:  sepal length (cm)    6.4\n",
            "sepal width (cm)     2.9\n",
            "petal length (cm)    4.3\n",
            "petal width (cm)     1.3\n",
            "label                 C2\n",
            "Name: 74, dtype: object\n",
            "sebelum: [[6.5, 6.5, 6.5, 6.5], [2.8, 2.8, 2.8, 2.8], [1.4, 1.4, 1.4, 1.4]]\n",
            "p[ 1 ] [2.9, 2.9, 2.9, 2.9]\n",
            "sesudah: [[6.5, 6.5, 6.5, 6.5], [2.9, 2.9, 2.9, 2.9], [1.4, 1.4, 1.4, 1.4]]\n",
            "jarak_list= [6.532993188424429, 4.266145801540309, 6.212889826803626]\n",
            "jarak_list[ 1 ] 4.266145801540309\n",
            "min(jarak_list)= 4.266145801540309\n",
            "rekord sebelum pelabelan:  sepal length (cm)     6.6\n",
            "sepal width (cm)      3.0\n",
            "petal length (cm)     4.4\n",
            "petal width (cm)      1.4\n",
            "label                None\n",
            "Name: 75, dtype: object\n",
            "rekord SETELAH pelabelan:  sepal length (cm)    6.6\n",
            "sepal width (cm)     3.0\n",
            "petal length (cm)    4.4\n",
            "petal width (cm)     1.4\n",
            "label                 C2\n",
            "Name: 75, dtype: object\n",
            "sebelum: [[6.5, 6.5, 6.5, 6.5], [2.9, 2.9, 2.9, 2.9], [1.4, 1.4, 1.4, 1.4]]\n",
            "p[ 1 ] [3.0, 3.0, 3.0, 3.0]\n",
            "sesudah: [[6.5, 6.5, 6.5, 6.5], [3.0, 3.0, 3.0, 3.0], [1.4, 1.4, 1.4, 1.4]]\n",
            "jarak_list= [6.53299318842443, 4.503332099679081, 6.53299318842443]\n",
            "jarak_list[ 1 ] 4.503332099679081\n",
            "min(jarak_list)= 4.503332099679081\n",
            "rekord sebelum pelabelan:  sepal length (cm)     6.8\n",
            "sepal width (cm)      2.8\n",
            "petal length (cm)     4.8\n",
            "petal width (cm)      1.4\n",
            "label                None\n",
            "Name: 76, dtype: object\n",
            "rekord SETELAH pelabelan:  sepal length (cm)    6.8\n",
            "sepal width (cm)     2.8\n",
            "petal length (cm)    4.8\n",
            "petal width (cm)     1.4\n",
            "label                 C2\n",
            "Name: 76, dtype: object\n",
            "sebelum: [[6.5, 6.5, 6.5, 6.5], [3.0, 3.0, 3.0, 3.0], [1.4, 1.4, 1.4, 1.4]]\n",
            "p[ 1 ] [2.8, 2.8, 2.8, 2.8]\n",
            "sesudah: [[6.5, 6.5, 6.5, 6.5], [2.8, 2.8, 2.8, 2.8], [1.4, 1.4, 1.4, 1.4]]\n",
            "jarak_list= [6.130252849597641, 4.615192303685731, 6.610597552415364]\n",
            "jarak_list[ 1 ] 4.615192303685731\n",
            "min(jarak_list)= 4.615192303685731\n",
            "rekord sebelum pelabelan:  sepal length (cm)     6.7\n",
            "sepal width (cm)      3.0\n",
            "petal length (cm)     5.0\n",
            "petal width (cm)      1.7\n",
            "label                None\n",
            "Name: 77, dtype: object\n",
            "rekord SETELAH pelabelan:  sepal length (cm)    6.7\n",
            "sepal width (cm)     3.0\n",
            "petal length (cm)    5.0\n",
            "petal width (cm)     1.7\n",
            "label                 C2\n",
            "Name: 77, dtype: object\n",
            "sebelum: [[6.5, 6.5, 6.5, 6.5], [2.8, 2.8, 2.8, 2.8], [1.4, 1.4, 1.4, 1.4]]\n",
            "p[ 1 ] [3.0, 3.0, 3.0, 3.0]\n",
            "sesudah: [[6.5, 6.5, 6.5, 6.5], [3.0, 3.0, 3.0, 3.0], [1.4, 1.4, 1.4, 1.4]]\n",
            "jarak_list= [6.496922348312315, 3.675595189897821, 5.7471732182004045]\n",
            "jarak_list[ 1 ] 3.675595189897821\n",
            "min(jarak_list)= 3.675595189897821\n",
            "rekord sebelum pelabelan:  sepal length (cm)     6.0\n",
            "sepal width (cm)      2.9\n",
            "petal length (cm)     4.5\n",
            "petal width (cm)      1.5\n",
            "label                None\n",
            "Name: 78, dtype: object\n",
            "rekord SETELAH pelabelan:  sepal length (cm)    6.0\n",
            "sepal width (cm)     2.9\n",
            "petal length (cm)    4.5\n",
            "petal width (cm)     1.5\n",
            "label                 C2\n",
            "Name: 78, dtype: object\n",
            "sebelum: [[6.5, 6.5, 6.5, 6.5], [3.0, 3.0, 3.0, 3.0], [1.4, 1.4, 1.4, 1.4]]\n",
            "p[ 1 ] [2.9, 2.9, 2.9, 2.9]\n",
            "sesudah: [[6.5, 6.5, 6.5, 6.5], [2.9, 2.9, 2.9, 2.9], [1.4, 1.4, 1.4, 1.4]]\n",
            "jarak_list= [7.4229374239582535, 3.449637662132068, 4.949747468305834]\n",
            "jarak_list[ 1 ] 3.449637662132068\n",
            "min(jarak_list)= 3.449637662132068\n",
            "rekord sebelum pelabelan:  sepal length (cm)     5.7\n",
            "sepal width (cm)      2.6\n",
            "petal length (cm)     3.5\n",
            "petal width (cm)      1.0\n",
            "label                None\n",
            "Name: 79, dtype: object\n",
            "rekord SETELAH pelabelan:  sepal length (cm)    5.7\n",
            "sepal width (cm)     2.6\n",
            "petal length (cm)    3.5\n",
            "petal width (cm)     1.0\n",
            "label                 C2\n",
            "Name: 79, dtype: object\n",
            "sebelum: [[6.5, 6.5, 6.5, 6.5], [2.9, 2.9, 2.9, 2.9], [1.4, 1.4, 1.4, 1.4]]\n",
            "p[ 1 ] [2.6, 2.6, 2.6, 2.6]\n",
            "sesudah: [[6.5, 6.5, 6.5, 6.5], [2.6, 2.6, 2.6, 2.6], [1.4, 1.4, 1.4, 1.4]]\n",
            "jarak_list= [7.366138744281159, 3.4842502780368694, 4.864154602806124]\n",
            "jarak_list[ 1 ] 3.4842502780368694\n",
            "min(jarak_list)= 3.4842502780368694\n",
            "rekord sebelum pelabelan:  sepal length (cm)     5.5\n",
            "sepal width (cm)      2.4\n",
            "petal length (cm)     3.8\n",
            "petal width (cm)      1.1\n",
            "label                None\n",
            "Name: 80, dtype: object\n",
            "rekord SETELAH pelabelan:  sepal length (cm)    5.5\n",
            "sepal width (cm)     2.4\n",
            "petal length (cm)    3.8\n",
            "petal width (cm)     1.1\n",
            "label                 C2\n",
            "Name: 80, dtype: object\n",
            "sebelum: [[6.5, 6.5, 6.5, 6.5], [2.6, 2.6, 2.6, 2.6], [1.4, 1.4, 1.4, 1.4]]\n",
            "p[ 1 ] [2.4, 2.4, 2.4, 2.4]\n",
            "sesudah: [[6.5, 6.5, 6.5, 6.5], [2.4, 2.4, 2.4, 2.4], [1.4, 1.4, 1.4, 1.4]]\n",
            "jarak_list= [7.476630257007497, 3.641428291206625, 4.822862220714998]\n",
            "jarak_list[ 1 ] 3.641428291206625\n",
            "min(jarak_list)= 3.641428291206625\n",
            "rekord sebelum pelabelan:  sepal length (cm)     5.5\n",
            "sepal width (cm)      2.4\n",
            "petal length (cm)     3.7\n",
            "petal width (cm)      1.0\n",
            "label                None\n",
            "Name: 81, dtype: object\n",
            "rekord SETELAH pelabelan:  sepal length (cm)    5.5\n",
            "sepal width (cm)     2.4\n",
            "petal length (cm)    3.7\n",
            "petal width (cm)     1.0\n",
            "label                 C2\n",
            "Name: 81, dtype: object\n",
            "sebelum: [[6.5, 6.5, 6.5, 6.5], [2.4, 2.4, 2.4, 2.4], [1.4, 1.4, 1.4, 1.4]]\n",
            "p[ 1 ] [2.4, 2.4, 2.4, 2.4]\n",
            "sesudah: [[6.5, 6.5, 6.5, 6.5], [2.4, 2.4, 2.4, 2.4], [1.4, 1.4, 1.4, 1.4]]\n",
            "jarak_list= [7.055494312945054, 3.9166312055132275, 5.228766584960549]\n",
            "jarak_list[ 1 ] 3.9166312055132275\n",
            "min(jarak_list)= 3.9166312055132275\n",
            "rekord sebelum pelabelan:  sepal length (cm)     5.8\n",
            "sepal width (cm)      2.7\n",
            "petal length (cm)     3.9\n",
            "petal width (cm)      1.2\n",
            "label                None\n",
            "Name: 82, dtype: object\n",
            "rekord SETELAH pelabelan:  sepal length (cm)    5.8\n",
            "sepal width (cm)     2.7\n",
            "petal length (cm)    3.9\n",
            "petal width (cm)     1.2\n",
            "label                 C2\n",
            "Name: 82, dtype: object\n",
            "sebelum: [[6.5, 6.5, 6.5, 6.5], [2.4, 2.4, 2.4, 2.4], [1.4, 1.4, 1.4, 1.4]]\n",
            "p[ 1 ] [2.7, 2.7, 2.7, 2.7]\n",
            "sesudah: [[6.5, 6.5, 6.5, 6.5], [2.7, 2.7, 2.7, 2.7], [1.4, 1.4, 1.4, 1.4]]\n",
            "jarak_list= [6.376519426771945, 4.226109321823087, 6.048140210014975]\n",
            "jarak_list[ 1 ] 4.226109321823087\n",
            "min(jarak_list)= 4.226109321823087\n",
            "rekord sebelum pelabelan:  sepal length (cm)     6.0\n",
            "sepal width (cm)      2.7\n",
            "petal length (cm)     5.1\n",
            "petal width (cm)      1.6\n",
            "label                None\n",
            "Name: 83, dtype: object\n",
            "rekord SETELAH pelabelan:  sepal length (cm)    6.0\n",
            "sepal width (cm)     2.7\n",
            "petal length (cm)    5.1\n",
            "petal width (cm)     1.6\n",
            "label                 C2\n",
            "Name: 83, dtype: object\n",
            "sebelum: [[6.5, 6.5, 6.5, 6.5], [2.7, 2.7, 2.7, 2.7], [1.4, 1.4, 1.4, 1.4]]\n",
            "p[ 1 ] [2.7, 2.7, 2.7, 2.7]\n",
            "sesudah: [[6.5, 6.5, 6.5, 6.5], [2.7, 2.7, 2.7, 2.7], [1.4, 1.4, 1.4, 1.4]]\n",
            "jarak_list= [6.516133823057964, 3.472751070837068, 5.3084837759948]\n",
            "jarak_list[ 1 ] 3.472751070837068\n",
            "min(jarak_list)= 3.472751070837068\n",
            "rekord sebelum pelabelan:  sepal length (cm)     5.4\n",
            "sepal width (cm)      3.0\n",
            "petal length (cm)     4.5\n",
            "petal width (cm)      1.5\n",
            "label                None\n",
            "Name: 84, dtype: object\n",
            "rekord SETELAH pelabelan:  sepal length (cm)    5.4\n",
            "sepal width (cm)     3.0\n",
            "petal length (cm)    4.5\n",
            "petal width (cm)     1.5\n",
            "label                 C2\n",
            "Name: 84, dtype: object\n",
            "sebelum: [[6.5, 6.5, 6.5, 6.5], [2.7, 2.7, 2.7, 2.7], [1.4, 1.4, 1.4, 1.4]]\n",
            "p[ 1 ] [3.0, 3.0, 3.0, 3.0]\n",
            "sesudah: [[6.5, 6.5, 6.5, 6.5], [3.0, 3.0, 3.0, 3.0], [1.4, 1.4, 1.4, 1.4]]\n",
            "jarak_list= [6.153860576906175, 3.6565010597564442, 5.8999999999999995]\n",
            "jarak_list[ 1 ] 3.6565010597564442\n",
            "min(jarak_list)= 3.6565010597564442\n",
            "rekord sebelum pelabelan:  sepal length (cm)     6.0\n",
            "sepal width (cm)      3.4\n",
            "petal length (cm)     4.5\n",
            "petal width (cm)      1.6\n",
            "label                None\n",
            "Name: 85, dtype: object\n",
            "rekord SETELAH pelabelan:  sepal length (cm)    6.0\n",
            "sepal width (cm)     3.4\n",
            "petal length (cm)    4.5\n",
            "petal width (cm)     1.6\n",
            "label                 C2\n",
            "Name: 85, dtype: object\n",
            "sebelum: [[6.5, 6.5, 6.5, 6.5], [3.0, 3.0, 3.0, 3.0], [1.4, 1.4, 1.4, 1.4]]\n",
            "p[ 1 ] [3.4, 3.4, 3.4, 3.4]\n",
            "sesudah: [[6.5, 6.5, 6.5, 6.5], [3.4, 3.4, 3.4, 3.4], [1.4, 1.4, 1.4, 1.4]]\n",
            "jarak_list= [6.3118935352238, 4.034848200366404, 6.471475874945376]\n",
            "jarak_list[ 1 ] 4.034848200366404\n",
            "min(jarak_list)= 4.034848200366404\n",
            "rekord sebelum pelabelan:  sepal length (cm)     6.7\n",
            "sepal width (cm)      3.1\n",
            "petal length (cm)     4.7\n",
            "petal width (cm)      1.5\n",
            "label                None\n",
            "Name: 86, dtype: object\n",
            "rekord SETELAH pelabelan:  sepal length (cm)    6.7\n",
            "sepal width (cm)     3.1\n",
            "petal length (cm)    4.7\n",
            "petal width (cm)     1.5\n",
            "label                 C2\n",
            "Name: 86, dtype: object\n",
            "sebelum: [[6.5, 6.5, 6.5, 6.5], [3.4, 3.4, 3.4, 3.4], [1.4, 1.4, 1.4, 1.4]]\n",
            "p[ 1 ] [3.1, 3.1, 3.1, 3.1]\n",
            "sesudah: [[6.5, 6.5, 6.5, 6.5], [3.1, 3.1, 3.1, 3.1], [1.4, 1.4, 1.4, 1.4]]\n",
            "jarak_list= [7.009279563550023, 3.976179070414209, 5.816356247686347]\n",
            "jarak_list[ 1 ] 3.976179070414209\n",
            "min(jarak_list)= 3.976179070414209\n",
            "rekord sebelum pelabelan:  sepal length (cm)     6.3\n",
            "sepal width (cm)      2.3\n",
            "petal length (cm)     4.4\n",
            "petal width (cm)      1.3\n",
            "label                None\n",
            "Name: 87, dtype: object\n",
            "rekord SETELAH pelabelan:  sepal length (cm)    6.3\n",
            "sepal width (cm)     2.3\n",
            "petal length (cm)    4.4\n",
            "petal width (cm)     1.3\n",
            "label                 C2\n",
            "Name: 87, dtype: object\n",
            "sebelum: [[6.5, 6.5, 6.5, 6.5], [3.1, 3.1, 3.1, 3.1], [1.4, 1.4, 1.4, 1.4]]\n",
            "p[ 1 ] [2.3, 2.3, 2.3, 2.3]\n",
            "sesudah: [[6.5, 6.5, 6.5, 6.5], [2.3, 2.3, 2.3, 2.3], [1.4, 1.4, 1.4, 1.4]]\n",
            "jarak_list= [6.772001181334805, 3.9522145690739006, 5.244044240850758]\n",
            "jarak_list[ 1 ] 3.9522145690739006\n",
            "min(jarak_list)= 3.9522145690739006\n",
            "rekord sebelum pelabelan:  sepal length (cm)     5.6\n",
            "sepal width (cm)      3.0\n",
            "petal length (cm)     4.1\n",
            "petal width (cm)      1.3\n",
            "label                None\n",
            "Name: 88, dtype: object\n",
            "rekord SETELAH pelabelan:  sepal length (cm)    5.6\n",
            "sepal width (cm)     3.0\n",
            "petal length (cm)    4.1\n",
            "petal width (cm)     1.3\n",
            "label                 C2\n",
            "Name: 88, dtype: object\n",
            "sebelum: [[6.5, 6.5, 6.5, 6.5], [2.3, 2.3, 2.3, 2.3], [1.4, 1.4, 1.4, 1.4]]\n",
            "p[ 1 ] [3.0, 3.0, 3.0, 3.0]\n",
            "sesudah: [[6.5, 6.5, 6.5, 6.5], [3.0, 3.0, 3.0, 3.0], [1.4, 1.4, 1.4, 1.4]]\n",
            "jarak_list= [7.091544260596559, 3.2233522922572395, 4.978955713801842]\n",
            "jarak_list[ 1 ] 3.2233522922572395\n",
            "min(jarak_list)= 3.2233522922572395\n",
            "rekord sebelum pelabelan:  sepal length (cm)     5.5\n",
            "sepal width (cm)      2.5\n",
            "petal length (cm)     4.0\n",
            "petal width (cm)      1.3\n",
            "label                None\n",
            "Name: 89, dtype: object\n",
            "rekord SETELAH pelabelan:  sepal length (cm)    5.5\n",
            "sepal width (cm)     2.5\n",
            "petal length (cm)    4.0\n",
            "petal width (cm)     1.3\n",
            "label                 C2\n",
            "Name: 89, dtype: object\n",
            "sebelum: [[6.5, 6.5, 6.5, 6.5], [3.0, 3.0, 3.0, 3.0], [1.4, 1.4, 1.4, 1.4]]\n",
            "p[ 1 ] [2.5, 2.5, 2.5, 2.5]\n",
            "sesudah: [[6.5, 6.5, 6.5, 6.5], [2.5, 2.5, 2.5, 2.5], [1.4, 1.4, 1.4, 1.4]]\n",
            "jarak_list= [6.979254974565695, 3.7828560638755477, 5.223983154643591]\n",
            "jarak_list[ 1 ] 3.7828560638755477\n",
            "min(jarak_list)= 3.7828560638755477\n",
            "rekord sebelum pelabelan:  sepal length (cm)     5.5\n",
            "sepal width (cm)      2.6\n",
            "petal length (cm)     4.4\n",
            "petal width (cm)      1.2\n",
            "label                None\n",
            "Name: 90, dtype: object\n",
            "rekord SETELAH pelabelan:  sepal length (cm)    5.5\n",
            "sepal width (cm)     2.6\n",
            "petal length (cm)    4.4\n",
            "petal width (cm)     1.2\n",
            "label                 C2\n",
            "Name: 90, dtype: object\n",
            "sebelum: [[6.5, 6.5, 6.5, 6.5], [2.5, 2.5, 2.5, 2.5], [1.4, 1.4, 1.4, 1.4]]\n",
            "p[ 1 ] [2.6, 2.6, 2.6, 2.6]\n",
            "sesudah: [[6.5, 6.5, 6.5, 6.5], [2.6, 2.6, 2.6, 2.6], [1.4, 1.4, 1.4, 1.4]]\n",
            "jarak_list= [6.483054835492293, 4.224926034855521, 5.9067757702489425]\n",
            "jarak_list[ 1 ] 4.224926034855521\n",
            "min(jarak_list)= 4.224926034855521\n",
            "rekord sebelum pelabelan:  sepal length (cm)     6.1\n",
            "sepal width (cm)      3.0\n",
            "petal length (cm)     4.6\n",
            "petal width (cm)      1.4\n",
            "label                None\n",
            "Name: 91, dtype: object\n",
            "rekord SETELAH pelabelan:  sepal length (cm)    6.1\n",
            "sepal width (cm)     3.0\n",
            "petal length (cm)    4.6\n",
            "petal width (cm)     1.4\n",
            "label                 C2\n",
            "Name: 91, dtype: object\n",
            "sebelum: [[6.5, 6.5, 6.5, 6.5], [2.6, 2.6, 2.6, 2.6], [1.4, 1.4, 1.4, 1.4]]\n",
            "p[ 1 ] [3.0, 3.0, 3.0, 3.0]\n",
            "sesudah: [[6.5, 6.5, 6.5, 6.5], [3.0, 3.0, 3.0, 3.0], [1.4, 1.4, 1.4, 1.4]]\n",
            "jarak_list= [7.0738956735309575, 3.4985711369071804, 5.253570214625479]\n",
            "jarak_list[ 1 ] 3.4985711369071804\n",
            "min(jarak_list)= 3.4985711369071804\n",
            "rekord sebelum pelabelan:  sepal length (cm)     5.8\n",
            "sepal width (cm)      2.6\n",
            "petal length (cm)     4.0\n",
            "petal width (cm)      1.2\n",
            "label                None\n",
            "Name: 92, dtype: object\n",
            "rekord SETELAH pelabelan:  sepal length (cm)    5.8\n",
            "sepal width (cm)     2.6\n",
            "petal length (cm)    4.0\n",
            "petal width (cm)     1.2\n",
            "label                 C2\n",
            "Name: 92, dtype: object\n",
            "sebelum: [[6.5, 6.5, 6.5, 6.5], [3.0, 3.0, 3.0, 3.0], [1.4, 1.4, 1.4, 1.4]]\n",
            "p[ 1 ] [2.6, 2.6, 2.6, 2.6]\n",
            "sesudah: [[6.5, 6.5, 6.5, 6.5], [2.6, 2.6, 2.6, 2.6], [1.4, 1.4, 1.4, 1.4]]\n",
            "jarak_list= [7.770456872024965, 2.9832867780352594, 4.1880783182743855]\n",
            "jarak_list[ 1 ] 2.9832867780352594\n",
            "min(jarak_list)= 2.9832867780352594\n",
            "rekord sebelum pelabelan:  sepal length (cm)     5.0\n",
            "sepal width (cm)      2.3\n",
            "petal length (cm)     3.3\n",
            "petal width (cm)      1.0\n",
            "label                None\n",
            "Name: 93, dtype: object\n",
            "rekord SETELAH pelabelan:  sepal length (cm)    5.0\n",
            "sepal width (cm)     2.3\n",
            "petal length (cm)    3.3\n",
            "petal width (cm)     1.0\n",
            "label                 C2\n",
            "Name: 93, dtype: object\n",
            "sebelum: [[6.5, 6.5, 6.5, 6.5], [2.6, 2.6, 2.6, 2.6], [1.4, 1.4, 1.4, 1.4]]\n",
            "p[ 1 ] [2.3, 2.3, 2.3, 2.3]\n",
            "sesudah: [[6.5, 6.5, 6.5, 6.5], [2.3, 2.3, 2.3, 2.3], [1.4, 1.4, 1.4, 1.4]]\n",
            "jarak_list= [6.897825744392214, 3.9572717874818757, 5.21344415909483]\n",
            "jarak_list[ 1 ] 3.9572717874818757\n",
            "min(jarak_list)= 3.9572717874818757\n",
            "rekord sebelum pelabelan:  sepal length (cm)     5.6\n",
            "sepal width (cm)      2.7\n",
            "petal length (cm)     4.2\n",
            "petal width (cm)      1.3\n",
            "label                None\n",
            "Name: 94, dtype: object\n",
            "rekord SETELAH pelabelan:  sepal length (cm)    5.6\n",
            "sepal width (cm)     2.7\n",
            "petal length (cm)    4.2\n",
            "petal width (cm)     1.3\n",
            "label                 C2\n",
            "Name: 94, dtype: object\n",
            "sebelum: [[6.5, 6.5, 6.5, 6.5], [2.3, 2.3, 2.3, 2.3], [1.4, 1.4, 1.4, 1.4]]\n",
            "p[ 1 ] [2.7, 2.7, 2.7, 2.7]\n",
            "sesudah: [[6.5, 6.5, 6.5, 6.5], [2.7, 2.7, 2.7, 2.7], [1.4, 1.4, 1.4, 1.4]]\n",
            "jarak_list= [6.8022055246809465, 3.6864617182333523, 5.378661543544082]\n",
            "jarak_list[ 1 ] 3.6864617182333523\n",
            "min(jarak_list)= 3.6864617182333523\n",
            "rekord sebelum pelabelan:  sepal length (cm)     5.7\n",
            "sepal width (cm)      3.0\n",
            "petal length (cm)     4.2\n",
            "petal width (cm)      1.2\n",
            "label                None\n",
            "Name: 95, dtype: object\n",
            "rekord SETELAH pelabelan:  sepal length (cm)    5.7\n",
            "sepal width (cm)     3.0\n",
            "petal length (cm)    4.2\n",
            "petal width (cm)     1.2\n",
            "label                 C2\n",
            "Name: 95, dtype: object\n",
            "sebelum: [[6.5, 6.5, 6.5, 6.5], [2.7, 2.7, 2.7, 2.7], [1.4, 1.4, 1.4, 1.4]]\n",
            "p[ 1 ] [3.0, 3.0, 3.0, 3.0]\n",
            "sesudah: [[6.5, 6.5, 6.5, 6.5], [3.0, 3.0, 3.0, 3.0], [1.4, 1.4, 1.4, 1.4]]\n",
            "jarak_list= [6.777167549942971, 3.410278580995987, 5.346961754117941]\n",
            "jarak_list[ 1 ] 3.410278580995987\n",
            "min(jarak_list)= 3.410278580995987\n",
            "rekord sebelum pelabelan:  sepal length (cm)     5.7\n",
            "sepal width (cm)      2.9\n",
            "petal length (cm)     4.2\n",
            "petal width (cm)      1.3\n",
            "label                None\n",
            "Name: 96, dtype: object\n",
            "rekord SETELAH pelabelan:  sepal length (cm)    5.7\n",
            "sepal width (cm)     2.9\n",
            "petal length (cm)    4.2\n",
            "petal width (cm)     1.3\n",
            "label                 C2\n",
            "Name: 96, dtype: object\n",
            "sebelum: [[6.5, 6.5, 6.5, 6.5], [3.0, 3.0, 3.0, 3.0], [1.4, 1.4, 1.4, 1.4]]\n",
            "p[ 1 ] [2.9, 2.9, 2.9, 2.9]\n",
            "sesudah: [[6.5, 6.5, 6.5, 6.5], [2.9, 2.9, 2.9, 2.9], [1.4, 1.4, 1.4, 1.4]]\n",
            "jarak_list= [6.7029844099475575, 3.925557285278104, 5.806031346797914]\n",
            "jarak_list[ 1 ] 3.925557285278104\n",
            "min(jarak_list)= 3.925557285278104\n",
            "rekord sebelum pelabelan:  sepal length (cm)     6.2\n",
            "sepal width (cm)      2.9\n",
            "petal length (cm)     4.3\n",
            "petal width (cm)      1.3\n",
            "label                None\n",
            "Name: 97, dtype: object\n",
            "rekord SETELAH pelabelan:  sepal length (cm)    6.2\n",
            "sepal width (cm)     2.9\n",
            "petal length (cm)    4.3\n",
            "petal width (cm)     1.3\n",
            "label                 C2\n",
            "Name: 97, dtype: object\n",
            "sebelum: [[6.5, 6.5, 6.5, 6.5], [2.9, 2.9, 2.9, 2.9], [1.4, 1.4, 1.4, 1.4]]\n",
            "p[ 1 ] [2.9, 2.9, 2.9, 2.9]\n",
            "sesudah: [[6.5, 6.5, 6.5, 6.5], [2.9, 2.9, 2.9, 2.9], [1.4, 1.4, 1.4, 1.4]]\n",
            "jarak_list= [7.705193054038296, 2.872281323269014, 4.189272013130682]\n",
            "jarak_list[ 1 ] 2.872281323269014\n",
            "min(jarak_list)= 2.872281323269014\n",
            "rekord sebelum pelabelan:  sepal length (cm)     5.1\n",
            "sepal width (cm)      2.5\n",
            "petal length (cm)     3.0\n",
            "petal width (cm)      1.1\n",
            "label                None\n",
            "Name: 98, dtype: object\n",
            "rekord SETELAH pelabelan:  sepal length (cm)    5.1\n",
            "sepal width (cm)     2.5\n",
            "petal length (cm)    3.0\n",
            "petal width (cm)     1.1\n",
            "label                 C2\n",
            "Name: 98, dtype: object\n",
            "sebelum: [[6.5, 6.5, 6.5, 6.5], [2.9, 2.9, 2.9, 2.9], [1.4, 1.4, 1.4, 1.4]]\n",
            "p[ 1 ] [2.5, 2.5, 2.5, 2.5]\n",
            "sesudah: [[6.5, 6.5, 6.5, 6.5], [2.5, 2.5, 2.5, 2.5], [1.4, 1.4, 1.4, 1.4]]\n",
            "jarak_list= [6.865129277733961, 3.78549864614954, 5.26782687642637]\n",
            "jarak_list[ 1 ] 3.78549864614954\n",
            "min(jarak_list)= 3.78549864614954\n",
            "rekord sebelum pelabelan:  sepal length (cm)     5.7\n",
            "sepal width (cm)      2.8\n",
            "petal length (cm)     4.1\n",
            "petal width (cm)      1.3\n",
            "label                None\n",
            "Name: 99, dtype: object\n",
            "rekord SETELAH pelabelan:  sepal length (cm)    5.7\n",
            "sepal width (cm)     2.8\n",
            "petal length (cm)    4.1\n",
            "petal width (cm)     1.3\n",
            "label                 C2\n",
            "Name: 99, dtype: object\n",
            "sebelum: [[6.5, 6.5, 6.5, 6.5], [2.5, 2.5, 2.5, 2.5], [1.4, 1.4, 1.4, 1.4]]\n",
            "p[ 1 ] [2.8, 2.8, 2.8, 2.8]\n",
            "sesudah: [[6.5, 6.5, 6.5, 6.5], [2.8, 2.8, 2.8, 2.8], [1.4, 1.4, 1.4, 1.4]]\n",
            "jarak_list= [5.150728103870365, 4.778074926160117, 7.070360669725414]\n",
            "jarak_list[ 1 ] 4.778074926160117\n",
            "min(jarak_list)= 4.778074926160117\n",
            "rekord sebelum pelabelan:  sepal length (cm)     6.3\n",
            "sepal width (cm)      3.3\n",
            "petal length (cm)     6.0\n",
            "petal width (cm)      2.5\n",
            "label                None\n",
            "Name: 100, dtype: object\n",
            "rekord SETELAH pelabelan:  sepal length (cm)    6.3\n",
            "sepal width (cm)     3.3\n",
            "petal length (cm)    6.0\n",
            "petal width (cm)     2.5\n",
            "label                 C2\n",
            "Name: 100, dtype: object\n",
            "sebelum: [[6.5, 6.5, 6.5, 6.5], [2.8, 2.8, 2.8, 2.8], [1.4, 1.4, 1.4, 1.4]]\n",
            "p[ 1 ] [3.3, 3.3, 3.3, 3.3]\n",
            "sesudah: [[6.5, 6.5, 6.5, 6.5], [3.3, 3.3, 3.3, 3.3], [1.4, 1.4, 1.4, 1.4]]\n",
            "jarak_list= [6.168468205316454, 3.4365680554879163, 5.915234568468101]\n",
            "jarak_list[ 1 ] 3.4365680554879163\n",
            "min(jarak_list)= 3.4365680554879163\n",
            "rekord sebelum pelabelan:  sepal length (cm)     5.8\n",
            "sepal width (cm)      2.7\n",
            "petal length (cm)     5.1\n",
            "petal width (cm)      1.9\n",
            "label                None\n",
            "Name: 101, dtype: object\n",
            "rekord SETELAH pelabelan:  sepal length (cm)    5.8\n",
            "sepal width (cm)     2.7\n",
            "petal length (cm)    5.1\n",
            "petal width (cm)     1.9\n",
            "label                 C2\n",
            "Name: 101, dtype: object\n",
            "sebelum: [[6.5, 6.5, 6.5, 6.5], [3.3, 3.3, 3.3, 3.3], [1.4, 1.4, 1.4, 1.4]]\n",
            "p[ 1 ] [2.7, 2.7, 2.7, 2.7]\n",
            "sesudah: [[6.5, 6.5, 6.5, 6.5], [2.7, 2.7, 2.7, 2.7], [1.4, 1.4, 1.4, 1.4]]\n",
            "jarak_list= [5.6859475903318, 5.481788029466298, 7.469270379361026]\n",
            "jarak_list[ 1 ] 5.481788029466298\n",
            "min(jarak_list)= 5.481788029466298\n",
            "rekord sebelum pelabelan:  sepal length (cm)     7.1\n",
            "sepal width (cm)      3.0\n",
            "petal length (cm)     5.9\n",
            "petal width (cm)      2.1\n",
            "label                None\n",
            "Name: 102, dtype: object\n",
            "rekord SETELAH pelabelan:  sepal length (cm)    7.1\n",
            "sepal width (cm)     3.0\n",
            "petal length (cm)    5.9\n",
            "petal width (cm)     2.1\n",
            "label                 C2\n",
            "Name: 102, dtype: object\n",
            "sebelum: [[6.5, 6.5, 6.5, 6.5], [2.7, 2.7, 2.7, 2.7], [1.4, 1.4, 1.4, 1.4]]\n",
            "p[ 1 ] [3.0, 3.0, 3.0, 3.0]\n",
            "sesudah: [[6.5, 6.5, 6.5, 6.5], [3.0, 3.0, 3.0, 3.0], [1.4, 1.4, 1.4, 1.4]]\n",
            "jarak_list= [5.991660871578097, 4.370354676682431, 6.637770710110435]\n",
            "jarak_list[ 1 ] 4.370354676682431\n",
            "min(jarak_list)= 4.370354676682431\n",
            "rekord sebelum pelabelan:  sepal length (cm)     6.3\n",
            "sepal width (cm)      2.9\n",
            "petal length (cm)     5.6\n",
            "petal width (cm)      1.8\n",
            "label                None\n",
            "Name: 103, dtype: object\n",
            "rekord SETELAH pelabelan:  sepal length (cm)    6.3\n",
            "sepal width (cm)     2.9\n",
            "petal length (cm)    5.6\n",
            "petal width (cm)     1.8\n",
            "label                 C2\n",
            "Name: 103, dtype: object\n",
            "sebelum: [[6.5, 6.5, 6.5, 6.5], [3.0, 3.0, 3.0, 3.0], [1.4, 1.4, 1.4, 1.4]]\n",
            "p[ 1 ] [2.9, 2.9, 2.9, 2.9]\n",
            "sesudah: [[6.5, 6.5, 6.5, 6.5], [2.9, 2.9, 2.9, 2.9], [1.4, 1.4, 1.4, 1.4]]\n",
            "jarak_list= [5.588380803059147, 4.676537180435969, 6.969218033610371]\n",
            "jarak_list[ 1 ] 4.676537180435969\n",
            "min(jarak_list)= 4.676537180435969\n",
            "rekord sebelum pelabelan:  sepal length (cm)     6.5\n",
            "sepal width (cm)      3.0\n",
            "petal length (cm)     5.8\n",
            "petal width (cm)      2.2\n",
            "label                None\n",
            "Name: 104, dtype: object\n",
            "rekord SETELAH pelabelan:  sepal length (cm)    6.5\n",
            "sepal width (cm)     3.0\n",
            "petal length (cm)    5.8\n",
            "petal width (cm)     2.2\n",
            "label                 C2\n",
            "Name: 104, dtype: object\n",
            "sebelum: [[6.5, 6.5, 6.5, 6.5], [2.9, 2.9, 2.9, 2.9], [1.4, 1.4, 1.4, 1.4]]\n",
            "p[ 1 ] [3.0, 3.0, 3.0, 3.0]\n",
            "sesudah: [[6.5, 6.5, 6.5, 6.5], [3.0, 3.0, 3.0, 3.0], [1.4, 1.4, 1.4, 1.4]]\n",
            "jarak_list= [5.729746940310715, 5.910160742314882, 8.278284846512591]\n",
            "jarak_list[ 0 ] 5.729746940310715\n",
            "min(jarak_list)= 5.729746940310715\n",
            "rekord sebelum pelabelan:  sepal length (cm)     7.6\n",
            "sepal width (cm)      3.0\n",
            "petal length (cm)     6.6\n",
            "petal width (cm)      2.1\n",
            "label                None\n",
            "Name: 105, dtype: object\n",
            "rekord SETELAH pelabelan:  sepal length (cm)    7.6\n",
            "sepal width (cm)     3.0\n",
            "petal length (cm)    6.6\n",
            "petal width (cm)     2.1\n",
            "label                 C1\n",
            "Name: 105, dtype: object\n",
            "sebelum: [[6.5, 6.5, 6.5, 6.5], [3.0, 3.0, 3.0, 3.0], [1.4, 1.4, 1.4, 1.4]]\n",
            "p[ 0 ] [7.6, 7.6, 7.6, 7.6]\n",
            "sesudah: [[7.6, 7.6, 7.6, 7.6], [3.0, 3.0, 3.0, 3.0], [1.4, 1.4, 1.4, 1.4]]\n",
            "jarak_list= [8.815894736213677, 2.7928480087537886, 4.812483766206387]\n",
            "jarak_list[ 1 ] 2.7928480087537886\n",
            "min(jarak_list)= 2.7928480087537886\n",
            "rekord sebelum pelabelan:  sepal length (cm)     4.9\n",
            "sepal width (cm)      2.5\n",
            "petal length (cm)     4.5\n",
            "petal width (cm)      1.7\n",
            "label                None\n",
            "Name: 106, dtype: object\n",
            "rekord SETELAH pelabelan:  sepal length (cm)    4.9\n",
            "sepal width (cm)     2.5\n",
            "petal length (cm)    4.5\n",
            "petal width (cm)     1.7\n",
            "label                 C2\n",
            "Name: 106, dtype: object\n",
            "sebelum: [[7.6, 7.6, 7.6, 7.6], [3.0, 3.0, 3.0, 3.0], [1.4, 1.4, 1.4, 1.4]]\n",
            "p[ 1 ] [2.5, 2.5, 2.5, 2.5]\n",
            "sesudah: [[7.6, 7.6, 7.6, 7.6], [2.5, 2.5, 2.5, 2.5], [1.4, 1.4, 1.4, 1.4]]\n",
            "jarak_list= [7.583534795858722, 6.174949392505173, 7.824960063795853]\n",
            "jarak_list[ 1 ] 6.174949392505173\n",
            "min(jarak_list)= 6.174949392505173\n",
            "rekord sebelum pelabelan:  sepal length (cm)     7.3\n",
            "sepal width (cm)      2.9\n",
            "petal length (cm)     6.3\n",
            "petal width (cm)      1.8\n",
            "label                None\n",
            "Name: 107, dtype: object\n",
            "rekord SETELAH pelabelan:  sepal length (cm)    7.3\n",
            "sepal width (cm)     2.9\n",
            "petal length (cm)    6.3\n",
            "petal width (cm)     1.8\n",
            "label                 C2\n",
            "Name: 107, dtype: object\n",
            "sebelum: [[7.6, 7.6, 7.6, 7.6], [2.5, 2.5, 2.5, 2.5], [1.4, 1.4, 1.4, 1.4]]\n",
            "p[ 1 ] [2.9, 2.9, 2.9, 2.9]\n",
            "sesudah: [[7.6, 7.6, 7.6, 7.6], [2.9, 2.9, 2.9, 2.9], [1.4, 1.4, 1.4, 1.4]]\n",
            "jarak_list= [7.981227975693965, 4.921381919745714, 6.987131027825369]\n",
            "jarak_list[ 1 ] 4.921381919745714\n",
            "min(jarak_list)= 4.921381919745714\n",
            "rekord sebelum pelabelan:  sepal length (cm)     6.7\n",
            "sepal width (cm)      2.5\n",
            "petal length (cm)     5.8\n",
            "petal width (cm)      1.8\n",
            "label                None\n",
            "Name: 108, dtype: object\n",
            "rekord SETELAH pelabelan:  sepal length (cm)    6.7\n",
            "sepal width (cm)     2.5\n",
            "petal length (cm)    5.8\n",
            "petal width (cm)     1.8\n",
            "label                 C2\n",
            "Name: 108, dtype: object\n",
            "sebelum: [[7.6, 7.6, 7.6, 7.6], [2.9, 2.9, 2.9, 2.9], [1.4, 1.4, 1.4, 1.4]]\n",
            "p[ 1 ] [2.5, 2.5, 2.5, 2.5]\n",
            "sesudah: [[7.6, 7.6, 7.6, 7.6], [2.5, 2.5, 2.5, 2.5], [1.4, 1.4, 1.4, 1.4]]\n",
            "jarak_list= [6.664833081180653, 6.021627686929839, 7.860025445251434]\n",
            "jarak_list[ 1 ] 6.021627686929839\n",
            "min(jarak_list)= 6.021627686929839\n",
            "rekord sebelum pelabelan:  sepal length (cm)     7.2\n",
            "sepal width (cm)      3.6\n",
            "petal length (cm)     6.1\n",
            "petal width (cm)      2.5\n",
            "label                None\n",
            "Name: 109, dtype: object\n",
            "rekord SETELAH pelabelan:  sepal length (cm)    7.2\n",
            "sepal width (cm)     3.6\n",
            "petal length (cm)    6.1\n",
            "petal width (cm)     2.5\n",
            "label                 C2\n",
            "Name: 109, dtype: object\n",
            "sebelum: [[7.6, 7.6, 7.6, 7.6], [2.5, 2.5, 2.5, 2.5], [1.4, 1.4, 1.4, 1.4]]\n",
            "p[ 1 ] [3.6, 3.6, 3.6, 3.6]\n",
            "sesudah: [[7.6, 7.6, 7.6, 7.6], [3.6, 3.6, 3.6, 3.6], [1.4, 1.4, 1.4, 1.4]]\n",
            "jarak_list= [7.627581530209952, 3.6578682316343762, 6.58027355054484]\n",
            "jarak_list[ 1 ] 3.6578682316343762\n",
            "min(jarak_list)= 3.6578682316343762\n",
            "rekord sebelum pelabelan:  sepal length (cm)     6.5\n",
            "sepal width (cm)      3.2\n",
            "petal length (cm)     5.1\n",
            "petal width (cm)      2.0\n",
            "label                None\n",
            "Name: 110, dtype: object\n",
            "rekord SETELAH pelabelan:  sepal length (cm)    6.5\n",
            "sepal width (cm)     3.2\n",
            "petal length (cm)    5.1\n",
            "petal width (cm)     2.0\n",
            "label                 C2\n",
            "Name: 110, dtype: object\n",
            "sebelum: [[7.6, 7.6, 7.6, 7.6], [3.6, 3.6, 3.6, 3.6], [1.4, 1.4, 1.4, 1.4]]\n",
            "p[ 1 ] [3.2, 3.2, 3.2, 3.2]\n",
            "sesudah: [[7.6, 7.6, 7.6, 7.6], [3.2, 3.2, 3.2, 3.2], [1.4, 1.4, 1.4, 1.4]]\n",
            "jarak_list= [7.951729371652433, 4.07308237088326, 6.492303135251773]\n",
            "jarak_list[ 1 ] 4.07308237088326\n",
            "min(jarak_list)= 4.07308237088326\n",
            "rekord sebelum pelabelan:  sepal length (cm)     6.4\n",
            "sepal width (cm)      2.7\n",
            "petal length (cm)     5.3\n",
            "petal width (cm)      1.9\n",
            "label                None\n",
            "Name: 111, dtype: object\n",
            "rekord SETELAH pelabelan:  sepal length (cm)    6.4\n",
            "sepal width (cm)     2.7\n",
            "petal length (cm)    5.3\n",
            "petal width (cm)     1.9\n",
            "label                 C2\n",
            "Name: 111, dtype: object\n",
            "sebelum: [[7.6, 7.6, 7.6, 7.6], [3.2, 3.2, 3.2, 3.2], [1.4, 1.4, 1.4, 1.4]]\n",
            "p[ 1 ] [2.7, 2.7, 2.7, 2.7]\n",
            "sesudah: [[7.6, 7.6, 7.6, 7.6], [2.7, 2.7, 2.7, 2.7], [1.4, 1.4, 1.4, 1.4]]\n",
            "jarak_list= [7.513986957667679, 5.0099900199501395, 7.001428425685718]\n",
            "jarak_list[ 1 ] 5.0099900199501395\n",
            "min(jarak_list)= 5.0099900199501395\n",
            "rekord sebelum pelabelan:  sepal length (cm)     6.8\n",
            "sepal width (cm)      3.0\n",
            "petal length (cm)     5.5\n",
            "petal width (cm)      2.1\n",
            "label                None\n",
            "Name: 112, dtype: object\n",
            "rekord SETELAH pelabelan:  sepal length (cm)    6.8\n",
            "sepal width (cm)     3.0\n",
            "petal length (cm)    5.5\n",
            "petal width (cm)     2.1\n",
            "label                 C2\n",
            "Name: 112, dtype: object\n",
            "sebelum: [[7.6, 7.6, 7.6, 7.6], [2.7, 2.7, 2.7, 2.7], [1.4, 1.4, 1.4, 1.4]]\n",
            "p[ 1 ] [3.0, 3.0, 3.0, 3.0]\n",
            "sesudah: [[7.6, 7.6, 7.6, 7.6], [3.0, 3.0, 3.0, 3.0], [1.4, 1.4, 1.4, 1.4]]\n",
            "jarak_list= [8.230431337420901, 3.5411862419251547, 5.746303159423458]\n",
            "jarak_list[ 1 ] 3.5411862419251547\n",
            "min(jarak_list)= 3.5411862419251547\n",
            "rekord sebelum pelabelan:  sepal length (cm)     5.7\n",
            "sepal width (cm)      2.5\n",
            "petal length (cm)     5.0\n",
            "petal width (cm)      2.0\n",
            "label                None\n",
            "Name: 113, dtype: object\n",
            "rekord SETELAH pelabelan:  sepal length (cm)    5.7\n",
            "sepal width (cm)     2.5\n",
            "petal length (cm)    5.0\n",
            "petal width (cm)     2.0\n",
            "label                 C2\n",
            "Name: 113, dtype: object\n",
            "sebelum: [[7.6, 7.6, 7.6, 7.6], [3.0, 3.0, 3.0, 3.0], [1.4, 1.4, 1.4, 1.4]]\n",
            "p[ 1 ] [2.5, 2.5, 2.5, 2.5]\n",
            "sesudah: [[7.6, 7.6, 7.6, 7.6], [2.5, 2.5, 2.5, 2.5], [1.4, 1.4, 1.4, 1.4]]\n",
            "jarak_list= [7.718160402582988, 4.213074886588179, 6.000833275471]\n",
            "jarak_list[ 1 ] 4.213074886588179\n",
            "min(jarak_list)= 4.213074886588179\n",
            "rekord sebelum pelabelan:  sepal length (cm)     5.8\n",
            "sepal width (cm)      2.8\n",
            "petal length (cm)     5.1\n",
            "petal width (cm)      2.4\n",
            "label                None\n",
            "Name: 114, dtype: object\n",
            "rekord SETELAH pelabelan:  sepal length (cm)    5.8\n",
            "sepal width (cm)     2.8\n",
            "petal length (cm)    5.1\n",
            "petal width (cm)     2.4\n",
            "label                 C2\n",
            "Name: 114, dtype: object\n",
            "sebelum: [[7.6, 7.6, 7.6, 7.6], [2.5, 2.5, 2.5, 2.5], [1.4, 1.4, 1.4, 1.4]]\n",
            "p[ 1 ] [2.8, 2.8, 2.8, 2.8]\n",
            "sesudah: [[7.6, 7.6, 7.6, 7.6], [2.8, 2.8, 2.8, 2.8], [1.4, 1.4, 1.4, 1.4]]\n",
            "jarak_list= [7.360706487831178, 4.4294469180700204, 6.652818951391959]\n",
            "jarak_list[ 1 ] 4.4294469180700204\n",
            "min(jarak_list)= 4.4294469180700204\n",
            "rekord sebelum pelabelan:  sepal length (cm)     6.4\n",
            "sepal width (cm)      3.2\n",
            "petal length (cm)     5.3\n",
            "petal width (cm)      2.3\n",
            "label                None\n",
            "Name: 115, dtype: object\n",
            "rekord SETELAH pelabelan:  sepal length (cm)    6.4\n",
            "sepal width (cm)     3.2\n",
            "petal length (cm)    5.3\n",
            "petal width (cm)     2.3\n",
            "label                 C2\n",
            "Name: 115, dtype: object\n",
            "sebelum: [[7.6, 7.6, 7.6, 7.6], [2.8, 2.8, 2.8, 2.8], [1.4, 1.4, 1.4, 1.4]]\n",
            "p[ 1 ] [3.2, 3.2, 3.2, 3.2]\n",
            "sesudah: [[7.6, 7.6, 7.6, 7.6], [3.2, 3.2, 3.2, 3.2], [1.4, 1.4, 1.4, 1.4]]\n",
            "jarak_list= [7.773030297123509, 4.263801121065568, 6.748333127521195]\n",
            "jarak_list[ 1 ] 4.263801121065568\n",
            "min(jarak_list)= 4.263801121065568\n",
            "rekord sebelum pelabelan:  sepal length (cm)     6.5\n",
            "sepal width (cm)      3.0\n",
            "petal length (cm)     5.5\n",
            "petal width (cm)      1.8\n",
            "label                None\n",
            "Name: 116, dtype: object\n",
            "rekord SETELAH pelabelan:  sepal length (cm)    6.5\n",
            "sepal width (cm)     3.0\n",
            "petal length (cm)    5.5\n",
            "petal width (cm)     1.8\n",
            "label                 C2\n",
            "Name: 116, dtype: object\n",
            "sebelum: [[7.6, 7.6, 7.6, 7.6], [3.2, 3.2, 3.2, 3.2], [1.4, 1.4, 1.4, 1.4]]\n",
            "p[ 1 ] [3.0, 3.0, 3.0, 3.0]\n",
            "sesudah: [[7.6, 7.6, 7.6, 7.6], [3.0, 3.0, 3.0, 3.0], [1.4, 1.4, 1.4, 1.4]]\n",
            "jarak_list= [6.664833081180652, 6.087692502089769, 8.61278120005379]\n",
            "jarak_list[ 1 ] 6.087692502089769\n",
            "min(jarak_list)= 6.087692502089769\n",
            "rekord sebelum pelabelan:  sepal length (cm)     7.7\n",
            "sepal width (cm)      3.8\n",
            "petal length (cm)     6.7\n",
            "petal width (cm)      2.2\n",
            "label                None\n",
            "Name: 117, dtype: object\n",
            "rekord SETELAH pelabelan:  sepal length (cm)    7.7\n",
            "sepal width (cm)     3.8\n",
            "petal length (cm)    6.7\n",
            "petal width (cm)     2.2\n",
            "label                 C2\n",
            "Name: 117, dtype: object\n",
            "sebelum: [[7.6, 7.6, 7.6, 7.6], [3.0, 3.0, 3.0, 3.0], [1.4, 1.4, 1.4, 1.4]]\n",
            "p[ 1 ] [3.8, 3.8, 3.8, 3.8]\n",
            "sesudah: [[7.6, 7.6, 7.6, 7.6], [3.8, 3.8, 3.8, 3.8], [1.4, 1.4, 1.4, 1.4]]\n",
            "jarak_list= [7.320519107276478, 5.339475629684998, 8.496469855181033]\n",
            "jarak_list[ 1 ] 5.339475629684998\n",
            "min(jarak_list)= 5.339475629684998\n",
            "rekord sebelum pelabelan:  sepal length (cm)     7.7\n",
            "sepal width (cm)      2.6\n",
            "petal length (cm)     6.9\n",
            "petal width (cm)      2.3\n",
            "label                None\n",
            "Name: 118, dtype: object\n",
            "rekord SETELAH pelabelan:  sepal length (cm)    7.7\n",
            "sepal width (cm)     2.6\n",
            "petal length (cm)    6.9\n",
            "petal width (cm)     2.3\n",
            "label                 C2\n",
            "Name: 118, dtype: object\n",
            "sebelum: [[7.6, 7.6, 7.6, 7.6], [3.8, 3.8, 3.8, 3.8], [1.4, 1.4, 1.4, 1.4]]\n",
            "p[ 1 ] [2.6, 2.6, 2.6, 2.6]\n",
            "sesudah: [[7.6, 7.6, 7.6, 7.6], [2.6, 2.6, 2.6, 2.6], [1.4, 1.4, 1.4, 1.4]]\n",
            "jarak_list= [7.179832867135557, 5.343220002957019, 7.265672714897087]\n",
            "jarak_list[ 1 ] 5.343220002957019\n",
            "min(jarak_list)= 5.343220002957019\n",
            "rekord sebelum pelabelan:  sepal length (cm)     6.9\n",
            "sepal width (cm)      3.2\n",
            "petal length (cm)     5.7\n",
            "petal width (cm)      2.3\n",
            "label                None\n",
            "Name: 120, dtype: object\n",
            "rekord SETELAH pelabelan:  sepal length (cm)    6.9\n",
            "sepal width (cm)     3.2\n",
            "petal length (cm)    5.7\n",
            "petal width (cm)     2.3\n",
            "label                 C2\n",
            "Name: 120, dtype: object\n",
            "sebelum: [[7.6, 7.6, 7.6, 7.6], [2.6, 2.6, 2.6, 2.6], [1.4, 1.4, 1.4, 1.4]]\n",
            "p[ 1 ] [3.2, 3.2, 3.2, 3.2]\n",
            "sesudah: [[7.6, 7.6, 7.6, 7.6], [3.2, 3.2, 3.2, 3.2], [1.4, 1.4, 1.4, 1.4]]\n",
            "jarak_list= [8.104936767180853, 3.2015621187164243, 5.675385449465085]\n",
            "jarak_list[ 1 ] 3.2015621187164243\n",
            "min(jarak_list)= 3.2015621187164243\n",
            "rekord sebelum pelabelan:  sepal length (cm)     5.6\n",
            "sepal width (cm)      2.8\n",
            "petal length (cm)     4.9\n",
            "petal width (cm)      2.0\n",
            "label                None\n",
            "Name: 121, dtype: object\n",
            "rekord SETELAH pelabelan:  sepal length (cm)    5.6\n",
            "sepal width (cm)     2.8\n",
            "petal length (cm)    4.9\n",
            "petal width (cm)     2.0\n",
            "label                 C2\n",
            "Name: 121, dtype: object\n",
            "sebelum: [[7.6, 7.6, 7.6, 7.6], [3.2, 3.2, 3.2, 3.2], [1.4, 1.4, 1.4, 1.4]]\n",
            "p[ 1 ] [2.8, 2.8, 2.8, 2.8]\n",
            "sesudah: [[7.6, 7.6, 7.6, 7.6], [2.8, 2.8, 2.8, 2.8], [1.4, 1.4, 1.4, 1.4]]\n",
            "jarak_list= [7.431016081263719, 6.313477647065839, 8.372574275573793]\n",
            "jarak_list[ 1 ] 6.313477647065839\n",
            "min(jarak_list)= 6.313477647065839\n",
            "rekord sebelum pelabelan:  sepal length (cm)     7.7\n",
            "sepal width (cm)      2.8\n",
            "petal length (cm)     6.7\n",
            "petal width (cm)      2.0\n",
            "label                None\n",
            "Name: 122, dtype: object\n",
            "rekord SETELAH pelabelan:  sepal length (cm)    7.7\n",
            "sepal width (cm)     2.8\n",
            "petal length (cm)    6.7\n",
            "petal width (cm)     2.0\n",
            "label                 C2\n",
            "Name: 122, dtype: object\n",
            "sebelum: [[7.6, 7.6, 7.6, 7.6], [2.8, 2.8, 2.8, 2.8], [1.4, 1.4, 1.4, 1.4]]\n",
            "p[ 1 ] [2.8, 2.8, 2.8, 2.8]\n",
            "sesudah: [[7.6, 7.6, 7.6, 7.6], [2.8, 2.8, 2.8, 2.8], [1.4, 1.4, 1.4, 1.4]]\n",
            "jarak_list= [8.162720134857008, 4.20356991139674, 6.173329733620261]\n",
            "jarak_list[ 1 ] 4.20356991139674\n",
            "min(jarak_list)= 4.20356991139674\n",
            "rekord sebelum pelabelan:  sepal length (cm)     6.3\n",
            "sepal width (cm)      2.7\n",
            "petal length (cm)     4.9\n",
            "petal width (cm)      1.8\n",
            "label                None\n",
            "Name: 123, dtype: object\n",
            "rekord SETELAH pelabelan:  sepal length (cm)    6.3\n",
            "sepal width (cm)     2.7\n",
            "petal length (cm)    4.9\n",
            "petal width (cm)     1.8\n",
            "label                 C2\n",
            "Name: 123, dtype: object\n",
            "sebelum: [[7.6, 7.6, 7.6, 7.6], [2.8, 2.8, 2.8, 2.8], [1.4, 1.4, 1.4, 1.4]]\n",
            "p[ 1 ] [2.7, 2.7, 2.7, 2.7]\n",
            "sesudah: [[7.6, 7.6, 7.6, 7.6], [2.7, 2.7, 2.7, 2.7], [1.4, 1.4, 1.4, 1.4]]\n",
            "jarak_list= [7.291090453423274, 5.071488933242386, 7.118988692223075]\n",
            "jarak_list[ 1 ] 5.071488933242386\n",
            "min(jarak_list)= 5.071488933242386\n",
            "rekord sebelum pelabelan:  sepal length (cm)     6.7\n",
            "sepal width (cm)      3.3\n",
            "petal length (cm)     5.7\n",
            "petal width (cm)      2.1\n",
            "label                None\n",
            "Name: 124, dtype: object\n",
            "rekord SETELAH pelabelan:  sepal length (cm)    6.7\n",
            "sepal width (cm)     3.3\n",
            "petal length (cm)    5.7\n",
            "petal width (cm)     2.1\n",
            "label                 C2\n",
            "Name: 124, dtype: object\n",
            "sebelum: [[7.6, 7.6, 7.6, 7.6], [2.7, 2.7, 2.7, 2.7], [1.4, 1.4, 1.4, 1.4]]\n",
            "p[ 1 ] [3.3, 3.3, 3.3, 3.3]\n",
            "sesudah: [[7.6, 7.6, 7.6, 7.6], [3.3, 3.3, 3.3, 3.3], [1.4, 1.4, 1.4, 1.4]]\n",
            "jarak_list= [7.464583042608609, 4.975942121849892, 7.628892449104261]\n",
            "jarak_list[ 1 ] 4.975942121849892\n",
            "min(jarak_list)= 4.975942121849892\n",
            "rekord sebelum pelabelan:  sepal length (cm)     7.2\n",
            "sepal width (cm)      3.2\n",
            "petal length (cm)     6.0\n",
            "petal width (cm)      1.8\n",
            "label                None\n",
            "Name: 125, dtype: object\n",
            "rekord SETELAH pelabelan:  sepal length (cm)    7.2\n",
            "sepal width (cm)     3.2\n",
            "petal length (cm)    6.0\n",
            "petal width (cm)     1.8\n",
            "label                 C2\n",
            "Name: 125, dtype: object\n",
            "sebelum: [[7.6, 7.6, 7.6, 7.6], [3.3, 3.3, 3.3, 3.3], [1.4, 1.4, 1.4, 1.4]]\n",
            "p[ 1 ] [3.2, 3.2, 3.2, 3.2]\n",
            "sesudah: [[7.6, 7.6, 7.6, 7.6], [3.2, 3.2, 3.2, 3.2], [1.4, 1.4, 1.4, 1.4]]\n",
            "jarak_list= [8.153526844255802, 3.698648401781386, 6.059702963017247]\n",
            "jarak_list[ 1 ] 3.698648401781386\n",
            "min(jarak_list)= 3.698648401781386\n",
            "rekord sebelum pelabelan:  sepal length (cm)     6.2\n",
            "sepal width (cm)      2.8\n",
            "petal length (cm)     4.8\n",
            "petal width (cm)      1.8\n",
            "label                None\n",
            "Name: 126, dtype: object\n",
            "rekord SETELAH pelabelan:  sepal length (cm)    6.2\n",
            "sepal width (cm)     2.8\n",
            "petal length (cm)    4.8\n",
            "petal width (cm)     1.8\n",
            "label                 C2\n",
            "Name: 126, dtype: object\n",
            "sebelum: [[7.6, 7.6, 7.6, 7.6], [3.2, 3.2, 3.2, 3.2], [1.4, 1.4, 1.4, 1.4]]\n",
            "p[ 1 ] [2.8, 2.8, 2.8, 2.8]\n",
            "sesudah: [[7.6, 7.6, 7.6, 7.6], [2.8, 2.8, 2.8, 2.8], [1.4, 1.4, 1.4, 1.4]]\n",
            "jarak_list= [8.02122185206219, 4.042276586281547, 6.0876925020897685]\n",
            "jarak_list[ 1 ] 4.042276586281547\n",
            "min(jarak_list)= 4.042276586281547\n",
            "rekord sebelum pelabelan:  sepal length (cm)     6.1\n",
            "sepal width (cm)      3.0\n",
            "petal length (cm)     4.9\n",
            "petal width (cm)      1.8\n",
            "label                None\n",
            "Name: 127, dtype: object\n",
            "rekord SETELAH pelabelan:  sepal length (cm)    6.1\n",
            "sepal width (cm)     3.0\n",
            "petal length (cm)    4.9\n",
            "petal width (cm)     1.8\n",
            "label                 C2\n",
            "Name: 127, dtype: object\n",
            "sebelum: [[7.6, 7.6, 7.6, 7.6], [2.8, 2.8, 2.8, 2.8], [1.4, 1.4, 1.4, 1.4]]\n",
            "p[ 1 ] [3.0, 3.0, 3.0, 3.0]\n",
            "sesudah: [[7.6, 7.6, 7.6, 7.6], [3.0, 3.0, 3.0, 3.0], [1.4, 1.4, 1.4, 1.4]]\n",
            "jarak_list= [7.66355009117837, 4.378355855797927, 6.7149087856798175]\n",
            "jarak_list[ 1 ] 4.378355855797927\n",
            "min(jarak_list)= 4.378355855797927\n",
            "rekord sebelum pelabelan:  sepal length (cm)     6.4\n",
            "sepal width (cm)      2.8\n",
            "petal length (cm)     5.6\n",
            "petal width (cm)      2.1\n",
            "label                None\n",
            "Name: 128, dtype: object\n",
            "rekord SETELAH pelabelan:  sepal length (cm)    6.4\n",
            "sepal width (cm)     2.8\n",
            "petal length (cm)    5.6\n",
            "petal width (cm)     2.1\n",
            "label                 C2\n",
            "Name: 128, dtype: object\n",
            "sebelum: [[7.6, 7.6, 7.6, 7.6], [3.0, 3.0, 3.0, 3.0], [1.4, 1.4, 1.4, 1.4]]\n",
            "p[ 1 ] [2.8, 2.8, 2.8, 2.8]\n",
            "sesudah: [[7.6, 7.6, 7.6, 7.6], [2.8, 2.8, 2.8, 2.8], [1.4, 1.4, 1.4, 1.4]]\n",
            "jarak_list= [7.782030583337487, 5.462600113499065, 7.4565407529229]\n",
            "jarak_list[ 1 ] 5.462600113499065\n",
            "min(jarak_list)= 5.462600113499065\n",
            "rekord sebelum pelabelan:  sepal length (cm)     7.2\n",
            "sepal width (cm)      3.0\n",
            "petal length (cm)     5.8\n",
            "petal width (cm)      1.6\n",
            "label                None\n",
            "Name: 129, dtype: object\n",
            "rekord SETELAH pelabelan:  sepal length (cm)    7.2\n",
            "sepal width (cm)     3.0\n",
            "petal length (cm)    5.8\n",
            "petal width (cm)     1.6\n",
            "label                 C2\n",
            "Name: 129, dtype: object\n",
            "sebelum: [[7.6, 7.6, 7.6, 7.6], [2.8, 2.8, 2.8, 2.8], [1.4, 1.4, 1.4, 1.4]]\n",
            "p[ 1 ] [3.0, 3.0, 3.0, 3.0]\n",
            "sesudah: [[7.6, 7.6, 7.6, 7.6], [3.0, 3.0, 3.0, 3.0], [1.4, 1.4, 1.4, 1.4]]\n",
            "jarak_list= [7.603946343840151, 5.497272050753901, 7.76530746332687]\n",
            "jarak_list[ 1 ] 5.497272050753901\n",
            "min(jarak_list)= 5.497272050753901\n",
            "rekord sebelum pelabelan:  sepal length (cm)     7.4\n",
            "sepal width (cm)      2.8\n",
            "petal length (cm)     6.1\n",
            "petal width (cm)      1.9\n",
            "label                None\n",
            "Name: 130, dtype: object\n",
            "rekord SETELAH pelabelan:  sepal length (cm)    7.4\n",
            "sepal width (cm)     2.8\n",
            "petal length (cm)    6.1\n",
            "petal width (cm)     1.9\n",
            "label                 C2\n",
            "Name: 130, dtype: object\n",
            "sebelum: [[7.6, 7.6, 7.6, 7.6], [3.0, 3.0, 3.0, 3.0], [1.4, 1.4, 1.4, 1.4]]\n",
            "p[ 1 ] [2.8, 2.8, 2.8, 2.8]\n",
            "sesudah: [[7.6, 7.6, 7.6, 7.6], [2.8, 2.8, 2.8, 2.8], [1.4, 1.4, 1.4, 1.4]]\n",
            "jarak_list= [6.879680225126746, 6.372597586541929, 8.565628990331065]\n",
            "jarak_list[ 1 ] 6.372597586541929\n",
            "min(jarak_list)= 6.372597586541929\n",
            "rekord sebelum pelabelan:  sepal length (cm)     7.9\n",
            "sepal width (cm)      3.8\n",
            "petal length (cm)     6.4\n",
            "petal width (cm)      2.0\n",
            "label                None\n",
            "Name: 131, dtype: object\n",
            "rekord SETELAH pelabelan:  sepal length (cm)    7.9\n",
            "sepal width (cm)     3.8\n",
            "petal length (cm)    6.4\n",
            "petal width (cm)     2.0\n",
            "label                 C2\n",
            "Name: 131, dtype: object\n",
            "sebelum: [[7.6, 7.6, 7.6, 7.6], [2.8, 2.8, 2.8, 2.8], [1.4, 1.4, 1.4, 1.4]]\n",
            "p[ 1 ] [3.8, 3.8, 3.8, 3.8]\n",
            "sesudah: [[7.6, 7.6, 7.6, 7.6], [3.8, 3.8, 3.8, 3.8], [1.4, 1.4, 1.4, 1.4]]\n",
            "jarak_list= [7.592101158440922, 3.682390527904394, 6.726068688320094]\n",
            "jarak_list[ 1 ] 3.682390527904394\n",
            "min(jarak_list)= 3.682390527904394\n",
            "rekord sebelum pelabelan:  sepal length (cm)     6.4\n",
            "sepal width (cm)      2.8\n",
            "petal length (cm)     5.6\n",
            "petal width (cm)      2.2\n",
            "label                None\n",
            "Name: 132, dtype: object\n",
            "rekord SETELAH pelabelan:  sepal length (cm)    6.4\n",
            "sepal width (cm)     2.8\n",
            "petal length (cm)    5.6\n",
            "petal width (cm)     2.2\n",
            "label                 C2\n",
            "Name: 132, dtype: object\n",
            "sebelum: [[7.6, 7.6, 7.6, 7.6], [3.8, 3.8, 3.8, 3.8], [1.4, 1.4, 1.4, 1.4]]\n",
            "p[ 1 ] [2.8, 2.8, 2.8, 2.8]\n",
            "sesudah: [[7.6, 7.6, 7.6, 7.6], [2.8, 2.8, 2.8, 2.8], [1.4, 1.4, 1.4, 1.4]]\n",
            "jarak_list= [8.257723657279891, 4.38520238985614, 6.298412498399895]\n",
            "jarak_list[ 1 ] 4.38520238985614\n",
            "min(jarak_list)= 4.38520238985614\n",
            "rekord sebelum pelabelan:  sepal length (cm)     6.3\n",
            "sepal width (cm)      2.8\n",
            "petal length (cm)     5.1\n",
            "petal width (cm)      1.5\n",
            "label                None\n",
            "Name: 133, dtype: object\n",
            "rekord SETELAH pelabelan:  sepal length (cm)    6.3\n",
            "sepal width (cm)     2.8\n",
            "petal length (cm)    5.1\n",
            "petal width (cm)     1.5\n",
            "label                 C2\n",
            "Name: 133, dtype: object\n",
            "sebelum: [[7.6, 7.6, 7.6, 7.6], [2.8, 2.8, 2.8, 2.8], [1.4, 1.4, 1.4, 1.4]]\n",
            "p[ 1 ] [2.8, 2.8, 2.8, 2.8]\n",
            "sesudah: [[7.6, 7.6, 7.6, 7.6], [2.8, 2.8, 2.8, 2.8], [1.4, 1.4, 1.4, 1.4]]\n",
            "jarak_list= [8.34805366537614, 4.553020975132884, 6.416385275215321]\n",
            "jarak_list[ 1 ] 4.553020975132884\n",
            "min(jarak_list)= 4.553020975132884\n",
            "rekord sebelum pelabelan:  sepal length (cm)     6.1\n",
            "sepal width (cm)      2.6\n",
            "petal length (cm)     5.6\n",
            "petal width (cm)      1.4\n",
            "label                None\n",
            "Name: 134, dtype: object\n",
            "rekord SETELAH pelabelan:  sepal length (cm)    6.1\n",
            "sepal width (cm)     2.6\n",
            "petal length (cm)    5.6\n",
            "petal width (cm)     1.4\n",
            "label                 C2\n",
            "Name: 134, dtype: object\n",
            "sebelum: [[7.6, 7.6, 7.6, 7.6], [2.8, 2.8, 2.8, 2.8], [1.4, 1.4, 1.4, 1.4]]\n",
            "p[ 1 ] [2.6, 2.6, 2.6, 2.6]\n",
            "sesudah: [[7.6, 7.6, 7.6, 7.6], [2.6, 2.6, 2.6, 2.6], [1.4, 1.4, 1.4, 1.4]]\n",
            "jarak_list= [7.177046746399245, 6.205642593640081, 8.071554992688831]\n",
            "jarak_list[ 1 ] 6.205642593640081\n",
            "min(jarak_list)= 6.205642593640081\n",
            "rekord sebelum pelabelan:  sepal length (cm)     7.7\n",
            "sepal width (cm)      3.0\n",
            "petal length (cm)     6.1\n",
            "petal width (cm)      2.3\n",
            "label                None\n",
            "Name: 135, dtype: object\n",
            "rekord SETELAH pelabelan:  sepal length (cm)    7.7\n",
            "sepal width (cm)     3.0\n",
            "petal length (cm)    6.1\n",
            "petal width (cm)     2.3\n",
            "label                 C2\n",
            "Name: 135, dtype: object\n",
            "sebelum: [[7.6, 7.6, 7.6, 7.6], [2.6, 2.6, 2.6, 2.6], [1.4, 1.4, 1.4, 1.4]]\n",
            "p[ 1 ] [3.0, 3.0, 3.0, 3.0]\n",
            "sesudah: [[7.6, 7.6, 7.6, 7.6], [3.0, 3.0, 3.0, 3.0], [1.4, 1.4, 1.4, 1.4]]\n",
            "jarak_list= [7.0971825395716, 4.262628297189423, 6.830080526611674]\n",
            "jarak_list[ 1 ] 4.262628297189423\n",
            "min(jarak_list)= 4.262628297189423\n",
            "rekord sebelum pelabelan:  sepal length (cm)     6.3\n",
            "sepal width (cm)      3.4\n",
            "petal length (cm)     5.6\n",
            "petal width (cm)      2.4\n",
            "label                None\n",
            "Name: 136, dtype: object\n",
            "rekord SETELAH pelabelan:  sepal length (cm)    6.3\n",
            "sepal width (cm)     3.4\n",
            "petal length (cm)    5.6\n",
            "petal width (cm)     2.4\n",
            "label                 C2\n",
            "Name: 136, dtype: object\n",
            "sebelum: [[7.6, 7.6, 7.6, 7.6], [3.0, 3.0, 3.0, 3.0], [1.4, 1.4, 1.4, 1.4]]\n",
            "p[ 1 ] [3.4, 3.4, 3.4, 3.4]\n",
            "sesudah: [[7.6, 7.6, 7.6, 7.6], [3.4, 3.4, 3.4, 3.4], [1.4, 1.4, 1.4, 1.4]]\n",
            "jarak_list= [7.729165543575839, 4.007492981902776, 6.697760819856141]\n",
            "jarak_list[ 1 ] 4.007492981902776\n",
            "min(jarak_list)= 4.007492981902776\n",
            "rekord sebelum pelabelan:  sepal length (cm)     6.4\n",
            "sepal width (cm)      3.1\n",
            "petal length (cm)     5.5\n",
            "petal width (cm)      1.8\n",
            "label                None\n",
            "Name: 137, dtype: object\n",
            "rekord SETELAH pelabelan:  sepal length (cm)    6.4\n",
            "sepal width (cm)     3.1\n",
            "petal length (cm)    5.5\n",
            "petal width (cm)     1.8\n",
            "label                 C2\n",
            "Name: 137, dtype: object\n",
            "sebelum: [[7.6, 7.6, 7.6, 7.6], [3.4, 3.4, 3.4, 3.4], [1.4, 1.4, 1.4, 1.4]]\n",
            "p[ 1 ] [3.1, 3.1, 3.1, 3.1]\n",
            "sesudah: [[7.6, 7.6, 7.6, 7.6], [3.1, 3.1, 3.1, 3.1], [1.4, 1.4, 1.4, 1.4]]\n",
            "jarak_list= [8.07465169527454, 3.605551275463989, 5.9531504264548865]\n",
            "jarak_list[ 1 ] 3.605551275463989\n",
            "min(jarak_list)= 3.605551275463989\n",
            "rekord sebelum pelabelan:  sepal length (cm)     6.0\n",
            "sepal width (cm)      3.0\n",
            "petal length (cm)     4.8\n",
            "petal width (cm)      1.8\n",
            "label                None\n",
            "Name: 138, dtype: object\n",
            "rekord SETELAH pelabelan:  sepal length (cm)    6.0\n",
            "sepal width (cm)     3.0\n",
            "petal length (cm)    4.8\n",
            "petal width (cm)     1.8\n",
            "label                 C2\n",
            "Name: 138, dtype: object\n",
            "sebelum: [[7.6, 7.6, 7.6, 7.6], [3.1, 3.1, 3.1, 3.1], [1.4, 1.4, 1.4, 1.4]]\n",
            "p[ 1 ] [3.0, 3.0, 3.0, 3.0]\n",
            "sesudah: [[7.6, 7.6, 7.6, 7.6], [3.0, 3.0, 3.0, 3.0], [1.4, 1.4, 1.4, 1.4]]\n",
            "jarak_list= [7.471947537289057, 4.6679760067935225, 7.044856279584418]\n",
            "jarak_list[ 1 ] 4.6679760067935225\n",
            "min(jarak_list)= 4.6679760067935225\n",
            "rekord sebelum pelabelan:  sepal length (cm)     6.9\n",
            "sepal width (cm)      3.1\n",
            "petal length (cm)     5.4\n",
            "petal width (cm)      2.1\n",
            "label                None\n",
            "Name: 139, dtype: object\n",
            "rekord SETELAH pelabelan:  sepal length (cm)    6.9\n",
            "sepal width (cm)     3.1\n",
            "petal length (cm)    5.4\n",
            "petal width (cm)     2.1\n",
            "label                 C2\n",
            "Name: 139, dtype: object\n",
            "sebelum: [[7.6, 7.6, 7.6, 7.6], [3.0, 3.0, 3.0, 3.0], [1.4, 1.4, 1.4, 1.4]]\n",
            "p[ 1 ] [3.1, 3.1, 3.1, 3.1]\n",
            "sesudah: [[7.6, 7.6, 7.6, 7.6], [3.1, 3.1, 3.1, 3.1], [1.4, 1.4, 1.4, 1.4]]\n",
            "jarak_list= [7.218032973047435, 4.43846820423443, 7.044146506142529]\n",
            "jarak_list[ 1 ] 4.43846820423443\n",
            "min(jarak_list)= 4.43846820423443\n",
            "rekord sebelum pelabelan:  sepal length (cm)     6.7\n",
            "sepal width (cm)      3.1\n",
            "petal length (cm)     5.6\n",
            "petal width (cm)      2.4\n",
            "label                None\n",
            "Name: 140, dtype: object\n",
            "rekord SETELAH pelabelan:  sepal length (cm)    6.7\n",
            "sepal width (cm)     3.1\n",
            "petal length (cm)    5.6\n",
            "petal width (cm)     2.4\n",
            "label                 C2\n",
            "Name: 140, dtype: object\n",
            "sebelum: [[7.6, 7.6, 7.6, 7.6], [3.1, 3.1, 3.1, 3.1], [1.4, 1.4, 1.4, 1.4]]\n",
            "p[ 1 ] [3.1, 3.1, 3.1, 3.1]\n",
            "sesudah: [[7.6, 7.6, 7.6, 7.6], [3.1, 3.1, 3.1, 3.1], [1.4, 1.4, 1.4, 1.4]]\n",
            "jarak_list= [7.421590126111789, 4.368065933568311, 6.902173570694959]\n",
            "jarak_list[ 1 ] 4.368065933568311\n",
            "min(jarak_list)= 4.368065933568311\n",
            "rekord sebelum pelabelan:  sepal length (cm)     6.9\n",
            "sepal width (cm)      3.1\n",
            "petal length (cm)     5.1\n",
            "petal width (cm)      2.3\n",
            "label                None\n",
            "Name: 141, dtype: object\n",
            "rekord SETELAH pelabelan:  sepal length (cm)    6.9\n",
            "sepal width (cm)     3.1\n",
            "petal length (cm)    5.1\n",
            "petal width (cm)     2.3\n",
            "label                 C2\n",
            "Name: 141, dtype: object\n",
            "sebelum: [[7.6, 7.6, 7.6, 7.6], [3.1, 3.1, 3.1, 3.1], [1.4, 1.4, 1.4, 1.4]]\n",
            "p[ 1 ] [3.1, 3.1, 3.1, 3.1]\n",
            "sesudah: [[7.6, 7.6, 7.6, 7.6], [3.1, 3.1, 3.1, 3.1], [1.4, 1.4, 1.4, 1.4]]\n",
            "jarak_list= [8.123422923866514, 3.590264614203248, 5.915234568468101]\n",
            "jarak_list[ 1 ] 3.590264614203248\n",
            "min(jarak_list)= 3.590264614203248\n",
            "rekord sebelum pelabelan:  sepal length (cm)     5.8\n",
            "sepal width (cm)      2.7\n",
            "petal length (cm)     5.1\n",
            "petal width (cm)      1.9\n",
            "label                None\n",
            "Name: 142, dtype: object\n",
            "rekord SETELAH pelabelan:  sepal length (cm)    5.8\n",
            "sepal width (cm)     2.7\n",
            "petal length (cm)    5.1\n",
            "petal width (cm)     1.9\n",
            "label                 C2\n",
            "Name: 142, dtype: object\n",
            "sebelum: [[7.6, 7.6, 7.6, 7.6], [3.1, 3.1, 3.1, 3.1], [1.4, 1.4, 1.4, 1.4]]\n",
            "p[ 1 ] [2.7, 2.7, 2.7, 2.7]\n",
            "sesudah: [[7.6, 7.6, 7.6, 7.6], [2.7, 2.7, 2.7, 2.7], [1.4, 1.4, 1.4, 1.4]]\n",
            "jarak_list= [7.140028011149536, 5.240229002629561, 7.311634564172365]\n",
            "jarak_list[ 1 ] 5.240229002629561\n",
            "min(jarak_list)= 5.240229002629561\n",
            "rekord sebelum pelabelan:  sepal length (cm)     6.8\n",
            "sepal width (cm)      3.2\n",
            "petal length (cm)     5.9\n",
            "petal width (cm)      2.3\n",
            "label                None\n",
            "Name: 143, dtype: object\n",
            "rekord SETELAH pelabelan:  sepal length (cm)    6.8\n",
            "sepal width (cm)     3.2\n",
            "petal length (cm)    5.9\n",
            "petal width (cm)     2.3\n",
            "label                 C2\n",
            "Name: 143, dtype: object\n",
            "sebelum: [[7.6, 7.6, 7.6, 7.6], [2.7, 2.7, 2.7, 2.7], [1.4, 1.4, 1.4, 1.4]]\n",
            "p[ 1 ] [3.2, 3.2, 3.2, 3.2]\n",
            "sesudah: [[7.6, 7.6, 7.6, 7.6], [3.2, 3.2, 3.2, 3.2], [1.4, 1.4, 1.4, 1.4]]\n",
            "jarak_list= [6.994283380018285, 4.358898943540674, 7.169379331573969]\n",
            "jarak_list[ 1 ] 4.358898943540674\n",
            "min(jarak_list)= 4.358898943540674\n",
            "rekord sebelum pelabelan:  sepal length (cm)     6.7\n",
            "sepal width (cm)      3.3\n",
            "petal length (cm)     5.7\n",
            "petal width (cm)      2.5\n",
            "label                None\n",
            "Name: 144, dtype: object\n",
            "rekord SETELAH pelabelan:  sepal length (cm)    6.7\n",
            "sepal width (cm)     3.3\n",
            "petal length (cm)    5.7\n",
            "petal width (cm)     2.5\n",
            "label                 C2\n",
            "Name: 144, dtype: object\n",
            "sebelum: [[7.6, 7.6, 7.6, 7.6], [3.2, 3.2, 3.2, 3.2], [1.4, 1.4, 1.4, 1.4]]\n",
            "p[ 1 ] [3.3, 3.3, 3.3, 3.3]\n",
            "sesudah: [[7.6, 7.6, 7.6, 7.6], [3.3, 3.3, 3.3, 3.3], [1.4, 1.4, 1.4, 1.4]]\n",
            "jarak_list= [7.471278337741139, 4.032369030731191, 6.77495387438173]\n",
            "jarak_list[ 1 ] 4.032369030731191\n",
            "min(jarak_list)= 4.032369030731191\n",
            "rekord sebelum pelabelan:  sepal length (cm)     6.7\n",
            "sepal width (cm)      3.0\n",
            "petal length (cm)     5.2\n",
            "petal width (cm)      2.3\n",
            "label                None\n",
            "Name: 145, dtype: object\n",
            "rekord SETELAH pelabelan:  sepal length (cm)    6.7\n",
            "sepal width (cm)     3.0\n",
            "petal length (cm)    5.2\n",
            "petal width (cm)     2.3\n",
            "label                 C2\n",
            "Name: 145, dtype: object\n",
            "sebelum: [[7.6, 7.6, 7.6, 7.6], [3.3, 3.3, 3.3, 3.3], [1.4, 1.4, 1.4, 1.4]]\n",
            "p[ 1 ] [3.0, 3.0, 3.0, 3.0]\n",
            "sesudah: [[7.6, 7.6, 7.6, 7.6], [3.0, 3.0, 3.0, 3.0], [1.4, 1.4, 1.4, 1.4]]\n",
            "jarak_list= [8.182297965730653, 4.043513323831146, 6.199193495931548]\n",
            "jarak_list[ 1 ] 4.043513323831146\n",
            "min(jarak_list)= 4.043513323831146\n",
            "rekord sebelum pelabelan:  sepal length (cm)     6.3\n",
            "sepal width (cm)      2.5\n",
            "petal length (cm)     5.0\n",
            "petal width (cm)      1.9\n",
            "label                None\n",
            "Name: 146, dtype: object\n",
            "rekord SETELAH pelabelan:  sepal length (cm)    6.3\n",
            "sepal width (cm)     2.5\n",
            "petal length (cm)    5.0\n",
            "petal width (cm)     1.9\n",
            "label                 C2\n",
            "Name: 146, dtype: object\n",
            "sebelum: [[7.6, 7.6, 7.6, 7.6], [3.0, 3.0, 3.0, 3.0], [1.4, 1.4, 1.4, 1.4]]\n",
            "p[ 1 ] [2.5, 2.5, 2.5, 2.5]\n",
            "sesudah: [[7.6, 7.6, 7.6, 7.6], [2.5, 2.5, 2.5, 2.5], [1.4, 1.4, 1.4, 1.4]]\n",
            "jarak_list= [7.712976079309464, 4.877499359302879, 6.585590330410783]\n",
            "jarak_list[ 1 ] 4.877499359302879\n",
            "min(jarak_list)= 4.877499359302879\n",
            "rekord sebelum pelabelan:  sepal length (cm)     6.5\n",
            "sepal width (cm)      3.0\n",
            "petal length (cm)     5.2\n",
            "petal width (cm)      2.0\n",
            "label                None\n",
            "Name: 147, dtype: object\n",
            "rekord SETELAH pelabelan:  sepal length (cm)    6.5\n",
            "sepal width (cm)     3.0\n",
            "petal length (cm)    5.2\n",
            "petal width (cm)     2.0\n",
            "label                 C2\n",
            "Name: 147, dtype: object\n",
            "sebelum: [[7.6, 7.6, 7.6, 7.6], [2.5, 2.5, 2.5, 2.5], [1.4, 1.4, 1.4, 1.4]]\n",
            "p[ 1 ] [3.0, 3.0, 3.0, 3.0]\n",
            "sesudah: [[7.6, 7.6, 7.6, 7.6], [3.0, 3.0, 3.0, 3.0], [1.4, 1.4, 1.4, 1.4]]\n",
            "jarak_list= [7.2477582741148305, 4.080441152620634, 6.621933252457322]\n",
            "jarak_list[ 1 ] 4.080441152620634\n",
            "min(jarak_list)= 4.080441152620634\n",
            "rekord sebelum pelabelan:  sepal length (cm)     6.2\n",
            "sepal width (cm)      3.4\n",
            "petal length (cm)     5.4\n",
            "petal width (cm)      2.3\n",
            "label                None\n",
            "Name: 148, dtype: object\n",
            "rekord SETELAH pelabelan:  sepal length (cm)    6.2\n",
            "sepal width (cm)     3.4\n",
            "petal length (cm)    5.4\n",
            "petal width (cm)     2.3\n",
            "label                 C2\n",
            "Name: 148, dtype: object\n",
            "sebelum: [[7.6, 7.6, 7.6, 7.6], [3.0, 3.0, 3.0, 3.0], [1.4, 1.4, 1.4, 1.4]]\n",
            "p[ 1 ] [3.4, 3.4, 3.4, 3.4]\n",
            "sesudah: [[7.6, 7.6, 7.6, 7.6], [3.4, 3.4, 3.4, 3.4], [1.4, 1.4, 1.4, 1.4]]\n",
            "jarak_list= [7.996249120681521, 3.4438350715445134, 6.0547502012882415]\n",
            "jarak_list[ 1 ] 3.4438350715445134\n",
            "min(jarak_list)= 3.4438350715445134\n",
            "rekord sebelum pelabelan:  sepal length (cm)     5.9\n",
            "sepal width (cm)      3.0\n",
            "petal length (cm)     5.1\n",
            "petal width (cm)      1.8\n",
            "label                None\n",
            "Name: 149, dtype: object\n",
            "rekord SETELAH pelabelan:  sepal length (cm)    5.9\n",
            "sepal width (cm)     3.0\n",
            "petal length (cm)    5.1\n",
            "petal width (cm)     1.8\n",
            "label                 C2\n",
            "Name: 149, dtype: object\n",
            "sebelum: [[7.6, 7.6, 7.6, 7.6], [3.4, 3.4, 3.4, 3.4], [1.4, 1.4, 1.4, 1.4]]\n",
            "p[ 1 ] [3.0, 3.0, 3.0, 3.0]\n",
            "sesudah: [[7.6, 7.6, 7.6, 7.6], [3.0, 3.0, 3.0, 3.0], [1.4, 1.4, 1.4, 1.4]]\n"
          ]
        }
      ]
    },
    {
      "cell_type": "code",
      "source": [
        "def mse(vektor1, vektor2):\n",
        "    try:\n",
        "      jarak=0\n",
        "      square_sum=0\n",
        "      for i in range(len(vektor1)):\n",
        "        jarak=vektor1[i]-vektor2[i]\n",
        "        square=jarak*jarak\n",
        "        square_sum=square_sum+square\n",
        "      _mse=square_sum/len(vektor1)\n",
        "    except:\n",
        "      print('terjadi kesalahan: mungkin panjang vektor yang dikuru tidak sama, atau indeks vektor bukan 0,1,2,..')\n",
        "    finally:\n",
        "      return _mse"
      ],
      "metadata": {
        "id": "p40fu5u4ZNiB"
      },
      "execution_count": 25,
      "outputs": []
    },
    {
      "cell_type": "code",
      "source": [
        "a=mse([2,3,4],[2,4,3])\n",
        "print(a)"
      ],
      "metadata": {
        "colab": {
          "base_uri": "https://localhost:8080/"
        },
        "id": "SVkxeOvGZQEU",
        "outputId": "df8625dc-0d48-43fa-b547-6fe919682828"
      },
      "execution_count": 26,
      "outputs": [
        {
          "output_type": "stream",
          "name": "stdout",
          "text": [
            "0.6666666666666666\n"
          ]
        }
      ]
    },
    {
      "cell_type": "markdown",
      "source": [
        ""
      ],
      "metadata": {
        "id": "sZpdl_oNse7E"
      }
    },
    {
      "cell_type": "code",
      "source": [
        "tes.data_frame.columns[1]"
      ],
      "metadata": {
        "colab": {
          "base_uri": "https://localhost:8080/",
          "height": 35
        },
        "id": "LzZNQak0sxCk",
        "outputId": "85b11cdb-fea4-4032-ffa6-6fb8b22d829a"
      },
      "execution_count": 7,
      "outputs": [
        {
          "output_type": "execute_result",
          "data": {
            "text/plain": [
              "'sepal width (cm)'"
            ],
            "application/vnd.google.colaboratory.intrinsic+json": {
              "type": "string"
            }
          },
          "metadata": {},
          "execution_count": 7
        }
      ]
    },
    {
      "cell_type": "code",
      "source": [
        "res=[\"C\" for i in pusat_sekutu]\n",
        "for i in range(len(pusat_sekutu)):\n",
        "  res[i]=\"C\"+str(i)\n",
        "  print(res[i])"
      ],
      "metadata": {
        "colab": {
          "base_uri": "https://localhost:8080/"
        },
        "id": "omDzQTvtme1W",
        "outputId": "34e1d27c-e735-4cde-e12a-cd8d43df7df7"
      },
      "execution_count": 26,
      "outputs": [
        {
          "output_type": "stream",
          "name": "stdout",
          "text": [
            "C0\n",
            "C1\n",
            "C2\n"
          ]
        }
      ]
    },
    {
      "cell_type": "code",
      "source": [
        "tes.centroid"
      ],
      "metadata": {
        "colab": {
          "base_uri": "https://localhost:8080/"
        },
        "id": "jwtrLnJPMMj5",
        "outputId": "ad7d810e-d481-4fd9-9bd0-f5476c767f3d"
      },
      "execution_count": 43,
      "outputs": [
        {
          "output_type": "execute_result",
          "data": {
            "text/plain": [
              "[149, 49, 148]"
            ]
          },
          "metadata": {},
          "execution_count": 43
        }
      ]
    },
    {
      "cell_type": "code",
      "source": [
        "centroids=pusat_sekutu\n",
        "print(id(centroids))\n",
        "print(id(pusat_sekutu))\n",
        "\n",
        "centroids=[i for i in pusat_sekutu]\n",
        "print(id(centroids))\n",
        "print(id(pusat_sekutu))"
      ],
      "metadata": {
        "colab": {
          "base_uri": "https://localhost:8080/"
        },
        "id": "gNT60xxiUd2A",
        "outputId": "c28248bb-26fd-45ca-e842-c543fe2a3421"
      },
      "execution_count": 3,
      "outputs": [
        {
          "output_type": "stream",
          "name": "stdout",
          "text": [
            "139956502702432\n",
            "139956502702432\n",
            "139956371035232\n",
            "139956502702432\n"
          ]
        }
      ]
    },
    {
      "cell_type": "code",
      "source": [
        "data_frame_tes = pd.DataFrame(data['data'][0:2],columns=data['feature_names'])"
      ],
      "metadata": {
        "id": "9B_q69j6dbz-"
      },
      "execution_count": 46,
      "outputs": []
    },
    {
      "cell_type": "code",
      "source": [
        "data.data[0:3]"
      ],
      "metadata": {
        "id": "AEaAQumjej_q"
      },
      "execution_count": null,
      "outputs": []
    },
    {
      "cell_type": "code",
      "source": [
        "data['data'][0:3]"
      ],
      "metadata": {
        "id": "4NzgzBaNf95a"
      },
      "execution_count": null,
      "outputs": []
    },
    {
      "cell_type": "code",
      "source": [
        "data_frame_tes"
      ],
      "metadata": {
        "colab": {
          "base_uri": "https://localhost:8080/",
          "height": 112
        },
        "id": "S7C3m600gOb7",
        "outputId": "4e0e1a91-6a82-4ec8-f146-a86a446e3ebf"
      },
      "execution_count": 47,
      "outputs": [
        {
          "output_type": "execute_result",
          "data": {
            "text/plain": [
              "   sepal length (cm)  sepal width (cm)  petal length (cm)  petal width (cm)\n",
              "0                5.1               3.5                1.4               0.2\n",
              "1                4.9               3.0                1.4               0.2"
            ],
            "text/html": [
              "\n",
              "  <div id=\"df-87522210-d744-4c03-834e-bea02e415ec6\">\n",
              "    <div class=\"colab-df-container\">\n",
              "      <div>\n",
              "<style scoped>\n",
              "    .dataframe tbody tr th:only-of-type {\n",
              "        vertical-align: middle;\n",
              "    }\n",
              "\n",
              "    .dataframe tbody tr th {\n",
              "        vertical-align: top;\n",
              "    }\n",
              "\n",
              "    .dataframe thead th {\n",
              "        text-align: right;\n",
              "    }\n",
              "</style>\n",
              "<table border=\"1\" class=\"dataframe\">\n",
              "  <thead>\n",
              "    <tr style=\"text-align: right;\">\n",
              "      <th></th>\n",
              "      <th>sepal length (cm)</th>\n",
              "      <th>sepal width (cm)</th>\n",
              "      <th>petal length (cm)</th>\n",
              "      <th>petal width (cm)</th>\n",
              "    </tr>\n",
              "  </thead>\n",
              "  <tbody>\n",
              "    <tr>\n",
              "      <th>0</th>\n",
              "      <td>5.1</td>\n",
              "      <td>3.5</td>\n",
              "      <td>1.4</td>\n",
              "      <td>0.2</td>\n",
              "    </tr>\n",
              "    <tr>\n",
              "      <th>1</th>\n",
              "      <td>4.9</td>\n",
              "      <td>3.0</td>\n",
              "      <td>1.4</td>\n",
              "      <td>0.2</td>\n",
              "    </tr>\n",
              "  </tbody>\n",
              "</table>\n",
              "</div>\n",
              "      <button class=\"colab-df-convert\" onclick=\"convertToInteractive('df-87522210-d744-4c03-834e-bea02e415ec6')\"\n",
              "              title=\"Convert this dataframe to an interactive table.\"\n",
              "              style=\"display:none;\">\n",
              "        \n",
              "  <svg xmlns=\"http://www.w3.org/2000/svg\" height=\"24px\"viewBox=\"0 0 24 24\"\n",
              "       width=\"24px\">\n",
              "    <path d=\"M0 0h24v24H0V0z\" fill=\"none\"/>\n",
              "    <path d=\"M18.56 5.44l.94 2.06.94-2.06 2.06-.94-2.06-.94-.94-2.06-.94 2.06-2.06.94zm-11 1L8.5 8.5l.94-2.06 2.06-.94-2.06-.94L8.5 2.5l-.94 2.06-2.06.94zm10 10l.94 2.06.94-2.06 2.06-.94-2.06-.94-.94-2.06-.94 2.06-2.06.94z\"/><path d=\"M17.41 7.96l-1.37-1.37c-.4-.4-.92-.59-1.43-.59-.52 0-1.04.2-1.43.59L10.3 9.45l-7.72 7.72c-.78.78-.78 2.05 0 2.83L4 21.41c.39.39.9.59 1.41.59.51 0 1.02-.2 1.41-.59l7.78-7.78 2.81-2.81c.8-.78.8-2.07 0-2.86zM5.41 20L4 18.59l7.72-7.72 1.47 1.35L5.41 20z\"/>\n",
              "  </svg>\n",
              "      </button>\n",
              "      \n",
              "  <style>\n",
              "    .colab-df-container {\n",
              "      display:flex;\n",
              "      flex-wrap:wrap;\n",
              "      gap: 12px;\n",
              "    }\n",
              "\n",
              "    .colab-df-convert {\n",
              "      background-color: #E8F0FE;\n",
              "      border: none;\n",
              "      border-radius: 50%;\n",
              "      cursor: pointer;\n",
              "      display: none;\n",
              "      fill: #1967D2;\n",
              "      height: 32px;\n",
              "      padding: 0 0 0 0;\n",
              "      width: 32px;\n",
              "    }\n",
              "\n",
              "    .colab-df-convert:hover {\n",
              "      background-color: #E2EBFA;\n",
              "      box-shadow: 0px 1px 2px rgba(60, 64, 67, 0.3), 0px 1px 3px 1px rgba(60, 64, 67, 0.15);\n",
              "      fill: #174EA6;\n",
              "    }\n",
              "\n",
              "    [theme=dark] .colab-df-convert {\n",
              "      background-color: #3B4455;\n",
              "      fill: #D2E3FC;\n",
              "    }\n",
              "\n",
              "    [theme=dark] .colab-df-convert:hover {\n",
              "      background-color: #434B5C;\n",
              "      box-shadow: 0px 1px 3px 1px rgba(0, 0, 0, 0.15);\n",
              "      filter: drop-shadow(0px 1px 2px rgba(0, 0, 0, 0.3));\n",
              "      fill: #FFFFFF;\n",
              "    }\n",
              "  </style>\n",
              "\n",
              "      <script>\n",
              "        const buttonEl =\n",
              "          document.querySelector('#df-87522210-d744-4c03-834e-bea02e415ec6 button.colab-df-convert');\n",
              "        buttonEl.style.display =\n",
              "          google.colab.kernel.accessAllowed ? 'block' : 'none';\n",
              "\n",
              "        async function convertToInteractive(key) {\n",
              "          const element = document.querySelector('#df-87522210-d744-4c03-834e-bea02e415ec6');\n",
              "          const dataTable =\n",
              "            await google.colab.kernel.invokeFunction('convertToInteractive',\n",
              "                                                     [key], {});\n",
              "          if (!dataTable) return;\n",
              "\n",
              "          const docLinkHtml = 'Like what you see? Visit the ' +\n",
              "            '<a target=\"_blank\" href=https://colab.research.google.com/notebooks/data_table.ipynb>data table notebook</a>'\n",
              "            + ' to learn more about interactive tables.';\n",
              "          element.innerHTML = '';\n",
              "          dataTable['output_type'] = 'display_data';\n",
              "          await google.colab.output.renderOutput(dataTable, element);\n",
              "          const docLink = document.createElement('div');\n",
              "          docLink.innerHTML = docLinkHtml;\n",
              "          element.appendChild(docLink);\n",
              "        }\n",
              "      </script>\n",
              "    </div>\n",
              "  </div>\n",
              "  "
            ]
          },
          "metadata": {},
          "execution_count": 47
        }
      ]
    },
    {
      "cell_type": "markdown",
      "source": [
        "Hitung mean:\n",
        "1. Untuk setiap klaster, semua anggota klaster dijumlahkan semuanya pada satu komponen, kemudian satu persartu komponen yang lain.\n",
        "2. Setiap hasil jumlah total dibagi dengan jumlah angota klaster.\n",
        "3. Hasil pekomponen adalah mean daripada klaster tersebut.\n",
        "<hr/>\n",
        "\n",
        "1. Untuk setiap klaster berarti:<br>\n",
        "Hitung y mulai dari indeks 0 ke panjang pusat_sekutu-1.<br>\n",
        "kemudian cek setiap x di semesta titik, apakah label sama dengan nilai indeks pusat_sekutu[y]?<br>\n",
        "Jika sama maka langsung jumlahkan dan simpan di sum[y], inisiasi sum[y]=0 di saat setiap y dimulai, jadi tepat dibawah loop y.<br>\n",
        "Sampai sini semestinya semua penjumlahan total tersimpan di sum.\n",
        "2. Lalu buat fungsi counter yang menghitung jumlah anggota setiap klaster.<br>\n",
        "Hitung y mulai dari indeks 0 ke panjang pusat_sekutu-1.<br>\n",
        "Inisiasi counter[y]=0 <br>\n",
        "Untuk setiap x yang labelnya sama dengan pusat_sekutu[y], tambahkan ke counter[y]\n",
        "<br> Demikian sehingga diperoleh counter yang menyatakan jumlah anggota perklaster.\n",
        "3. Kemudian buat fungsi yang menghitung mean dengan input adalah sum dan counter.<br> Nyatakan mean sebagai sum[y]/counter[y].\n",
        "4. SELESAI.\n"
      ],
      "metadata": {
        "id": "Ytu0vWY0680I"
      }
    },
    {
      "cell_type": "code",
      "source": [
        "#INI FUNGSI LAMA, OBSELET\n",
        "#Hitung mean dari klaster\n",
        "def sum_cluster(pusat_sekutu, data_frame,komponen):\n",
        "  sum=[0 for i in komponen]\n",
        "  for w in komponen:\n",
        "    for y in range(len(pusat_sekutu)):\n",
        "      for x in data_frame.index:\n",
        "        if data_frame.loc[x]['label']==pusat_sekutu[y]:\n",
        "          sum[y]=sum[y]+data_frame.at[x,data_frame.columns[w]]\n",
        "  return sum\n",
        "\n"
      ],
      "metadata": {
        "id": "xPpsQeMhlQsh"
      },
      "execution_count": 32,
      "outputs": []
    },
    {
      "cell_type": "code",
      "source": [
        "data_frame_tes=None\n",
        "for i in data_frame:\n",
        "  data_frame_tes"
      ],
      "metadata": {
        "id": "5x8EAt9Ocd1k"
      },
      "execution_count": null,
      "outputs": []
    },
    {
      "cell_type": "code",
      "source": [
        "#Alhamdulillah kode ini sudah diuji untuk menghitung mean perklaster\n",
        "def calculate_mean(data_frame,pusat_sekutu,komponen):\n",
        "  total_perklaster=[0 for i in pusat_sekutu]\n",
        "  counter_klaster=[0 for i in pusat_sekutu]\n",
        "  #print(total_perklaster)\n",
        "  for y in range(len(pusat_sekutu)):\n",
        "    total_perklaster[y]=[0 for j in komponen]\n",
        "  #print(total_perklaster[0])\n",
        "  for y in range(len(pusat_sekutu)):\n",
        "    sum=[0 for i in komponen]\n",
        "    counter_detil=0\n",
        "    for w in komponen:\n",
        "      for x in data_frame.index:\n",
        "        if data_frame.loc[x]['label']==pusat_sekutu[y]:\n",
        "          sum[w]=sum[w]+data_frame.at[x,data_frame.columns[w]]\n",
        "          if w==0 : counter_detil=counter_detil+1\n",
        "    counter_klaster[y]=counter_detil\n",
        "    total_perklaster[y]=sum\n",
        "\n",
        "  #Hitung mean:\n",
        "  mean_perklaster=[0 for y in pusat_sekutu]\n",
        "  for y in range(len(pusat_sekutu)):\n",
        "    mean_perklaster[y]=[total_perklaster[y][q]/counter_klaster[y] for q in komponen]\n",
        "\n",
        "  return mean_perklaster\n"
      ],
      "metadata": {
        "id": "M6kA-_9hT7Vn"
      },
      "execution_count": 94,
      "outputs": []
    },
    {
      "cell_type": "code",
      "source": [
        "a=calculate_mean(data_frame,pusat_sekutu,komponen)\n",
        "print(a)"
      ],
      "metadata": {
        "colab": {
          "base_uri": "https://localhost:8080/"
        },
        "id": "h2VFBAYYyMyS",
        "outputId": "73a3f319-f05d-4ede-d7f2-fec148e06df3"
      },
      "execution_count": 95,
      "outputs": [
        {
          "output_type": "stream",
          "name": "stdout",
          "text": [
            "[[5.383529411764707, 3.140000000000001, 2.723529411764706, 0.7717647058823527], [6.2818181818181795, 2.903636363636364, 4.889090909090909, 1.681818181818181], [7.340000000000001, 3.2, 6.33, 2.18]]\n"
          ]
        }
      ]
    },
    {
      "cell_type": "code",
      "source": [
        "print(total_perklaster)\n",
        "print(counter_klaster)\n",
        "print(mean_perklaster)"
      ],
      "metadata": {
        "colab": {
          "base_uri": "https://localhost:8080/"
        },
        "id": "OxlZViFlUzuX",
        "outputId": "031eeb2c-3e1b-41a5-b7cc-ad85cf1586e2"
      },
      "execution_count": 89,
      "outputs": [
        {
          "output_type": "stream",
          "name": "stdout",
          "text": [
            "[[250.29999999999998, 171.40000000000003, 73.10000000000001, 12.299999999999995], [356.6999999999998, 164.4, 280.29999999999995, 96.89999999999998], [269.5, 122.79999999999998, 210.29999999999998, 70.7]]\n",
            "[50, 55, 45]\n",
            "[[5.005999999999999, 3.428000000000001, 1.4620000000000002, 0.2459999999999999], [6.485454545454542, 2.9890909090909092, 5.096363636363636, 1.7618181818181815], [5.988888888888889, 2.7288888888888887, 4.673333333333333, 1.5711111111111111]]\n"
          ]
        }
      ]
    },
    {
      "cell_type": "code",
      "source": [
        "data_frame"
      ],
      "metadata": {
        "id": "IsaG0BUsCDtL"
      },
      "execution_count": null,
      "outputs": []
    },
    {
      "cell_type": "code",
      "source": [
        "y=0\n",
        "print(pusat_sekutu)\n",
        "print(pusat_sekutu[y])\n",
        "pusat_sekutu[1]"
      ],
      "metadata": {
        "colab": {
          "base_uri": "https://localhost:8080/"
        },
        "id": "CapJGWOEBgsS",
        "outputId": "f210fb09-90fe-4631-8cf1-4577fd3c7039"
      },
      "execution_count": 6,
      "outputs": [
        {
          "output_type": "stream",
          "name": "stdout",
          "text": [
            "[46, 27, 133]\n",
            "46\n"
          ]
        },
        {
          "output_type": "execute_result",
          "data": {
            "text/plain": [
              "27"
            ]
          },
          "metadata": {},
          "execution_count": 6
        }
      ]
    },
    {
      "cell_type": "code",
      "source": [
        "data_frame.columns[1]"
      ],
      "metadata": {
        "colab": {
          "base_uri": "https://localhost:8080/",
          "height": 35
        },
        "id": "dhGjgxhpM2SB",
        "outputId": "ab9e59c4-a69e-4e04-8e42-e697e5345321"
      },
      "execution_count": 21,
      "outputs": [
        {
          "output_type": "execute_result",
          "data": {
            "text/plain": [
              "'sepal width (cm)'"
            ],
            "application/vnd.google.colaboratory.intrinsic+json": {
              "type": "string"
            }
          },
          "metadata": {},
          "execution_count": 21
        }
      ]
    },
    {
      "cell_type": "code",
      "source": [
        "sum=[0 for i in range(len(pusat_sekutu))]\n",
        "for w in komponen:\n",
        "  for y in range(len(pusat_sekutu)):\n",
        "    for x in data_frame.index:\n",
        "      if data_frame.loc[x]['label']==pusat_sekutu[y]:\n",
        "        print(data_frame.at[x,data_frame.columns[w]])\n"
      ],
      "metadata": {
        "id": "D7aefTQOCMdA"
      },
      "execution_count": null,
      "outputs": []
    },
    {
      "cell_type": "code",
      "source": [
        "komponen"
      ],
      "metadata": {
        "colab": {
          "base_uri": "https://localhost:8080/"
        },
        "id": "XOTq25TsBkoP",
        "outputId": "cd73f7bc-5f3d-4a13-fed3-0ce6a3cebbbb"
      },
      "execution_count": 8,
      "outputs": [
        {
          "output_type": "execute_result",
          "data": {
            "text/plain": [
              "[0, 1, 2, 3]"
            ]
          },
          "metadata": {},
          "execution_count": 8
        }
      ]
    },
    {
      "cell_type": "code",
      "source": [
        "a=sum_cluster(pusat_sekutu, data_frame,komponen)\n",
        "print(a)"
      ],
      "metadata": {
        "colab": {
          "base_uri": "https://localhost:8080/"
        },
        "id": "gglof6A3BEnm",
        "outputId": "d139f162-66da-4acb-bb12-9fe9ca5daf44"
      },
      "execution_count": 25,
      "outputs": [
        {
          "output_type": "stream",
          "name": "stdout",
          "text": [
            "[245.49999999999991, 891.7999999999994, 941.3999999999994]\n"
          ]
        }
      ]
    },
    {
      "cell_type": "code",
      "source": [
        "#cek:\n",
        "sum=[i for i in pusat_sekutu]\n",
        "for i in data_frame.index:\n",
        "  sum[0]=sum[0]+data_frame.at[x,data_frame.columns[5]]\n",
        "\n",
        "print(sum)"
      ],
      "metadata": {
        "id": "ciHr0M0kOTxC"
      },
      "execution_count": null,
      "outputs": []
    },
    {
      "cell_type": "code",
      "source": [
        "sum=mean_calculation(pusat_sekutu, data_frame,komponen)"
      ],
      "metadata": {
        "id": "sZunQMkOpeYP"
      },
      "execution_count": null,
      "outputs": []
    },
    {
      "cell_type": "code",
      "source": [
        "pusat_sekutu"
      ],
      "metadata": {
        "colab": {
          "base_uri": "https://localhost:8080/"
        },
        "id": "Yrdk0I84DpL6",
        "outputId": "c35fdc3d-4adf-4e71-e28f-c5af52b406d0"
      },
      "execution_count": null,
      "outputs": [
        {
          "output_type": "execute_result",
          "data": {
            "text/plain": [
              "[10, 41, 71]"
            ]
          },
          "metadata": {},
          "execution_count": 36
        }
      ]
    },
    {
      "cell_type": "code",
      "source": [
        "data_frame"
      ],
      "metadata": {
        "colab": {
          "base_uri": "https://localhost:8080/",
          "height": 655
        },
        "id": "LnzZJLgWDrjU",
        "outputId": "dddc9a54-6385-44c9-cfef-6b7b6a3096e9"
      },
      "execution_count": null,
      "outputs": [
        {
          "output_type": "execute_result",
          "data": {
            "text/plain": [
              "     sepal length (cm)  sepal width (cm)  petal length (cm)  petal width (cm)  \\\n",
              "0                  5.1               3.5                1.4               0.2   \n",
              "1                  4.9               3.0                1.4               0.2   \n",
              "2                  4.7               3.2                1.3               0.2   \n",
              "3                  4.6               3.1                1.5               0.2   \n",
              "4                  5.0               3.6                1.4               0.2   \n",
              "..                 ...               ...                ...               ...   \n",
              "145                6.7               3.0                5.2               2.3   \n",
              "146                6.3               2.5                5.0               1.9   \n",
              "147                6.5               3.0                5.2               2.0   \n",
              "148                6.2               3.4                5.4               2.3   \n",
              "149                5.9               3.0                5.1               1.8   \n",
              "\n",
              "    label  \n",
              "0      10  \n",
              "1      10  \n",
              "2      10  \n",
              "3      10  \n",
              "4      10  \n",
              "..    ...  \n",
              "145    41  \n",
              "146    71  \n",
              "147    41  \n",
              "148    41  \n",
              "149    71  \n",
              "\n",
              "[150 rows x 5 columns]"
            ],
            "text/html": [
              "\n",
              "  <div id=\"df-6e1be0e0-7753-4eb8-8fdb-627f931521e1\">\n",
              "    <div class=\"colab-df-container\">\n",
              "      <div>\n",
              "<style scoped>\n",
              "    .dataframe tbody tr th:only-of-type {\n",
              "        vertical-align: middle;\n",
              "    }\n",
              "\n",
              "    .dataframe tbody tr th {\n",
              "        vertical-align: top;\n",
              "    }\n",
              "\n",
              "    .dataframe thead th {\n",
              "        text-align: right;\n",
              "    }\n",
              "</style>\n",
              "<table border=\"1\" class=\"dataframe\">\n",
              "  <thead>\n",
              "    <tr style=\"text-align: right;\">\n",
              "      <th></th>\n",
              "      <th>sepal length (cm)</th>\n",
              "      <th>sepal width (cm)</th>\n",
              "      <th>petal length (cm)</th>\n",
              "      <th>petal width (cm)</th>\n",
              "      <th>label</th>\n",
              "    </tr>\n",
              "  </thead>\n",
              "  <tbody>\n",
              "    <tr>\n",
              "      <th>0</th>\n",
              "      <td>5.1</td>\n",
              "      <td>3.5</td>\n",
              "      <td>1.4</td>\n",
              "      <td>0.2</td>\n",
              "      <td>10</td>\n",
              "    </tr>\n",
              "    <tr>\n",
              "      <th>1</th>\n",
              "      <td>4.9</td>\n",
              "      <td>3.0</td>\n",
              "      <td>1.4</td>\n",
              "      <td>0.2</td>\n",
              "      <td>10</td>\n",
              "    </tr>\n",
              "    <tr>\n",
              "      <th>2</th>\n",
              "      <td>4.7</td>\n",
              "      <td>3.2</td>\n",
              "      <td>1.3</td>\n",
              "      <td>0.2</td>\n",
              "      <td>10</td>\n",
              "    </tr>\n",
              "    <tr>\n",
              "      <th>3</th>\n",
              "      <td>4.6</td>\n",
              "      <td>3.1</td>\n",
              "      <td>1.5</td>\n",
              "      <td>0.2</td>\n",
              "      <td>10</td>\n",
              "    </tr>\n",
              "    <tr>\n",
              "      <th>4</th>\n",
              "      <td>5.0</td>\n",
              "      <td>3.6</td>\n",
              "      <td>1.4</td>\n",
              "      <td>0.2</td>\n",
              "      <td>10</td>\n",
              "    </tr>\n",
              "    <tr>\n",
              "      <th>...</th>\n",
              "      <td>...</td>\n",
              "      <td>...</td>\n",
              "      <td>...</td>\n",
              "      <td>...</td>\n",
              "      <td>...</td>\n",
              "    </tr>\n",
              "    <tr>\n",
              "      <th>145</th>\n",
              "      <td>6.7</td>\n",
              "      <td>3.0</td>\n",
              "      <td>5.2</td>\n",
              "      <td>2.3</td>\n",
              "      <td>41</td>\n",
              "    </tr>\n",
              "    <tr>\n",
              "      <th>146</th>\n",
              "      <td>6.3</td>\n",
              "      <td>2.5</td>\n",
              "      <td>5.0</td>\n",
              "      <td>1.9</td>\n",
              "      <td>71</td>\n",
              "    </tr>\n",
              "    <tr>\n",
              "      <th>147</th>\n",
              "      <td>6.5</td>\n",
              "      <td>3.0</td>\n",
              "      <td>5.2</td>\n",
              "      <td>2.0</td>\n",
              "      <td>41</td>\n",
              "    </tr>\n",
              "    <tr>\n",
              "      <th>148</th>\n",
              "      <td>6.2</td>\n",
              "      <td>3.4</td>\n",
              "      <td>5.4</td>\n",
              "      <td>2.3</td>\n",
              "      <td>41</td>\n",
              "    </tr>\n",
              "    <tr>\n",
              "      <th>149</th>\n",
              "      <td>5.9</td>\n",
              "      <td>3.0</td>\n",
              "      <td>5.1</td>\n",
              "      <td>1.8</td>\n",
              "      <td>71</td>\n",
              "    </tr>\n",
              "  </tbody>\n",
              "</table>\n",
              "<p>150 rows × 5 columns</p>\n",
              "</div>\n",
              "      <button class=\"colab-df-convert\" onclick=\"convertToInteractive('df-6e1be0e0-7753-4eb8-8fdb-627f931521e1')\"\n",
              "              title=\"Convert this dataframe to an interactive table.\"\n",
              "              style=\"display:none;\">\n",
              "        \n",
              "  <svg xmlns=\"http://www.w3.org/2000/svg\" height=\"24px\"viewBox=\"0 0 24 24\"\n",
              "       width=\"24px\">\n",
              "    <path d=\"M0 0h24v24H0V0z\" fill=\"none\"/>\n",
              "    <path d=\"M18.56 5.44l.94 2.06.94-2.06 2.06-.94-2.06-.94-.94-2.06-.94 2.06-2.06.94zm-11 1L8.5 8.5l.94-2.06 2.06-.94-2.06-.94L8.5 2.5l-.94 2.06-2.06.94zm10 10l.94 2.06.94-2.06 2.06-.94-2.06-.94-.94-2.06-.94 2.06-2.06.94z\"/><path d=\"M17.41 7.96l-1.37-1.37c-.4-.4-.92-.59-1.43-.59-.52 0-1.04.2-1.43.59L10.3 9.45l-7.72 7.72c-.78.78-.78 2.05 0 2.83L4 21.41c.39.39.9.59 1.41.59.51 0 1.02-.2 1.41-.59l7.78-7.78 2.81-2.81c.8-.78.8-2.07 0-2.86zM5.41 20L4 18.59l7.72-7.72 1.47 1.35L5.41 20z\"/>\n",
              "  </svg>\n",
              "      </button>\n",
              "      \n",
              "  <style>\n",
              "    .colab-df-container {\n",
              "      display:flex;\n",
              "      flex-wrap:wrap;\n",
              "      gap: 12px;\n",
              "    }\n",
              "\n",
              "    .colab-df-convert {\n",
              "      background-color: #E8F0FE;\n",
              "      border: none;\n",
              "      border-radius: 50%;\n",
              "      cursor: pointer;\n",
              "      display: none;\n",
              "      fill: #1967D2;\n",
              "      height: 32px;\n",
              "      padding: 0 0 0 0;\n",
              "      width: 32px;\n",
              "    }\n",
              "\n",
              "    .colab-df-convert:hover {\n",
              "      background-color: #E2EBFA;\n",
              "      box-shadow: 0px 1px 2px rgba(60, 64, 67, 0.3), 0px 1px 3px 1px rgba(60, 64, 67, 0.15);\n",
              "      fill: #174EA6;\n",
              "    }\n",
              "\n",
              "    [theme=dark] .colab-df-convert {\n",
              "      background-color: #3B4455;\n",
              "      fill: #D2E3FC;\n",
              "    }\n",
              "\n",
              "    [theme=dark] .colab-df-convert:hover {\n",
              "      background-color: #434B5C;\n",
              "      box-shadow: 0px 1px 3px 1px rgba(0, 0, 0, 0.15);\n",
              "      filter: drop-shadow(0px 1px 2px rgba(0, 0, 0, 0.3));\n",
              "      fill: #FFFFFF;\n",
              "    }\n",
              "  </style>\n",
              "\n",
              "      <script>\n",
              "        const buttonEl =\n",
              "          document.querySelector('#df-6e1be0e0-7753-4eb8-8fdb-627f931521e1 button.colab-df-convert');\n",
              "        buttonEl.style.display =\n",
              "          google.colab.kernel.accessAllowed ? 'block' : 'none';\n",
              "\n",
              "        async function convertToInteractive(key) {\n",
              "          const element = document.querySelector('#df-6e1be0e0-7753-4eb8-8fdb-627f931521e1');\n",
              "          const dataTable =\n",
              "            await google.colab.kernel.invokeFunction('convertToInteractive',\n",
              "                                                     [key], {});\n",
              "          if (!dataTable) return;\n",
              "\n",
              "          const docLinkHtml = 'Like what you see? Visit the ' +\n",
              "            '<a target=\"_blank\" href=https://colab.research.google.com/notebooks/data_table.ipynb>data table notebook</a>'\n",
              "            + ' to learn more about interactive tables.';\n",
              "          element.innerHTML = '';\n",
              "          dataTable['output_type'] = 'display_data';\n",
              "          await google.colab.output.renderOutput(dataTable, element);\n",
              "          const docLink = document.createElement('div');\n",
              "          docLink.innerHTML = docLinkHtml;\n",
              "          element.appendChild(docLink);\n",
              "        }\n",
              "      </script>\n",
              "    </div>\n",
              "  </div>\n",
              "  "
            ]
          },
          "metadata": {},
          "execution_count": 37
        }
      ]
    },
    {
      "cell_type": "code",
      "source": [
        "tes = [i*j for i in range(6) for j in range(2)]"
      ],
      "metadata": {
        "id": "6KZfHcy21DBM"
      },
      "execution_count": null,
      "outputs": []
    },
    {
      "cell_type": "code",
      "source": [
        "tes"
      ],
      "metadata": {
        "colab": {
          "base_uri": "https://localhost:8080/"
        },
        "id": "nQ__O20p1QQ7",
        "outputId": "6d8b6ca9-65e1-4b97-af45-1f2412929f7b"
      },
      "execution_count": null,
      "outputs": [
        {
          "output_type": "execute_result",
          "data": {
            "text/plain": [
              "[0, 0, 0, 1, 0, 2, 0, 3, 0, 4, 0, 5]"
            ]
          },
          "metadata": {},
          "execution_count": 11
        }
      ]
    },
    {
      "cell_type": "code",
      "source": [
        "centris = [i for i in pusat_sekutu]"
      ],
      "metadata": {
        "id": "Zcb41zI_2CgD"
      },
      "execution_count": null,
      "outputs": []
    },
    {
      "cell_type": "code",
      "source": [
        "#pusat_sekutu\n",
        "print(id(pusat_sekutu))"
      ],
      "metadata": {
        "colab": {
          "base_uri": "https://localhost:8080/"
        },
        "id": "THlsE-Pn2RMx",
        "outputId": "79095726-415c-4872-d3b2-fbcd6f4d024a"
      },
      "execution_count": null,
      "outputs": [
        {
          "output_type": "stream",
          "name": "stdout",
          "text": [
            "140027169065632\n"
          ]
        }
      ]
    },
    {
      "cell_type": "code",
      "source": [
        "#centris\n",
        "print(id(centris))"
      ],
      "metadata": {
        "colab": {
          "base_uri": "https://localhost:8080/"
        },
        "id": "6CLmcvGr2LQU",
        "outputId": "61ad894f-b1c9-435d-f76b-30a569598d57"
      },
      "execution_count": null,
      "outputs": [
        {
          "output_type": "stream",
          "name": "stdout",
          "text": [
            "140027168361920\n"
          ]
        }
      ]
    }
  ]
}