{
  "nbformat": 4,
  "nbformat_minor": 0,
  "metadata": {
    "colab": {
      "name": "Eksplorasi Algoritma k-ally ver 1.0.ipynb",
      "provenance": [],
      "collapsed_sections": [],
      "authorship_tag": "ABX9TyOzpCY6cVOcvFeH/re2d1lP",
      "include_colab_link": true
    },
    "kernelspec": {
      "name": "python3",
      "display_name": "Python 3"
    },
    "language_info": {
      "name": "python"
    }
  },
  "cells": [
    {
      "cell_type": "markdown",
      "metadata": {
        "id": "view-in-github",
        "colab_type": "text"
      },
      "source": [
        "<a href=\"https://colab.research.google.com/github/elangbijak4/k-ally-new-algorithm-for-clusterization/blob/main/Eksplorasi_Algoritma_k_ally_ver_1_4.ipynb\" target=\"_parent\"><img src=\"https://colab.research.google.com/assets/colab-badge.svg\" alt=\"Open In Colab\"/></a>"
      ]
    },
    {
      "cell_type": "code",
      "execution_count": null,
      "metadata": {
        "colab": {
          "base_uri": "https://localhost:8080/"
        },
        "id": "xedI7BkEyjDm",
        "outputId": "c180a692-7808-48a5-c129-8c60085c2573"
      },
      "outputs": [
        {
          "output_type": "stream",
          "name": "stdout",
          "text": [
            "Hello World from fle extrnal\n"
          ]
        }
      ],
      "source": [
        "!python /content/contoh.py"
      ]
    },
    {
      "cell_type": "code",
      "source": [
        "x = 5\n",
        "y = \"John\"\n",
        "print(x)\n",
        "print(y)"
      ],
      "metadata": {
        "id": "gAjMppAvkGmb"
      },
      "execution_count": null,
      "outputs": []
    },
    {
      "cell_type": "code",
      "source": [
        "myvar = \"John\"\n",
        "my_var = \"John\"\n",
        "_my_var = \"John\"\n",
        "myVar = \"John\"\n",
        "MYVAR = \"John\"\n",
        "myvar2 = \"John\"\n",
        "\n",
        "\n",
        "print(myvar)\n",
        "print(my_var)\n",
        "print(_my_var)\n",
        "print(myVar)\n",
        "print(MYVAR)\n",
        "print(myvar2)\n"
      ],
      "metadata": {
        "id": "fyrteI68kK3v"
      },
      "execution_count": null,
      "outputs": []
    },
    {
      "cell_type": "code",
      "source": [
        "x, y, z = \"Orange\", \"Banana\", \"Cherry\"\n",
        "print(x)\n",
        "print(y)\n",
        "print(z)"
      ],
      "metadata": {
        "id": "3XtJh_RpkY5N"
      },
      "execution_count": null,
      "outputs": []
    },
    {
      "cell_type": "code",
      "source": [
        "x = \"Python is awesome\"\n",
        "print(x)"
      ],
      "metadata": {
        "id": "w8n7yYqIkkY3"
      },
      "execution_count": null,
      "outputs": []
    },
    {
      "cell_type": "code",
      "source": [
        "x = \"awesome\"\n",
        "\n",
        "def myfunc():\n",
        "  print(\"Python is \" + x)\n",
        "\n",
        "myfunc()"
      ],
      "metadata": {
        "id": "Y_3ve_yHkwdS"
      },
      "execution_count": null,
      "outputs": []
    },
    {
      "cell_type": "code",
      "source": [
        "x = 5\n",
        "print(type(x))"
      ],
      "metadata": {
        "colab": {
          "base_uri": "https://localhost:8080/"
        },
        "id": "N2zJAzEykz6c",
        "outputId": "55b80eef-1f0c-4f1c-8c3e-ed9cda3f4f49"
      },
      "execution_count": null,
      "outputs": [
        {
          "output_type": "stream",
          "name": "stdout",
          "text": [
            "<class 'int'>\n"
          ]
        }
      ]
    },
    {
      "cell_type": "code",
      "source": [
        "x = \"Hello World\"\n",
        "print(type(x))"
      ],
      "metadata": {
        "colab": {
          "base_uri": "https://localhost:8080/"
        },
        "id": "MxwRHxZykz3B",
        "outputId": "5364b8f9-9d93-4319-de19-5f9bf9773609"
      },
      "execution_count": null,
      "outputs": [
        {
          "output_type": "stream",
          "name": "stdout",
          "text": [
            "<class 'str'>\n"
          ]
        }
      ]
    },
    {
      "cell_type": "code",
      "source": [
        "x = 20.5\n",
        "print(type(x))"
      ],
      "metadata": {
        "colab": {
          "base_uri": "https://localhost:8080/"
        },
        "id": "382zG3CPlia-",
        "outputId": "75476163-400f-40ca-c651-4ff0105de8bd"
      },
      "execution_count": null,
      "outputs": [
        {
          "output_type": "stream",
          "name": "stdout",
          "text": [
            "<class 'float'>\n"
          ]
        }
      ]
    },
    {
      "cell_type": "code",
      "source": [
        "x = 3+3j\n",
        "print(type(x))"
      ],
      "metadata": {
        "colab": {
          "base_uri": "https://localhost:8080/"
        },
        "id": "W8EAamqclj0m",
        "outputId": "2a208b69-14c6-47cb-b5d6-ccc7285189f2"
      },
      "execution_count": null,
      "outputs": [
        {
          "output_type": "stream",
          "name": "stdout",
          "text": [
            "<class 'complex'>\n"
          ]
        }
      ]
    },
    {
      "cell_type": "code",
      "source": [
        "x = [\"apple\", \"banana\", \"cherry\"]\n",
        "print(type(x))"
      ],
      "metadata": {
        "colab": {
          "base_uri": "https://localhost:8080/"
        },
        "id": "mFLwvuwLlj_Q",
        "outputId": "508e2ff0-2ba1-430e-87f0-5fc5886a9699"
      },
      "execution_count": null,
      "outputs": [
        {
          "output_type": "stream",
          "name": "stdout",
          "text": [
            "<class 'list'>\n"
          ]
        }
      ]
    },
    {
      "cell_type": "code",
      "source": [
        "x = (\"apple\", \"banana\", \"cherry\")\n",
        "print(type(x))"
      ],
      "metadata": {
        "colab": {
          "base_uri": "https://localhost:8080/"
        },
        "id": "uws6zOfhlkCG",
        "outputId": "e13bde5c-7a69-4ca5-f5fd-bf1ae6fcca73"
      },
      "execution_count": null,
      "outputs": [
        {
          "output_type": "stream",
          "name": "stdout",
          "text": [
            "<class 'tuple'>\n"
          ]
        }
      ]
    },
    {
      "cell_type": "markdown",
      "source": [
        "how to converse type:"
      ],
      "metadata": {
        "id": "sXbI4b4Ev8G-"
      }
    },
    {
      "cell_type": "code",
      "source": [
        "x=list(x)\n",
        "print(type(x))"
      ],
      "metadata": {
        "colab": {
          "base_uri": "https://localhost:8080/"
        },
        "id": "s4RYf1K5vvt0",
        "outputId": "738d8b47-68d9-4c58-bfca-aeb9c5033da0"
      },
      "execution_count": null,
      "outputs": [
        {
          "output_type": "stream",
          "name": "stdout",
          "text": [
            "<class 'list'>\n"
          ]
        }
      ]
    },
    {
      "cell_type": "markdown",
      "source": [
        "Range:"
      ],
      "metadata": {
        "id": "uW2mZ1C5w0ii"
      }
    },
    {
      "cell_type": "code",
      "source": [
        "x = range(6)\n",
        "print(type(x))\n",
        "print(x)"
      ],
      "metadata": {
        "colab": {
          "base_uri": "https://localhost:8080/"
        },
        "id": "ZpB6Rb1blkEj",
        "outputId": "3e7e55a7-4a3f-4917-a905-7aa7172e3a99"
      },
      "execution_count": null,
      "outputs": [
        {
          "output_type": "stream",
          "name": "stdout",
          "text": [
            "<class 'range'>\n",
            "range(0, 6)\n"
          ]
        }
      ]
    },
    {
      "cell_type": "code",
      "source": [
        "for x in range(6):\n",
        "    print(x)"
      ],
      "metadata": {
        "colab": {
          "base_uri": "https://localhost:8080/"
        },
        "id": "6nz9WGr5wsN2",
        "outputId": "8ace4588-ac52-41fc-bd1d-3002a6f8cd27"
      },
      "execution_count": null,
      "outputs": [
        {
          "output_type": "stream",
          "name": "stdout",
          "text": [
            "0\n",
            "1\n",
            "2\n",
            "3\n",
            "4\n",
            "5\n"
          ]
        }
      ]
    },
    {
      "cell_type": "code",
      "source": [
        "x = {\"name\" : \"John\", \"age\" : 36}\n",
        "print(type(x))\n",
        "print(x)\n",
        "print(x['name'])\n",
        "x['name']='tes'\n",
        "x['height']=45\n",
        "print(x)\n",
        "print(x.keys())\n",
        "print(x.values())\n",
        "print(x.items())"
      ],
      "metadata": {
        "colab": {
          "base_uri": "https://localhost:8080/"
        },
        "id": "iVqtbtKwlkHG",
        "outputId": "e38c6ef3-576e-480d-ffd6-9082c7e6ec28"
      },
      "execution_count": null,
      "outputs": [
        {
          "output_type": "stream",
          "name": "stdout",
          "text": [
            "<class 'dict'>\n",
            "{'name': 'John', 'age': 36}\n",
            "John\n",
            "{'name': 'tes', 'age': 36, 'height': 45}\n",
            "dict_keys(['name', 'age', 'height'])\n",
            "dict_values(['tes', 36, 45])\n",
            "dict_items([('name', 'tes'), ('age', 36), ('height', 45)])\n"
          ]
        }
      ]
    },
    {
      "cell_type": "code",
      "source": [
        "for xi in x:\n",
        "    print(xi)"
      ],
      "metadata": {
        "colab": {
          "base_uri": "https://localhost:8080/"
        },
        "id": "YpOXz4YvxALx",
        "outputId": "704f7ad8-9ece-4035-fd9a-b444270ab130"
      },
      "execution_count": null,
      "outputs": [
        {
          "output_type": "stream",
          "name": "stdout",
          "text": [
            "name\n",
            "age\n"
          ]
        }
      ]
    },
    {
      "cell_type": "code",
      "source": [
        "x = {\"apple\", \"banana\", \"cherry\"}\n",
        "print(type(x))"
      ],
      "metadata": {
        "colab": {
          "base_uri": "https://localhost:8080/"
        },
        "id": "hGR_Va8dlkJr",
        "outputId": "64b07c43-0477-4389-b93d-67935a4b604e"
      },
      "execution_count": null,
      "outputs": [
        {
          "output_type": "stream",
          "name": "stdout",
          "text": [
            "<class 'set'>\n"
          ]
        }
      ]
    },
    {
      "cell_type": "code",
      "source": [
        "x = frozenset({\"apple\", \"banana\", \"cherry\"})\n",
        "print(type(x))"
      ],
      "metadata": {
        "colab": {
          "base_uri": "https://localhost:8080/"
        },
        "id": "ifV6PT0DlkNr",
        "outputId": "cd650ee1-45f6-4109-bcef-5031f04fa52f"
      },
      "execution_count": null,
      "outputs": [
        {
          "output_type": "stream",
          "name": "stdout",
          "text": [
            "<class 'frozenset'>\n"
          ]
        }
      ]
    },
    {
      "cell_type": "code",
      "source": [
        "x = True\n",
        "print(type(x))\n",
        "print(x)"
      ],
      "metadata": {
        "colab": {
          "base_uri": "https://localhost:8080/"
        },
        "id": "tP7i6D35lkPf",
        "outputId": "d1e9300a-6553-48b8-d1d1-d39e1fbfe8d0"
      },
      "execution_count": null,
      "outputs": [
        {
          "output_type": "stream",
          "name": "stdout",
          "text": [
            "<class 'bool'>\n",
            "True\n"
          ]
        }
      ]
    },
    {
      "cell_type": "code",
      "source": [
        "x = True\n",
        "print(type(x))\n",
        "print(x)"
      ],
      "metadata": {
        "id": "y5bNrWzslkRY"
      },
      "execution_count": null,
      "outputs": []
    },
    {
      "cell_type": "code",
      "source": [
        "x = b\"Hello\"\n",
        "print(type(x))\n",
        "print(x)"
      ],
      "metadata": {
        "colab": {
          "base_uri": "https://localhost:8080/"
        },
        "id": "-oOHRVxllkUz",
        "outputId": "f6311629-c79d-420a-b9d4-eb43292fd61d"
      },
      "execution_count": null,
      "outputs": [
        {
          "output_type": "stream",
          "name": "stdout",
          "text": [
            "<class 'bytes'>\n",
            "b'Hello'\n"
          ]
        }
      ]
    },
    {
      "cell_type": "code",
      "source": [
        "x = bytearray(5)\n",
        "print(type(x))\n",
        "print(x)"
      ],
      "metadata": {
        "colab": {
          "base_uri": "https://localhost:8080/"
        },
        "id": "PHRS2Mphlkb6",
        "outputId": "813418d9-87bb-455e-cbbc-30c31df2091a"
      },
      "execution_count": null,
      "outputs": [
        {
          "output_type": "stream",
          "name": "stdout",
          "text": [
            "<class 'bytearray'>\n",
            "bytearray(b'\\x00\\x00\\x00\\x00\\x00')\n"
          ]
        }
      ]
    },
    {
      "cell_type": "code",
      "source": [
        "x = memoryview(bytes(5))\n",
        "print(type(x))\n",
        "print(x)"
      ],
      "metadata": {
        "colab": {
          "base_uri": "https://localhost:8080/"
        },
        "id": "Ua3WrFJoEUge",
        "outputId": "67d1cda0-84ab-4d13-caf7-7dec80311097"
      },
      "execution_count": null,
      "outputs": [
        {
          "output_type": "stream",
          "name": "stdout",
          "text": [
            "<class 'memoryview'>\n",
            "<memory at 0x7fc931301a10>\n"
          ]
        }
      ]
    },
    {
      "cell_type": "code",
      "source": [
        "x = None\n",
        "print(type(x))\n",
        "print(x)"
      ],
      "metadata": {
        "colab": {
          "base_uri": "https://localhost:8080/"
        },
        "id": "gmHjbO_7Ettu",
        "outputId": "a13c1831-4909-475c-fe24-15483b817415"
      },
      "execution_count": null,
      "outputs": [
        {
          "output_type": "stream",
          "name": "stdout",
          "text": [
            "<class 'NoneType'>\n",
            "None\n"
          ]
        }
      ]
    },
    {
      "cell_type": "markdown",
      "source": [
        "#Tentang bagaimana konversi dataset kedalam python"
      ],
      "metadata": {
        "id": "8zEBdy5dFRId"
      }
    },
    {
      "cell_type": "code",
      "source": [
        "from sklearn.datasets import load_iris\n",
        "import pandas as pd\n",
        "data = load_iris()\n",
        "print(type(data))"
      ],
      "metadata": {
        "colab": {
          "base_uri": "https://localhost:8080/"
        },
        "id": "TBeopazwFiFA",
        "outputId": "c5282133-9e7d-480f-9abf-5d413eec78e4"
      },
      "execution_count": null,
      "outputs": [
        {
          "output_type": "stream",
          "name": "stdout",
          "text": [
            "<class 'sklearn.utils.Bunch'>\n"
          ]
        }
      ]
    },
    {
      "cell_type": "code",
      "source": [
        "print(data)"
      ],
      "metadata": {
        "id": "WOk_UAkwIoIJ"
      },
      "execution_count": null,
      "outputs": []
    },
    {
      "cell_type": "markdown",
      "source": [
        "Catatan1:\n",
        "1. Pada dasarnya data (hasil konversi atau import) adalah berbentuk objek, bukan berbentuk sebagai data itu sendiri secara raw seperti di excel.\n",
        "2. Karena dia objek maka dia memiliki sejumlah atribut dan method. Isinya adalah berbagai atribut, dan method untuk mengkases atau melakukan tindakan. \n",
        "3. Untuk mengakses isi sebenarnya (raw) gunakan atribut yang memuat data raw nya, atau gunakan methodnya.\n",
        "4. Karena dia objek maka behaviournya adalah tergantung library mana dia berasal, kalau dia dari library panda maka gunakan class untuk objek itu di panda. Contoh untuk akses raw data dengan objek sklearn adalah data.data\n"
      ],
      "metadata": {
        "id": "tbp1_jJdM9ZW"
      }
    },
    {
      "cell_type": "code",
      "source": [
        "print(data.data_module)"
      ],
      "metadata": {
        "colab": {
          "base_uri": "https://localhost:8080/"
        },
        "id": "6DvOoa2wKC86",
        "outputId": "1903c910-09af-41f4-a107-02285a21b036"
      },
      "execution_count": null,
      "outputs": [
        {
          "output_type": "stream",
          "name": "stdout",
          "text": [
            "sklearn.datasets.data\n"
          ]
        }
      ]
    },
    {
      "cell_type": "code",
      "source": [
        "print(data.DESCR)"
      ],
      "metadata": {
        "id": "Pz5kQqKRKIkO"
      },
      "execution_count": null,
      "outputs": []
    },
    {
      "cell_type": "code",
      "source": [
        "print(data.feature_names)"
      ],
      "metadata": {
        "id": "MW1yw6mYKXXF"
      },
      "execution_count": null,
      "outputs": []
    },
    {
      "cell_type": "code",
      "source": [
        "print(data.filename)"
      ],
      "metadata": {
        "colab": {
          "base_uri": "https://localhost:8080/"
        },
        "id": "M73-DiZbKevg",
        "outputId": "97417469-73ff-4463-fbd0-b214c0733c10"
      },
      "execution_count": null,
      "outputs": [
        {
          "output_type": "stream",
          "name": "stdout",
          "text": [
            "iris.csv\n"
          ]
        }
      ]
    },
    {
      "cell_type": "code",
      "source": [
        "print(data.frame)"
      ],
      "metadata": {
        "id": "CY_Ek_w6Kiv5"
      },
      "execution_count": null,
      "outputs": []
    },
    {
      "cell_type": "code",
      "source": [
        "print(data.target)"
      ],
      "metadata": {
        "id": "MZtbnvKRK1MC"
      },
      "execution_count": null,
      "outputs": []
    },
    {
      "cell_type": "code",
      "source": [
        "print(data.target_names)"
      ],
      "metadata": {
        "id": "Zi-_fC_EK8J0"
      },
      "execution_count": null,
      "outputs": []
    },
    {
      "cell_type": "code",
      "source": [
        "print(data['target_names'])"
      ],
      "metadata": {
        "id": "wDXiB6S1MWQl"
      },
      "execution_count": null,
      "outputs": []
    },
    {
      "cell_type": "code",
      "source": [
        "data1=pd.DataFrame(data.data)"
      ],
      "metadata": {
        "id": "_qAr0xzMI9Xh"
      },
      "execution_count": null,
      "outputs": []
    },
    {
      "cell_type": "code",
      "source": [
        "data1"
      ],
      "metadata": {
        "id": "zfBN3R5oJ8Eh"
      },
      "execution_count": null,
      "outputs": []
    },
    {
      "cell_type": "markdown",
      "source": [
        "Cara menambahkan kolom baru di data, dan tentang method tail() dan head()"
      ],
      "metadata": {
        "id": "OxpuNu0jO2MC"
      }
    },
    {
      "cell_type": "code",
      "source": [
        "data2=pd.DataFrame(data.data, columns=data.feature_names)\n",
        "\n",
        "#tambahkan kolom target pada data2, ambil dari isi atribut target data\n",
        "data2['target']=data.target\n",
        "\n",
        "#cetak 5 rekord di kepala/awal data2\n",
        "data2.head()"
      ],
      "metadata": {
        "id": "YJBH-RJMLMaZ"
      },
      "execution_count": null,
      "outputs": []
    },
    {
      "cell_type": "code",
      "source": [
        "data2"
      ],
      "metadata": {
        "id": "8TSa16q0LYQi"
      },
      "execution_count": null,
      "outputs": []
    },
    {
      "cell_type": "code",
      "source": [
        "data = load_iris()\n",
        "df = pd.DataFrame(data['data'], columns=data['feature_names'])\n",
        "\n",
        "#tambahkan kolom target pada df, ambil dari kolom target data\n",
        "df['target'] = data['target']\n",
        "\n",
        "#cetak 5 rekord di ekor df atau paling terakhir\n",
        "df.tail()"
      ],
      "metadata": {
        "id": "2W7TlRE-L8I4"
      },
      "execution_count": null,
      "outputs": []
    },
    {
      "cell_type": "code",
      "source": [
        "from sklearn import datasets\n",
        "\n",
        "#buat list fnames, yaitu berisi i untuk semua i yang ada di dalam dir(datasets) dan mengandung string 'load_'\n",
        "fnames = [ i for i in dir(datasets) if 'load_' in i]\n",
        "print(fnames)"
      ],
      "metadata": {
        "colab": {
          "base_uri": "https://localhost:8080/"
        },
        "id": "fC8IQdY6N_jL",
        "outputId": "31dec807-381c-430c-bec5-31da4730c2e6"
      },
      "execution_count": null,
      "outputs": [
        {
          "output_type": "stream",
          "name": "stdout",
          "text": [
            "['load_boston', 'load_breast_cancer', 'load_diabetes', 'load_digits', 'load_files', 'load_iris', 'load_linnerud', 'load_sample_image', 'load_sample_images', 'load_svmlight_file', 'load_svmlight_files', 'load_wine']\n"
          ]
        }
      ]
    },
    {
      "cell_type": "code",
      "source": [
        "from sklearn import datasets\n",
        "\n",
        "#buat list fnames, yaitu berisi i untuk semua i yang ada di dalam dir(datasets) dan mengandung string 'load_'\n",
        "fnames = [ i for i in dir(datasets) if 'load_' in i]\n",
        "print(fnames)"
      ],
      "metadata": {
        "colab": {
          "base_uri": "https://localhost:8080/"
        },
        "id": "lc190eupC-HC",
        "outputId": "00a087aa-7c92-4edb-8a42-ccba98c289c0"
      },
      "execution_count": null,
      "outputs": [
        {
          "output_type": "stream",
          "name": "stdout",
          "text": [
            "['load_boston', 'load_breast_cancer', 'load_diabetes', 'load_digits', 'load_files', 'load_iris', 'load_linnerud', 'load_sample_image', 'load_sample_images', 'load_svmlight_file', 'load_svmlight_files', 'load_wine']\n"
          ]
        }
      ]
    },
    {
      "cell_type": "markdown",
      "source": [
        "Catatan2:\n",
        "iterasi pada looping, misal pada loopnig for, dapat kita perumum sebagai berikut:\n",
        "iterasi menggunakan list\n",
        "iterasi menggunakan range\n",
        "iterasi menggunakan tuple\n",
        "....\n",
        "Iterasi menggunakan objek\n",
        ".\n",
        "Dengan prinsip \"iterasi menggunakan objek\" kita bisa langsung bisa mengakses data yang merupakan sebagai objek. Akan tetapi ingat! hanya objek yang bisa dicacah isinya."
      ],
      "metadata": {
        "id": "qY4WYPfRP8kN"
      }
    },
    {
      "cell_type": "code",
      "source": [
        "#kode ringkas di atas pada dasarnya sama saja di bawah ini\n",
        "fnames2=[]\n",
        "for i in dir(datasets):\n",
        "  if 'load_' in i: \n",
        "    fnames2 = fnames2 + [i]\n",
        "print(fnames2)\n"
      ],
      "metadata": {
        "id": "Ms_IxcawOPw9"
      },
      "execution_count": null,
      "outputs": []
    },
    {
      "cell_type": "code",
      "source": [
        "type(dir(datasets))"
      ],
      "metadata": {
        "id": "FIs84A_LOd41"
      },
      "execution_count": null,
      "outputs": []
    },
    {
      "cell_type": "code",
      "source": [
        "from sklearn.datasets import load_iris\n",
        "import pandas as pd\n",
        "data = load_iris()"
      ],
      "metadata": {
        "id": "VzgskmnOOvxr"
      },
      "execution_count": null,
      "outputs": []
    },
    {
      "cell_type": "markdown",
      "source": [
        "Catatan3:\n",
        "Percobaan akses data langsung menggunakan iterasi langsung ke objek data"
      ],
      "metadata": {
        "id": "V0gwn1SYPw5Q"
      }
    },
    {
      "cell_type": "code",
      "source": [
        "for i in data.data:\n",
        "  print(i)"
      ],
      "metadata": {
        "id": "vIqwTBQPPrWD"
      },
      "execution_count": null,
      "outputs": []
    },
    {
      "cell_type": "code",
      "source": [
        "for i in data.data:\n",
        "  print(i[0])"
      ],
      "metadata": {
        "id": "Wwo-YqXbS8VH"
      },
      "execution_count": null,
      "outputs": []
    },
    {
      "cell_type": "code",
      "source": [
        "#Jangan gunakan ini, kesalahannya yaitu bahwa data masih merupakan objek sklearn asli, \n",
        "#belum merupakan objek dataframe panda\n",
        "print(data[0])"
      ],
      "metadata": {
        "id": "V-EF9t0cQkpm"
      },
      "execution_count": null,
      "outputs": []
    },
    {
      "cell_type": "code",
      "source": [
        "print(data.feature_names)"
      ],
      "metadata": {
        "id": "EcS6IGQ_RsSC"
      },
      "execution_count": null,
      "outputs": []
    },
    {
      "cell_type": "markdown",
      "source": [
        "Catatan 5:\n",
        "Di bawah ini adalah cara memanipulasi isi dataset membentuk list dalam list yang baru. Akan tetapi disini dataset beum dikonversi menjadi dataframe, tetapi langsung digunakan sebagai objek aslinya."
      ],
      "metadata": {
        "id": "fZ3LgJIFVD8W"
      }
    },
    {
      "cell_type": "code",
      "source": [
        "#Cara yang keliru untuk membuat list dalam list\n",
        "a=[]\n",
        "for i in data.data:\n",
        "  a=a+[i[0],i[1]]\n",
        "\n",
        "print(a)"
      ],
      "metadata": {
        "colab": {
          "base_uri": "https://localhost:8080/"
        },
        "id": "wp-brUN-SnnN",
        "outputId": "76d5a838-093d-4bb5-c3d6-5cd14cf486a1"
      },
      "execution_count": null,
      "outputs": [
        {
          "output_type": "stream",
          "name": "stdout",
          "text": [
            "[5.1, 3.5, 4.9, 3.0, 4.7, 3.2, 4.6, 3.1, 5.0, 3.6, 5.4, 3.9, 4.6, 3.4, 5.0, 3.4, 4.4, 2.9, 4.9, 3.1, 5.4, 3.7, 4.8, 3.4, 4.8, 3.0, 4.3, 3.0, 5.8, 4.0, 5.7, 4.4, 5.4, 3.9, 5.1, 3.5, 5.7, 3.8, 5.1, 3.8, 5.4, 3.4, 5.1, 3.7, 4.6, 3.6, 5.1, 3.3, 4.8, 3.4, 5.0, 3.0, 5.0, 3.4, 5.2, 3.5, 5.2, 3.4, 4.7, 3.2, 4.8, 3.1, 5.4, 3.4, 5.2, 4.1, 5.5, 4.2, 4.9, 3.1, 5.0, 3.2, 5.5, 3.5, 4.9, 3.6, 4.4, 3.0, 5.1, 3.4, 5.0, 3.5, 4.5, 2.3, 4.4, 3.2, 5.0, 3.5, 5.1, 3.8, 4.8, 3.0, 5.1, 3.8, 4.6, 3.2, 5.3, 3.7, 5.0, 3.3, 7.0, 3.2, 6.4, 3.2, 6.9, 3.1, 5.5, 2.3, 6.5, 2.8, 5.7, 2.8, 6.3, 3.3, 4.9, 2.4, 6.6, 2.9, 5.2, 2.7, 5.0, 2.0, 5.9, 3.0, 6.0, 2.2, 6.1, 2.9, 5.6, 2.9, 6.7, 3.1, 5.6, 3.0, 5.8, 2.7, 6.2, 2.2, 5.6, 2.5, 5.9, 3.2, 6.1, 2.8, 6.3, 2.5, 6.1, 2.8, 6.4, 2.9, 6.6, 3.0, 6.8, 2.8, 6.7, 3.0, 6.0, 2.9, 5.7, 2.6, 5.5, 2.4, 5.5, 2.4, 5.8, 2.7, 6.0, 2.7, 5.4, 3.0, 6.0, 3.4, 6.7, 3.1, 6.3, 2.3, 5.6, 3.0, 5.5, 2.5, 5.5, 2.6, 6.1, 3.0, 5.8, 2.6, 5.0, 2.3, 5.6, 2.7, 5.7, 3.0, 5.7, 2.9, 6.2, 2.9, 5.1, 2.5, 5.7, 2.8, 6.3, 3.3, 5.8, 2.7, 7.1, 3.0, 6.3, 2.9, 6.5, 3.0, 7.6, 3.0, 4.9, 2.5, 7.3, 2.9, 6.7, 2.5, 7.2, 3.6, 6.5, 3.2, 6.4, 2.7, 6.8, 3.0, 5.7, 2.5, 5.8, 2.8, 6.4, 3.2, 6.5, 3.0, 7.7, 3.8, 7.7, 2.6, 6.0, 2.2, 6.9, 3.2, 5.6, 2.8, 7.7, 2.8, 6.3, 2.7, 6.7, 3.3, 7.2, 3.2, 6.2, 2.8, 6.1, 3.0, 6.4, 2.8, 7.2, 3.0, 7.4, 2.8, 7.9, 3.8, 6.4, 2.8, 6.3, 2.8, 6.1, 2.6, 7.7, 3.0, 6.3, 3.4, 6.4, 3.1, 6.0, 3.0, 6.9, 3.1, 6.7, 3.1, 6.9, 3.1, 5.8, 2.7, 6.8, 3.2, 6.7, 3.3, 6.7, 3.0, 6.3, 2.5, 6.5, 3.0, 6.2, 3.4, 5.9, 3.0]\n"
          ]
        }
      ]
    },
    {
      "cell_type": "code",
      "source": [
        "#Cara yang benar untuk membuat list dalam list\n",
        "a=[]\n",
        "for i in data.data:\n",
        "  a=a+[[i[0],i[1]]]\n",
        "\n",
        "print(a)"
      ],
      "metadata": {
        "colab": {
          "base_uri": "https://localhost:8080/"
        },
        "id": "mi0nBmo1Uoy2",
        "outputId": "3fc38c85-c346-461d-8198-75776eb46bc4"
      },
      "execution_count": null,
      "outputs": [
        {
          "output_type": "stream",
          "name": "stdout",
          "text": [
            "[[5.1, 3.5], [4.9, 3.0], [4.7, 3.2], [4.6, 3.1], [5.0, 3.6], [5.4, 3.9], [4.6, 3.4], [5.0, 3.4], [4.4, 2.9], [4.9, 3.1], [5.4, 3.7], [4.8, 3.4], [4.8, 3.0], [4.3, 3.0], [5.8, 4.0], [5.7, 4.4], [5.4, 3.9], [5.1, 3.5], [5.7, 3.8], [5.1, 3.8], [5.4, 3.4], [5.1, 3.7], [4.6, 3.6], [5.1, 3.3], [4.8, 3.4], [5.0, 3.0], [5.0, 3.4], [5.2, 3.5], [5.2, 3.4], [4.7, 3.2], [4.8, 3.1], [5.4, 3.4], [5.2, 4.1], [5.5, 4.2], [4.9, 3.1], [5.0, 3.2], [5.5, 3.5], [4.9, 3.6], [4.4, 3.0], [5.1, 3.4], [5.0, 3.5], [4.5, 2.3], [4.4, 3.2], [5.0, 3.5], [5.1, 3.8], [4.8, 3.0], [5.1, 3.8], [4.6, 3.2], [5.3, 3.7], [5.0, 3.3], [7.0, 3.2], [6.4, 3.2], [6.9, 3.1], [5.5, 2.3], [6.5, 2.8], [5.7, 2.8], [6.3, 3.3], [4.9, 2.4], [6.6, 2.9], [5.2, 2.7], [5.0, 2.0], [5.9, 3.0], [6.0, 2.2], [6.1, 2.9], [5.6, 2.9], [6.7, 3.1], [5.6, 3.0], [5.8, 2.7], [6.2, 2.2], [5.6, 2.5], [5.9, 3.2], [6.1, 2.8], [6.3, 2.5], [6.1, 2.8], [6.4, 2.9], [6.6, 3.0], [6.8, 2.8], [6.7, 3.0], [6.0, 2.9], [5.7, 2.6], [5.5, 2.4], [5.5, 2.4], [5.8, 2.7], [6.0, 2.7], [5.4, 3.0], [6.0, 3.4], [6.7, 3.1], [6.3, 2.3], [5.6, 3.0], [5.5, 2.5], [5.5, 2.6], [6.1, 3.0], [5.8, 2.6], [5.0, 2.3], [5.6, 2.7], [5.7, 3.0], [5.7, 2.9], [6.2, 2.9], [5.1, 2.5], [5.7, 2.8], [6.3, 3.3], [5.8, 2.7], [7.1, 3.0], [6.3, 2.9], [6.5, 3.0], [7.6, 3.0], [4.9, 2.5], [7.3, 2.9], [6.7, 2.5], [7.2, 3.6], [6.5, 3.2], [6.4, 2.7], [6.8, 3.0], [5.7, 2.5], [5.8, 2.8], [6.4, 3.2], [6.5, 3.0], [7.7, 3.8], [7.7, 2.6], [6.0, 2.2], [6.9, 3.2], [5.6, 2.8], [7.7, 2.8], [6.3, 2.7], [6.7, 3.3], [7.2, 3.2], [6.2, 2.8], [6.1, 3.0], [6.4, 2.8], [7.2, 3.0], [7.4, 2.8], [7.9, 3.8], [6.4, 2.8], [6.3, 2.8], [6.1, 2.6], [7.7, 3.0], [6.3, 3.4], [6.4, 3.1], [6.0, 3.0], [6.9, 3.1], [6.7, 3.1], [6.9, 3.1], [5.8, 2.7], [6.8, 3.2], [6.7, 3.3], [6.7, 3.0], [6.3, 2.5], [6.5, 3.0], [6.2, 3.4], [5.9, 3.0]]\n"
          ]
        }
      ]
    },
    {
      "cell_type": "markdown",
      "source": [
        "InShaa Allah rencana besok:\n",
        "- Import data lalu manipulasi\n",
        "- Mulai kerjakan Algoritma dinda\n",
        "- Jangan lupa review paper binus\n",
        "- Jangan lupa siapkan proposal RIIM  "
      ],
      "metadata": {
        "id": "zC7ktZadVdQc"
      }
    },
    {
      "cell_type": "markdown",
      "source": [
        "Algoritma kally:\n",
        "0. Start\n",
        "1. Tambahkan kolom kelas pada dataset.\n",
        "2. Pilih k buah acak rekord.\n",
        "3. Masing kolom kelas dari k buah titik terpilih ditandai dengan k buah label. k adalah sebuah list.\n",
        "4. Start Loop 1 :Untuk setiap titik x selain k terpilih dan selain x terlabel, ukur jaraknya ke titik k[i].\n",
        "5. Jika x terdekat ke k[i], maka tandai x dengan label k[i]. Yaitu x[label]=k[i][label]\n",
        "6. kemudian k[i]=x.\n",
        "7. kembali ke start loop 1\n",
        "8. klaseterisasi berdasarkan ally selesai.\n",
        "9. Hitung centroid semua kelas.\n",
        "10. Revisi k acak menjadi: k[i]=mean{k[i]|...}.\n",
        "11. Hitung Jarak rata-rata (JR) semua k[i] baru ke k[i] lama. \n",
        "12. Periksa apakah JR =< treshold?\n",
        "13. Jika Ya maka algoritma SELESAI.\n",
        "14. Jika belum maka ulang langkah 4.\n",
        "15. SELESAI."
      ],
      "metadata": {
        "id": "sB3bp_E36E9t"
      }
    },
    {
      "cell_type": "markdown",
      "source": [
        "###Mulai Konstruksi Algoritma"
      ],
      "metadata": {
        "id": "6ROyOjyaANhe"
      }
    },
    {
      "cell_type": "markdown",
      "source": [
        "**A. Pemilihan dataset, konversi ke dataframe dan penambahan kolom baru yaitu kolom label**"
      ],
      "metadata": {
        "id": "uGTXyOyVYgvS"
      }
    },
    {
      "cell_type": "code",
      "source": [
        "#Pemilihan dataset, diambil dari sklearn.datasets, dan import pandas\n",
        "from sklearn.datasets import load_iris\n",
        "import pandas as pd\n",
        "data = load_iris()\n",
        "data_frame = pd.DataFrame(data['data'], columns=data['feature_names'])"
      ],
      "metadata": {
        "id": "9GkKIE6mAV1L"
      },
      "execution_count": null,
      "outputs": []
    },
    {
      "cell_type": "code",
      "source": [
        "#Kondisi di bawah ini error karena indeks kolom data['data'] hanya berukuran 4, tetapi kita menambahkan kolom 5\n",
        "#Konversi ke dataframe\n",
        "#kolom=data['feature_names']\n",
        "data_frame = pd.DataFrame(data['data'], columns=data['feature_names'])\n",
        "\n",
        "#tambahkan kolom label pada data_frame"
      ],
      "metadata": {
        "id": "K2O77-YYBAoH"
      },
      "execution_count": null,
      "outputs": []
    },
    {
      "cell_type": "code",
      "source": [
        "for i in data_frame:\n",
        "  data_frame['label']=None"
      ],
      "metadata": {
        "id": "YBexq2W6MbAn"
      },
      "execution_count": null,
      "outputs": []
    },
    {
      "cell_type": "code",
      "source": [
        "print(data_frame)"
      ],
      "metadata": {
        "id": "8J1eAM1BMsf1"
      },
      "execution_count": null,
      "outputs": []
    },
    {
      "cell_type": "code",
      "source": [
        "data_frame.index"
      ],
      "metadata": {
        "colab": {
          "base_uri": "https://localhost:8080/"
        },
        "id": "OhH_2BWbV2kW",
        "outputId": "4e4c0dd4-c983-463c-d67a-90f7bf0296cc"
      },
      "execution_count": null,
      "outputs": [
        {
          "output_type": "execute_result",
          "data": {
            "text/plain": [
              "RangeIndex(start=0, stop=150, step=1)"
            ]
          },
          "metadata": {},
          "execution_count": 10
        }
      ]
    },
    {
      "cell_type": "markdown",
      "source": [
        "**B. Memilih secara random k buah titik**"
      ],
      "metadata": {
        "id": "nEH2wtZCYzrQ"
      }
    },
    {
      "cell_type": "code",
      "source": [
        "for i in data_frame.index:\n",
        "  print(i)"
      ],
      "metadata": {
        "id": "CCbgMffUaIhA"
      },
      "execution_count": null,
      "outputs": []
    },
    {
      "cell_type": "code",
      "source": [
        "print(min(data_frame.index))\n",
        "max(data_frame.index)"
      ],
      "metadata": {
        "id": "Xp-hBolpbCAl"
      },
      "execution_count": null,
      "outputs": []
    },
    {
      "cell_type": "code",
      "source": [
        "import random\n",
        "a=random.randint(min(data_frame.index),max(data_frame.index))\n",
        "print(a)\n",
        "print(type(data_frame.loc[a]))\n",
        "print(data_frame.loc[a]['label'])\n",
        "data_frame.loc[a]"
      ],
      "metadata": {
        "colab": {
          "base_uri": "https://localhost:8080/"
        },
        "id": "Z5cWPD1DYaHH",
        "outputId": "58aed0d1-9859-4006-cc9e-4cf6f6c137ba"
      },
      "execution_count": null,
      "outputs": [
        {
          "output_type": "stream",
          "name": "stdout",
          "text": [
            "20\n",
            "<class 'pandas.core.series.Series'>\n",
            "None\n"
          ]
        },
        {
          "output_type": "execute_result",
          "data": {
            "text/plain": [
              "sepal length (cm)     5.4\n",
              "sepal width (cm)      3.4\n",
              "petal length (cm)     1.7\n",
              "petal width (cm)      0.2\n",
              "label                None\n",
              "Name: 20, dtype: object"
            ]
          },
          "metadata": {},
          "execution_count": 5
        }
      ]
    },
    {
      "cell_type": "code",
      "source": [
        "a=random.randint(min(data_frame.index),max(data_frame.index))\n",
        "b=random.randint(min(data_frame.index),max(data_frame.index))\n",
        "print(a)\n",
        "print(data_frame.loc[a])\n",
        "print(b)\n",
        "print(data_frame.loc[b])"
      ],
      "metadata": {
        "id": "pX8yDYZDbjH9"
      },
      "execution_count": null,
      "outputs": []
    },
    {
      "cell_type": "markdown",
      "source": [
        "Rancangan algoritma untuk memilih k rekord acak, yang dihasilkan indeks dari rekord yang terpilih.\n",
        "0. Start\n",
        "1. Tentukan k\n",
        "1. pusat_sekutu=[]\n",
        "2. for i in [0:k]:\n",
        "      a=random.randint(min(data_frame.index),max(data_frame.index))\n",
        "      if a not in pusat_sekutu:\n",
        "        pusat_sekutu=pusat_sekutu + [a]"
      ],
      "metadata": {
        "id": "B3gcAZ1nRNQ4"
      }
    },
    {
      "cell_type": "code",
      "source": [
        "#Tes buat fungsi\n",
        "def my_function(fname):\n",
        "  print(fname + \" Refsnes\")"
      ],
      "metadata": {
        "id": "x67uqjTDUF_b"
      },
      "execution_count": null,
      "outputs": []
    },
    {
      "cell_type": "code",
      "source": [
        "my_function('oklah')"
      ],
      "metadata": {
        "id": "hT8u62UQUIyG"
      },
      "execution_count": null,
      "outputs": []
    },
    {
      "cell_type": "markdown",
      "source": [
        "*Algoritma pembentukan pusat sekutu secara acak*"
      ],
      "metadata": {
        "id": "P-v2d1vTZRo7"
      }
    },
    {
      "cell_type": "code",
      "source": [
        "#Tes Algoritma pemilihan pusat sekutu secara acak\n",
        "def build_centroid_random(k,min,max):\n",
        "  import random\n",
        "  centroid=[]\n",
        "  for i in range(k):\n",
        "    a=random.randint(min,max) \n",
        "    if a not in centroid:\n",
        "      centroid=centroid+[a]\n",
        "  return centroid\n"
      ],
      "metadata": {
        "id": "ZU-5fphfgzme"
      },
      "execution_count": null,
      "outputs": []
    },
    {
      "cell_type": "code",
      "source": [
        "pusat_sekutu=build_centroid_random(2,0,max(data_frame.index))"
      ],
      "metadata": {
        "id": "8X4JkRnuXa8K"
      },
      "execution_count": null,
      "outputs": []
    },
    {
      "cell_type": "code",
      "source": [
        "pusat_sekutu"
      ],
      "metadata": {
        "colab": {
          "base_uri": "https://localhost:8080/"
        },
        "id": "kkP1L-0oY2FY",
        "outputId": "b217491c-ab21-400f-a26e-f50038848b83"
      },
      "execution_count": null,
      "outputs": [
        {
          "output_type": "execute_result",
          "data": {
            "text/plain": [
              "[122, 111]"
            ]
          },
          "metadata": {},
          "execution_count": 25
        }
      ]
    },
    {
      "cell_type": "markdown",
      "source": [
        "Rancangan algoritma untuk mengukur jarak setiap titik ke centroid\n",
        "0. Start Loop 1 :\n",
        "1. Untuk setiap titik x selain k terpilih dan selain x terlabel, ukur jaraknya 2. ke titik k[i].\n",
        "3. Jika x terdekat ke k[i], maka tandai x dengan label k[i]. Yaitu x[label]=k[i][label]\n",
        "4. kemudian k[i]=x.\n",
        "5. kembali ke start loop 1\n",
        "6. klaseterisasi berdasarkan ally selesai."
      ],
      "metadata": {
        "id": "GvcNBQ9WZ0PC"
      }
    },
    {
      "cell_type": "code",
      "source": [
        "#Bagaimana menset nilai pada dataframe?\n",
        "print(data_frame.loc[0]['label'])\n",
        "\n",
        "for i in data_frame:\n",
        "  data_frame['label']=None\n",
        "data_frame.at[0,'label']=0\n",
        "data_frame"
      ],
      "metadata": {
        "id": "aaeVJtiA9wkN"
      },
      "execution_count": null,
      "outputs": []
    },
    {
      "cell_type": "code",
      "source": [
        "#Bagaimana membaca nilai field pada rekord\n",
        "for x in data_frame.index:\n",
        "  print(data_frame.loc[x]['label'])"
      ],
      "metadata": {
        "id": "H6vgPZLLCb8b"
      },
      "execution_count": null,
      "outputs": []
    },
    {
      "cell_type": "code",
      "source": [
        "#Arsip, Ini keliru karena nilai terkakhir tidak diisi mengingat sifat range.\n",
        "for x in range(min(data_frame.index),max(data_frame.index)): #disini kelirunya harusnya ga usah pake range, pake data_frame.index saja.\n",
        "  if data_frame.loc[x]['label'] not in pusat_sekutu:\n",
        "    data_frame.at[x,'label']='bukan pusat'\n",
        "\n",
        "for x in data_frame.index:\n",
        "  if data_frame.loc[x]['label'] not in pusat_sekutu:\n",
        "    data_frame.at[x,'label']='bukan pusat'"
      ],
      "metadata": {
        "id": "sgzimGbvQGwX"
      },
      "execution_count": null,
      "outputs": []
    },
    {
      "cell_type": "code",
      "source": [
        "data_frame"
      ],
      "metadata": {
        "colab": {
          "base_uri": "https://localhost:8080/",
          "height": 424
        },
        "id": "sapAmR_8Vt87",
        "outputId": "c8ab24ec-c406-4809-b8b2-28ecbbdfe2c6"
      },
      "execution_count": null,
      "outputs": [
        {
          "output_type": "execute_result",
          "data": {
            "text/plain": [
              "     sepal length (cm)  sepal width (cm)  petal length (cm)  petal width (cm)  \\\n",
              "0                  5.1               3.5                1.4               0.2   \n",
              "1                  4.9               3.0                1.4               0.2   \n",
              "2                  4.7               3.2                1.3               0.2   \n",
              "3                  4.6               3.1                1.5               0.2   \n",
              "4                  5.0               3.6                1.4               0.2   \n",
              "..                 ...               ...                ...               ...   \n",
              "145                6.7               3.0                5.2               2.3   \n",
              "146                6.3               2.5                5.0               1.9   \n",
              "147                6.5               3.0                5.2               2.0   \n",
              "148                6.2               3.4                5.4               2.3   \n",
              "149                5.9               3.0                5.1               1.8   \n",
              "\n",
              "           label  \n",
              "0    bukan pusat  \n",
              "1    bukan pusat  \n",
              "2    bukan pusat  \n",
              "3    bukan pusat  \n",
              "4    bukan pusat  \n",
              "..           ...  \n",
              "145  bukan pusat  \n",
              "146  bukan pusat  \n",
              "147  bukan pusat  \n",
              "148  bukan pusat  \n",
              "149  bukan pusat  \n",
              "\n",
              "[150 rows x 5 columns]"
            ],
            "text/html": [
              "\n",
              "  <div id=\"df-7055736a-dd5a-44dc-b4e6-4747f3ccb183\">\n",
              "    <div class=\"colab-df-container\">\n",
              "      <div>\n",
              "<style scoped>\n",
              "    .dataframe tbody tr th:only-of-type {\n",
              "        vertical-align: middle;\n",
              "    }\n",
              "\n",
              "    .dataframe tbody tr th {\n",
              "        vertical-align: top;\n",
              "    }\n",
              "\n",
              "    .dataframe thead th {\n",
              "        text-align: right;\n",
              "    }\n",
              "</style>\n",
              "<table border=\"1\" class=\"dataframe\">\n",
              "  <thead>\n",
              "    <tr style=\"text-align: right;\">\n",
              "      <th></th>\n",
              "      <th>sepal length (cm)</th>\n",
              "      <th>sepal width (cm)</th>\n",
              "      <th>petal length (cm)</th>\n",
              "      <th>petal width (cm)</th>\n",
              "      <th>label</th>\n",
              "    </tr>\n",
              "  </thead>\n",
              "  <tbody>\n",
              "    <tr>\n",
              "      <th>0</th>\n",
              "      <td>5.1</td>\n",
              "      <td>3.5</td>\n",
              "      <td>1.4</td>\n",
              "      <td>0.2</td>\n",
              "      <td>bukan pusat</td>\n",
              "    </tr>\n",
              "    <tr>\n",
              "      <th>1</th>\n",
              "      <td>4.9</td>\n",
              "      <td>3.0</td>\n",
              "      <td>1.4</td>\n",
              "      <td>0.2</td>\n",
              "      <td>bukan pusat</td>\n",
              "    </tr>\n",
              "    <tr>\n",
              "      <th>2</th>\n",
              "      <td>4.7</td>\n",
              "      <td>3.2</td>\n",
              "      <td>1.3</td>\n",
              "      <td>0.2</td>\n",
              "      <td>bukan pusat</td>\n",
              "    </tr>\n",
              "    <tr>\n",
              "      <th>3</th>\n",
              "      <td>4.6</td>\n",
              "      <td>3.1</td>\n",
              "      <td>1.5</td>\n",
              "      <td>0.2</td>\n",
              "      <td>bukan pusat</td>\n",
              "    </tr>\n",
              "    <tr>\n",
              "      <th>4</th>\n",
              "      <td>5.0</td>\n",
              "      <td>3.6</td>\n",
              "      <td>1.4</td>\n",
              "      <td>0.2</td>\n",
              "      <td>bukan pusat</td>\n",
              "    </tr>\n",
              "    <tr>\n",
              "      <th>...</th>\n",
              "      <td>...</td>\n",
              "      <td>...</td>\n",
              "      <td>...</td>\n",
              "      <td>...</td>\n",
              "      <td>...</td>\n",
              "    </tr>\n",
              "    <tr>\n",
              "      <th>145</th>\n",
              "      <td>6.7</td>\n",
              "      <td>3.0</td>\n",
              "      <td>5.2</td>\n",
              "      <td>2.3</td>\n",
              "      <td>bukan pusat</td>\n",
              "    </tr>\n",
              "    <tr>\n",
              "      <th>146</th>\n",
              "      <td>6.3</td>\n",
              "      <td>2.5</td>\n",
              "      <td>5.0</td>\n",
              "      <td>1.9</td>\n",
              "      <td>bukan pusat</td>\n",
              "    </tr>\n",
              "    <tr>\n",
              "      <th>147</th>\n",
              "      <td>6.5</td>\n",
              "      <td>3.0</td>\n",
              "      <td>5.2</td>\n",
              "      <td>2.0</td>\n",
              "      <td>bukan pusat</td>\n",
              "    </tr>\n",
              "    <tr>\n",
              "      <th>148</th>\n",
              "      <td>6.2</td>\n",
              "      <td>3.4</td>\n",
              "      <td>5.4</td>\n",
              "      <td>2.3</td>\n",
              "      <td>bukan pusat</td>\n",
              "    </tr>\n",
              "    <tr>\n",
              "      <th>149</th>\n",
              "      <td>5.9</td>\n",
              "      <td>3.0</td>\n",
              "      <td>5.1</td>\n",
              "      <td>1.8</td>\n",
              "      <td>bukan pusat</td>\n",
              "    </tr>\n",
              "  </tbody>\n",
              "</table>\n",
              "<p>150 rows × 5 columns</p>\n",
              "</div>\n",
              "      <button class=\"colab-df-convert\" onclick=\"convertToInteractive('df-7055736a-dd5a-44dc-b4e6-4747f3ccb183')\"\n",
              "              title=\"Convert this dataframe to an interactive table.\"\n",
              "              style=\"display:none;\">\n",
              "        \n",
              "  <svg xmlns=\"http://www.w3.org/2000/svg\" height=\"24px\"viewBox=\"0 0 24 24\"\n",
              "       width=\"24px\">\n",
              "    <path d=\"M0 0h24v24H0V0z\" fill=\"none\"/>\n",
              "    <path d=\"M18.56 5.44l.94 2.06.94-2.06 2.06-.94-2.06-.94-.94-2.06-.94 2.06-2.06.94zm-11 1L8.5 8.5l.94-2.06 2.06-.94-2.06-.94L8.5 2.5l-.94 2.06-2.06.94zm10 10l.94 2.06.94-2.06 2.06-.94-2.06-.94-.94-2.06-.94 2.06-2.06.94z\"/><path d=\"M17.41 7.96l-1.37-1.37c-.4-.4-.92-.59-1.43-.59-.52 0-1.04.2-1.43.59L10.3 9.45l-7.72 7.72c-.78.78-.78 2.05 0 2.83L4 21.41c.39.39.9.59 1.41.59.51 0 1.02-.2 1.41-.59l7.78-7.78 2.81-2.81c.8-.78.8-2.07 0-2.86zM5.41 20L4 18.59l7.72-7.72 1.47 1.35L5.41 20z\"/>\n",
              "  </svg>\n",
              "      </button>\n",
              "      \n",
              "  <style>\n",
              "    .colab-df-container {\n",
              "      display:flex;\n",
              "      flex-wrap:wrap;\n",
              "      gap: 12px;\n",
              "    }\n",
              "\n",
              "    .colab-df-convert {\n",
              "      background-color: #E8F0FE;\n",
              "      border: none;\n",
              "      border-radius: 50%;\n",
              "      cursor: pointer;\n",
              "      display: none;\n",
              "      fill: #1967D2;\n",
              "      height: 32px;\n",
              "      padding: 0 0 0 0;\n",
              "      width: 32px;\n",
              "    }\n",
              "\n",
              "    .colab-df-convert:hover {\n",
              "      background-color: #E2EBFA;\n",
              "      box-shadow: 0px 1px 2px rgba(60, 64, 67, 0.3), 0px 1px 3px 1px rgba(60, 64, 67, 0.15);\n",
              "      fill: #174EA6;\n",
              "    }\n",
              "\n",
              "    [theme=dark] .colab-df-convert {\n",
              "      background-color: #3B4455;\n",
              "      fill: #D2E3FC;\n",
              "    }\n",
              "\n",
              "    [theme=dark] .colab-df-convert:hover {\n",
              "      background-color: #434B5C;\n",
              "      box-shadow: 0px 1px 3px 1px rgba(0, 0, 0, 0.15);\n",
              "      filter: drop-shadow(0px 1px 2px rgba(0, 0, 0, 0.3));\n",
              "      fill: #FFFFFF;\n",
              "    }\n",
              "  </style>\n",
              "\n",
              "      <script>\n",
              "        const buttonEl =\n",
              "          document.querySelector('#df-7055736a-dd5a-44dc-b4e6-4747f3ccb183 button.colab-df-convert');\n",
              "        buttonEl.style.display =\n",
              "          google.colab.kernel.accessAllowed ? 'block' : 'none';\n",
              "\n",
              "        async function convertToInteractive(key) {\n",
              "          const element = document.querySelector('#df-7055736a-dd5a-44dc-b4e6-4747f3ccb183');\n",
              "          const dataTable =\n",
              "            await google.colab.kernel.invokeFunction('convertToInteractive',\n",
              "                                                     [key], {});\n",
              "          if (!dataTable) return;\n",
              "\n",
              "          const docLinkHtml = 'Like what you see? Visit the ' +\n",
              "            '<a target=\"_blank\" href=https://colab.research.google.com/notebooks/data_table.ipynb>data table notebook</a>'\n",
              "            + ' to learn more about interactive tables.';\n",
              "          element.innerHTML = '';\n",
              "          dataTable['output_type'] = 'display_data';\n",
              "          await google.colab.output.renderOutput(dataTable, element);\n",
              "          const docLink = document.createElement('div');\n",
              "          docLink.innerHTML = docLinkHtml;\n",
              "          element.appendChild(docLink);\n",
              "        }\n",
              "      </script>\n",
              "    </div>\n",
              "  </div>\n",
              "  "
            ]
          },
          "metadata": {},
          "execution_count": 60
        }
      ]
    },
    {
      "cell_type": "code",
      "source": [
        "#Tes, data_frame bisa diakses hanya berdasarkan indeks kolom\n",
        "data_frame.loc[0][4]"
      ],
      "metadata": {
        "id": "zJ_pUp3tVjIx"
      },
      "execution_count": null,
      "outputs": []
    },
    {
      "cell_type": "code",
      "source": [
        "#Buat fungsi jarak sehinga tidak harus import library numpy atau tidak bergantung versi python\n",
        "import math\n",
        "def distance_ally(p,q):\n",
        "  kuadrat_komponen=[]\n",
        "  for i in range(len(p)):\n",
        "    kuadrat_komponen=kuadrat_komponen+[(p[i]-q[i])*(p[i]-q[i])]\n",
        "  jumlah=0\n",
        "  for i in kuadrat_komponen:\n",
        "    jumlah=jumlah+i\n",
        "  return math.sqrt(jumlah)\n",
        "\n",
        "print(distance_ally([2,2],[3,3]))"
      ],
      "metadata": {
        "colab": {
          "base_uri": "https://localhost:8080/"
        },
        "id": "g9XPc5D9a3lR",
        "outputId": "db49f7ed-4326-4640-b1cc-7cc6e39e4e3c"
      },
      "execution_count": null,
      "outputs": [
        {
          "output_type": "stream",
          "name": "stdout",
          "text": [
            "1.4142135623730951\n"
          ]
        }
      ]
    },
    {
      "cell_type": "code",
      "source": [
        "p=[2,3,4]\n",
        "print(len(p))\n",
        "p[0]"
      ],
      "metadata": {
        "colab": {
          "base_uri": "https://localhost:8080/"
        },
        "id": "Us3Fe0uaePc3",
        "outputId": "14aae585-f828-4ee1-b38a-f49ccc39ff23"
      },
      "execution_count": null,
      "outputs": [
        {
          "output_type": "stream",
          "name": "stdout",
          "text": [
            "3\n"
          ]
        },
        {
          "output_type": "execute_result",
          "data": {
            "text/plain": [
              "2"
            ]
          },
          "metadata": {},
          "execution_count": 80
        }
      ]
    },
    {
      "cell_type": "code",
      "source": [
        "data['feature_names'][0]"
      ],
      "metadata": {
        "colab": {
          "base_uri": "https://localhost:8080/",
          "height": 35
        },
        "id": "u4iiyu8NEoXJ",
        "outputId": "153dcc40-0244-4e47-a0a1-2af6354b5be8"
      },
      "execution_count": 6,
      "outputs": [
        {
          "output_type": "execute_result",
          "data": {
            "text/plain": [
              "'sepal length (cm)'"
            ],
            "application/vnd.google.colaboratory.intrinsic+json": {
              "type": "string"
            }
          },
          "metadata": {},
          "execution_count": 6
        }
      ]
    },
    {
      "cell_type": "code",
      "source": [
        "print(range(0,len(data_frame.columns)-1))"
      ],
      "metadata": {
        "colab": {
          "base_uri": "https://localhost:8080/"
        },
        "id": "F_MFTv_UFJhK",
        "outputId": "a5d39766-50a3-44b4-94a1-70eafea35b5b"
      },
      "execution_count": 11,
      "outputs": [
        {
          "output_type": "stream",
          "name": "stdout",
          "text": [
            "range(0, 4)\n"
          ]
        }
      ]
    },
    {
      "cell_type": "code",
      "source": [
        "komponen=[i for i in range(0,len(data_frame.columns)-1)] \n",
        "print(komponen)"
      ],
      "metadata": {
        "colab": {
          "base_uri": "https://localhost:8080/"
        },
        "id": "rrReULhIF76O",
        "outputId": "69828c2d-e3ea-4376-a49d-b11fa8f14c65"
      },
      "execution_count": 12,
      "outputs": [
        {
          "output_type": "stream",
          "name": "stdout",
          "text": [
            "[0, 1, 2, 3]\n"
          ]
        }
      ]
    },
    {
      "cell_type": "code",
      "source": [
        "#Sketsa algoritma\n",
        "#Pemilihan dataset, diambil dari sklearn.datasets, dan import pandas\n",
        "from sklearn.datasets import load_iris\n",
        "import pandas as pd\n",
        "data = load_iris()\n",
        "data_frame = pd.DataFrame(data['data'], columns=data['feature_names'])\n",
        "\n",
        "#Fungsi Jarak\n",
        "def distance_ally(p,q):\n",
        "  import math\n",
        "  kuadrat_komponen=[]\n",
        "  for i in range(len(p)):\n",
        "    kuadrat_komponen=kuadrat_komponen+[(p[i]-q[i])*(p[i]-q[i])]\n",
        "  jumlah=0\n",
        "  for i in kuadrat_komponen:\n",
        "    jumlah=jumlah+i\n",
        "  return math.sqrt(jumlah)\n",
        "\n",
        "#Fungsi random\n",
        "def build_centroid_random(k,min,max):\n",
        "  import random\n",
        "  centroid=[]\n",
        "  for i in range(k):\n",
        "    a=random.randint(min,max) \n",
        "    if a not in centroid:\n",
        "      centroid=centroid+[a]\n",
        "  return centroid\n",
        "\n",
        "#Alhamdulillah kode ini sudah diuji untuk menghitung mean perklaster\n",
        "def calculate_mean(data_frame,pusat_sekutu,komponen):\n",
        "  total_perklaster=[0 for i in pusat_sekutu]\n",
        "  counter_klaster=[0 for i in pusat_sekutu]\n",
        "  #print(total_perklaster)\n",
        "  for y in range(len(pusat_sekutu)):\n",
        "    total_perklaster[y]=[0 for j in komponen]\n",
        "  #print(total_perklaster[0])\n",
        "  for y in range(len(pusat_sekutu)):\n",
        "    sum=[0 for i in komponen]\n",
        "    counter_detil=0\n",
        "    for w in komponen:\n",
        "      for x in data_frame.index:\n",
        "        if data_frame.loc[x]['label']==pusat_sekutu[y]:\n",
        "          sum[w]=sum[w]+data_frame.at[x,data_frame.columns[w]]\n",
        "          if w==0 : counter_detil=counter_detil+1\n",
        "    counter_klaster[y]=counter_detil\n",
        "    total_perklaster[y]=sum\n",
        "\n",
        "  #Hitung mean:\n",
        "  mean_perklaster=[0 for y in pusat_sekutu]\n",
        "  for y in range(len(pusat_sekutu)):\n",
        "    mean_perklaster[y]=[total_perklaster[y][q]/counter_klaster[y] for q in komponen]\n",
        "\n",
        "  return mean_perklaster\n",
        "\n",
        "#Inisiasi label setiap rekord dataset dengan None\n",
        "for i in data_frame:\n",
        "  data_frame['label']=None\n",
        "\n",
        "#Buat pusat_sekutu\n",
        "pusat_sekutu=build_centroid_random(3,0,max(data_frame.index))\n",
        "\n",
        "#Labeli pusat_sekutu dengan nilainya sendiri\n",
        "for i in pusat_sekutu:\n",
        "  data_frame.at[i,'label']=i\n",
        "\n",
        "#Pilih kolom yang mau dijadikan komponen jarak, cukup indeks kolomnya saja\n",
        "komponen=[0,1,2,3] \n",
        "\n",
        "#Pindah ke alamat memori baru\n",
        "centroid=[]\n",
        "for i in pusat_sekutu:\n",
        "  centroid=centroid+[i]\n",
        "\n",
        "#Alternatif: centroid=[i for i in pusat_sekutu]\n",
        "#-------------------------------------------------------------------------------\n",
        "for x in data_frame.index:\n",
        "  if data_frame.loc[x]['label'] not in pusat_sekutu:\n",
        "    jarak_list=[]\n",
        "    for y in centroid:\n",
        "      #isi p dan q\n",
        "      p=[] \n",
        "      for i in komponen: p=p+[data_frame.loc[y][i]]\n",
        "      q=[]\n",
        "      for i in komponen: q=q+[data_frame.loc[x][i]]\n",
        "      jarak_list=jarak_list+[distance_ally(p, q)]\n",
        "    for w in range(len(jarak_list)):\n",
        "      if jarak_list[w]==min(jarak_list):\n",
        "        data_frame.at[x,'label']=data_frame.at[pusat_sekutu[w],'label']\n",
        "        centroid[w]=x\n"
      ],
      "metadata": {
        "id": "R1HgHVHo9MR3"
      },
      "execution_count": 2,
      "outputs": []
    },
    {
      "cell_type": "code",
      "source": [
        "from sklearn.datasets import load_iris\n",
        "import pandas as pd\n",
        "data = load_iris()\n",
        "data_frame1 = pd.DataFrame(data['data'][0:,0:2], columns=[data['feature_names'][0],data['feature_names'][1]])"
      ],
      "metadata": {
        "id": "Q0OHauaJ8t8q"
      },
      "execution_count": 33,
      "outputs": []
    },
    {
      "cell_type": "code",
      "source": [
        "data['data'][0:,0:2]"
      ],
      "metadata": {
        "id": "eQyjT31b_XJx"
      },
      "execution_count": null,
      "outputs": []
    },
    {
      "cell_type": "code",
      "source": [
        "data_frame1"
      ],
      "metadata": {
        "colab": {
          "base_uri": "https://localhost:8080/",
          "height": 424
        },
        "id": "hyxqHa9O9rAV",
        "outputId": "265c6305-11a3-4507-c677-eb7620e67528"
      },
      "execution_count": 34,
      "outputs": [
        {
          "output_type": "execute_result",
          "data": {
            "text/plain": [
              "     sepal length (cm)  sepal width (cm)\n",
              "0                  5.1               3.5\n",
              "1                  4.9               3.0\n",
              "2                  4.7               3.2\n",
              "3                  4.6               3.1\n",
              "4                  5.0               3.6\n",
              "..                 ...               ...\n",
              "145                6.7               3.0\n",
              "146                6.3               2.5\n",
              "147                6.5               3.0\n",
              "148                6.2               3.4\n",
              "149                5.9               3.0\n",
              "\n",
              "[150 rows x 2 columns]"
            ],
            "text/html": [
              "\n",
              "  <div id=\"df-77e355aa-1bb9-48d5-ae61-9d3d1694fa5a\">\n",
              "    <div class=\"colab-df-container\">\n",
              "      <div>\n",
              "<style scoped>\n",
              "    .dataframe tbody tr th:only-of-type {\n",
              "        vertical-align: middle;\n",
              "    }\n",
              "\n",
              "    .dataframe tbody tr th {\n",
              "        vertical-align: top;\n",
              "    }\n",
              "\n",
              "    .dataframe thead th {\n",
              "        text-align: right;\n",
              "    }\n",
              "</style>\n",
              "<table border=\"1\" class=\"dataframe\">\n",
              "  <thead>\n",
              "    <tr style=\"text-align: right;\">\n",
              "      <th></th>\n",
              "      <th>sepal length (cm)</th>\n",
              "      <th>sepal width (cm)</th>\n",
              "    </tr>\n",
              "  </thead>\n",
              "  <tbody>\n",
              "    <tr>\n",
              "      <th>0</th>\n",
              "      <td>5.1</td>\n",
              "      <td>3.5</td>\n",
              "    </tr>\n",
              "    <tr>\n",
              "      <th>1</th>\n",
              "      <td>4.9</td>\n",
              "      <td>3.0</td>\n",
              "    </tr>\n",
              "    <tr>\n",
              "      <th>2</th>\n",
              "      <td>4.7</td>\n",
              "      <td>3.2</td>\n",
              "    </tr>\n",
              "    <tr>\n",
              "      <th>3</th>\n",
              "      <td>4.6</td>\n",
              "      <td>3.1</td>\n",
              "    </tr>\n",
              "    <tr>\n",
              "      <th>4</th>\n",
              "      <td>5.0</td>\n",
              "      <td>3.6</td>\n",
              "    </tr>\n",
              "    <tr>\n",
              "      <th>...</th>\n",
              "      <td>...</td>\n",
              "      <td>...</td>\n",
              "    </tr>\n",
              "    <tr>\n",
              "      <th>145</th>\n",
              "      <td>6.7</td>\n",
              "      <td>3.0</td>\n",
              "    </tr>\n",
              "    <tr>\n",
              "      <th>146</th>\n",
              "      <td>6.3</td>\n",
              "      <td>2.5</td>\n",
              "    </tr>\n",
              "    <tr>\n",
              "      <th>147</th>\n",
              "      <td>6.5</td>\n",
              "      <td>3.0</td>\n",
              "    </tr>\n",
              "    <tr>\n",
              "      <th>148</th>\n",
              "      <td>6.2</td>\n",
              "      <td>3.4</td>\n",
              "    </tr>\n",
              "    <tr>\n",
              "      <th>149</th>\n",
              "      <td>5.9</td>\n",
              "      <td>3.0</td>\n",
              "    </tr>\n",
              "  </tbody>\n",
              "</table>\n",
              "<p>150 rows × 2 columns</p>\n",
              "</div>\n",
              "      <button class=\"colab-df-convert\" onclick=\"convertToInteractive('df-77e355aa-1bb9-48d5-ae61-9d3d1694fa5a')\"\n",
              "              title=\"Convert this dataframe to an interactive table.\"\n",
              "              style=\"display:none;\">\n",
              "        \n",
              "  <svg xmlns=\"http://www.w3.org/2000/svg\" height=\"24px\"viewBox=\"0 0 24 24\"\n",
              "       width=\"24px\">\n",
              "    <path d=\"M0 0h24v24H0V0z\" fill=\"none\"/>\n",
              "    <path d=\"M18.56 5.44l.94 2.06.94-2.06 2.06-.94-2.06-.94-.94-2.06-.94 2.06-2.06.94zm-11 1L8.5 8.5l.94-2.06 2.06-.94-2.06-.94L8.5 2.5l-.94 2.06-2.06.94zm10 10l.94 2.06.94-2.06 2.06-.94-2.06-.94-.94-2.06-.94 2.06-2.06.94z\"/><path d=\"M17.41 7.96l-1.37-1.37c-.4-.4-.92-.59-1.43-.59-.52 0-1.04.2-1.43.59L10.3 9.45l-7.72 7.72c-.78.78-.78 2.05 0 2.83L4 21.41c.39.39.9.59 1.41.59.51 0 1.02-.2 1.41-.59l7.78-7.78 2.81-2.81c.8-.78.8-2.07 0-2.86zM5.41 20L4 18.59l7.72-7.72 1.47 1.35L5.41 20z\"/>\n",
              "  </svg>\n",
              "      </button>\n",
              "      \n",
              "  <style>\n",
              "    .colab-df-container {\n",
              "      display:flex;\n",
              "      flex-wrap:wrap;\n",
              "      gap: 12px;\n",
              "    }\n",
              "\n",
              "    .colab-df-convert {\n",
              "      background-color: #E8F0FE;\n",
              "      border: none;\n",
              "      border-radius: 50%;\n",
              "      cursor: pointer;\n",
              "      display: none;\n",
              "      fill: #1967D2;\n",
              "      height: 32px;\n",
              "      padding: 0 0 0 0;\n",
              "      width: 32px;\n",
              "    }\n",
              "\n",
              "    .colab-df-convert:hover {\n",
              "      background-color: #E2EBFA;\n",
              "      box-shadow: 0px 1px 2px rgba(60, 64, 67, 0.3), 0px 1px 3px 1px rgba(60, 64, 67, 0.15);\n",
              "      fill: #174EA6;\n",
              "    }\n",
              "\n",
              "    [theme=dark] .colab-df-convert {\n",
              "      background-color: #3B4455;\n",
              "      fill: #D2E3FC;\n",
              "    }\n",
              "\n",
              "    [theme=dark] .colab-df-convert:hover {\n",
              "      background-color: #434B5C;\n",
              "      box-shadow: 0px 1px 3px 1px rgba(0, 0, 0, 0.15);\n",
              "      filter: drop-shadow(0px 1px 2px rgba(0, 0, 0, 0.3));\n",
              "      fill: #FFFFFF;\n",
              "    }\n",
              "  </style>\n",
              "\n",
              "      <script>\n",
              "        const buttonEl =\n",
              "          document.querySelector('#df-77e355aa-1bb9-48d5-ae61-9d3d1694fa5a button.colab-df-convert');\n",
              "        buttonEl.style.display =\n",
              "          google.colab.kernel.accessAllowed ? 'block' : 'none';\n",
              "\n",
              "        async function convertToInteractive(key) {\n",
              "          const element = document.querySelector('#df-77e355aa-1bb9-48d5-ae61-9d3d1694fa5a');\n",
              "          const dataTable =\n",
              "            await google.colab.kernel.invokeFunction('convertToInteractive',\n",
              "                                                     [key], {});\n",
              "          if (!dataTable) return;\n",
              "\n",
              "          const docLinkHtml = 'Like what you see? Visit the ' +\n",
              "            '<a target=\"_blank\" href=https://colab.research.google.com/notebooks/data_table.ipynb>data table notebook</a>'\n",
              "            + ' to learn more about interactive tables.';\n",
              "          element.innerHTML = '';\n",
              "          dataTable['output_type'] = 'display_data';\n",
              "          await google.colab.output.renderOutput(dataTable, element);\n",
              "          const docLink = document.createElement('div');\n",
              "          docLink.innerHTML = docLinkHtml;\n",
              "          element.appendChild(docLink);\n",
              "        }\n",
              "      </script>\n",
              "    </div>\n",
              "  </div>\n",
              "  "
            ]
          },
          "metadata": {},
          "execution_count": 34
        }
      ]
    },
    {
      "cell_type": "code",
      "source": [
        "data['feature_names'][1]"
      ],
      "metadata": {
        "colab": {
          "base_uri": "https://localhost:8080/",
          "height": 35
        },
        "id": "BjNKETnv98Ju",
        "outputId": "9382a155-8046-4701-f2df-05649e039df0"
      },
      "execution_count": 8,
      "outputs": [
        {
          "output_type": "execute_result",
          "data": {
            "text/plain": [
              "'sepal width (cm)'"
            ],
            "application/vnd.google.colaboratory.intrinsic+json": {
              "type": "string"
            }
          },
          "metadata": {},
          "execution_count": 8
        }
      ]
    },
    {
      "cell_type": "code",
      "source": [
        "kolom=[i for i in data.feature_names if i<2]\n",
        "print(kolom)"
      ],
      "metadata": {
        "colab": {
          "base_uri": "https://localhost:8080/",
          "height": 252
        },
        "id": "G07S0ep_8zJG",
        "outputId": "0d98c6cc-8d02-4589-9f62-130e89be9370"
      },
      "execution_count": 10,
      "outputs": [
        {
          "output_type": "error",
          "ename": "TypeError",
          "evalue": "ignored",
          "traceback": [
            "\u001b[0;31m---------------------------------------------------------------------------\u001b[0m",
            "\u001b[0;31mTypeError\u001b[0m                                 Traceback (most recent call last)",
            "\u001b[0;32m<ipython-input-10-0d332399a48d>\u001b[0m in \u001b[0;36m<module>\u001b[0;34m\u001b[0m\n\u001b[0;32m----> 1\u001b[0;31m \u001b[0mkolom\u001b[0m\u001b[0;34m=\u001b[0m\u001b[0;34m[\u001b[0m\u001b[0mi\u001b[0m \u001b[0;32mfor\u001b[0m \u001b[0mi\u001b[0m \u001b[0;32min\u001b[0m \u001b[0mdata\u001b[0m\u001b[0;34m.\u001b[0m\u001b[0mfeature_names\u001b[0m \u001b[0;32mif\u001b[0m \u001b[0mi\u001b[0m\u001b[0;34m<\u001b[0m\u001b[0;36m2\u001b[0m\u001b[0;34m]\u001b[0m\u001b[0;34m\u001b[0m\u001b[0;34m\u001b[0m\u001b[0m\n\u001b[0m\u001b[1;32m      2\u001b[0m \u001b[0mprint\u001b[0m\u001b[0;34m(\u001b[0m\u001b[0mkolom\u001b[0m\u001b[0;34m)\u001b[0m\u001b[0;34m\u001b[0m\u001b[0;34m\u001b[0m\u001b[0m\n",
            "\u001b[0;32m<ipython-input-10-0d332399a48d>\u001b[0m in \u001b[0;36m<listcomp>\u001b[0;34m(.0)\u001b[0m\n\u001b[0;32m----> 1\u001b[0;31m \u001b[0mkolom\u001b[0m\u001b[0;34m=\u001b[0m\u001b[0;34m[\u001b[0m\u001b[0mi\u001b[0m \u001b[0;32mfor\u001b[0m \u001b[0mi\u001b[0m \u001b[0;32min\u001b[0m \u001b[0mdata\u001b[0m\u001b[0;34m.\u001b[0m\u001b[0mfeature_names\u001b[0m \u001b[0;32mif\u001b[0m \u001b[0mi\u001b[0m\u001b[0;34m<\u001b[0m\u001b[0;36m2\u001b[0m\u001b[0;34m]\u001b[0m\u001b[0;34m\u001b[0m\u001b[0;34m\u001b[0m\u001b[0m\n\u001b[0m\u001b[1;32m      2\u001b[0m \u001b[0mprint\u001b[0m\u001b[0;34m(\u001b[0m\u001b[0mkolom\u001b[0m\u001b[0;34m)\u001b[0m\u001b[0;34m\u001b[0m\u001b[0;34m\u001b[0m\u001b[0m\n",
            "\u001b[0;31mTypeError\u001b[0m: '<' not supported between instances of 'str' and 'int'"
          ]
        }
      ]
    },
    {
      "cell_type": "markdown",
      "source": [
        "**Rekonstruksi Algoritma menjadi bentuk Class**"
      ],
      "metadata": {
        "id": "VFF_bhwRYFYj"
      }
    },
    {
      "cell_type": "code",
      "source": [
        "from numpy import square\n",
        "import pandas as pd\n",
        "import random\n",
        "import math\n",
        "\n",
        "class Kally:\n",
        "  def __init__(self,data,columns,k=3,min_index_data=0,iteration=10,treshold=0.05) -> None:\n",
        "      #import pandas as pd\n",
        "      self.data = data\n",
        "      self.columns=columns\n",
        "      self.data_frame = pd.DataFrame(data=data, columns=columns)\n",
        "      self.iteration=iteration\n",
        "      self.treshold=treshold\n",
        "      self.mean=None\n",
        "      self.label=[]\n",
        "\n",
        "      #Inisiasi label setiap rekord dataset dengan None\n",
        "      for i in self.data_frame:\n",
        "        self.data_frame['label']=None\n",
        "      \n",
        "      #Buat pusat_sekutu\n",
        "      self.pusat_sekutu=self.build_centroid_random(k,min_index_data,max(self.data_frame.index))\n",
        "      \n",
        "      #Labeli pusat_sekutu dengan nilainya sendiri (label iterasi ganjil)\n",
        "      r=0\n",
        "      C=[]\n",
        "      for i in self.pusat_sekutu:\n",
        "        r=r+1\n",
        "        self.data_frame.at[i,'label']=\"C\"+str(r)\n",
        "        C=C+[\"C\"+str(r)]\n",
        "      print(C)\n",
        "      self.label=C\n",
        "\n",
        "      #Labeli pusat_sekutu dengan nilainya sendiri (label iterasi genap)\n",
        "      r=0\n",
        "      K=[]\n",
        "      for i in self.pusat_sekutu:\n",
        "        r=r+1\n",
        "        self.data_frame.at[i,'label']=\"K\"+str(r)\n",
        "        K=K+[\"K\"+str(r)]\n",
        "      print(K)\n",
        "\n",
        "      #Pilih kolom yang mau dijadikan komponen jarak, cukup indeks kolomnya saja\n",
        "      self.komponen=[i for i in range(0,len(self.data_frame.columns)-1)]\n",
        "      print('self.komponen = ',self.komponen)\n",
        "      \n",
        "      #Pindah ke alamat memori baru\n",
        "      p=[None for y in self.pusat_sekutu]\n",
        "      self.centroid=[i for i in self.pusat_sekutu]\n",
        "      for y in range(len(self.centroid)):\n",
        "        p[y]=[]\n",
        "        for i in self.komponen: p[y]=p[y]+[self.data_frame.loc[self.centroid[y]][i]]\n",
        "      \n",
        "      for t in range(self.iteration):\n",
        "        '''\n",
        "        Tahap pelabelan atau klasterisasi berdasarkan kemiripan untuk bersekutu.\n",
        "        Tahap pelabelan untuk satu iterasi.\n",
        "        '''\n",
        "        for x in self.data_frame.index:\n",
        "          if self.data_frame.loc[x]['label'] not in self.label:\n",
        "            jarak_list=[]\n",
        "            #Ukur jarak antara setiap titik centroid dengan setiap titik x di data_frame\n",
        "            q=[]\n",
        "            for i in self.komponen: q=q+[self.data_frame.loc[x][i]]\n",
        "            for y in p:\n",
        "              jarak_list=jarak_list+[self.distance_ally(y, q)]\n",
        "            for w in range(len(jarak_list)): \n",
        "              if jarak_list[w]==min(jarak_list):\n",
        "                #print('jarak_list=',jarak_list)\n",
        "                #print('jarak_list[',w,']',jarak_list[w])\n",
        "                #print('min(jarak_list)=',min(jarak_list))\n",
        "                #print('rekord sebelum pelabelan: ',self.data_frame.loc[x])\n",
        "                self.data_frame.at[x,'label']=C[w]  #self.data_frame.at[self.pusat_sekutu[w],'label']\n",
        "                #print('rekord SETELAH pelabelan: ',self.data_frame.loc[x])\n",
        "                self.centroid[w]=x #apakah ini perlu?\n",
        "                #print('sebelum:',p)\n",
        "                p[w]=[self.data_frame.at[x,self.data_frame.columns[i]] for i in self.komponen] #disini masalahnya lan!\n",
        "                #print('p[',w,']',p[w])\n",
        "                #print('sesudah:',p)\n",
        "\n",
        "        '''\n",
        "        Perhitungan ulang centroid klaster setelah pelabelan selesai.\n",
        "        Kemudian p diganti dengan centroid baru hasil perhitungan self.mean.\n",
        "        Titik p kemudian digunakan untuk iterasi berikut.\n",
        "        '''\n",
        "        print('p terakhir untuk iterasi sebelumnya: ',p)\n",
        "        self.mean=self.calculate_mean(self.data_frame,self.pusat_sekutu,self.komponen)\n",
        "        rerata_mse=0\n",
        "        for i in range(len(p)):\n",
        "          rerata_mse=rerata_mse+self.mse(p[i],self.mean[i])\n",
        "        print('rerata_mse iterasi ',t,' ke ',t+1,' = ',rerata_mse)\n",
        "        \n",
        "        #print('p sebelum =', p)\n",
        "        #print('self.mean sesudah hitung mean =', self.mean)\n",
        "        p=self.mean\n",
        "        print('p sesudah persamaan dengan self.mean =', p)\n",
        "        #print('self.mean sesudah persamaan dengan p =', self.mean)\n",
        "        #print(self.mean)\n",
        "        #self.centroid=[i for i in self.centroid]\n",
        "        #print('self.label sebelumnya: ',self.label)\n",
        "        if self.label==C :\n",
        "          self.label=K\n",
        "        else:\n",
        "          self.label=C\n",
        "        #print('self.label SESUDAHNYA: ',self.label)\n",
        "      \n",
        "  #Fungsi untuk pemetaan warna titik:\n",
        "  def pltcolor(lst):\n",
        "      cols=[]\n",
        "      for l in lst:\n",
        "          if l=='C1':\n",
        "              cols.append('red')\n",
        "          elif l=='C2':\n",
        "              cols.append('blue')\n",
        "          else:\n",
        "              cols.append('green')\n",
        "      return cols\n",
        "\n",
        "  #Fungsi untuk plotting 2D\n",
        "  def plot(lst,x,y,s=50):\n",
        "    lst=[i for i in tes.data_frame[tes.data_frame.columns[4]]]\n",
        "    pltcolor(lst)\n",
        "    # Create the colors list using the function above\n",
        "    print('lst = ',lst)\n",
        "    cols=pltcolor(lst)\n",
        "    tes.data_frame.plot.scatter(x=tes.data_frame.columns[0],y=tes.data_frame.columns[1],s=50,c=cols)\n",
        "\n",
        "  #Fungsi MSE (Mean Squarred Error)\n",
        "  def mse(self, vektor1, vektor2):\n",
        "    try:\n",
        "      jarak=0\n",
        "      square_sum=0\n",
        "      for i in range(len(vektor1)):\n",
        "        jarak=vektor1[i]-vektor2[i]\n",
        "        square=jarak*jarak\n",
        "        square_sum=square_sum+square\n",
        "      _mse=square_sum/len(vektor1)\n",
        "    except:\n",
        "      print('terjadi kesalahan: mungkin panjang vektor yang dikuru tidak sama, atau indeks vektor bukan 0,1,2,..')\n",
        "    finally:\n",
        "      return _mse\n",
        "  \n",
        "  #Fungsi Jarak\n",
        "  def distance_ally(self,p,q):\n",
        "    #import math\n",
        "    kuadrat_komponen=[]\n",
        "    #print('p = ',p)\n",
        "    #print('q = ',q)\n",
        "    for i in range(len(p)):\n",
        "      kuadrat_komponen=kuadrat_komponen+[(p[i]-q[i])*(p[i]-q[i])]\n",
        "      #print(kuadrat_komponen)\n",
        "    jumlah=0\n",
        "    for i in kuadrat_komponen:\n",
        "      jumlah=jumlah+i\n",
        "    return math.sqrt(jumlah)\n",
        "  \n",
        "  #Fungsi random\n",
        "  def build_centroid_random(self,k,min,max):\n",
        "    #import random\n",
        "    centroid=[]\n",
        "    for i in range(k):\n",
        "      a=random.randint(min,max) \n",
        "      if a not in centroid:\n",
        "        centroid=centroid+[a]\n",
        "    return centroid\n",
        "\n",
        "  #Alhamdulillah kode ini sudah diuji untuk menghitung mean perklaster\n",
        "  def calculate_mean(self,data_frame,pusat_sekutu,komponen):\n",
        "    #print(data_frame)\n",
        "    #print(pusat_sekutu)\n",
        "    #print(komponen)\n",
        "    total_perklaster=[0 for i in pusat_sekutu]\n",
        "    counter_klaster=[0 for i in pusat_sekutu]\n",
        "    for y in range(len(pusat_sekutu)):\n",
        "      total_perklaster[y]=[0 for j in komponen]\n",
        "    for y in range(len(pusat_sekutu)):\n",
        "      sum=[0 for i in komponen]\n",
        "      counter_detil=0\n",
        "      for w in komponen:\n",
        "        for x in data_frame.index:\n",
        "          if data_frame.loc[x]['label']==data_frame.loc[pusat_sekutu[y]]['label']:\n",
        "            sum[w]=sum[w]+data_frame.at[x,data_frame.columns[w]]\n",
        "            if w==0 : counter_detil=counter_detil+1\n",
        "      counter_klaster[y]=counter_detil\n",
        "      total_perklaster[y]=sum\n",
        "\n",
        "    #Hitung mean:\n",
        "    mean_perklaster=[0 for y in pusat_sekutu]\n",
        "    for y in range(len(pusat_sekutu)):\n",
        "      if counter_klaster[y]!=0:\n",
        "        mean_perklaster[y]=[total_perklaster[y][q]/counter_klaster[y] for q in komponen]\n",
        "\n",
        "    return mean_perklaster\n"
      ],
      "metadata": {
        "id": "q5qsmCAqYEh4"
      },
      "execution_count": 53,
      "outputs": []
    },
    {
      "cell_type": "code",
      "source": [
        "from sklearn.datasets import load_iris\n",
        "import pandas as pd\n",
        "data = load_iris()\n",
        "tes2kolom=Kally(data['data'][0:,0:3], columns=[data['feature_names'][0],data['feature_names'][1],data['feature_names'][2]])"
      ],
      "metadata": {
        "colab": {
          "base_uri": "https://localhost:8080/"
        },
        "id": "q7bk98eCCDa8",
        "outputId": "b3210b63-63a8-49f8-cbe7-fb1e578e29e7"
      },
      "execution_count": 55,
      "outputs": [
        {
          "output_type": "stream",
          "name": "stdout",
          "text": [
            "['C1', 'C2', 'C3']\n",
            "['K1', 'K2', 'K3']\n",
            "self.komponen =  [0, 1, 2]\n",
            "p terakhir untuk iterasi sebelumnya:  [[5.9, 3.0, 5.1], [6.3, 2.5, 5.0], [7.9, 3.8, 6.4]]\n",
            "rerata_mse iterasi  0  ke  1  =  0.3533508842096303\n",
            "p sesudah persamaan dengan self.mean = [[6.33584905660377, 2.943396226415095, 4.90377358490566], [6.33584905660377, 2.943396226415095, 4.90377358490566], [7.38888888888889, 3.2000000000000006, 6.4]]\n",
            "p terakhir untuk iterasi sebelumnya:  [[6.3, 2.5, 5.0], [6.3, 2.5, 5.0], [5.9, 3.0, 5.1]]\n",
            "rerata_mse iterasi  1  ke  2  =  0.25896583564173414\n",
            "p sesudah persamaan dengan self.mean = [[6.436842105263154, 2.970175438596492, 5.056140350877193], [6.436842105263154, 2.970175438596492, 5.056140350877193], [6.436842105263154, 2.970175438596492, 5.056140350877193]]\n",
            "p terakhir untuk iterasi sebelumnya:  [[6.436842105263154, 2.970175438596492, 5.056140350877193], [6.436842105263154, 2.970175438596492, 5.056140350877193], [6.436842105263154, 2.970175438596492, 5.056140350877193]]\n",
            "rerata_mse iterasi  2  ke  3  =  0.0\n",
            "p sesudah persamaan dengan self.mean = [[6.436842105263154, 2.970175438596492, 5.056140350877193], [6.436842105263154, 2.970175438596492, 5.056140350877193], [6.436842105263154, 2.970175438596492, 5.056140350877193]]\n",
            "p terakhir untuk iterasi sebelumnya:  [[5.9, 3.0, 5.1], [5.9, 3.0, 5.1], [5.9, 3.0, 5.1]]\n",
            "rerata_mse iterasi  3  ke  4  =  1.807462222222214\n",
            "p sesudah persamaan dengan self.mean = [[5.843333333333335, 3.057333333333334, 3.7580000000000027], [5.843333333333335, 3.057333333333334, 3.7580000000000027], [5.843333333333335, 3.057333333333334, 3.7580000000000027]]\n",
            "p terakhir untuk iterasi sebelumnya:  [[5.843333333333335, 3.057333333333334, 3.7580000000000027], [5.843333333333335, 3.057333333333334, 3.7580000000000027], [5.843333333333335, 3.057333333333334, 3.7580000000000027]]\n",
            "rerata_mse iterasi  4  ke  5  =  0.0\n",
            "p sesudah persamaan dengan self.mean = [[5.843333333333335, 3.057333333333334, 3.7580000000000027], [5.843333333333335, 3.057333333333334, 3.7580000000000027], [5.843333333333335, 3.057333333333334, 3.7580000000000027]]\n",
            "p terakhir untuk iterasi sebelumnya:  [[5.9, 3.0, 5.1], [5.9, 3.0, 5.1], [5.9, 3.0, 5.1]]\n",
            "rerata_mse iterasi  5  ke  6  =  1.807462222222214\n",
            "p sesudah persamaan dengan self.mean = [[5.843333333333335, 3.057333333333334, 3.7580000000000027], [5.843333333333335, 3.057333333333334, 3.7580000000000027], [5.843333333333335, 3.057333333333334, 3.7580000000000027]]\n",
            "p terakhir untuk iterasi sebelumnya:  [[5.843333333333335, 3.057333333333334, 3.7580000000000027], [5.843333333333335, 3.057333333333334, 3.7580000000000027], [5.843333333333335, 3.057333333333334, 3.7580000000000027]]\n",
            "rerata_mse iterasi  6  ke  7  =  0.0\n",
            "p sesudah persamaan dengan self.mean = [[5.843333333333335, 3.057333333333334, 3.7580000000000027], [5.843333333333335, 3.057333333333334, 3.7580000000000027], [5.843333333333335, 3.057333333333334, 3.7580000000000027]]\n",
            "p terakhir untuk iterasi sebelumnya:  [[5.9, 3.0, 5.1], [5.9, 3.0, 5.1], [5.9, 3.0, 5.1]]\n",
            "rerata_mse iterasi  7  ke  8  =  1.807462222222214\n",
            "p sesudah persamaan dengan self.mean = [[5.843333333333335, 3.057333333333334, 3.7580000000000027], [5.843333333333335, 3.057333333333334, 3.7580000000000027], [5.843333333333335, 3.057333333333334, 3.7580000000000027]]\n",
            "p terakhir untuk iterasi sebelumnya:  [[5.843333333333335, 3.057333333333334, 3.7580000000000027], [5.843333333333335, 3.057333333333334, 3.7580000000000027], [5.843333333333335, 3.057333333333334, 3.7580000000000027]]\n",
            "rerata_mse iterasi  8  ke  9  =  0.0\n",
            "p sesudah persamaan dengan self.mean = [[5.843333333333335, 3.057333333333334, 3.7580000000000027], [5.843333333333335, 3.057333333333334, 3.7580000000000027], [5.843333333333335, 3.057333333333334, 3.7580000000000027]]\n",
            "p terakhir untuk iterasi sebelumnya:  [[5.9, 3.0, 5.1], [5.9, 3.0, 5.1], [5.9, 3.0, 5.1]]\n",
            "rerata_mse iterasi  9  ke  10  =  1.807462222222214\n",
            "p sesudah persamaan dengan self.mean = [[5.843333333333335, 3.057333333333334, 3.7580000000000027], [5.843333333333335, 3.057333333333334, 3.7580000000000027], [5.843333333333335, 3.057333333333334, 3.7580000000000027]]\n"
          ]
        }
      ]
    },
    {
      "cell_type": "code",
      "source": [
        "tes2kolom.data_frame"
      ],
      "metadata": {
        "id": "UX6xfJ9SE-xz"
      },
      "execution_count": null,
      "outputs": []
    },
    {
      "cell_type": "code",
      "source": [
        "from sklearn.datasets import load_iris\n",
        "import pandas as pd\n",
        "data = load_iris()\n",
        "tes=Kally(data['data'], columns=data['feature_names'])"
      ],
      "metadata": {
        "colab": {
          "base_uri": "https://localhost:8080/"
        },
        "id": "xahsh8kOLSeB",
        "outputId": "6f263be1-0b9c-407d-9e59-62bf72359d70"
      },
      "execution_count": 54,
      "outputs": [
        {
          "output_type": "stream",
          "name": "stdout",
          "text": [
            "['C1', 'C2', 'C3']\n",
            "['K1', 'K2', 'K3']\n",
            "self.komponen =  [0, 1, 2, 3]\n",
            "p terakhir untuk iterasi sebelumnya:  [[5.5, 4.2, 1.4, 0.2], [5.9, 3.0, 5.1, 1.8], [6.2, 3.4, 5.4, 2.3]]\n",
            "rerata_mse iterasi  0  ke  1  =  7.3581203831948265\n",
            "p sesudah persamaan dengan self.mean = [[6.122368421052629, 3.1026315789473684, 4.1842105263157885, 1.3763157894736837], [5.250000000000001, 3.7083333333333335, 1.4833333333333332, 0.2916666666666667], [6.122368421052629, 3.1026315789473684, 4.1842105263157885, 1.3763157894736837]]\n",
            "p terakhir untuk iterasi sebelumnya:  [[6.2, 3.4, 5.4, 2.3], [5.9, 3.0, 5.1, 1.8], [6.2, 3.4, 5.4, 2.3]]\n",
            "rerata_mse iterasi  1  ke  2  =  5.744342698577867\n",
            "p sesudah persamaan dengan self.mean = [[5.468817204301076, 3.108602150537635, 2.9559139784946242, 0.8645161290322582], [5.468817204301076, 3.108602150537635, 2.9559139784946242, 0.8645161290322582], [5.468817204301076, 3.108602150537635, 2.9559139784946242, 0.8645161290322582]]\n",
            "p terakhir untuk iterasi sebelumnya:  [[5.468817204301076, 3.108602150537635, 2.9559139784946242, 0.8645161290322582], [5.468817204301076, 3.108602150537635, 2.9559139784946242, 0.8645161290322582], [5.468817204301076, 3.108602150537635, 2.9559139784946242, 0.8645161290322582]]\n",
            "rerata_mse iterasi  2  ke  3  =  0.0\n",
            "p sesudah persamaan dengan self.mean = [[5.468817204301076, 3.108602150537635, 2.9559139784946242, 0.8645161290322582], [5.468817204301076, 3.108602150537635, 2.9559139784946242, 0.8645161290322582], [5.468817204301076, 3.108602150537635, 2.9559139784946242, 0.8645161290322582]]\n",
            "p terakhir untuk iterasi sebelumnya:  [[5.9, 3.0, 5.1, 1.8], [5.9, 3.0, 5.1, 1.8], [5.9, 3.0, 5.1, 1.8]]\n",
            "rerata_mse iterasi  3  ke  4  =  1.6261969999999932\n",
            "p sesudah persamaan dengan self.mean = [[5.843333333333335, 3.057333333333334, 3.7580000000000027, 1.199333333333334], [5.843333333333335, 3.057333333333334, 3.7580000000000027, 1.199333333333334], [5.843333333333335, 3.057333333333334, 3.7580000000000027, 1.199333333333334]]\n",
            "p terakhir untuk iterasi sebelumnya:  [[5.843333333333335, 3.057333333333334, 3.7580000000000027, 1.199333333333334], [5.843333333333335, 3.057333333333334, 3.7580000000000027, 1.199333333333334], [5.843333333333335, 3.057333333333334, 3.7580000000000027, 1.199333333333334]]\n",
            "rerata_mse iterasi  4  ke  5  =  0.0\n",
            "p sesudah persamaan dengan self.mean = [[5.843333333333335, 3.057333333333334, 3.7580000000000027, 1.199333333333334], [5.843333333333335, 3.057333333333334, 3.7580000000000027, 1.199333333333334], [5.843333333333335, 3.057333333333334, 3.7580000000000027, 1.199333333333334]]\n",
            "p terakhir untuk iterasi sebelumnya:  [[5.9, 3.0, 5.1, 1.8], [5.9, 3.0, 5.1, 1.8], [5.9, 3.0, 5.1, 1.8]]\n",
            "rerata_mse iterasi  5  ke  6  =  1.6261969999999932\n",
            "p sesudah persamaan dengan self.mean = [[5.843333333333335, 3.057333333333334, 3.7580000000000027, 1.199333333333334], [5.843333333333335, 3.057333333333334, 3.7580000000000027, 1.199333333333334], [5.843333333333335, 3.057333333333334, 3.7580000000000027, 1.199333333333334]]\n",
            "p terakhir untuk iterasi sebelumnya:  [[5.843333333333335, 3.057333333333334, 3.7580000000000027, 1.199333333333334], [5.843333333333335, 3.057333333333334, 3.7580000000000027, 1.199333333333334], [5.843333333333335, 3.057333333333334, 3.7580000000000027, 1.199333333333334]]\n",
            "rerata_mse iterasi  6  ke  7  =  0.0\n",
            "p sesudah persamaan dengan self.mean = [[5.843333333333335, 3.057333333333334, 3.7580000000000027, 1.199333333333334], [5.843333333333335, 3.057333333333334, 3.7580000000000027, 1.199333333333334], [5.843333333333335, 3.057333333333334, 3.7580000000000027, 1.199333333333334]]\n",
            "p terakhir untuk iterasi sebelumnya:  [[5.9, 3.0, 5.1, 1.8], [5.9, 3.0, 5.1, 1.8], [5.9, 3.0, 5.1, 1.8]]\n",
            "rerata_mse iterasi  7  ke  8  =  1.6261969999999932\n",
            "p sesudah persamaan dengan self.mean = [[5.843333333333335, 3.057333333333334, 3.7580000000000027, 1.199333333333334], [5.843333333333335, 3.057333333333334, 3.7580000000000027, 1.199333333333334], [5.843333333333335, 3.057333333333334, 3.7580000000000027, 1.199333333333334]]\n",
            "p terakhir untuk iterasi sebelumnya:  [[5.843333333333335, 3.057333333333334, 3.7580000000000027, 1.199333333333334], [5.843333333333335, 3.057333333333334, 3.7580000000000027, 1.199333333333334], [5.843333333333335, 3.057333333333334, 3.7580000000000027, 1.199333333333334]]\n",
            "rerata_mse iterasi  8  ke  9  =  0.0\n",
            "p sesudah persamaan dengan self.mean = [[5.843333333333335, 3.057333333333334, 3.7580000000000027, 1.199333333333334], [5.843333333333335, 3.057333333333334, 3.7580000000000027, 1.199333333333334], [5.843333333333335, 3.057333333333334, 3.7580000000000027, 1.199333333333334]]\n",
            "p terakhir untuk iterasi sebelumnya:  [[5.9, 3.0, 5.1, 1.8], [5.9, 3.0, 5.1, 1.8], [5.9, 3.0, 5.1, 1.8]]\n",
            "rerata_mse iterasi  9  ke  10  =  1.6261969999999932\n",
            "p sesudah persamaan dengan self.mean = [[5.843333333333335, 3.057333333333334, 3.7580000000000027, 1.199333333333334], [5.843333333333335, 3.057333333333334, 3.7580000000000027, 1.199333333333334], [5.843333333333335, 3.057333333333334, 3.7580000000000027, 1.199333333333334]]\n"
          ]
        }
      ]
    },
    {
      "cell_type": "code",
      "source": [
        "tes.data_frame.plot.scatter(x=tes.data_frame.columns[0],y=tes.data_frame.columns[1])\n",
        "tes.data_frame.plot.scatter(x=tes.data_frame.columns[2],y=tes.data_frame.columns[1])"
      ],
      "metadata": {
        "colab": {
          "base_uri": "https://localhost:8080/",
          "height": 564
        },
        "id": "LzZNQak0sxCk",
        "outputId": "36ed4249-4348-4aec-e8dc-d0c0b39a9525"
      },
      "execution_count": 3,
      "outputs": [
        {
          "output_type": "execute_result",
          "data": {
            "text/plain": [
              "<matplotlib.axes._subplots.AxesSubplot at 0x7f57292af950>"
            ]
          },
          "metadata": {},
          "execution_count": 3
        },
        {
          "output_type": "display_data",
          "data": {
            "text/plain": [
              "<Figure size 432x288 with 1 Axes>"
            ],
            "image/png": "[encoded data removed]"
          },
          "metadata": {
            "needs_background": "light"
          }
        },
        {
          "output_type": "display_data",
          "data": {
            "text/plain": [
              "<Figure size 432x288 with 1 Axes>"
            ],
            "image/png": "[encoded data removed]"
          },
          "metadata": {
            "needs_background": "light"
          }
        }
      ]
    },
    {
      "cell_type": "code",
      "source": [
        "tes.data_frame.columns[4]\n",
        "tes.data_frame[tes.data_frame.columns[4]]\n",
        "w=[i for i in tes.data_frame[tes.data_frame.columns[4]]]\n",
        "print(w)"
      ],
      "metadata": {
        "colab": {
          "base_uri": "https://localhost:8080/"
        },
        "id": "L_UkLFeFAzuc",
        "outputId": "d73446f7-ea61-4eba-d196-acd6db64b940"
      },
      "execution_count": 7,
      "outputs": [
        {
          "output_type": "stream",
          "name": "stdout",
          "text": [
            "['C3', 'C3', 'C3', 'C3', 'C2', 'C2', 'C3', 'C3', 'C3', 'C3', 'C2', 'C3', 'C3', 'C3', 'C2', 'C2', 'C3', 'C3', 'C2', 'C2', 'C2', 'C2', 'C3', 'C2', 'C2', 'C2', 'C2', 'C2', 'C2', 'C2', 'C2', 'C2', 'C2', 'C2', 'C3', 'C3', 'C3', 'C3', 'C3', 'C3', 'C3', 'C3', 'C3', 'C3', 'C3', 'C3', 'C3', 'C3', 'C3', 'C3', 'C2', 'C2', 'C2', 'C2', 'C1', 'C2', 'C2', 'C2', 'C2', 'C2', 'C2', 'C2', 'C2', 'C2', 'C2', 'C2', 'C2', 'C2', 'C2', 'C2', 'C2', 'C2', 'C2', 'C2', 'C2', 'C2', 'C2', 'C2', 'C2', 'C2', 'C2', 'C2', 'C2', 'C2', 'C2', 'C2', 'C2', 'C2', 'C2', 'C2', 'C2', 'C2', 'C2', 'C2', 'C2', 'C2', 'C2', 'C2', 'C2', 'C2', 'C2', 'C2', 'C2', 'C2', 'C2', 'C1', 'C2', 'C2', 'C2', 'C2', 'C2', 'C2', 'C2', 'C2', 'C2', 'C2', 'C2', 'C2', 'C2', 'C2', 'C2', 'C2', 'C2', 'C2', 'C2', 'C2', 'C2', 'C2', 'C2', 'C2', 'C2', 'C2', 'C2', 'C2', 'C2', 'C2', 'C2', 'C2', 'C2', 'C2', 'C2', 'C2', 'C2', 'C2', 'C2', 'C2', 'C2', 'C2', 'C2', 'C2']\n"
          ]
        }
      ]
    },
    {
      "cell_type": "code",
      "source": [
        "#x=['A','B','B','C','A','B']\n",
        "#y=[15,30,25,18,22,13]\n",
        "\n",
        "# Function to map the colors as a list from the input list of x variables\n",
        "lst=[i for i in tes.data_frame[tes.data_frame.columns[4]]]\n",
        "def pltcolor(lst):\n",
        "    cols=[]\n",
        "    for l in lst:\n",
        "        if l=='C1':\n",
        "            cols.append('red')\n",
        "        elif l=='C2':\n",
        "            cols.append('blue')\n",
        "        else:\n",
        "            cols.append('green')\n",
        "    return cols\n",
        "# Create the colors list using the function above\n",
        "print('lst = ',lst)\n",
        "cols=pltcolor(lst)\n",
        "\n",
        "tes.data_frame.plot.scatter(x=tes.data_frame.columns[0],y=tes.data_frame.columns[1],s=50,c=cols) #Pass on the list created by the function here"
      ],
      "metadata": {
        "colab": {
          "base_uri": "https://localhost:8080/",
          "height": 520
        },
        "id": "FBR2x1T1-38V",
        "outputId": "b29a5f5e-3ddd-4d63-943a-659be96c8db4"
      },
      "execution_count": 14,
      "outputs": [
        {
          "output_type": "stream",
          "name": "stdout",
          "text": [
            "lst =  ['C3', 'C3', 'C3', 'C3', 'C2', 'C2', 'C3', 'C3', 'C3', 'C3', 'C2', 'C3', 'C3', 'C3', 'C2', 'C2', 'C3', 'C3', 'C2', 'C2', 'C2', 'C2', 'C3', 'C2', 'C2', 'C2', 'C2', 'C2', 'C2', 'C2', 'C2', 'C2', 'C2', 'C2', 'C3', 'C3', 'C3', 'C3', 'C3', 'C3', 'C3', 'C3', 'C3', 'C3', 'C3', 'C3', 'C3', 'C3', 'C3', 'C3', 'C2', 'C2', 'C2', 'C2', 'C1', 'C2', 'C2', 'C2', 'C2', 'C2', 'C2', 'C2', 'C2', 'C2', 'C2', 'C2', 'C2', 'C2', 'C2', 'C2', 'C2', 'C2', 'C2', 'C2', 'C2', 'C2', 'C2', 'C2', 'C2', 'C2', 'C2', 'C2', 'C2', 'C2', 'C2', 'C2', 'C2', 'C2', 'C2', 'C2', 'C2', 'C2', 'C2', 'C2', 'C2', 'C2', 'C2', 'C2', 'C2', 'C2', 'C2', 'C2', 'C2', 'C2', 'C2', 'C1', 'C2', 'C2', 'C2', 'C2', 'C2', 'C2', 'C2', 'C2', 'C2', 'C2', 'C2', 'C2', 'C2', 'C2', 'C2', 'C2', 'C2', 'C2', 'C2', 'C2', 'C2', 'C2', 'C2', 'C2', 'C2', 'C2', 'C2', 'C2', 'C2', 'C2', 'C2', 'C2', 'C2', 'C2', 'C2', 'C2', 'C2', 'C2', 'C2', 'C2', 'C2', 'C2', 'C2', 'C2']\n"
          ]
        },
        {
          "output_type": "error",
          "ename": "AttributeError",
          "evalue": "ignored",
          "traceback": [
            "\u001b[0;31m---------------------------------------------------------------------------\u001b[0m",
            "\u001b[0;31mAttributeError\u001b[0m                            Traceback (most recent call last)",
            "\u001b[0;32m<ipython-input-14-e4bf77275324>\u001b[0m in \u001b[0;36m<module>\u001b[0;34m\u001b[0m\n\u001b[1;32m     19\u001b[0m \u001b[0;34m\u001b[0m\u001b[0m\n\u001b[1;32m     20\u001b[0m \u001b[0mtes\u001b[0m\u001b[0;34m.\u001b[0m\u001b[0mdata_frame\u001b[0m\u001b[0;34m.\u001b[0m\u001b[0mplot\u001b[0m\u001b[0;34m.\u001b[0m\u001b[0mscatter\u001b[0m\u001b[0;34m(\u001b[0m\u001b[0mx\u001b[0m\u001b[0;34m=\u001b[0m\u001b[0mtes\u001b[0m\u001b[0;34m.\u001b[0m\u001b[0mdata_frame\u001b[0m\u001b[0;34m.\u001b[0m\u001b[0mcolumns\u001b[0m\u001b[0;34m[\u001b[0m\u001b[0;36m0\u001b[0m\u001b[0;34m]\u001b[0m\u001b[0;34m,\u001b[0m\u001b[0my\u001b[0m\u001b[0;34m=\u001b[0m\u001b[0mtes\u001b[0m\u001b[0;34m.\u001b[0m\u001b[0mdata_frame\u001b[0m\u001b[0;34m.\u001b[0m\u001b[0mcolumns\u001b[0m\u001b[0;34m[\u001b[0m\u001b[0;36m1\u001b[0m\u001b[0;34m]\u001b[0m\u001b[0;34m,\u001b[0m\u001b[0ms\u001b[0m\u001b[0;34m=\u001b[0m\u001b[0;36m50\u001b[0m\u001b[0;34m,\u001b[0m\u001b[0mc\u001b[0m\u001b[0;34m=\u001b[0m\u001b[0mcols\u001b[0m\u001b[0;34m)\u001b[0m \u001b[0;31m#Pass on the list created by the function here\u001b[0m\u001b[0;34m\u001b[0m\u001b[0;34m\u001b[0m\u001b[0m\n\u001b[0;32m---> 21\u001b[0;31m \u001b[0mtes\u001b[0m\u001b[0;34m.\u001b[0m\u001b[0mdata_frame\u001b[0m\u001b[0;34m.\u001b[0m\u001b[0mplot\u001b[0m\u001b[0;34m.\u001b[0m\u001b[0mgrid\u001b[0m\u001b[0;34m(\u001b[0m\u001b[0;32mTrue\u001b[0m\u001b[0;34m)\u001b[0m\u001b[0;34m\u001b[0m\u001b[0;34m\u001b[0m\u001b[0m\n\u001b[0m\u001b[1;32m     22\u001b[0m \u001b[0mtes\u001b[0m\u001b[0;34m.\u001b[0m\u001b[0mdata_frame\u001b[0m\u001b[0;34m.\u001b[0m\u001b[0mplot\u001b[0m\u001b[0;34m.\u001b[0m\u001b[0mshow\u001b[0m\u001b[0;34m(\u001b[0m\u001b[0;34m)\u001b[0m\u001b[0;34m\u001b[0m\u001b[0;34m\u001b[0m\u001b[0m\n",
            "\u001b[0;31mAttributeError\u001b[0m: 'PlotAccessor' object has no attribute 'grid'"
          ]
        },
        {
          "output_type": "display_data",
          "data": {
            "text/plain": [
              "<Figure size 432x288 with 1 Axes>"
            ],
            "image/png": "[encoded data removed]"
          },
          "metadata": {
            "needs_background": "light"
          }
        }
      ]
    },
    {
      "cell_type": "code",
      "source": [
        "tes.data_frame.columns[0]"
      ],
      "metadata": {
        "colab": {
          "base_uri": "https://localhost:8080/",
          "height": 35
        },
        "id": "aizMWzjM8VKj",
        "outputId": "3380cb0f-a318-4dfa-b15f-1e80e8be949e"
      },
      "execution_count": 29,
      "outputs": [
        {
          "output_type": "execute_result",
          "data": {
            "text/plain": [
              "'sepal length (cm)'"
            ],
            "application/vnd.google.colaboratory.intrinsic+json": {
              "type": "string"
            }
          },
          "metadata": {},
          "execution_count": 29
        }
      ]
    },
    {
      "cell_type": "code",
      "source": [
        "def mse(vektor1, vektor2):\n",
        "    try:\n",
        "      jarak=0\n",
        "      square_sum=0\n",
        "      for i in range(len(vektor1)):\n",
        "        jarak=vektor1[i]-vektor2[i]\n",
        "        square=jarak*jarak\n",
        "        square_sum=square_sum+square\n",
        "      _mse=square_sum/len(vektor1)\n",
        "    except:\n",
        "      print('terjadi kesalahan: mungkin panjang vektor yang dikuru tidak sama, atau indeks vektor bukan 0,1,2,..')\n",
        "    finally:\n",
        "      return _mse"
      ],
      "metadata": {
        "id": "p40fu5u4ZNiB"
      },
      "execution_count": 25,
      "outputs": []
    },
    {
      "cell_type": "code",
      "source": [
        "a=mse([2,3,4],[2,4,3])\n",
        "print(a)"
      ],
      "metadata": {
        "colab": {
          "base_uri": "https://localhost:8080/"
        },
        "id": "SVkxeOvGZQEU",
        "outputId": "df8625dc-0d48-43fa-b547-6fe919682828"
      },
      "execution_count": 26,
      "outputs": [
        {
          "output_type": "stream",
          "name": "stdout",
          "text": [
            "0.6666666666666666\n"
          ]
        }
      ]
    },
    {
      "cell_type": "markdown",
      "source": [
        ""
      ],
      "metadata": {
        "id": "sZpdl_oNse7E"
      }
    },
    {
      "cell_type": "code",
      "source": [
        "res=[\"C\" for i in pusat_sekutu]\n",
        "for i in range(len(pusat_sekutu)):\n",
        "  res[i]=\"C\"+str(i)\n",
        "  print(res[i])"
      ],
      "metadata": {
        "colab": {
          "base_uri": "https://localhost:8080/"
        },
        "id": "omDzQTvtme1W",
        "outputId": "34e1d27c-e735-4cde-e12a-cd8d43df7df7"
      },
      "execution_count": 26,
      "outputs": [
        {
          "output_type": "stream",
          "name": "stdout",
          "text": [
            "C0\n",
            "C1\n",
            "C2\n"
          ]
        }
      ]
    },
    {
      "cell_type": "code",
      "source": [
        "tes.centroid"
      ],
      "metadata": {
        "colab": {
          "base_uri": "https://localhost:8080/"
        },
        "id": "jwtrLnJPMMj5",
        "outputId": "ad7d810e-d481-4fd9-9bd0-f5476c767f3d"
      },
      "execution_count": 43,
      "outputs": [
        {
          "output_type": "execute_result",
          "data": {
            "text/plain": [
              "[149, 49, 148]"
            ]
          },
          "metadata": {},
          "execution_count": 43
        }
      ]
    },
    {
      "cell_type": "code",
      "source": [
        "centroids=pusat_sekutu\n",
        "print(id(centroids))\n",
        "print(id(pusat_sekutu))\n",
        "\n",
        "centroids=[i for i in pusat_sekutu]\n",
        "print(id(centroids))\n",
        "print(id(pusat_sekutu))"
      ],
      "metadata": {
        "colab": {
          "base_uri": "https://localhost:8080/"
        },
        "id": "gNT60xxiUd2A",
        "outputId": "c28248bb-26fd-45ca-e842-c543fe2a3421"
      },
      "execution_count": 3,
      "outputs": [
        {
          "output_type": "stream",
          "name": "stdout",
          "text": [
            "139956502702432\n",
            "139956502702432\n",
            "139956371035232\n",
            "139956502702432\n"
          ]
        }
      ]
    },
    {
      "cell_type": "code",
      "source": [
        "data_frame_tes = pd.DataFrame(data['data'][0:2],columns=data['feature_names'])"
      ],
      "metadata": {
        "id": "9B_q69j6dbz-"
      },
      "execution_count": 46,
      "outputs": []
    },
    {
      "cell_type": "code",
      "source": [
        "data.data[0:3]"
      ],
      "metadata": {
        "id": "AEaAQumjej_q"
      },
      "execution_count": null,
      "outputs": []
    },
    {
      "cell_type": "code",
      "source": [
        "data['data'][0:3]"
      ],
      "metadata": {
        "id": "4NzgzBaNf95a"
      },
      "execution_count": null,
      "outputs": []
    },
    {
      "cell_type": "code",
      "source": [
        "data_frame_tes"
      ],
      "metadata": {
        "colab": {
          "base_uri": "https://localhost:8080/",
          "height": 112
        },
        "id": "S7C3m600gOb7",
        "outputId": "4e0e1a91-6a82-4ec8-f146-a86a446e3ebf"
      },
      "execution_count": 47,
      "outputs": [
        {
          "output_type": "execute_result",
          "data": {
            "text/plain": [
              "   sepal length (cm)  sepal width (cm)  petal length (cm)  petal width (cm)\n",
              "0                5.1               3.5                1.4               0.2\n",
              "1                4.9               3.0                1.4               0.2"
            ],
            "text/html": [
              "\n",
              "  <div id=\"df-87522210-d744-4c03-834e-bea02e415ec6\">\n",
              "    <div class=\"colab-df-container\">\n",
              "      <div>\n",
              "<style scoped>\n",
              "    .dataframe tbody tr th:only-of-type {\n",
              "        vertical-align: middle;\n",
              "    }\n",
              "\n",
              "    .dataframe tbody tr th {\n",
              "        vertical-align: top;\n",
              "    }\n",
              "\n",
              "    .dataframe thead th {\n",
              "        text-align: right;\n",
              "    }\n",
              "</style>\n",
              "<table border=\"1\" class=\"dataframe\">\n",
              "  <thead>\n",
              "    <tr style=\"text-align: right;\">\n",
              "      <th></th>\n",
              "      <th>sepal length (cm)</th>\n",
              "      <th>sepal width (cm)</th>\n",
              "      <th>petal length (cm)</th>\n",
              "      <th>petal width (cm)</th>\n",
              "    </tr>\n",
              "  </thead>\n",
              "  <tbody>\n",
              "    <tr>\n",
              "      <th>0</th>\n",
              "      <td>5.1</td>\n",
              "      <td>3.5</td>\n",
              "      <td>1.4</td>\n",
              "      <td>0.2</td>\n",
              "    </tr>\n",
              "    <tr>\n",
              "      <th>1</th>\n",
              "      <td>4.9</td>\n",
              "      <td>3.0</td>\n",
              "      <td>1.4</td>\n",
              "      <td>0.2</td>\n",
              "    </tr>\n",
              "  </tbody>\n",
              "</table>\n",
              "</div>\n",
              "      <button class=\"colab-df-convert\" onclick=\"convertToInteractive('df-87522210-d744-4c03-834e-bea02e415ec6')\"\n",
              "              title=\"Convert this dataframe to an interactive table.\"\n",
              "              style=\"display:none;\">\n",
              "        \n",
              "  <svg xmlns=\"http://www.w3.org/2000/svg\" height=\"24px\"viewBox=\"0 0 24 24\"\n",
              "       width=\"24px\">\n",
              "    <path d=\"M0 0h24v24H0V0z\" fill=\"none\"/>\n",
              "    <path d=\"M18.56 5.44l.94 2.06.94-2.06 2.06-.94-2.06-.94-.94-2.06-.94 2.06-2.06.94zm-11 1L8.5 8.5l.94-2.06 2.06-.94-2.06-.94L8.5 2.5l-.94 2.06-2.06.94zm10 10l.94 2.06.94-2.06 2.06-.94-2.06-.94-.94-2.06-.94 2.06-2.06.94z\"/><path d=\"M17.41 7.96l-1.37-1.37c-.4-.4-.92-.59-1.43-.59-.52 0-1.04.2-1.43.59L10.3 9.45l-7.72 7.72c-.78.78-.78 2.05 0 2.83L4 21.41c.39.39.9.59 1.41.59.51 0 1.02-.2 1.41-.59l7.78-7.78 2.81-2.81c.8-.78.8-2.07 0-2.86zM5.41 20L4 18.59l7.72-7.72 1.47 1.35L5.41 20z\"/>\n",
              "  </svg>\n",
              "      </button>\n",
              "      \n",
              "  <style>\n",
              "    .colab-df-container {\n",
              "      display:flex;\n",
              "      flex-wrap:wrap;\n",
              "      gap: 12px;\n",
              "    }\n",
              "\n",
              "    .colab-df-convert {\n",
              "      background-color: #E8F0FE;\n",
              "      border: none;\n",
              "      border-radius: 50%;\n",
              "      cursor: pointer;\n",
              "      display: none;\n",
              "      fill: #1967D2;\n",
              "      height: 32px;\n",
              "      padding: 0 0 0 0;\n",
              "      width: 32px;\n",
              "    }\n",
              "\n",
              "    .colab-df-convert:hover {\n",
              "      background-color: #E2EBFA;\n",
              "      box-shadow: 0px 1px 2px rgba(60, 64, 67, 0.3), 0px 1px 3px 1px rgba(60, 64, 67, 0.15);\n",
              "      fill: #174EA6;\n",
              "    }\n",
              "\n",
              "    [theme=dark] .colab-df-convert {\n",
              "      background-color: #3B4455;\n",
              "      fill: #D2E3FC;\n",
              "    }\n",
              "\n",
              "    [theme=dark] .colab-df-convert:hover {\n",
              "      background-color: #434B5C;\n",
              "      box-shadow: 0px 1px 3px 1px rgba(0, 0, 0, 0.15);\n",
              "      filter: drop-shadow(0px 1px 2px rgba(0, 0, 0, 0.3));\n",
              "      fill: #FFFFFF;\n",
              "    }\n",
              "  </style>\n",
              "\n",
              "      <script>\n",
              "        const buttonEl =\n",
              "          document.querySelector('#df-87522210-d744-4c03-834e-bea02e415ec6 button.colab-df-convert');\n",
              "        buttonEl.style.display =\n",
              "          google.colab.kernel.accessAllowed ? 'block' : 'none';\n",
              "\n",
              "        async function convertToInteractive(key) {\n",
              "          const element = document.querySelector('#df-87522210-d744-4c03-834e-bea02e415ec6');\n",
              "          const dataTable =\n",
              "            await google.colab.kernel.invokeFunction('convertToInteractive',\n",
              "                                                     [key], {});\n",
              "          if (!dataTable) return;\n",
              "\n",
              "          const docLinkHtml = 'Like what you see? Visit the ' +\n",
              "            '<a target=\"_blank\" href=https://colab.research.google.com/notebooks/data_table.ipynb>data table notebook</a>'\n",
              "            + ' to learn more about interactive tables.';\n",
              "          element.innerHTML = '';\n",
              "          dataTable['output_type'] = 'display_data';\n",
              "          await google.colab.output.renderOutput(dataTable, element);\n",
              "          const docLink = document.createElement('div');\n",
              "          docLink.innerHTML = docLinkHtml;\n",
              "          element.appendChild(docLink);\n",
              "        }\n",
              "      </script>\n",
              "    </div>\n",
              "  </div>\n",
              "  "
            ]
          },
          "metadata": {},
          "execution_count": 47
        }
      ]
    },
    {
      "cell_type": "markdown",
      "source": [
        "Hitung mean:\n",
        "1. Untuk setiap klaster, semua anggota klaster dijumlahkan semuanya pada satu komponen, kemudian satu persartu komponen yang lain.\n",
        "2. Setiap hasil jumlah total dibagi dengan jumlah angota klaster.\n",
        "3. Hasil pekomponen adalah mean daripada klaster tersebut.\n",
        "<hr/>\n",
        "\n",
        "1. Untuk setiap klaster berarti:<br>\n",
        "Hitung y mulai dari indeks 0 ke panjang pusat_sekutu-1.<br>\n",
        "kemudian cek setiap x di semesta titik, apakah label sama dengan nilai indeks pusat_sekutu[y]?<br>\n",
        "Jika sama maka langsung jumlahkan dan simpan di sum[y], inisiasi sum[y]=0 di saat setiap y dimulai, jadi tepat dibawah loop y.<br>\n",
        "Sampai sini semestinya semua penjumlahan total tersimpan di sum.\n",
        "2. Lalu buat fungsi counter yang menghitung jumlah anggota setiap klaster.<br>\n",
        "Hitung y mulai dari indeks 0 ke panjang pusat_sekutu-1.<br>\n",
        "Inisiasi counter[y]=0 <br>\n",
        "Untuk setiap x yang labelnya sama dengan pusat_sekutu[y], tambahkan ke counter[y]\n",
        "<br> Demikian sehingga diperoleh counter yang menyatakan jumlah anggota perklaster.\n",
        "3. Kemudian buat fungsi yang menghitung mean dengan input adalah sum dan counter.<br> Nyatakan mean sebagai sum[y]/counter[y].\n",
        "4. SELESAI.\n"
      ],
      "metadata": {
        "id": "Ytu0vWY0680I"
      }
    },
    {
      "cell_type": "code",
      "source": [
        "#INI FUNGSI LAMA, OBSELET\n",
        "#Hitung mean dari klaster\n",
        "def sum_cluster(pusat_sekutu, data_frame,komponen):\n",
        "  sum=[0 for i in komponen]\n",
        "  for w in komponen:\n",
        "    for y in range(len(pusat_sekutu)):\n",
        "      for x in data_frame.index:\n",
        "        if data_frame.loc[x]['label']==pusat_sekutu[y]:\n",
        "          sum[y]=sum[y]+data_frame.at[x,data_frame.columns[w]]\n",
        "  return sum\n",
        "\n"
      ],
      "metadata": {
        "id": "xPpsQeMhlQsh"
      },
      "execution_count": 32,
      "outputs": []
    },
    {
      "cell_type": "code",
      "source": [
        "data_frame_tes=None\n",
        "for i in data_frame:\n",
        "  data_frame_tes"
      ],
      "metadata": {
        "id": "5x8EAt9Ocd1k"
      },
      "execution_count": null,
      "outputs": []
    },
    {
      "cell_type": "code",
      "source": [
        "#Alhamdulillah kode ini sudah diuji untuk menghitung mean perklaster\n",
        "def calculate_mean(data_frame,pusat_sekutu,komponen):\n",
        "  total_perklaster=[0 for i in pusat_sekutu]\n",
        "  counter_klaster=[0 for i in pusat_sekutu]\n",
        "  #print(total_perklaster)\n",
        "  for y in range(len(pusat_sekutu)):\n",
        "    total_perklaster[y]=[0 for j in komponen]\n",
        "  #print(total_perklaster[0])\n",
        "  for y in range(len(pusat_sekutu)):\n",
        "    sum=[0 for i in komponen]\n",
        "    counter_detil=0\n",
        "    for w in komponen:\n",
        "      for x in data_frame.index:\n",
        "        if data_frame.loc[x]['label']==pusat_sekutu[y]:\n",
        "          sum[w]=sum[w]+data_frame.at[x,data_frame.columns[w]]\n",
        "          if w==0 : counter_detil=counter_detil+1\n",
        "    counter_klaster[y]=counter_detil\n",
        "    total_perklaster[y]=sum\n",
        "\n",
        "  #Hitung mean:\n",
        "  mean_perklaster=[0 for y in pusat_sekutu]\n",
        "  for y in range(len(pusat_sekutu)):\n",
        "    mean_perklaster[y]=[total_perklaster[y][q]/counter_klaster[y] for q in komponen]\n",
        "\n",
        "  return mean_perklaster\n"
      ],
      "metadata": {
        "id": "M6kA-_9hT7Vn"
      },
      "execution_count": 94,
      "outputs": []
    },
    {
      "cell_type": "code",
      "source": [
        "a=calculate_mean(data_frame,pusat_sekutu,komponen)\n",
        "print(a)"
      ],
      "metadata": {
        "colab": {
          "base_uri": "https://localhost:8080/"
        },
        "id": "h2VFBAYYyMyS",
        "outputId": "73a3f319-f05d-4ede-d7f2-fec148e06df3"
      },
      "execution_count": 95,
      "outputs": [
        {
          "output_type": "stream",
          "name": "stdout",
          "text": [
            "[[5.383529411764707, 3.140000000000001, 2.723529411764706, 0.7717647058823527], [6.2818181818181795, 2.903636363636364, 4.889090909090909, 1.681818181818181], [7.340000000000001, 3.2, 6.33, 2.18]]\n"
          ]
        }
      ]
    },
    {
      "cell_type": "code",
      "source": [
        "print(total_perklaster)\n",
        "print(counter_klaster)\n",
        "print(mean_perklaster)"
      ],
      "metadata": {
        "colab": {
          "base_uri": "https://localhost:8080/"
        },
        "id": "OxlZViFlUzuX",
        "outputId": "031eeb2c-3e1b-41a5-b7cc-ad85cf1586e2"
      },
      "execution_count": 89,
      "outputs": [
        {
          "output_type": "stream",
          "name": "stdout",
          "text": [
            "[[250.29999999999998, 171.40000000000003, 73.10000000000001, 12.299999999999995], [356.6999999999998, 164.4, 280.29999999999995, 96.89999999999998], [269.5, 122.79999999999998, 210.29999999999998, 70.7]]\n",
            "[50, 55, 45]\n",
            "[[5.005999999999999, 3.428000000000001, 1.4620000000000002, 0.2459999999999999], [6.485454545454542, 2.9890909090909092, 5.096363636363636, 1.7618181818181815], [5.988888888888889, 2.7288888888888887, 4.673333333333333, 1.5711111111111111]]\n"
          ]
        }
      ]
    },
    {
      "cell_type": "code",
      "source": [
        "data_frame"
      ],
      "metadata": {
        "id": "IsaG0BUsCDtL"
      },
      "execution_count": null,
      "outputs": []
    },
    {
      "cell_type": "code",
      "source": [
        "y=0\n",
        "print(pusat_sekutu)\n",
        "print(pusat_sekutu[y])\n",
        "pusat_sekutu[1]"
      ],
      "metadata": {
        "colab": {
          "base_uri": "https://localhost:8080/"
        },
        "id": "CapJGWOEBgsS",
        "outputId": "f210fb09-90fe-4631-8cf1-4577fd3c7039"
      },
      "execution_count": 6,
      "outputs": [
        {
          "output_type": "stream",
          "name": "stdout",
          "text": [
            "[46, 27, 133]\n",
            "46\n"
          ]
        },
        {
          "output_type": "execute_result",
          "data": {
            "text/plain": [
              "27"
            ]
          },
          "metadata": {},
          "execution_count": 6
        }
      ]
    },
    {
      "cell_type": "code",
      "source": [
        "data_frame.columns[1]"
      ],
      "metadata": {
        "colab": {
          "base_uri": "https://localhost:8080/",
          "height": 35
        },
        "id": "dhGjgxhpM2SB",
        "outputId": "ab9e59c4-a69e-4e04-8e42-e697e5345321"
      },
      "execution_count": 21,
      "outputs": [
        {
          "output_type": "execute_result",
          "data": {
            "text/plain": [
              "'sepal width (cm)'"
            ],
            "application/vnd.google.colaboratory.intrinsic+json": {
              "type": "string"
            }
          },
          "metadata": {},
          "execution_count": 21
        }
      ]
    },
    {
      "cell_type": "code",
      "source": [
        "sum=[0 for i in range(len(pusat_sekutu))]\n",
        "for w in komponen:\n",
        "  for y in range(len(pusat_sekutu)):\n",
        "    for x in data_frame.index:\n",
        "      if data_frame.loc[x]['label']==pusat_sekutu[y]:\n",
        "        print(data_frame.at[x,data_frame.columns[w]])\n"
      ],
      "metadata": {
        "id": "D7aefTQOCMdA"
      },
      "execution_count": null,
      "outputs": []
    },
    {
      "cell_type": "code",
      "source": [
        "komponen"
      ],
      "metadata": {
        "colab": {
          "base_uri": "https://localhost:8080/"
        },
        "id": "XOTq25TsBkoP",
        "outputId": "cd73f7bc-5f3d-4a13-fed3-0ce6a3cebbbb"
      },
      "execution_count": 8,
      "outputs": [
        {
          "output_type": "execute_result",
          "data": {
            "text/plain": [
              "[0, 1, 2, 3]"
            ]
          },
          "metadata": {},
          "execution_count": 8
        }
      ]
    },
    {
      "cell_type": "code",
      "source": [
        "a=sum_cluster(pusat_sekutu, data_frame,komponen)\n",
        "print(a)"
      ],
      "metadata": {
        "colab": {
          "base_uri": "https://localhost:8080/"
        },
        "id": "gglof6A3BEnm",
        "outputId": "d139f162-66da-4acb-bb12-9fe9ca5daf44"
      },
      "execution_count": 25,
      "outputs": [
        {
          "output_type": "stream",
          "name": "stdout",
          "text": [
            "[245.49999999999991, 891.7999999999994, 941.3999999999994]\n"
          ]
        }
      ]
    },
    {
      "cell_type": "code",
      "source": [
        "#cek:\n",
        "sum=[i for i in pusat_sekutu]\n",
        "for i in data_frame.index:\n",
        "  sum[0]=sum[0]+data_frame.at[x,data_frame.columns[5]]\n",
        "\n",
        "print(sum)"
      ],
      "metadata": {
        "id": "ciHr0M0kOTxC"
      },
      "execution_count": null,
      "outputs": []
    },
    {
      "cell_type": "code",
      "source": [
        "sum=mean_calculation(pusat_sekutu, data_frame,komponen)"
      ],
      "metadata": {
        "id": "sZunQMkOpeYP"
      },
      "execution_count": null,
      "outputs": []
    },
    {
      "cell_type": "code",
      "source": [
        "pusat_sekutu"
      ],
      "metadata": {
        "colab": {
          "base_uri": "https://localhost:8080/"
        },
        "id": "Yrdk0I84DpL6",
        "outputId": "c35fdc3d-4adf-4e71-e28f-c5af52b406d0"
      },
      "execution_count": null,
      "outputs": [
        {
          "output_type": "execute_result",
          "data": {
            "text/plain": [
              "[10, 41, 71]"
            ]
          },
          "metadata": {},
          "execution_count": 36
        }
      ]
    },
    {
      "cell_type": "code",
      "source": [
        "data_frame"
      ],
      "metadata": {
        "colab": {
          "base_uri": "https://localhost:8080/",
          "height": 655
        },
        "id": "LnzZJLgWDrjU",
        "outputId": "dddc9a54-6385-44c9-cfef-6b7b6a3096e9"
      },
      "execution_count": null,
      "outputs": [
        {
          "output_type": "execute_result",
          "data": {
            "text/plain": [
              "     sepal length (cm)  sepal width (cm)  petal length (cm)  petal width (cm)  \\\n",
              "0                  5.1               3.5                1.4               0.2   \n",
              "1                  4.9               3.0                1.4               0.2   \n",
              "2                  4.7               3.2                1.3               0.2   \n",
              "3                  4.6               3.1                1.5               0.2   \n",
              "4                  5.0               3.6                1.4               0.2   \n",
              "..                 ...               ...                ...               ...   \n",
              "145                6.7               3.0                5.2               2.3   \n",
              "146                6.3               2.5                5.0               1.9   \n",
              "147                6.5               3.0                5.2               2.0   \n",
              "148                6.2               3.4                5.4               2.3   \n",
              "149                5.9               3.0                5.1               1.8   \n",
              "\n",
              "    label  \n",
              "0      10  \n",
              "1      10  \n",
              "2      10  \n",
              "3      10  \n",
              "4      10  \n",
              "..    ...  \n",
              "145    41  \n",
              "146    71  \n",
              "147    41  \n",
              "148    41  \n",
              "149    71  \n",
              "\n",
              "[150 rows x 5 columns]"
            ],
            "text/html": [
              "\n",
              "  <div id=\"df-6e1be0e0-7753-4eb8-8fdb-627f931521e1\">\n",
              "    <div class=\"colab-df-container\">\n",
              "      <div>\n",
              "<style scoped>\n",
              "    .dataframe tbody tr th:only-of-type {\n",
              "        vertical-align: middle;\n",
              "    }\n",
              "\n",
              "    .dataframe tbody tr th {\n",
              "        vertical-align: top;\n",
              "    }\n",
              "\n",
              "    .dataframe thead th {\n",
              "        text-align: right;\n",
              "    }\n",
              "</style>\n",
              "<table border=\"1\" class=\"dataframe\">\n",
              "  <thead>\n",
              "    <tr style=\"text-align: right;\">\n",
              "      <th></th>\n",
              "      <th>sepal length (cm)</th>\n",
              "      <th>sepal width (cm)</th>\n",
              "      <th>petal length (cm)</th>\n",
              "      <th>petal width (cm)</th>\n",
              "      <th>label</th>\n",
              "    </tr>\n",
              "  </thead>\n",
              "  <tbody>\n",
              "    <tr>\n",
              "      <th>0</th>\n",
              "      <td>5.1</td>\n",
              "      <td>3.5</td>\n",
              "      <td>1.4</td>\n",
              "      <td>0.2</td>\n",
              "      <td>10</td>\n",
              "    </tr>\n",
              "    <tr>\n",
              "      <th>1</th>\n",
              "      <td>4.9</td>\n",
              "      <td>3.0</td>\n",
              "      <td>1.4</td>\n",
              "      <td>0.2</td>\n",
              "      <td>10</td>\n",
              "    </tr>\n",
              "    <tr>\n",
              "      <th>2</th>\n",
              "      <td>4.7</td>\n",
              "      <td>3.2</td>\n",
              "      <td>1.3</td>\n",
              "      <td>0.2</td>\n",
              "      <td>10</td>\n",
              "    </tr>\n",
              "    <tr>\n",
              "      <th>3</th>\n",
              "      <td>4.6</td>\n",
              "      <td>3.1</td>\n",
              "      <td>1.5</td>\n",
              "      <td>0.2</td>\n",
              "      <td>10</td>\n",
              "    </tr>\n",
              "    <tr>\n",
              "      <th>4</th>\n",
              "      <td>5.0</td>\n",
              "      <td>3.6</td>\n",
              "      <td>1.4</td>\n",
              "      <td>0.2</td>\n",
              "      <td>10</td>\n",
              "    </tr>\n",
              "    <tr>\n",
              "      <th>...</th>\n",
              "      <td>...</td>\n",
              "      <td>...</td>\n",
              "      <td>...</td>\n",
              "      <td>...</td>\n",
              "      <td>...</td>\n",
              "    </tr>\n",
              "    <tr>\n",
              "      <th>145</th>\n",
              "      <td>6.7</td>\n",
              "      <td>3.0</td>\n",
              "      <td>5.2</td>\n",
              "      <td>2.3</td>\n",
              "      <td>41</td>\n",
              "    </tr>\n",
              "    <tr>\n",
              "      <th>146</th>\n",
              "      <td>6.3</td>\n",
              "      <td>2.5</td>\n",
              "      <td>5.0</td>\n",
              "      <td>1.9</td>\n",
              "      <td>71</td>\n",
              "    </tr>\n",
              "    <tr>\n",
              "      <th>147</th>\n",
              "      <td>6.5</td>\n",
              "      <td>3.0</td>\n",
              "      <td>5.2</td>\n",
              "      <td>2.0</td>\n",
              "      <td>41</td>\n",
              "    </tr>\n",
              "    <tr>\n",
              "      <th>148</th>\n",
              "      <td>6.2</td>\n",
              "      <td>3.4</td>\n",
              "      <td>5.4</td>\n",
              "      <td>2.3</td>\n",
              "      <td>41</td>\n",
              "    </tr>\n",
              "    <tr>\n",
              "      <th>149</th>\n",
              "      <td>5.9</td>\n",
              "      <td>3.0</td>\n",
              "      <td>5.1</td>\n",
              "      <td>1.8</td>\n",
              "      <td>71</td>\n",
              "    </tr>\n",
              "  </tbody>\n",
              "</table>\n",
              "<p>150 rows × 5 columns</p>\n",
              "</div>\n",
              "      <button class=\"colab-df-convert\" onclick=\"convertToInteractive('df-6e1be0e0-7753-4eb8-8fdb-627f931521e1')\"\n",
              "              title=\"Convert this dataframe to an interactive table.\"\n",
              "              style=\"display:none;\">\n",
              "        \n",
              "  <svg xmlns=\"http://www.w3.org/2000/svg\" height=\"24px\"viewBox=\"0 0 24 24\"\n",
              "       width=\"24px\">\n",
              "    <path d=\"M0 0h24v24H0V0z\" fill=\"none\"/>\n",
              "    <path d=\"M18.56 5.44l.94 2.06.94-2.06 2.06-.94-2.06-.94-.94-2.06-.94 2.06-2.06.94zm-11 1L8.5 8.5l.94-2.06 2.06-.94-2.06-.94L8.5 2.5l-.94 2.06-2.06.94zm10 10l.94 2.06.94-2.06 2.06-.94-2.06-.94-.94-2.06-.94 2.06-2.06.94z\"/><path d=\"M17.41 7.96l-1.37-1.37c-.4-.4-.92-.59-1.43-.59-.52 0-1.04.2-1.43.59L10.3 9.45l-7.72 7.72c-.78.78-.78 2.05 0 2.83L4 21.41c.39.39.9.59 1.41.59.51 0 1.02-.2 1.41-.59l7.78-7.78 2.81-2.81c.8-.78.8-2.07 0-2.86zM5.41 20L4 18.59l7.72-7.72 1.47 1.35L5.41 20z\"/>\n",
              "  </svg>\n",
              "      </button>\n",
              "      \n",
              "  <style>\n",
              "    .colab-df-container {\n",
              "      display:flex;\n",
              "      flex-wrap:wrap;\n",
              "      gap: 12px;\n",
              "    }\n",
              "\n",
              "    .colab-df-convert {\n",
              "      background-color: #E8F0FE;\n",
              "      border: none;\n",
              "      border-radius: 50%;\n",
              "      cursor: pointer;\n",
              "      display: none;\n",
              "      fill: #1967D2;\n",
              "      height: 32px;\n",
              "      padding: 0 0 0 0;\n",
              "      width: 32px;\n",
              "    }\n",
              "\n",
              "    .colab-df-convert:hover {\n",
              "      background-color: #E2EBFA;\n",
              "      box-shadow: 0px 1px 2px rgba(60, 64, 67, 0.3), 0px 1px 3px 1px rgba(60, 64, 67, 0.15);\n",
              "      fill: #174EA6;\n",
              "    }\n",
              "\n",
              "    [theme=dark] .colab-df-convert {\n",
              "      background-color: #3B4455;\n",
              "      fill: #D2E3FC;\n",
              "    }\n",
              "\n",
              "    [theme=dark] .colab-df-convert:hover {\n",
              "      background-color: #434B5C;\n",
              "      box-shadow: 0px 1px 3px 1px rgba(0, 0, 0, 0.15);\n",
              "      filter: drop-shadow(0px 1px 2px rgba(0, 0, 0, 0.3));\n",
              "      fill: #FFFFFF;\n",
              "    }\n",
              "  </style>\n",
              "\n",
              "      <script>\n",
              "        const buttonEl =\n",
              "          document.querySelector('#df-6e1be0e0-7753-4eb8-8fdb-627f931521e1 button.colab-df-convert');\n",
              "        buttonEl.style.display =\n",
              "          google.colab.kernel.accessAllowed ? 'block' : 'none';\n",
              "\n",
              "        async function convertToInteractive(key) {\n",
              "          const element = document.querySelector('#df-6e1be0e0-7753-4eb8-8fdb-627f931521e1');\n",
              "          const dataTable =\n",
              "            await google.colab.kernel.invokeFunction('convertToInteractive',\n",
              "                                                     [key], {});\n",
              "          if (!dataTable) return;\n",
              "\n",
              "          const docLinkHtml = 'Like what you see? Visit the ' +\n",
              "            '<a target=\"_blank\" href=https://colab.research.google.com/notebooks/data_table.ipynb>data table notebook</a>'\n",
              "            + ' to learn more about interactive tables.';\n",
              "          element.innerHTML = '';\n",
              "          dataTable['output_type'] = 'display_data';\n",
              "          await google.colab.output.renderOutput(dataTable, element);\n",
              "          const docLink = document.createElement('div');\n",
              "          docLink.innerHTML = docLinkHtml;\n",
              "          element.appendChild(docLink);\n",
              "        }\n",
              "      </script>\n",
              "    </div>\n",
              "  </div>\n",
              "  "
            ]
          },
          "metadata": {},
          "execution_count": 37
        }
      ]
    },
    {
      "cell_type": "code",
      "source": [
        "tes = [i*j for i in range(6) for j in range(2)]"
      ],
      "metadata": {
        "id": "6KZfHcy21DBM"
      },
      "execution_count": null,
      "outputs": []
    },
    {
      "cell_type": "code",
      "source": [
        "tes"
      ],
      "metadata": {
        "colab": {
          "base_uri": "https://localhost:8080/"
        },
        "id": "nQ__O20p1QQ7",
        "outputId": "6d8b6ca9-65e1-4b97-af45-1f2412929f7b"
      },
      "execution_count": null,
      "outputs": [
        {
          "output_type": "execute_result",
          "data": {
            "text/plain": [
              "[0, 0, 0, 1, 0, 2, 0, 3, 0, 4, 0, 5]"
            ]
          },
          "metadata": {},
          "execution_count": 11
        }
      ]
    },
    {
      "cell_type": "code",
      "source": [
        "centris = [i for i in pusat_sekutu]"
      ],
      "metadata": {
        "id": "Zcb41zI_2CgD"
      },
      "execution_count": null,
      "outputs": []
    },
    {
      "cell_type": "code",
      "source": [
        "#pusat_sekutu\n",
        "print(id(pusat_sekutu))"
      ],
      "metadata": {
        "colab": {
          "base_uri": "https://localhost:8080/"
        },
        "id": "THlsE-Pn2RMx",
        "outputId": "79095726-415c-4872-d3b2-fbcd6f4d024a"
      },
      "execution_count": null,
      "outputs": [
        {
          "output_type": "stream",
          "name": "stdout",
          "text": [
            "140027169065632\n"
          ]
        }
      ]
    },
    {
      "cell_type": "code",
      "source": [
        "#centris\n",
        "print(id(centris))"
      ],
      "metadata": {
        "colab": {
          "base_uri": "https://localhost:8080/"
        },
        "id": "6CLmcvGr2LQU",
        "outputId": "61ad894f-b1c9-435d-f76b-30a569598d57"
      },
      "execution_count": null,
      "outputs": [
        {
          "output_type": "stream",
          "name": "stdout",
          "text": [
            "140027168361920\n"
          ]
        }
      ]
    }
  ]
}